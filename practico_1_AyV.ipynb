{
  "cells": [
    {
      "cell_type": "markdown",
      "id": "7b86f66f",
      "metadata": {
        "id": "7b86f66f"
      },
      "source": [
        "# Introducción\n",
        "\n",
        "## Descripción del problema\n",
        "\n",
        "En una clínica hay tareas que son rutinarias y automatizables y otras que no. La gente que va a una clínica llega con distintos problemas a resolver, con distintos grados de urgencia.\n",
        "\n",
        "Nosotres en mi equipo de la empresa [Kunan](https://www.kunan.com.ar/) pensamos una solución para las tareas de urgencia baja y que tienen gran potencial de automatización, con el espíritu de que eso libere la carga a personas de tener trabajos repetitivos, para que estas personas se puedan enfocar en los casos más urgentes o que necesiten expertise humano.\n",
        "\n",
        "Un trabajo repetitivo que se presenta en un entorno clínica es el de atender a pedidos por\n",
        "\n",
        "- **sacar un turno** para un médico de una especialidad, en una sede, en un horario.\n",
        "- **consultar los turnos** vigentes que un paciente tiene.\n",
        "- **cancelar un turno** vigente\n",
        "\n",
        "Nosotres ofrecemos como producto un chatbot, o asistente conversacional, que usa Machine Learning para poder mantener una conversación y realizar acciones. Además de ocuparse de esas tres tareas principales, se le agregan\n",
        "- poder pasar a hablar con un humano (lo que nosotres llamamos **handoff**)\n",
        "- responder **preguntas frecuentes** (¿dónde queda la clínica? ¿qué horarios de atención tienen? ¿qué médicos hay?)\n",
        "\n",
        "La funcionalidad de handoff es muy importante ya que una de las características innatas de los modelos de Machine Learning es que pueden fallar. Un fallo en un bot conversacional se ve como: no entender la **intención** detrás de una expresión del usuarie, no poder reconocer y extraer correctamente **entidades** (como lo son nombres de personas, dnis, teléfonos, especialidades médicas, etc), o perder el hilo de una conversación. Para que en estos casos la persona usuaria tenga una forma de suplir la necesidad que la llevó a hablar con el bot, ofrecemos una integración con un sistema de mensajería directo con operadores humanos.\n",
        "\n",
        "En la mayoría de las clínicas la gente realiza estas acciones enlistadas hablando con une secretarie directamente, a través de Whatsapp, o usando una interfaz gráfica de la página web de la clínica. Pensar en términos de interfaces gráficas como la de un sitio web es algo con un poco más de tradición dentro del desarrollo de productos de software, sobre todo en comparación a las interfaces conversacionales. Whatsapp tiene, especialmente en latinomérica, gran adopción por parte de las personas, que están acostumbradas a usarlo como una interfaz conversacional para el acceso a múltiples servicios.\n",
        "\n",
        "Un asistente conversacional ofrece una interfaz textual conversacional para la toma de acciones. En vez de apretar botones las personas van guiando a un chatbot a través de opciones en formularios. \n",
        "\n",
        "Este producto tiene ese desafío doble: ser un producto de NLP en español y ser un producto de Datos en la industria.\n",
        "\n",
        "## Motivación\n",
        "\n",
        "Cada persona al relacionarse con un producto de software trae consigo su universo de saberes, sus necesidades y sus costumbres, que decantarán en su percepción sobre qué cosas son \"fáciles\" de hacer con un software y qué cosas serán  \"complicadas\".\n",
        "\n",
        "En las interfaces conversacionales se abre una puerta más de saberes y exigencias pre-existentes en las personas usuarias: la del lenguaje. Los lenguajes humanos están inscriptos a geografías, son maleables y dinámicos, [entre otras características](https://es.wikipedia.org/wiki/Lengua_natural) \n",
        "\n",
        "\n",
        "## Descripción del dataset\n",
        "\n",
        "El dataset con el que trabajaremos este práctico consta de 21k filas. Corresponde a conversaciones reales de pacientes con el bot, con datos recolectados por el canal de comunicación de Whatsapp, con datos que corresponden desde diciembre de 2021 hasta marzo del 2022. Tiene mensajes de cada conversación, tanto emitidos por el bot como por el usuario y taggeados correspondientemente.\n",
        "\n",
        "- **From_anon**: Número de teléfono emisor del mensaje. (Anonimizado)\n",
        "- **To_anon**: Número de teléfono receptor del mensaje.(Anonimizado)\n",
        "- **Hospital**: Nombre del hospital.\n",
        "- **Tel_hospital**: Teléfono del hospital.\n",
        "- **Body**: Cuerpo del mensaje.\n",
        "- **Status**: Indica si el mensaje se recibió/leyó.\n",
        "- **SentDate**: Año, mes, día, hora, minutos y segundos en el que se envió el mensaje.\n",
        "- **Fecha**: Año, mes y día formato: aaaa-mm-dd\n",
        "- **Dia**: día del mes\n",
        "- **Hora**: hora del mensaje (hh)\n",
        "- **Messages**: Siempre vale 1. Columna creada para utilizar agrupaciones.\n",
        "- **Direction**: Dirección del mensaje ya sea de entrada (inbound) o salida (outbound-api).\n",
        "A estas columnas se le agregan varias que que surgen de analizar mensajes del bot:\n",
        "- **Appointment_msp**: Mensaje de turno confirmado con la especialidad solicitada.\n",
        "- **Appointment**: valor dicotómico 1 indica que sacó turno y 0 que no.\n",
        "- **Cancellation_msp**: Mensaje de turno cancelado que contiene la especialidad cancelada.\n",
        "- **Cancelled**: valor dicotómico 1 indica que canceló efectivamente el turno y 0 que no se canceló.\n",
        "- **Consult**: valor dicotómico 1 indica que se consultaron los turnos y 0 que no se consultaron\n",
        "- **Consult_Appoint**: cuerpo del mensaje sobre la consulta realizada.\n",
        "- **Fail_HH**: valor dicotómico donde 1 indica que no se solicitó HH y no se logró la comunicación.  \n",
        "- **Got_HH**: valor dicotómico donde 1 indica que la persona solicitó y logró contactarse con HH.\n",
        "- **No_correlation**:  valor dicotómico donde 1 indica que el bot detectó que la persona preguntó algo que no tenía que ver con las funcionalidades del bot.\n",
        "- **not_DNI**: valor dicotómico donde 1 indica que el paciente proveyó un DNI que no estaba registrado como cliente de esa clínica\n",
        "- **Error_Interno** : valor dicotómico donde 1 indica que hubo un error interno del bot\n",
        "- **Error_501** : valor dicotómico donde 1 indica que hubo un error en los sistemas clínicos con los cuales el bot está integrado\n",
        "- **Has_Cupo**: valor dicotómico donde 1 indica que el médico seleccionado no tiene cupo de turnos para una obra social.\n",
        "- **Ask_Kunan**: valor dicotómico donde 1 indica que el bot menciona quien es kunan. Esto sirve para ver como funcionan los intent del bot.\n",
        "- **Falla_Api_externo**:valor dicotómico donde 1 indica que se encontró un error de falla de api externo.\n",
        "- **Many_Fallbacks_Goto_HH**: valor dicotómico donde 1 indica que el bot tuvo varios problemas de entendimiento y detectó la necesidad de pasar automáticamente a un humano."
      ]
    },
    {
      "cell_type": "markdown",
      "id": "14b56da7",
      "metadata": {
        "id": "14b56da7"
      },
      "source": [
        "### Cargando el dataset"
      ]
    },
    {
      "cell_type": "code",
      "execution_count": 23,
      "id": "5e9313ce",
      "metadata": {
        "id": "5e9313ce"
      },
      "outputs": [],
      "source": [
        "import pandas as pd\n",
        "import numpy as np\n",
        "\n",
        "df = pd.read_csv(\"https://raw.githubusercontent.com/kunan-sa/mentoria_2022/master/efm_anon.csv\")\n",
        "df = df.drop(columns=['Unnamed: 0', 'Unnamed: 0.1'])\n"
      ]
    },
    {
      "cell_type": "markdown",
      "id": "5551119f",
      "metadata": {
        "id": "5551119f"
      },
      "source": [
        "### Viendo un par de ejemplos"
      ]
    },
    {
      "cell_type": "code",
      "execution_count": 24,
      "id": "a964f156",
      "metadata": {
        "id": "a964f156",
        "outputId": "02b46192-9a74-4948-9d87-65c471486718",
        "colab": {
          "base_uri": "https://localhost:8080/",
          "height": 480
        }
      },
      "outputs": [
        {
          "output_type": "execute_result",
          "data": {
            "text/plain": [
              "                Hospital             Tel_hospital  \\\n",
              "5894            CityBell  whatsapp:+5492215137770   \n",
              "1284  Salud Consultorios  whatsapp:+5493515266230   \n",
              "8334               Carra  whatsapp:+5493515266217   \n",
              "\n",
              "                                                   Body    Status  \\\n",
              "5894  *Escribe el número de la opción* que quieres e...      read   \n",
              "1284                                                  1  received   \n",
              "8334  Hola, soy el asistente virtual de Clinica Carr...      read   \n",
              "\n",
              "                       SentDate       Fecha  Dia  Mes  Hora  Messages  ...  \\\n",
              "5894  2022-02-16 14:56:17+00:00  2022-02-16   16    2    14         1  ...   \n",
              "1284  2022-01-03 15:48:12+00:00  2022-01-03    3    1    15         1  ...   \n",
              "8334  2022-02-16 11:51:48+00:00  2022-02-16   16    2    11         1  ...   \n",
              "\n",
              "     alta_dni not_DNI  issue_name Issue_Name  ask_kunan Ask_Kunan  \\\n",
              "5894       []       0          []          0         []         0   \n",
              "1284       []       0          []          0         []         0   \n",
              "8334       []       0          []          0         []         0   \n",
              "\n",
              "      many_fallbacks_goto_hh Many_Fallbacks_Goto_HH  From_anon To_anon  \n",
              "5894                      []                      0       1725    1635  \n",
              "1284                      []                      0       2580    2122  \n",
              "8334                      []                      0       3463    3295  \n",
              "\n",
              "[3 rows x 41 columns]"
            ],
            "text/html": [
              "\n",
              "  <div id=\"df-93e70380-f8c1-41c4-9adc-9b11c194d0b5\">\n",
              "    <div class=\"colab-df-container\">\n",
              "      <div>\n",
              "<style scoped>\n",
              "    .dataframe tbody tr th:only-of-type {\n",
              "        vertical-align: middle;\n",
              "    }\n",
              "\n",
              "    .dataframe tbody tr th {\n",
              "        vertical-align: top;\n",
              "    }\n",
              "\n",
              "    .dataframe thead th {\n",
              "        text-align: right;\n",
              "    }\n",
              "</style>\n",
              "<table border=\"1\" class=\"dataframe\">\n",
              "  <thead>\n",
              "    <tr style=\"text-align: right;\">\n",
              "      <th></th>\n",
              "      <th>Hospital</th>\n",
              "      <th>Tel_hospital</th>\n",
              "      <th>Body</th>\n",
              "      <th>Status</th>\n",
              "      <th>SentDate</th>\n",
              "      <th>Fecha</th>\n",
              "      <th>Dia</th>\n",
              "      <th>Mes</th>\n",
              "      <th>Hora</th>\n",
              "      <th>Messages</th>\n",
              "      <th>...</th>\n",
              "      <th>alta_dni</th>\n",
              "      <th>not_DNI</th>\n",
              "      <th>issue_name</th>\n",
              "      <th>Issue_Name</th>\n",
              "      <th>ask_kunan</th>\n",
              "      <th>Ask_Kunan</th>\n",
              "      <th>many_fallbacks_goto_hh</th>\n",
              "      <th>Many_Fallbacks_Goto_HH</th>\n",
              "      <th>From_anon</th>\n",
              "      <th>To_anon</th>\n",
              "    </tr>\n",
              "  </thead>\n",
              "  <tbody>\n",
              "    <tr>\n",
              "      <th>5894</th>\n",
              "      <td>CityBell</td>\n",
              "      <td>whatsapp:+5492215137770</td>\n",
              "      <td>*Escribe el número de la opción* que quieres e...</td>\n",
              "      <td>read</td>\n",
              "      <td>2022-02-16 14:56:17+00:00</td>\n",
              "      <td>2022-02-16</td>\n",
              "      <td>16</td>\n",
              "      <td>2</td>\n",
              "      <td>14</td>\n",
              "      <td>1</td>\n",
              "      <td>...</td>\n",
              "      <td>[]</td>\n",
              "      <td>0</td>\n",
              "      <td>[]</td>\n",
              "      <td>0</td>\n",
              "      <td>[]</td>\n",
              "      <td>0</td>\n",
              "      <td>[]</td>\n",
              "      <td>0</td>\n",
              "      <td>1725</td>\n",
              "      <td>1635</td>\n",
              "    </tr>\n",
              "    <tr>\n",
              "      <th>1284</th>\n",
              "      <td>Salud Consultorios</td>\n",
              "      <td>whatsapp:+5493515266230</td>\n",
              "      <td>1</td>\n",
              "      <td>received</td>\n",
              "      <td>2022-01-03 15:48:12+00:00</td>\n",
              "      <td>2022-01-03</td>\n",
              "      <td>3</td>\n",
              "      <td>1</td>\n",
              "      <td>15</td>\n",
              "      <td>1</td>\n",
              "      <td>...</td>\n",
              "      <td>[]</td>\n",
              "      <td>0</td>\n",
              "      <td>[]</td>\n",
              "      <td>0</td>\n",
              "      <td>[]</td>\n",
              "      <td>0</td>\n",
              "      <td>[]</td>\n",
              "      <td>0</td>\n",
              "      <td>2580</td>\n",
              "      <td>2122</td>\n",
              "    </tr>\n",
              "    <tr>\n",
              "      <th>8334</th>\n",
              "      <td>Carra</td>\n",
              "      <td>whatsapp:+5493515266217</td>\n",
              "      <td>Hola, soy el asistente virtual de Clinica Carr...</td>\n",
              "      <td>read</td>\n",
              "      <td>2022-02-16 11:51:48+00:00</td>\n",
              "      <td>2022-02-16</td>\n",
              "      <td>16</td>\n",
              "      <td>2</td>\n",
              "      <td>11</td>\n",
              "      <td>1</td>\n",
              "      <td>...</td>\n",
              "      <td>[]</td>\n",
              "      <td>0</td>\n",
              "      <td>[]</td>\n",
              "      <td>0</td>\n",
              "      <td>[]</td>\n",
              "      <td>0</td>\n",
              "      <td>[]</td>\n",
              "      <td>0</td>\n",
              "      <td>3463</td>\n",
              "      <td>3295</td>\n",
              "    </tr>\n",
              "  </tbody>\n",
              "</table>\n",
              "<p>3 rows × 41 columns</p>\n",
              "</div>\n",
              "      <button class=\"colab-df-convert\" onclick=\"convertToInteractive('df-93e70380-f8c1-41c4-9adc-9b11c194d0b5')\"\n",
              "              title=\"Convert this dataframe to an interactive table.\"\n",
              "              style=\"display:none;\">\n",
              "        \n",
              "  <svg xmlns=\"http://www.w3.org/2000/svg\" height=\"24px\"viewBox=\"0 0 24 24\"\n",
              "       width=\"24px\">\n",
              "    <path d=\"M0 0h24v24H0V0z\" fill=\"none\"/>\n",
              "    <path d=\"M18.56 5.44l.94 2.06.94-2.06 2.06-.94-2.06-.94-.94-2.06-.94 2.06-2.06.94zm-11 1L8.5 8.5l.94-2.06 2.06-.94-2.06-.94L8.5 2.5l-.94 2.06-2.06.94zm10 10l.94 2.06.94-2.06 2.06-.94-2.06-.94-.94-2.06-.94 2.06-2.06.94z\"/><path d=\"M17.41 7.96l-1.37-1.37c-.4-.4-.92-.59-1.43-.59-.52 0-1.04.2-1.43.59L10.3 9.45l-7.72 7.72c-.78.78-.78 2.05 0 2.83L4 21.41c.39.39.9.59 1.41.59.51 0 1.02-.2 1.41-.59l7.78-7.78 2.81-2.81c.8-.78.8-2.07 0-2.86zM5.41 20L4 18.59l7.72-7.72 1.47 1.35L5.41 20z\"/>\n",
              "  </svg>\n",
              "      </button>\n",
              "      \n",
              "  <style>\n",
              "    .colab-df-container {\n",
              "      display:flex;\n",
              "      flex-wrap:wrap;\n",
              "      gap: 12px;\n",
              "    }\n",
              "\n",
              "    .colab-df-convert {\n",
              "      background-color: #E8F0FE;\n",
              "      border: none;\n",
              "      border-radius: 50%;\n",
              "      cursor: pointer;\n",
              "      display: none;\n",
              "      fill: #1967D2;\n",
              "      height: 32px;\n",
              "      padding: 0 0 0 0;\n",
              "      width: 32px;\n",
              "    }\n",
              "\n",
              "    .colab-df-convert:hover {\n",
              "      background-color: #E2EBFA;\n",
              "      box-shadow: 0px 1px 2px rgba(60, 64, 67, 0.3), 0px 1px 3px 1px rgba(60, 64, 67, 0.15);\n",
              "      fill: #174EA6;\n",
              "    }\n",
              "\n",
              "    [theme=dark] .colab-df-convert {\n",
              "      background-color: #3B4455;\n",
              "      fill: #D2E3FC;\n",
              "    }\n",
              "\n",
              "    [theme=dark] .colab-df-convert:hover {\n",
              "      background-color: #434B5C;\n",
              "      box-shadow: 0px 1px 3px 1px rgba(0, 0, 0, 0.15);\n",
              "      filter: drop-shadow(0px 1px 2px rgba(0, 0, 0, 0.3));\n",
              "      fill: #FFFFFF;\n",
              "    }\n",
              "  </style>\n",
              "\n",
              "      <script>\n",
              "        const buttonEl =\n",
              "          document.querySelector('#df-93e70380-f8c1-41c4-9adc-9b11c194d0b5 button.colab-df-convert');\n",
              "        buttonEl.style.display =\n",
              "          google.colab.kernel.accessAllowed ? 'block' : 'none';\n",
              "\n",
              "        async function convertToInteractive(key) {\n",
              "          const element = document.querySelector('#df-93e70380-f8c1-41c4-9adc-9b11c194d0b5');\n",
              "          const dataTable =\n",
              "            await google.colab.kernel.invokeFunction('convertToInteractive',\n",
              "                                                     [key], {});\n",
              "          if (!dataTable) return;\n",
              "\n",
              "          const docLinkHtml = 'Like what you see? Visit the ' +\n",
              "            '<a target=\"_blank\" href=https://colab.research.google.com/notebooks/data_table.ipynb>data table notebook</a>'\n",
              "            + ' to learn more about interactive tables.';\n",
              "          element.innerHTML = '';\n",
              "          dataTable['output_type'] = 'display_data';\n",
              "          await google.colab.output.renderOutput(dataTable, element);\n",
              "          const docLink = document.createElement('div');\n",
              "          docLink.innerHTML = docLinkHtml;\n",
              "          element.appendChild(docLink);\n",
              "        }\n",
              "      </script>\n",
              "    </div>\n",
              "  </div>\n",
              "  "
            ]
          },
          "metadata": {},
          "execution_count": 24
        }
      ],
      "source": [
        "df.sample(3)"
      ]
    },
    {
      "cell_type": "markdown",
      "id": "da5b97c1",
      "metadata": {
        "id": "da5b97c1"
      },
      "source": [
        "### Características del dataset"
      ]
    },
    {
      "cell_type": "markdown",
      "id": "47b16304",
      "metadata": {
        "id": "47b16304"
      },
      "source": [
        "Cantidad de datos"
      ]
    },
    {
      "cell_type": "code",
      "execution_count": 25,
      "id": "3dff9047",
      "metadata": {
        "id": "3dff9047",
        "outputId": "d412f730-79a4-439d-c7ef-7068eaa5a188",
        "colab": {
          "base_uri": "https://localhost:8080/"
        }
      },
      "outputs": [
        {
          "output_type": "execute_result",
          "data": {
            "text/plain": [
              "21000"
            ]
          },
          "metadata": {},
          "execution_count": 25
        }
      ],
      "source": [
        "len(df)"
      ]
    },
    {
      "cell_type": "markdown",
      "id": "c1843eb1",
      "metadata": {
        "id": "c1843eb1"
      },
      "source": [
        "Columnas"
      ]
    },
    {
      "cell_type": "code",
      "execution_count": 26,
      "id": "aa91f3ad",
      "metadata": {
        "id": "aa91f3ad",
        "outputId": "ce48c65c-fc9e-43d1-e8b3-0c36d105fa90",
        "colab": {
          "base_uri": "https://localhost:8080/"
        }
      },
      "outputs": [
        {
          "output_type": "stream",
          "name": "stdout",
          "text": [
            "41\n"
          ]
        },
        {
          "output_type": "execute_result",
          "data": {
            "text/plain": [
              "Index(['Hospital', 'Tel_hospital', 'Body', 'Status', 'SentDate', 'Fecha',\n",
              "       'Dia', 'Mes', 'Hora', 'Messages', 'Direction', 'Appointment_msp',\n",
              "       'Appointment', 'Cancellation_msp', 'Cancelled', 'consult',\n",
              "       'Consult_Appoint', 'fail_HH_sms', 'Fail_HH', 'achieve_HH', 'Got_HH',\n",
              "       'Cupo', 'Full_turnos_obra_social', 'No_Relation', 'No_Correlation',\n",
              "       'has_error', 'Error_Interno', 'has_error_501', 'Error_501',\n",
              "       'falla_api_externo', 'Falla_Api_Externo', 'alta_dni', 'not_DNI',\n",
              "       'issue_name', 'Issue_Name', 'ask_kunan', 'Ask_Kunan',\n",
              "       'many_fallbacks_goto_hh', 'Many_Fallbacks_Goto_HH', 'From_anon',\n",
              "       'To_anon'],\n",
              "      dtype='object')"
            ]
          },
          "metadata": {},
          "execution_count": 26
        }
      ],
      "source": [
        "print(len(df.columns))\n",
        "df.columns"
      ]
    },
    {
      "cell_type": "code",
      "execution_count": 27,
      "id": "120df561",
      "metadata": {
        "id": "120df561",
        "outputId": "38c0e8fa-ce11-47d4-b1d6-75bfb09f8ff3",
        "colab": {
          "base_uri": "https://localhost:8080/",
          "height": 364
        }
      },
      "outputs": [
        {
          "output_type": "execute_result",
          "data": {
            "text/plain": [
              "                Dia           Mes          Hora  Messages   Appointment  \\\n",
              "count  21000.000000  21000.000000  21000.000000   21000.0  21000.000000   \n",
              "mean       8.766905      2.339571     14.902476       1.0      0.012429   \n",
              "std        7.413395      0.644018      3.342678       0.0      0.110791   \n",
              "min        1.000000      1.000000      0.000000       1.0      0.000000   \n",
              "25%        2.000000      2.000000     12.000000       1.0      0.000000   \n",
              "50%        3.000000      2.000000     15.000000       1.0      0.000000   \n",
              "75%       16.000000      3.000000     17.000000       1.0      0.000000   \n",
              "max       28.000000      3.000000     23.000000       1.0      1.000000   \n",
              "\n",
              "          Cancelled  Consult_Appoint       Fail_HH        Got_HH  \\\n",
              "count  21000.000000     21000.000000  21000.000000  21000.000000   \n",
              "mean       0.002762         0.002524      0.004286      0.005619   \n",
              "std        0.052482         0.050175      0.065326      0.074751   \n",
              "min        0.000000         0.000000      0.000000      0.000000   \n",
              "25%        0.000000         0.000000      0.000000      0.000000   \n",
              "50%        0.000000         0.000000      0.000000      0.000000   \n",
              "75%        0.000000         0.000000      0.000000      0.000000   \n",
              "max        1.000000         1.000000      1.000000      1.000000   \n",
              "\n",
              "       Full_turnos_obra_social  No_Correlation  Error_Interno     Error_501  \\\n",
              "count             21000.000000    21000.000000   21000.000000  21000.000000   \n",
              "mean                  0.004429        0.001857       0.000571      0.002476   \n",
              "std                   0.066402        0.043056       0.023898      0.049701   \n",
              "min                   0.000000        0.000000       0.000000      0.000000   \n",
              "25%                   0.000000        0.000000       0.000000      0.000000   \n",
              "50%                   0.000000        0.000000       0.000000      0.000000   \n",
              "75%                   0.000000        0.000000       0.000000      0.000000   \n",
              "max                   1.000000        1.000000       1.000000      1.000000   \n",
              "\n",
              "       Falla_Api_Externo       not_DNI    Issue_Name     Ask_Kunan  \\\n",
              "count        21000.00000  21000.000000  21000.000000  21000.000000   \n",
              "mean             0.00019      0.008190      0.001524      0.000095   \n",
              "std              0.01380      0.090132      0.039007      0.009759   \n",
              "min              0.00000      0.000000      0.000000      0.000000   \n",
              "25%              0.00000      0.000000      0.000000      0.000000   \n",
              "50%              0.00000      0.000000      0.000000      0.000000   \n",
              "75%              0.00000      0.000000      0.000000      0.000000   \n",
              "max              1.00000      1.000000      1.000000      1.000000   \n",
              "\n",
              "       Many_Fallbacks_Goto_HH     From_anon       To_anon  \n",
              "count            21000.000000  21000.000000  21000.000000  \n",
              "mean                 0.002381   2929.046571   2909.619524  \n",
              "std                  0.048738   1638.239791   1658.363620  \n",
              "min                  0.000000      1.000000      1.000000  \n",
              "25%                  0.000000   1725.000000   1665.000000  \n",
              "50%                  0.000000   2624.000000   2520.000000  \n",
              "75%                  0.000000   3750.000000   3999.250000  \n",
              "max                  1.000000   7478.000000   7182.000000  "
            ],
            "text/html": [
              "\n",
              "  <div id=\"df-06e8da35-f0fa-44ca-b04f-06709a573f65\">\n",
              "    <div class=\"colab-df-container\">\n",
              "      <div>\n",
              "<style scoped>\n",
              "    .dataframe tbody tr th:only-of-type {\n",
              "        vertical-align: middle;\n",
              "    }\n",
              "\n",
              "    .dataframe tbody tr th {\n",
              "        vertical-align: top;\n",
              "    }\n",
              "\n",
              "    .dataframe thead th {\n",
              "        text-align: right;\n",
              "    }\n",
              "</style>\n",
              "<table border=\"1\" class=\"dataframe\">\n",
              "  <thead>\n",
              "    <tr style=\"text-align: right;\">\n",
              "      <th></th>\n",
              "      <th>Dia</th>\n",
              "      <th>Mes</th>\n",
              "      <th>Hora</th>\n",
              "      <th>Messages</th>\n",
              "      <th>Appointment</th>\n",
              "      <th>Cancelled</th>\n",
              "      <th>Consult_Appoint</th>\n",
              "      <th>Fail_HH</th>\n",
              "      <th>Got_HH</th>\n",
              "      <th>Full_turnos_obra_social</th>\n",
              "      <th>No_Correlation</th>\n",
              "      <th>Error_Interno</th>\n",
              "      <th>Error_501</th>\n",
              "      <th>Falla_Api_Externo</th>\n",
              "      <th>not_DNI</th>\n",
              "      <th>Issue_Name</th>\n",
              "      <th>Ask_Kunan</th>\n",
              "      <th>Many_Fallbacks_Goto_HH</th>\n",
              "      <th>From_anon</th>\n",
              "      <th>To_anon</th>\n",
              "    </tr>\n",
              "  </thead>\n",
              "  <tbody>\n",
              "    <tr>\n",
              "      <th>count</th>\n",
              "      <td>21000.000000</td>\n",
              "      <td>21000.000000</td>\n",
              "      <td>21000.000000</td>\n",
              "      <td>21000.0</td>\n",
              "      <td>21000.000000</td>\n",
              "      <td>21000.000000</td>\n",
              "      <td>21000.000000</td>\n",
              "      <td>21000.000000</td>\n",
              "      <td>21000.000000</td>\n",
              "      <td>21000.000000</td>\n",
              "      <td>21000.000000</td>\n",
              "      <td>21000.000000</td>\n",
              "      <td>21000.000000</td>\n",
              "      <td>21000.00000</td>\n",
              "      <td>21000.000000</td>\n",
              "      <td>21000.000000</td>\n",
              "      <td>21000.000000</td>\n",
              "      <td>21000.000000</td>\n",
              "      <td>21000.000000</td>\n",
              "      <td>21000.000000</td>\n",
              "    </tr>\n",
              "    <tr>\n",
              "      <th>mean</th>\n",
              "      <td>8.766905</td>\n",
              "      <td>2.339571</td>\n",
              "      <td>14.902476</td>\n",
              "      <td>1.0</td>\n",
              "      <td>0.012429</td>\n",
              "      <td>0.002762</td>\n",
              "      <td>0.002524</td>\n",
              "      <td>0.004286</td>\n",
              "      <td>0.005619</td>\n",
              "      <td>0.004429</td>\n",
              "      <td>0.001857</td>\n",
              "      <td>0.000571</td>\n",
              "      <td>0.002476</td>\n",
              "      <td>0.00019</td>\n",
              "      <td>0.008190</td>\n",
              "      <td>0.001524</td>\n",
              "      <td>0.000095</td>\n",
              "      <td>0.002381</td>\n",
              "      <td>2929.046571</td>\n",
              "      <td>2909.619524</td>\n",
              "    </tr>\n",
              "    <tr>\n",
              "      <th>std</th>\n",
              "      <td>7.413395</td>\n",
              "      <td>0.644018</td>\n",
              "      <td>3.342678</td>\n",
              "      <td>0.0</td>\n",
              "      <td>0.110791</td>\n",
              "      <td>0.052482</td>\n",
              "      <td>0.050175</td>\n",
              "      <td>0.065326</td>\n",
              "      <td>0.074751</td>\n",
              "      <td>0.066402</td>\n",
              "      <td>0.043056</td>\n",
              "      <td>0.023898</td>\n",
              "      <td>0.049701</td>\n",
              "      <td>0.01380</td>\n",
              "      <td>0.090132</td>\n",
              "      <td>0.039007</td>\n",
              "      <td>0.009759</td>\n",
              "      <td>0.048738</td>\n",
              "      <td>1638.239791</td>\n",
              "      <td>1658.363620</td>\n",
              "    </tr>\n",
              "    <tr>\n",
              "      <th>min</th>\n",
              "      <td>1.000000</td>\n",
              "      <td>1.000000</td>\n",
              "      <td>0.000000</td>\n",
              "      <td>1.0</td>\n",
              "      <td>0.000000</td>\n",
              "      <td>0.000000</td>\n",
              "      <td>0.000000</td>\n",
              "      <td>0.000000</td>\n",
              "      <td>0.000000</td>\n",
              "      <td>0.000000</td>\n",
              "      <td>0.000000</td>\n",
              "      <td>0.000000</td>\n",
              "      <td>0.000000</td>\n",
              "      <td>0.00000</td>\n",
              "      <td>0.000000</td>\n",
              "      <td>0.000000</td>\n",
              "      <td>0.000000</td>\n",
              "      <td>0.000000</td>\n",
              "      <td>1.000000</td>\n",
              "      <td>1.000000</td>\n",
              "    </tr>\n",
              "    <tr>\n",
              "      <th>25%</th>\n",
              "      <td>2.000000</td>\n",
              "      <td>2.000000</td>\n",
              "      <td>12.000000</td>\n",
              "      <td>1.0</td>\n",
              "      <td>0.000000</td>\n",
              "      <td>0.000000</td>\n",
              "      <td>0.000000</td>\n",
              "      <td>0.000000</td>\n",
              "      <td>0.000000</td>\n",
              "      <td>0.000000</td>\n",
              "      <td>0.000000</td>\n",
              "      <td>0.000000</td>\n",
              "      <td>0.000000</td>\n",
              "      <td>0.00000</td>\n",
              "      <td>0.000000</td>\n",
              "      <td>0.000000</td>\n",
              "      <td>0.000000</td>\n",
              "      <td>0.000000</td>\n",
              "      <td>1725.000000</td>\n",
              "      <td>1665.000000</td>\n",
              "    </tr>\n",
              "    <tr>\n",
              "      <th>50%</th>\n",
              "      <td>3.000000</td>\n",
              "      <td>2.000000</td>\n",
              "      <td>15.000000</td>\n",
              "      <td>1.0</td>\n",
              "      <td>0.000000</td>\n",
              "      <td>0.000000</td>\n",
              "      <td>0.000000</td>\n",
              "      <td>0.000000</td>\n",
              "      <td>0.000000</td>\n",
              "      <td>0.000000</td>\n",
              "      <td>0.000000</td>\n",
              "      <td>0.000000</td>\n",
              "      <td>0.000000</td>\n",
              "      <td>0.00000</td>\n",
              "      <td>0.000000</td>\n",
              "      <td>0.000000</td>\n",
              "      <td>0.000000</td>\n",
              "      <td>0.000000</td>\n",
              "      <td>2624.000000</td>\n",
              "      <td>2520.000000</td>\n",
              "    </tr>\n",
              "    <tr>\n",
              "      <th>75%</th>\n",
              "      <td>16.000000</td>\n",
              "      <td>3.000000</td>\n",
              "      <td>17.000000</td>\n",
              "      <td>1.0</td>\n",
              "      <td>0.000000</td>\n",
              "      <td>0.000000</td>\n",
              "      <td>0.000000</td>\n",
              "      <td>0.000000</td>\n",
              "      <td>0.000000</td>\n",
              "      <td>0.000000</td>\n",
              "      <td>0.000000</td>\n",
              "      <td>0.000000</td>\n",
              "      <td>0.000000</td>\n",
              "      <td>0.00000</td>\n",
              "      <td>0.000000</td>\n",
              "      <td>0.000000</td>\n",
              "      <td>0.000000</td>\n",
              "      <td>0.000000</td>\n",
              "      <td>3750.000000</td>\n",
              "      <td>3999.250000</td>\n",
              "    </tr>\n",
              "    <tr>\n",
              "      <th>max</th>\n",
              "      <td>28.000000</td>\n",
              "      <td>3.000000</td>\n",
              "      <td>23.000000</td>\n",
              "      <td>1.0</td>\n",
              "      <td>1.000000</td>\n",
              "      <td>1.000000</td>\n",
              "      <td>1.000000</td>\n",
              "      <td>1.000000</td>\n",
              "      <td>1.000000</td>\n",
              "      <td>1.000000</td>\n",
              "      <td>1.000000</td>\n",
              "      <td>1.000000</td>\n",
              "      <td>1.000000</td>\n",
              "      <td>1.00000</td>\n",
              "      <td>1.000000</td>\n",
              "      <td>1.000000</td>\n",
              "      <td>1.000000</td>\n",
              "      <td>1.000000</td>\n",
              "      <td>7478.000000</td>\n",
              "      <td>7182.000000</td>\n",
              "    </tr>\n",
              "  </tbody>\n",
              "</table>\n",
              "</div>\n",
              "      <button class=\"colab-df-convert\" onclick=\"convertToInteractive('df-06e8da35-f0fa-44ca-b04f-06709a573f65')\"\n",
              "              title=\"Convert this dataframe to an interactive table.\"\n",
              "              style=\"display:none;\">\n",
              "        \n",
              "  <svg xmlns=\"http://www.w3.org/2000/svg\" height=\"24px\"viewBox=\"0 0 24 24\"\n",
              "       width=\"24px\">\n",
              "    <path d=\"M0 0h24v24H0V0z\" fill=\"none\"/>\n",
              "    <path d=\"M18.56 5.44l.94 2.06.94-2.06 2.06-.94-2.06-.94-.94-2.06-.94 2.06-2.06.94zm-11 1L8.5 8.5l.94-2.06 2.06-.94-2.06-.94L8.5 2.5l-.94 2.06-2.06.94zm10 10l.94 2.06.94-2.06 2.06-.94-2.06-.94-.94-2.06-.94 2.06-2.06.94z\"/><path d=\"M17.41 7.96l-1.37-1.37c-.4-.4-.92-.59-1.43-.59-.52 0-1.04.2-1.43.59L10.3 9.45l-7.72 7.72c-.78.78-.78 2.05 0 2.83L4 21.41c.39.39.9.59 1.41.59.51 0 1.02-.2 1.41-.59l7.78-7.78 2.81-2.81c.8-.78.8-2.07 0-2.86zM5.41 20L4 18.59l7.72-7.72 1.47 1.35L5.41 20z\"/>\n",
              "  </svg>\n",
              "      </button>\n",
              "      \n",
              "  <style>\n",
              "    .colab-df-container {\n",
              "      display:flex;\n",
              "      flex-wrap:wrap;\n",
              "      gap: 12px;\n",
              "    }\n",
              "\n",
              "    .colab-df-convert {\n",
              "      background-color: #E8F0FE;\n",
              "      border: none;\n",
              "      border-radius: 50%;\n",
              "      cursor: pointer;\n",
              "      display: none;\n",
              "      fill: #1967D2;\n",
              "      height: 32px;\n",
              "      padding: 0 0 0 0;\n",
              "      width: 32px;\n",
              "    }\n",
              "\n",
              "    .colab-df-convert:hover {\n",
              "      background-color: #E2EBFA;\n",
              "      box-shadow: 0px 1px 2px rgba(60, 64, 67, 0.3), 0px 1px 3px 1px rgba(60, 64, 67, 0.15);\n",
              "      fill: #174EA6;\n",
              "    }\n",
              "\n",
              "    [theme=dark] .colab-df-convert {\n",
              "      background-color: #3B4455;\n",
              "      fill: #D2E3FC;\n",
              "    }\n",
              "\n",
              "    [theme=dark] .colab-df-convert:hover {\n",
              "      background-color: #434B5C;\n",
              "      box-shadow: 0px 1px 3px 1px rgba(0, 0, 0, 0.15);\n",
              "      filter: drop-shadow(0px 1px 2px rgba(0, 0, 0, 0.3));\n",
              "      fill: #FFFFFF;\n",
              "    }\n",
              "  </style>\n",
              "\n",
              "      <script>\n",
              "        const buttonEl =\n",
              "          document.querySelector('#df-06e8da35-f0fa-44ca-b04f-06709a573f65 button.colab-df-convert');\n",
              "        buttonEl.style.display =\n",
              "          google.colab.kernel.accessAllowed ? 'block' : 'none';\n",
              "\n",
              "        async function convertToInteractive(key) {\n",
              "          const element = document.querySelector('#df-06e8da35-f0fa-44ca-b04f-06709a573f65');\n",
              "          const dataTable =\n",
              "            await google.colab.kernel.invokeFunction('convertToInteractive',\n",
              "                                                     [key], {});\n",
              "          if (!dataTable) return;\n",
              "\n",
              "          const docLinkHtml = 'Like what you see? Visit the ' +\n",
              "            '<a target=\"_blank\" href=https://colab.research.google.com/notebooks/data_table.ipynb>data table notebook</a>'\n",
              "            + ' to learn more about interactive tables.';\n",
              "          element.innerHTML = '';\n",
              "          dataTable['output_type'] = 'display_data';\n",
              "          await google.colab.output.renderOutput(dataTable, element);\n",
              "          const docLink = document.createElement('div');\n",
              "          docLink.innerHTML = docLinkHtml;\n",
              "          element.appendChild(docLink);\n",
              "        }\n",
              "      </script>\n",
              "    </div>\n",
              "  </div>\n",
              "  "
            ]
          },
          "metadata": {},
          "execution_count": 27
        }
      ],
      "source": [
        "df.describe()"
      ]
    },
    {
      "cell_type": "markdown",
      "id": "8493ae39",
      "metadata": {
        "id": "8493ae39"
      },
      "source": [
        "## Leyendo una conversación\n",
        "\n",
        "Ordenando por From_anon y por SentDate se puede seguir el hilo de una conversación"
      ]
    },
    {
      "cell_type": "code",
      "execution_count": 28,
      "id": "cde8faf9",
      "metadata": {
        "id": "cde8faf9",
        "outputId": "c1951e0d-1145-4863-cd87-2a572f1db0b7",
        "colab": {
          "base_uri": "https://localhost:8080/",
          "height": 645
        }
      },
      "outputs": [
        {
          "output_type": "execute_result",
          "data": {
            "text/plain": [
              "      From_anon  To_anon Direction  \\\n",
              "6240       4048     3360   inbound   \n",
              "6268       4048     3360   inbound   \n",
              "6270       4048     3360   inbound   \n",
              "6273       4048     3360   inbound   \n",
              "6275       4048     3360   inbound   \n",
              "6277       4048     3360   inbound   \n",
              "6279       4048     3360   inbound   \n",
              "6283       4048     3360   inbound   \n",
              "6306       4048     3360   inbound   \n",
              "6310       4048     3360   inbound   \n",
              "6313       4048     3360   inbound   \n",
              "6315       4048     3360   inbound   \n",
              "6319       4048     3360   inbound   \n",
              "6325       4048     3360   inbound   \n",
              "6338       4048     3360   inbound   \n",
              "6346       4048     3360   inbound   \n",
              "6359       4048     3360   inbound   \n",
              "6364       4048     3360   inbound   \n",
              "6375       4048     3360   inbound   \n",
              "\n",
              "                                                   Body  \n",
              "6240      Buenas tardes necesito turno para Odontología  \n",
              "6268                                                 Si  \n",
              "6270                                      XXXXXXXXXXXXX  \n",
              "6273                                           XXXXXXXX  \n",
              "6275                                         Odontólogo  \n",
              "6277                                                  0  \n",
              "6279  Hola buenas tardes necesito turno para la odon...  \n",
              "6283                                        Odontología  \n",
              "6306                                                 Si  \n",
              "6310                                      XXXXXXXXXXXXX  \n",
              "6313                                           XXXXXXXX  \n",
              "6315                                        Sacar turno  \n",
              "6319                                                 No  \n",
              "6325                                                  4  \n",
              "6338                                                 Si  \n",
              "6346                                      XXXXXXXXXXXXX  \n",
              "6359                                           XXXXXXXX  \n",
              "6364                                        Sacar turno  \n",
              "6375  Hola buenas tardes necesitaria un turno para l...  "
            ],
            "text/html": [
              "\n",
              "  <div id=\"df-4d49953b-4e0e-4987-b48b-eec780c64927\">\n",
              "    <div class=\"colab-df-container\">\n",
              "      <div>\n",
              "<style scoped>\n",
              "    .dataframe tbody tr th:only-of-type {\n",
              "        vertical-align: middle;\n",
              "    }\n",
              "\n",
              "    .dataframe tbody tr th {\n",
              "        vertical-align: top;\n",
              "    }\n",
              "\n",
              "    .dataframe thead th {\n",
              "        text-align: right;\n",
              "    }\n",
              "</style>\n",
              "<table border=\"1\" class=\"dataframe\">\n",
              "  <thead>\n",
              "    <tr style=\"text-align: right;\">\n",
              "      <th></th>\n",
              "      <th>From_anon</th>\n",
              "      <th>To_anon</th>\n",
              "      <th>Direction</th>\n",
              "      <th>Body</th>\n",
              "    </tr>\n",
              "  </thead>\n",
              "  <tbody>\n",
              "    <tr>\n",
              "      <th>6240</th>\n",
              "      <td>4048</td>\n",
              "      <td>3360</td>\n",
              "      <td>inbound</td>\n",
              "      <td>Buenas tardes necesito turno para Odontología</td>\n",
              "    </tr>\n",
              "    <tr>\n",
              "      <th>6268</th>\n",
              "      <td>4048</td>\n",
              "      <td>3360</td>\n",
              "      <td>inbound</td>\n",
              "      <td>Si</td>\n",
              "    </tr>\n",
              "    <tr>\n",
              "      <th>6270</th>\n",
              "      <td>4048</td>\n",
              "      <td>3360</td>\n",
              "      <td>inbound</td>\n",
              "      <td>XXXXXXXXXXXXX</td>\n",
              "    </tr>\n",
              "    <tr>\n",
              "      <th>6273</th>\n",
              "      <td>4048</td>\n",
              "      <td>3360</td>\n",
              "      <td>inbound</td>\n",
              "      <td>XXXXXXXX</td>\n",
              "    </tr>\n",
              "    <tr>\n",
              "      <th>6275</th>\n",
              "      <td>4048</td>\n",
              "      <td>3360</td>\n",
              "      <td>inbound</td>\n",
              "      <td>Odontólogo</td>\n",
              "    </tr>\n",
              "    <tr>\n",
              "      <th>6277</th>\n",
              "      <td>4048</td>\n",
              "      <td>3360</td>\n",
              "      <td>inbound</td>\n",
              "      <td>0</td>\n",
              "    </tr>\n",
              "    <tr>\n",
              "      <th>6279</th>\n",
              "      <td>4048</td>\n",
              "      <td>3360</td>\n",
              "      <td>inbound</td>\n",
              "      <td>Hola buenas tardes necesito turno para la odon...</td>\n",
              "    </tr>\n",
              "    <tr>\n",
              "      <th>6283</th>\n",
              "      <td>4048</td>\n",
              "      <td>3360</td>\n",
              "      <td>inbound</td>\n",
              "      <td>Odontología</td>\n",
              "    </tr>\n",
              "    <tr>\n",
              "      <th>6306</th>\n",
              "      <td>4048</td>\n",
              "      <td>3360</td>\n",
              "      <td>inbound</td>\n",
              "      <td>Si</td>\n",
              "    </tr>\n",
              "    <tr>\n",
              "      <th>6310</th>\n",
              "      <td>4048</td>\n",
              "      <td>3360</td>\n",
              "      <td>inbound</td>\n",
              "      <td>XXXXXXXXXXXXX</td>\n",
              "    </tr>\n",
              "    <tr>\n",
              "      <th>6313</th>\n",
              "      <td>4048</td>\n",
              "      <td>3360</td>\n",
              "      <td>inbound</td>\n",
              "      <td>XXXXXXXX</td>\n",
              "    </tr>\n",
              "    <tr>\n",
              "      <th>6315</th>\n",
              "      <td>4048</td>\n",
              "      <td>3360</td>\n",
              "      <td>inbound</td>\n",
              "      <td>Sacar turno</td>\n",
              "    </tr>\n",
              "    <tr>\n",
              "      <th>6319</th>\n",
              "      <td>4048</td>\n",
              "      <td>3360</td>\n",
              "      <td>inbound</td>\n",
              "      <td>No</td>\n",
              "    </tr>\n",
              "    <tr>\n",
              "      <th>6325</th>\n",
              "      <td>4048</td>\n",
              "      <td>3360</td>\n",
              "      <td>inbound</td>\n",
              "      <td>4</td>\n",
              "    </tr>\n",
              "    <tr>\n",
              "      <th>6338</th>\n",
              "      <td>4048</td>\n",
              "      <td>3360</td>\n",
              "      <td>inbound</td>\n",
              "      <td>Si</td>\n",
              "    </tr>\n",
              "    <tr>\n",
              "      <th>6346</th>\n",
              "      <td>4048</td>\n",
              "      <td>3360</td>\n",
              "      <td>inbound</td>\n",
              "      <td>XXXXXXXXXXXXX</td>\n",
              "    </tr>\n",
              "    <tr>\n",
              "      <th>6359</th>\n",
              "      <td>4048</td>\n",
              "      <td>3360</td>\n",
              "      <td>inbound</td>\n",
              "      <td>XXXXXXXX</td>\n",
              "    </tr>\n",
              "    <tr>\n",
              "      <th>6364</th>\n",
              "      <td>4048</td>\n",
              "      <td>3360</td>\n",
              "      <td>inbound</td>\n",
              "      <td>Sacar turno</td>\n",
              "    </tr>\n",
              "    <tr>\n",
              "      <th>6375</th>\n",
              "      <td>4048</td>\n",
              "      <td>3360</td>\n",
              "      <td>inbound</td>\n",
              "      <td>Hola buenas tardes necesitaria un turno para l...</td>\n",
              "    </tr>\n",
              "  </tbody>\n",
              "</table>\n",
              "</div>\n",
              "      <button class=\"colab-df-convert\" onclick=\"convertToInteractive('df-4d49953b-4e0e-4987-b48b-eec780c64927')\"\n",
              "              title=\"Convert this dataframe to an interactive table.\"\n",
              "              style=\"display:none;\">\n",
              "        \n",
              "  <svg xmlns=\"http://www.w3.org/2000/svg\" height=\"24px\"viewBox=\"0 0 24 24\"\n",
              "       width=\"24px\">\n",
              "    <path d=\"M0 0h24v24H0V0z\" fill=\"none\"/>\n",
              "    <path d=\"M18.56 5.44l.94 2.06.94-2.06 2.06-.94-2.06-.94-.94-2.06-.94 2.06-2.06.94zm-11 1L8.5 8.5l.94-2.06 2.06-.94-2.06-.94L8.5 2.5l-.94 2.06-2.06.94zm10 10l.94 2.06.94-2.06 2.06-.94-2.06-.94-.94-2.06-.94 2.06-2.06.94z\"/><path d=\"M17.41 7.96l-1.37-1.37c-.4-.4-.92-.59-1.43-.59-.52 0-1.04.2-1.43.59L10.3 9.45l-7.72 7.72c-.78.78-.78 2.05 0 2.83L4 21.41c.39.39.9.59 1.41.59.51 0 1.02-.2 1.41-.59l7.78-7.78 2.81-2.81c.8-.78.8-2.07 0-2.86zM5.41 20L4 18.59l7.72-7.72 1.47 1.35L5.41 20z\"/>\n",
              "  </svg>\n",
              "      </button>\n",
              "      \n",
              "  <style>\n",
              "    .colab-df-container {\n",
              "      display:flex;\n",
              "      flex-wrap:wrap;\n",
              "      gap: 12px;\n",
              "    }\n",
              "\n",
              "    .colab-df-convert {\n",
              "      background-color: #E8F0FE;\n",
              "      border: none;\n",
              "      border-radius: 50%;\n",
              "      cursor: pointer;\n",
              "      display: none;\n",
              "      fill: #1967D2;\n",
              "      height: 32px;\n",
              "      padding: 0 0 0 0;\n",
              "      width: 32px;\n",
              "    }\n",
              "\n",
              "    .colab-df-convert:hover {\n",
              "      background-color: #E2EBFA;\n",
              "      box-shadow: 0px 1px 2px rgba(60, 64, 67, 0.3), 0px 1px 3px 1px rgba(60, 64, 67, 0.15);\n",
              "      fill: #174EA6;\n",
              "    }\n",
              "\n",
              "    [theme=dark] .colab-df-convert {\n",
              "      background-color: #3B4455;\n",
              "      fill: #D2E3FC;\n",
              "    }\n",
              "\n",
              "    [theme=dark] .colab-df-convert:hover {\n",
              "      background-color: #434B5C;\n",
              "      box-shadow: 0px 1px 3px 1px rgba(0, 0, 0, 0.15);\n",
              "      filter: drop-shadow(0px 1px 2px rgba(0, 0, 0, 0.3));\n",
              "      fill: #FFFFFF;\n",
              "    }\n",
              "  </style>\n",
              "\n",
              "      <script>\n",
              "        const buttonEl =\n",
              "          document.querySelector('#df-4d49953b-4e0e-4987-b48b-eec780c64927 button.colab-df-convert');\n",
              "        buttonEl.style.display =\n",
              "          google.colab.kernel.accessAllowed ? 'block' : 'none';\n",
              "\n",
              "        async function convertToInteractive(key) {\n",
              "          const element = document.querySelector('#df-4d49953b-4e0e-4987-b48b-eec780c64927');\n",
              "          const dataTable =\n",
              "            await google.colab.kernel.invokeFunction('convertToInteractive',\n",
              "                                                     [key], {});\n",
              "          if (!dataTable) return;\n",
              "\n",
              "          const docLinkHtml = 'Like what you see? Visit the ' +\n",
              "            '<a target=\"_blank\" href=https://colab.research.google.com/notebooks/data_table.ipynb>data table notebook</a>'\n",
              "            + ' to learn more about interactive tables.';\n",
              "          element.innerHTML = '';\n",
              "          dataTable['output_type'] = 'display_data';\n",
              "          await google.colab.output.renderOutput(dataTable, element);\n",
              "          const docLink = document.createElement('div');\n",
              "          docLink.innerHTML = docLinkHtml;\n",
              "          element.appendChild(docLink);\n",
              "        }\n",
              "      </script>\n",
              "    </div>\n",
              "  </div>\n",
              "  "
            ]
          },
          "metadata": {},
          "execution_count": 28
        }
      ],
      "source": [
        "# Conversaciones de una sola persona random\n",
        "df[(df[\"From_anon\"]==4048) | (df[\"To_anon\"]==4048)][['From_anon', 'To_anon', 'Direction', 'Body']]#.sort_values(by=\"SentDate\")"
      ]
    },
    {
      "cell_type": "markdown",
      "id": "c2196644",
      "metadata": {
        "id": "c2196644"
      },
      "source": [
        "### Obteniendo datos de enero"
      ]
    },
    {
      "cell_type": "code",
      "execution_count": 29,
      "id": "04ee42d6",
      "metadata": {
        "id": "04ee42d6",
        "outputId": "2734fcbb-763b-4545-bfc7-052c15e5ee79",
        "colab": {
          "base_uri": "https://localhost:8080/",
          "height": 394
        }
      },
      "outputs": [
        {
          "output_type": "stream",
          "name": "stdout",
          "text": [
            "2000\n"
          ]
        },
        {
          "output_type": "execute_result",
          "data": {
            "text/plain": [
              "     Hospital             Tel_hospital  \\\n",
              "697     Carra  whatsapp:+5493515266217   \n",
              "1151    Carra  whatsapp:+5493515266217   \n",
              "957     Carra  whatsapp:+5493515266217   \n",
              "\n",
              "                                                   Body    Status  \\\n",
              "697                       Quedaron guardados tus datos.      read   \n",
              "1151                                                 No  received   \n",
              "957   Hola, soy el asistente virtual de Clinica Carr...      read   \n",
              "\n",
              "                       SentDate       Fecha  Dia  Mes  Hora  Messages  ...  \\\n",
              "697   2022-01-03 18:02:03+00:00  2022-01-03    3    1    18         1  ...   \n",
              "1151  2022-01-03 16:14:00+00:00  2022-01-03    3    1    16         1  ...   \n",
              "957   2022-01-03 17:03:55+00:00  2022-01-03    3    1    17         1  ...   \n",
              "\n",
              "     alta_dni not_DNI  issue_name Issue_Name  ask_kunan Ask_Kunan  \\\n",
              "697        []       0          []          0         []         0   \n",
              "1151       []       0          []          0         []         0   \n",
              "957        []       0          []          0         []         0   \n",
              "\n",
              "      many_fallbacks_goto_hh Many_Fallbacks_Goto_HH  From_anon To_anon  \n",
              "697                       []                      0       2249    2916  \n",
              "1151                      []                      0       3355    2121  \n",
              "957                       []                      0       2249    3553  \n",
              "\n",
              "[3 rows x 41 columns]"
            ],
            "text/html": [
              "\n",
              "  <div id=\"df-43ff114b-920f-41d6-ad54-d0557bc89f3d\">\n",
              "    <div class=\"colab-df-container\">\n",
              "      <div>\n",
              "<style scoped>\n",
              "    .dataframe tbody tr th:only-of-type {\n",
              "        vertical-align: middle;\n",
              "    }\n",
              "\n",
              "    .dataframe tbody tr th {\n",
              "        vertical-align: top;\n",
              "    }\n",
              "\n",
              "    .dataframe thead th {\n",
              "        text-align: right;\n",
              "    }\n",
              "</style>\n",
              "<table border=\"1\" class=\"dataframe\">\n",
              "  <thead>\n",
              "    <tr style=\"text-align: right;\">\n",
              "      <th></th>\n",
              "      <th>Hospital</th>\n",
              "      <th>Tel_hospital</th>\n",
              "      <th>Body</th>\n",
              "      <th>Status</th>\n",
              "      <th>SentDate</th>\n",
              "      <th>Fecha</th>\n",
              "      <th>Dia</th>\n",
              "      <th>Mes</th>\n",
              "      <th>Hora</th>\n",
              "      <th>Messages</th>\n",
              "      <th>...</th>\n",
              "      <th>alta_dni</th>\n",
              "      <th>not_DNI</th>\n",
              "      <th>issue_name</th>\n",
              "      <th>Issue_Name</th>\n",
              "      <th>ask_kunan</th>\n",
              "      <th>Ask_Kunan</th>\n",
              "      <th>many_fallbacks_goto_hh</th>\n",
              "      <th>Many_Fallbacks_Goto_HH</th>\n",
              "      <th>From_anon</th>\n",
              "      <th>To_anon</th>\n",
              "    </tr>\n",
              "  </thead>\n",
              "  <tbody>\n",
              "    <tr>\n",
              "      <th>697</th>\n",
              "      <td>Carra</td>\n",
              "      <td>whatsapp:+5493515266217</td>\n",
              "      <td>Quedaron guardados tus datos.</td>\n",
              "      <td>read</td>\n",
              "      <td>2022-01-03 18:02:03+00:00</td>\n",
              "      <td>2022-01-03</td>\n",
              "      <td>3</td>\n",
              "      <td>1</td>\n",
              "      <td>18</td>\n",
              "      <td>1</td>\n",
              "      <td>...</td>\n",
              "      <td>[]</td>\n",
              "      <td>0</td>\n",
              "      <td>[]</td>\n",
              "      <td>0</td>\n",
              "      <td>[]</td>\n",
              "      <td>0</td>\n",
              "      <td>[]</td>\n",
              "      <td>0</td>\n",
              "      <td>2249</td>\n",
              "      <td>2916</td>\n",
              "    </tr>\n",
              "    <tr>\n",
              "      <th>1151</th>\n",
              "      <td>Carra</td>\n",
              "      <td>whatsapp:+5493515266217</td>\n",
              "      <td>No</td>\n",
              "      <td>received</td>\n",
              "      <td>2022-01-03 16:14:00+00:00</td>\n",
              "      <td>2022-01-03</td>\n",
              "      <td>3</td>\n",
              "      <td>1</td>\n",
              "      <td>16</td>\n",
              "      <td>1</td>\n",
              "      <td>...</td>\n",
              "      <td>[]</td>\n",
              "      <td>0</td>\n",
              "      <td>[]</td>\n",
              "      <td>0</td>\n",
              "      <td>[]</td>\n",
              "      <td>0</td>\n",
              "      <td>[]</td>\n",
              "      <td>0</td>\n",
              "      <td>3355</td>\n",
              "      <td>2121</td>\n",
              "    </tr>\n",
              "    <tr>\n",
              "      <th>957</th>\n",
              "      <td>Carra</td>\n",
              "      <td>whatsapp:+5493515266217</td>\n",
              "      <td>Hola, soy el asistente virtual de Clinica Carr...</td>\n",
              "      <td>read</td>\n",
              "      <td>2022-01-03 17:03:55+00:00</td>\n",
              "      <td>2022-01-03</td>\n",
              "      <td>3</td>\n",
              "      <td>1</td>\n",
              "      <td>17</td>\n",
              "      <td>1</td>\n",
              "      <td>...</td>\n",
              "      <td>[]</td>\n",
              "      <td>0</td>\n",
              "      <td>[]</td>\n",
              "      <td>0</td>\n",
              "      <td>[]</td>\n",
              "      <td>0</td>\n",
              "      <td>[]</td>\n",
              "      <td>0</td>\n",
              "      <td>2249</td>\n",
              "      <td>3553</td>\n",
              "    </tr>\n",
              "  </tbody>\n",
              "</table>\n",
              "<p>3 rows × 41 columns</p>\n",
              "</div>\n",
              "      <button class=\"colab-df-convert\" onclick=\"convertToInteractive('df-43ff114b-920f-41d6-ad54-d0557bc89f3d')\"\n",
              "              title=\"Convert this dataframe to an interactive table.\"\n",
              "              style=\"display:none;\">\n",
              "        \n",
              "  <svg xmlns=\"http://www.w3.org/2000/svg\" height=\"24px\"viewBox=\"0 0 24 24\"\n",
              "       width=\"24px\">\n",
              "    <path d=\"M0 0h24v24H0V0z\" fill=\"none\"/>\n",
              "    <path d=\"M18.56 5.44l.94 2.06.94-2.06 2.06-.94-2.06-.94-.94-2.06-.94 2.06-2.06.94zm-11 1L8.5 8.5l.94-2.06 2.06-.94-2.06-.94L8.5 2.5l-.94 2.06-2.06.94zm10 10l.94 2.06.94-2.06 2.06-.94-2.06-.94-.94-2.06-.94 2.06-2.06.94z\"/><path d=\"M17.41 7.96l-1.37-1.37c-.4-.4-.92-.59-1.43-.59-.52 0-1.04.2-1.43.59L10.3 9.45l-7.72 7.72c-.78.78-.78 2.05 0 2.83L4 21.41c.39.39.9.59 1.41.59.51 0 1.02-.2 1.41-.59l7.78-7.78 2.81-2.81c.8-.78.8-2.07 0-2.86zM5.41 20L4 18.59l7.72-7.72 1.47 1.35L5.41 20z\"/>\n",
              "  </svg>\n",
              "      </button>\n",
              "      \n",
              "  <style>\n",
              "    .colab-df-container {\n",
              "      display:flex;\n",
              "      flex-wrap:wrap;\n",
              "      gap: 12px;\n",
              "    }\n",
              "\n",
              "    .colab-df-convert {\n",
              "      background-color: #E8F0FE;\n",
              "      border: none;\n",
              "      border-radius: 50%;\n",
              "      cursor: pointer;\n",
              "      display: none;\n",
              "      fill: #1967D2;\n",
              "      height: 32px;\n",
              "      padding: 0 0 0 0;\n",
              "      width: 32px;\n",
              "    }\n",
              "\n",
              "    .colab-df-convert:hover {\n",
              "      background-color: #E2EBFA;\n",
              "      box-shadow: 0px 1px 2px rgba(60, 64, 67, 0.3), 0px 1px 3px 1px rgba(60, 64, 67, 0.15);\n",
              "      fill: #174EA6;\n",
              "    }\n",
              "\n",
              "    [theme=dark] .colab-df-convert {\n",
              "      background-color: #3B4455;\n",
              "      fill: #D2E3FC;\n",
              "    }\n",
              "\n",
              "    [theme=dark] .colab-df-convert:hover {\n",
              "      background-color: #434B5C;\n",
              "      box-shadow: 0px 1px 3px 1px rgba(0, 0, 0, 0.15);\n",
              "      filter: drop-shadow(0px 1px 2px rgba(0, 0, 0, 0.3));\n",
              "      fill: #FFFFFF;\n",
              "    }\n",
              "  </style>\n",
              "\n",
              "      <script>\n",
              "        const buttonEl =\n",
              "          document.querySelector('#df-43ff114b-920f-41d6-ad54-d0557bc89f3d button.colab-df-convert');\n",
              "        buttonEl.style.display =\n",
              "          google.colab.kernel.accessAllowed ? 'block' : 'none';\n",
              "\n",
              "        async function convertToInteractive(key) {\n",
              "          const element = document.querySelector('#df-43ff114b-920f-41d6-ad54-d0557bc89f3d');\n",
              "          const dataTable =\n",
              "            await google.colab.kernel.invokeFunction('convertToInteractive',\n",
              "                                                     [key], {});\n",
              "          if (!dataTable) return;\n",
              "\n",
              "          const docLinkHtml = 'Like what you see? Visit the ' +\n",
              "            '<a target=\"_blank\" href=https://colab.research.google.com/notebooks/data_table.ipynb>data table notebook</a>'\n",
              "            + ' to learn more about interactive tables.';\n",
              "          element.innerHTML = '';\n",
              "          dataTable['output_type'] = 'display_data';\n",
              "          await google.colab.output.renderOutput(dataTable, element);\n",
              "          const docLink = document.createElement('div');\n",
              "          docLink.innerHTML = docLinkHtml;\n",
              "          element.appendChild(docLink);\n",
              "        }\n",
              "      </script>\n",
              "    </div>\n",
              "  </div>\n",
              "  "
            ]
          },
          "metadata": {},
          "execution_count": 29
        }
      ],
      "source": [
        "enero = df[df[\"Mes\"] == 1]\n",
        "print(len(enero))\n",
        "enero.sample(3)"
      ]
    },
    {
      "cell_type": "markdown",
      "id": "cdae567c",
      "metadata": {
        "id": "cdae567c"
      },
      "source": [
        "### Datos de enero que son de pacientes"
      ]
    },
    {
      "cell_type": "code",
      "execution_count": 30,
      "id": "c271a74c",
      "metadata": {
        "id": "c271a74c",
        "outputId": "35766ecb-02ac-4e10-cb66-c9bb40996eb5",
        "colab": {
          "base_uri": "https://localhost:8080/",
          "height": 356
        }
      },
      "outputs": [
        {
          "output_type": "stream",
          "name": "stdout",
          "text": [
            "829\n"
          ]
        },
        {
          "output_type": "execute_result",
          "data": {
            "text/plain": [
              "                Hospital             Tel_hospital        Body    Status  \\\n",
              "1844  Salud Consultorios  whatsapp:+5493515266230           2  received   \n",
              "1094               Carra  whatsapp:+5493515266217        8066  received   \n",
              "728                Carra  whatsapp:+5493515266217  XXXXXXXXXX  received   \n",
              "533           Los Cedros  whatsapp:+5491120401203       Ayuda  received   \n",
              "\n",
              "                       SentDate       Fecha  Dia  Mes  Hora  Messages  ...  \\\n",
              "1844  2022-01-03 14:00:46+00:00  2022-01-03    3    1    14         1  ...   \n",
              "1094  2022-01-03 16:30:49+00:00  2022-01-03    3    1    16         1  ...   \n",
              "728   2022-01-03 17:56:04+00:00  2022-01-03    3    1    17         1  ...   \n",
              "533   2022-01-03 18:31:49+00:00  2022-01-03    3    1    18         1  ...   \n",
              "\n",
              "     alta_dni not_DNI  issue_name Issue_Name  ask_kunan Ask_Kunan  \\\n",
              "1844       []       0          []          0         []         0   \n",
              "1094       []       0          []          0         []         0   \n",
              "728        []       0          []          0         []         0   \n",
              "533        []       0          []          0         []         0   \n",
              "\n",
              "      many_fallbacks_goto_hh Many_Fallbacks_Goto_HH  From_anon To_anon  \n",
              "1844                      []                      0       2791    2122  \n",
              "1094                      []                      0       3113    2121  \n",
              "728                       []                      0       3205    2121  \n",
              "533                       []                      0        303      10  \n",
              "\n",
              "[4 rows x 41 columns]"
            ],
            "text/html": [
              "\n",
              "  <div id=\"df-41b35b2a-eeff-46d3-9c24-27cb8058c7b1\">\n",
              "    <div class=\"colab-df-container\">\n",
              "      <div>\n",
              "<style scoped>\n",
              "    .dataframe tbody tr th:only-of-type {\n",
              "        vertical-align: middle;\n",
              "    }\n",
              "\n",
              "    .dataframe tbody tr th {\n",
              "        vertical-align: top;\n",
              "    }\n",
              "\n",
              "    .dataframe thead th {\n",
              "        text-align: right;\n",
              "    }\n",
              "</style>\n",
              "<table border=\"1\" class=\"dataframe\">\n",
              "  <thead>\n",
              "    <tr style=\"text-align: right;\">\n",
              "      <th></th>\n",
              "      <th>Hospital</th>\n",
              "      <th>Tel_hospital</th>\n",
              "      <th>Body</th>\n",
              "      <th>Status</th>\n",
              "      <th>SentDate</th>\n",
              "      <th>Fecha</th>\n",
              "      <th>Dia</th>\n",
              "      <th>Mes</th>\n",
              "      <th>Hora</th>\n",
              "      <th>Messages</th>\n",
              "      <th>...</th>\n",
              "      <th>alta_dni</th>\n",
              "      <th>not_DNI</th>\n",
              "      <th>issue_name</th>\n",
              "      <th>Issue_Name</th>\n",
              "      <th>ask_kunan</th>\n",
              "      <th>Ask_Kunan</th>\n",
              "      <th>many_fallbacks_goto_hh</th>\n",
              "      <th>Many_Fallbacks_Goto_HH</th>\n",
              "      <th>From_anon</th>\n",
              "      <th>To_anon</th>\n",
              "    </tr>\n",
              "  </thead>\n",
              "  <tbody>\n",
              "    <tr>\n",
              "      <th>1844</th>\n",
              "      <td>Salud Consultorios</td>\n",
              "      <td>whatsapp:+5493515266230</td>\n",
              "      <td>2</td>\n",
              "      <td>received</td>\n",
              "      <td>2022-01-03 14:00:46+00:00</td>\n",
              "      <td>2022-01-03</td>\n",
              "      <td>3</td>\n",
              "      <td>1</td>\n",
              "      <td>14</td>\n",
              "      <td>1</td>\n",
              "      <td>...</td>\n",
              "      <td>[]</td>\n",
              "      <td>0</td>\n",
              "      <td>[]</td>\n",
              "      <td>0</td>\n",
              "      <td>[]</td>\n",
              "      <td>0</td>\n",
              "      <td>[]</td>\n",
              "      <td>0</td>\n",
              "      <td>2791</td>\n",
              "      <td>2122</td>\n",
              "    </tr>\n",
              "    <tr>\n",
              "      <th>1094</th>\n",
              "      <td>Carra</td>\n",
              "      <td>whatsapp:+5493515266217</td>\n",
              "      <td>8066</td>\n",
              "      <td>received</td>\n",
              "      <td>2022-01-03 16:30:49+00:00</td>\n",
              "      <td>2022-01-03</td>\n",
              "      <td>3</td>\n",
              "      <td>1</td>\n",
              "      <td>16</td>\n",
              "      <td>1</td>\n",
              "      <td>...</td>\n",
              "      <td>[]</td>\n",
              "      <td>0</td>\n",
              "      <td>[]</td>\n",
              "      <td>0</td>\n",
              "      <td>[]</td>\n",
              "      <td>0</td>\n",
              "      <td>[]</td>\n",
              "      <td>0</td>\n",
              "      <td>3113</td>\n",
              "      <td>2121</td>\n",
              "    </tr>\n",
              "    <tr>\n",
              "      <th>728</th>\n",
              "      <td>Carra</td>\n",
              "      <td>whatsapp:+5493515266217</td>\n",
              "      <td>XXXXXXXXXX</td>\n",
              "      <td>received</td>\n",
              "      <td>2022-01-03 17:56:04+00:00</td>\n",
              "      <td>2022-01-03</td>\n",
              "      <td>3</td>\n",
              "      <td>1</td>\n",
              "      <td>17</td>\n",
              "      <td>1</td>\n",
              "      <td>...</td>\n",
              "      <td>[]</td>\n",
              "      <td>0</td>\n",
              "      <td>[]</td>\n",
              "      <td>0</td>\n",
              "      <td>[]</td>\n",
              "      <td>0</td>\n",
              "      <td>[]</td>\n",
              "      <td>0</td>\n",
              "      <td>3205</td>\n",
              "      <td>2121</td>\n",
              "    </tr>\n",
              "    <tr>\n",
              "      <th>533</th>\n",
              "      <td>Los Cedros</td>\n",
              "      <td>whatsapp:+5491120401203</td>\n",
              "      <td>Ayuda</td>\n",
              "      <td>received</td>\n",
              "      <td>2022-01-03 18:31:49+00:00</td>\n",
              "      <td>2022-01-03</td>\n",
              "      <td>3</td>\n",
              "      <td>1</td>\n",
              "      <td>18</td>\n",
              "      <td>1</td>\n",
              "      <td>...</td>\n",
              "      <td>[]</td>\n",
              "      <td>0</td>\n",
              "      <td>[]</td>\n",
              "      <td>0</td>\n",
              "      <td>[]</td>\n",
              "      <td>0</td>\n",
              "      <td>[]</td>\n",
              "      <td>0</td>\n",
              "      <td>303</td>\n",
              "      <td>10</td>\n",
              "    </tr>\n",
              "  </tbody>\n",
              "</table>\n",
              "<p>4 rows × 41 columns</p>\n",
              "</div>\n",
              "      <button class=\"colab-df-convert\" onclick=\"convertToInteractive('df-41b35b2a-eeff-46d3-9c24-27cb8058c7b1')\"\n",
              "              title=\"Convert this dataframe to an interactive table.\"\n",
              "              style=\"display:none;\">\n",
              "        \n",
              "  <svg xmlns=\"http://www.w3.org/2000/svg\" height=\"24px\"viewBox=\"0 0 24 24\"\n",
              "       width=\"24px\">\n",
              "    <path d=\"M0 0h24v24H0V0z\" fill=\"none\"/>\n",
              "    <path d=\"M18.56 5.44l.94 2.06.94-2.06 2.06-.94-2.06-.94-.94-2.06-.94 2.06-2.06.94zm-11 1L8.5 8.5l.94-2.06 2.06-.94-2.06-.94L8.5 2.5l-.94 2.06-2.06.94zm10 10l.94 2.06.94-2.06 2.06-.94-2.06-.94-.94-2.06-.94 2.06-2.06.94z\"/><path d=\"M17.41 7.96l-1.37-1.37c-.4-.4-.92-.59-1.43-.59-.52 0-1.04.2-1.43.59L10.3 9.45l-7.72 7.72c-.78.78-.78 2.05 0 2.83L4 21.41c.39.39.9.59 1.41.59.51 0 1.02-.2 1.41-.59l7.78-7.78 2.81-2.81c.8-.78.8-2.07 0-2.86zM5.41 20L4 18.59l7.72-7.72 1.47 1.35L5.41 20z\"/>\n",
              "  </svg>\n",
              "      </button>\n",
              "      \n",
              "  <style>\n",
              "    .colab-df-container {\n",
              "      display:flex;\n",
              "      flex-wrap:wrap;\n",
              "      gap: 12px;\n",
              "    }\n",
              "\n",
              "    .colab-df-convert {\n",
              "      background-color: #E8F0FE;\n",
              "      border: none;\n",
              "      border-radius: 50%;\n",
              "      cursor: pointer;\n",
              "      display: none;\n",
              "      fill: #1967D2;\n",
              "      height: 32px;\n",
              "      padding: 0 0 0 0;\n",
              "      width: 32px;\n",
              "    }\n",
              "\n",
              "    .colab-df-convert:hover {\n",
              "      background-color: #E2EBFA;\n",
              "      box-shadow: 0px 1px 2px rgba(60, 64, 67, 0.3), 0px 1px 3px 1px rgba(60, 64, 67, 0.15);\n",
              "      fill: #174EA6;\n",
              "    }\n",
              "\n",
              "    [theme=dark] .colab-df-convert {\n",
              "      background-color: #3B4455;\n",
              "      fill: #D2E3FC;\n",
              "    }\n",
              "\n",
              "    [theme=dark] .colab-df-convert:hover {\n",
              "      background-color: #434B5C;\n",
              "      box-shadow: 0px 1px 3px 1px rgba(0, 0, 0, 0.15);\n",
              "      filter: drop-shadow(0px 1px 2px rgba(0, 0, 0, 0.3));\n",
              "      fill: #FFFFFF;\n",
              "    }\n",
              "  </style>\n",
              "\n",
              "      <script>\n",
              "        const buttonEl =\n",
              "          document.querySelector('#df-41b35b2a-eeff-46d3-9c24-27cb8058c7b1 button.colab-df-convert');\n",
              "        buttonEl.style.display =\n",
              "          google.colab.kernel.accessAllowed ? 'block' : 'none';\n",
              "\n",
              "        async function convertToInteractive(key) {\n",
              "          const element = document.querySelector('#df-41b35b2a-eeff-46d3-9c24-27cb8058c7b1');\n",
              "          const dataTable =\n",
              "            await google.colab.kernel.invokeFunction('convertToInteractive',\n",
              "                                                     [key], {});\n",
              "          if (!dataTable) return;\n",
              "\n",
              "          const docLinkHtml = 'Like what you see? Visit the ' +\n",
              "            '<a target=\"_blank\" href=https://colab.research.google.com/notebooks/data_table.ipynb>data table notebook</a>'\n",
              "            + ' to learn more about interactive tables.';\n",
              "          element.innerHTML = '';\n",
              "          dataTable['output_type'] = 'display_data';\n",
              "          await google.colab.output.renderOutput(dataTable, element);\n",
              "          const docLink = document.createElement('div');\n",
              "          docLink.innerHTML = docLinkHtml;\n",
              "          element.appendChild(docLink);\n",
              "        }\n",
              "      </script>\n",
              "    </div>\n",
              "  </div>\n",
              "  "
            ]
          },
          "metadata": {},
          "execution_count": 30
        }
      ],
      "source": [
        "enero_inbound = enero[enero[\"Direction\"]==\"inbound\"]\n",
        "print(len(enero_inbound))\n",
        "enero_inbound.sample(4)"
      ]
    },
    {
      "cell_type": "code",
      "execution_count": 31,
      "id": "9c163f7f",
      "metadata": {
        "id": "9c163f7f",
        "outputId": "aada629e-c587-4300-abea-33b4b1057db8",
        "colab": {
          "base_uri": "https://localhost:8080/",
          "height": 283
        }
      },
      "outputs": [
        {
          "output_type": "execute_result",
          "data": {
            "text/plain": [
              "<matplotlib.axes._subplots.AxesSubplot at 0x7fea7fe85fd0>"
            ]
          },
          "metadata": {},
          "execution_count": 31
        },
        {
          "output_type": "display_data",
          "data": {
            "text/plain": [
              "<Figure size 432x288 with 1 Axes>"
            ],
            "image/png": "[encoded data removed]"
          },
          "metadata": {
            "needs_background": "light"
          }
        }
      ],
      "source": [
        "enero_inbound[\"Hora\"].value_counts().plot(kind='barh')"
      ]
    },
    {
      "cell_type": "markdown",
      "id": "811211cd-bc58-42f1-8dbd-f582d1218eea",
      "metadata": {
        "id": "811211cd-bc58-42f1-8dbd-f582d1218eea"
      },
      "source": [
        "# Ejercicios propuestos\n",
        "\n",
        "## Ejercicio 1: Descripción del dataset\n",
        "- Describa el dataset con sus propias palabras.  ¿Cuáles son los tipos de datos que hay en el dataset? ¿Hay columnas derivadas de otras? ¿Encuentra dificultades a priori para entender alguna de las columnas del dataset? Qué tipos de datos hay en el dataset? \n",
        "- ¿Cuántos y cuáles son los hospitales que se encuentran en el dataset? ¿Están los mismos hospitales a lo largo del tiempo? \n",
        "\n",
        "Argumente sus respuestas con ejemplos concretos y gráficos en lo posible."
      ]
    },
    {
      "cell_type": "markdown",
      "source": [
        "## Descripción del Dataset\n",
        "\n",
        "### Sobre las columnas\n",
        "A partir de la descripción sobre las columnas provista en la introducción podemos clasificar las columnas del dataset en \n",
        "\n",
        "* Metadatos sobre el mensaje: `from_anon` y `to_anon` indican los teléfonos involucrados en la conversación, mientras que `direction` informa el sentido del mensaje (entrante / saliente). `status` brinda información sobre si el mensaje ha sido leido.\n",
        "\n",
        "* Datos temporales. La columna `SentDate` contiene la información temporal del mensaje, mientras que las columnas `Fecha`, `Dia`, `Mes`, `Hora` son columnas derivadas\n",
        "\n",
        "* Información sobre la interacción: ¿Se consultaron turnos? ¿Se asignó un turno? ¿Se canceló el turno asignado?\n",
        "\n",
        "* Información sobre la plataforma: Las columnas `Falla_Api_externo`, `Error_Interno` y `Error_501` nos permiten analizar ciertos atributos cualitativos sobre el funcionamiento del bot.\n",
        "\n",
        "* Información sobre el bot: Podemos analizar la performance del bot (refiriendonos al porcentaje de casos en que se resuelve la interacción sin pasar a un humano) mediante las columnas `No_Correlation`, `Ask_kunan`  y `Many_Fallbacks_Goto_HH` "
      ],
      "metadata": {
        "id": "x55KCq7DI4jS"
      },
      "id": "x55KCq7DI4jS"
    },
    {
      "cell_type": "code",
      "source": [
        "import io\n",
        "import matplotlib\n",
        "import matplotlib.pyplot as plt\n",
        "import numpy\n",
        "import pandas as pd\n",
        "import seaborn\n"
      ],
      "metadata": {
        "id": "IvPp1PufKg3T"
      },
      "id": "IvPp1PufKg3T",
      "execution_count": 32,
      "outputs": []
    },
    {
      "cell_type": "code",
      "source": [
        "\n",
        "df['Cupo'].value_counts()\n",
        "\n",
        "df[ df['Cupo'] != '[]'].Hospital.value_counts()\n"
      ],
      "metadata": {
        "id": "t9tSoiPQTQVu",
        "colab": {
          "base_uri": "https://localhost:8080/"
        },
        "outputId": "d29e1d36-c243-44f8-e658-c9a3722dc782"
      },
      "id": "t9tSoiPQTQVu",
      "execution_count": 35,
      "outputs": [
        {
          "output_type": "execute_result",
          "data": {
            "text/plain": [
              "CityBell      45\n",
              "Carra         31\n",
              "Los Cedros    17\n",
              "Name: Hospital, dtype: int64"
            ]
          },
          "metadata": {},
          "execution_count": 35
        }
      ]
    },
    {
      "cell_type": "code",
      "source": [
        "fig = plt.figure(figsize=(15, 5))\n",
        "plt.ticklabel_format(style='plain', axis='x')\n",
        "plt.title('Consultas sin cupo')\n",
        "\n",
        "sin_cupo = df[ df['Cupo'] != '[]']\n",
        "seaborn.histplot(data=sin_cupo, x='Hospital')"
      ],
      "metadata": {
        "id": "eOUG8HHhV0wH",
        "outputId": "97dc54ad-ca22-4585-fb44-6fceea8743a1",
        "colab": {
          "base_uri": "https://localhost:8080/",
          "height": 368
        }
      },
      "id": "eOUG8HHhV0wH",
      "execution_count": 36,
      "outputs": [
        {
          "output_type": "execute_result",
          "data": {
            "text/plain": [
              "<matplotlib.axes._subplots.AxesSubplot at 0x7fea7fe30a90>"
            ]
          },
          "metadata": {},
          "execution_count": 36
        },
        {
          "output_type": "display_data",
          "data": {
            "text/plain": [
              "<Figure size 1080x360 with 1 Axes>"
            ],
            "image/png": "[encoded data removed]"
          },
          "metadata": {
            "needs_background": "light"
          }
        }
      ]
    },
    {
      "cell_type": "markdown",
      "source": [
        "### Hospitales en el año"
      ],
      "metadata": {
        "id": "j-_tsxumWhGR"
      },
      "id": "j-_tsxumWhGR"
    },
    {
      "cell_type": "code",
      "source": [
        "df_hospital_por_mes = df.groupby(['Hospital', 'Mes'])['Messages'].count()\n",
        "df_hospital_por_mes"
      ],
      "metadata": {
        "id": "fkO49FZ7Wg2_",
        "outputId": "34bdad23-22a1-45a5-ae2f-e897db30cb02",
        "colab": {
          "base_uri": "https://localhost:8080/"
        }
      },
      "id": "fkO49FZ7Wg2_",
      "execution_count": 37,
      "outputs": [
        {
          "output_type": "execute_result",
          "data": {
            "text/plain": [
              "Hospital            Mes\n",
              "Carra               1      1255\n",
              "                    2      2294\n",
              "                    3      2311\n",
              "CityBell            1        22\n",
              "                    2      5159\n",
              "                    3      4741\n",
              "Desarrollo          2         2\n",
              "Los Cedros          1       180\n",
              "                    2       785\n",
              "                    3       894\n",
              "Salud Consultorios  1       543\n",
              "                    2      1602\n",
              "                    3      1175\n",
              "Santa Fe            2        27\n",
              "                    3        10\n",
              "Name: Messages, dtype: int64"
            ]
          },
          "metadata": {},
          "execution_count": 37
        }
      ]
    },
    {
      "cell_type": "code",
      "source": [
        "# Efectividd del bot\n",
        "len(df[df['No_Correlation'] == 0]) / len(df)"
      ],
      "metadata": {
        "id": "bEVpiQ2vSUWJ",
        "outputId": "561cbb22-9dea-4820-8361-545129d53a0f",
        "colab": {
          "base_uri": "https://localhost:8080/"
        }
      },
      "id": "bEVpiQ2vSUWJ",
      "execution_count": 38,
      "outputs": [
        {
          "output_type": "execute_result",
          "data": {
            "text/plain": [
              "0.9981428571428571"
            ]
          },
          "metadata": {},
          "execution_count": 38
        }
      ]
    },
    {
      "cell_type": "code",
      "source": [
        "df.Direction.value_counts()"
      ],
      "metadata": {
        "colab": {
          "base_uri": "https://localhost:8080/"
        },
        "id": "n5QJNluMDz47",
        "outputId": "4916c2cc-0c8e-4f14-f159-0ad10ae9f32a"
      },
      "id": "n5QJNluMDz47",
      "execution_count": 39,
      "outputs": [
        {
          "output_type": "execute_result",
          "data": {
            "text/plain": [
              "outbound-api    12346\n",
              "inbound          8654\n",
              "Name: Direction, dtype: int64"
            ]
          },
          "metadata": {},
          "execution_count": 39
        }
      ]
    },
    {
      "cell_type": "code",
      "source": [
        "fig = plt.figure(figsize=(15, 5))\n",
        "plt.ticklabel_format(style='plain', axis='x')\n",
        "plt.title('Dirección de los mensajes')\n",
        "\n",
        "seaborn.histplot(data=df, x='Direction')"
      ],
      "metadata": {
        "id": "TNDN5R4bal8D",
        "outputId": "b59d8b94-eea3-40d0-e0a8-1bc84656b278",
        "colab": {
          "base_uri": "https://localhost:8080/",
          "height": 368
        }
      },
      "id": "TNDN5R4bal8D",
      "execution_count": 42,
      "outputs": [
        {
          "output_type": "execute_result",
          "data": {
            "text/plain": [
              "<matplotlib.axes._subplots.AxesSubplot at 0x7fea7088ad10>"
            ]
          },
          "metadata": {},
          "execution_count": 42
        },
        {
          "output_type": "display_data",
          "data": {
            "text/plain": [
              "<Figure size 1080x360 with 1 Axes>"
            ],
            "image/png": "[encoded data removed]"
          },
          "metadata": {
            "needs_background": "light"
          }
        }
      ]
    },
    {
      "cell_type": "code",
      "source": [
        "# Cuantos mensajes de pacientes\n",
        "\n",
        "inbound = df.Direction == 'inbound'\n",
        "msg_pacientes = df[inbound]\n",
        "msg_bot = df[~inbound]\n",
        "\n",
        "# cantidad promedio de mensaje de bot por paciente\n",
        "len(msg_bot) / len(msg_pacientes)"
      ],
      "metadata": {
        "colab": {
          "base_uri": "https://localhost:8080/"
        },
        "id": "_FCzN28GDndr",
        "outputId": "64b45eb1-5050-45a7-a1d6-b71d9a5ec375"
      },
      "id": "_FCzN28GDndr",
      "execution_count": 43,
      "outputs": [
        {
          "output_type": "execute_result",
          "data": {
            "text/plain": [
              "1.4266235266928589"
            ]
          },
          "metadata": {},
          "execution_count": 43
        }
      ]
    },
    {
      "cell_type": "code",
      "source": [
        "msg_pacientes.sample(5)"
      ],
      "metadata": {
        "colab": {
          "base_uri": "https://localhost:8080/",
          "height": 386
        },
        "id": "4LD9le0oKTmW",
        "outputId": "cd31b1a7-6a3d-49bc-8fb5-7c60fa24ff5b"
      },
      "id": "4LD9le0oKTmW",
      "execution_count": 44,
      "outputs": [
        {
          "output_type": "execute_result",
          "data": {
            "text/plain": [
              "                 Hospital             Tel_hospital           Body    Status  \\\n",
              "18092            CityBell  whatsapp:+5492215137770         8131.0  received   \n",
              "2                   Carra  whatsapp:+5493515266217             Si  received   \n",
              "15241               Carra  whatsapp:+5493515266217            1.0  received   \n",
              "19436            CityBell  whatsapp:+5492215137770      XXXXXXXXX  received   \n",
              "8594   Salud Consultorios  whatsapp:+5493515266230  XXXXXXXXXXXXX  received   \n",
              "\n",
              "                        SentDate       Fecha  Dia  Mes  Hora  Messages  ...  \\\n",
              "18092  2022-03-02 16:36:10+00:00  2022-03-02    2    3    16         1  ...   \n",
              "2      2022-01-02 20:42:10+00:00  2022-01-02    2    1    20         1  ...   \n",
              "15241  2022-03-02 19:28:10+00:00  2022-03-02    2    3    19         1  ...   \n",
              "19436  2022-03-02 15:42:04+00:00  2022-03-02    2    3    15         1  ...   \n",
              "8594   2022-02-16 11:37:39+00:00  2022-02-16   16    2    11         1  ...   \n",
              "\n",
              "      alta_dni not_DNI  issue_name Issue_Name  ask_kunan Ask_Kunan  \\\n",
              "18092       []       0          []          0         []         0   \n",
              "2           []       0          []          0         []         0   \n",
              "15241       []       0          []          0         []         0   \n",
              "19436       []       0          []          0         []         0   \n",
              "8594        []       0          []          0         []         0   \n",
              "\n",
              "       many_fallbacks_goto_hh Many_Fallbacks_Goto_HH  From_anon To_anon  \n",
              "18092                      []                      0       2533    2519  \n",
              "2                          []                      0       3356    2121  \n",
              "15241                      []                      0       7072    4855  \n",
              "19436                      []                      0       1744    2519  \n",
              "8594                       []                      0       3754    3360  \n",
              "\n",
              "[5 rows x 41 columns]"
            ],
            "text/html": [
              "\n",
              "  <div id=\"df-6acb33a4-b84d-4333-80e4-2733ab9eacb1\">\n",
              "    <div class=\"colab-df-container\">\n",
              "      <div>\n",
              "<style scoped>\n",
              "    .dataframe tbody tr th:only-of-type {\n",
              "        vertical-align: middle;\n",
              "    }\n",
              "\n",
              "    .dataframe tbody tr th {\n",
              "        vertical-align: top;\n",
              "    }\n",
              "\n",
              "    .dataframe thead th {\n",
              "        text-align: right;\n",
              "    }\n",
              "</style>\n",
              "<table border=\"1\" class=\"dataframe\">\n",
              "  <thead>\n",
              "    <tr style=\"text-align: right;\">\n",
              "      <th></th>\n",
              "      <th>Hospital</th>\n",
              "      <th>Tel_hospital</th>\n",
              "      <th>Body</th>\n",
              "      <th>Status</th>\n",
              "      <th>SentDate</th>\n",
              "      <th>Fecha</th>\n",
              "      <th>Dia</th>\n",
              "      <th>Mes</th>\n",
              "      <th>Hora</th>\n",
              "      <th>Messages</th>\n",
              "      <th>...</th>\n",
              "      <th>alta_dni</th>\n",
              "      <th>not_DNI</th>\n",
              "      <th>issue_name</th>\n",
              "      <th>Issue_Name</th>\n",
              "      <th>ask_kunan</th>\n",
              "      <th>Ask_Kunan</th>\n",
              "      <th>many_fallbacks_goto_hh</th>\n",
              "      <th>Many_Fallbacks_Goto_HH</th>\n",
              "      <th>From_anon</th>\n",
              "      <th>To_anon</th>\n",
              "    </tr>\n",
              "  </thead>\n",
              "  <tbody>\n",
              "    <tr>\n",
              "      <th>18092</th>\n",
              "      <td>CityBell</td>\n",
              "      <td>whatsapp:+5492215137770</td>\n",
              "      <td>8131.0</td>\n",
              "      <td>received</td>\n",
              "      <td>2022-03-02 16:36:10+00:00</td>\n",
              "      <td>2022-03-02</td>\n",
              "      <td>2</td>\n",
              "      <td>3</td>\n",
              "      <td>16</td>\n",
              "      <td>1</td>\n",
              "      <td>...</td>\n",
              "      <td>[]</td>\n",
              "      <td>0</td>\n",
              "      <td>[]</td>\n",
              "      <td>0</td>\n",
              "      <td>[]</td>\n",
              "      <td>0</td>\n",
              "      <td>[]</td>\n",
              "      <td>0</td>\n",
              "      <td>2533</td>\n",
              "      <td>2519</td>\n",
              "    </tr>\n",
              "    <tr>\n",
              "      <th>2</th>\n",
              "      <td>Carra</td>\n",
              "      <td>whatsapp:+5493515266217</td>\n",
              "      <td>Si</td>\n",
              "      <td>received</td>\n",
              "      <td>2022-01-02 20:42:10+00:00</td>\n",
              "      <td>2022-01-02</td>\n",
              "      <td>2</td>\n",
              "      <td>1</td>\n",
              "      <td>20</td>\n",
              "      <td>1</td>\n",
              "      <td>...</td>\n",
              "      <td>[]</td>\n",
              "      <td>0</td>\n",
              "      <td>[]</td>\n",
              "      <td>0</td>\n",
              "      <td>[]</td>\n",
              "      <td>0</td>\n",
              "      <td>[]</td>\n",
              "      <td>0</td>\n",
              "      <td>3356</td>\n",
              "      <td>2121</td>\n",
              "    </tr>\n",
              "    <tr>\n",
              "      <th>15241</th>\n",
              "      <td>Carra</td>\n",
              "      <td>whatsapp:+5493515266217</td>\n",
              "      <td>1.0</td>\n",
              "      <td>received</td>\n",
              "      <td>2022-03-02 19:28:10+00:00</td>\n",
              "      <td>2022-03-02</td>\n",
              "      <td>2</td>\n",
              "      <td>3</td>\n",
              "      <td>19</td>\n",
              "      <td>1</td>\n",
              "      <td>...</td>\n",
              "      <td>[]</td>\n",
              "      <td>0</td>\n",
              "      <td>[]</td>\n",
              "      <td>0</td>\n",
              "      <td>[]</td>\n",
              "      <td>0</td>\n",
              "      <td>[]</td>\n",
              "      <td>0</td>\n",
              "      <td>7072</td>\n",
              "      <td>4855</td>\n",
              "    </tr>\n",
              "    <tr>\n",
              "      <th>19436</th>\n",
              "      <td>CityBell</td>\n",
              "      <td>whatsapp:+5492215137770</td>\n",
              "      <td>XXXXXXXXX</td>\n",
              "      <td>received</td>\n",
              "      <td>2022-03-02 15:42:04+00:00</td>\n",
              "      <td>2022-03-02</td>\n",
              "      <td>2</td>\n",
              "      <td>3</td>\n",
              "      <td>15</td>\n",
              "      <td>1</td>\n",
              "      <td>...</td>\n",
              "      <td>[]</td>\n",
              "      <td>0</td>\n",
              "      <td>[]</td>\n",
              "      <td>0</td>\n",
              "      <td>[]</td>\n",
              "      <td>0</td>\n",
              "      <td>[]</td>\n",
              "      <td>0</td>\n",
              "      <td>1744</td>\n",
              "      <td>2519</td>\n",
              "    </tr>\n",
              "    <tr>\n",
              "      <th>8594</th>\n",
              "      <td>Salud Consultorios</td>\n",
              "      <td>whatsapp:+5493515266230</td>\n",
              "      <td>XXXXXXXXXXXXX</td>\n",
              "      <td>received</td>\n",
              "      <td>2022-02-16 11:37:39+00:00</td>\n",
              "      <td>2022-02-16</td>\n",
              "      <td>16</td>\n",
              "      <td>2</td>\n",
              "      <td>11</td>\n",
              "      <td>1</td>\n",
              "      <td>...</td>\n",
              "      <td>[]</td>\n",
              "      <td>0</td>\n",
              "      <td>[]</td>\n",
              "      <td>0</td>\n",
              "      <td>[]</td>\n",
              "      <td>0</td>\n",
              "      <td>[]</td>\n",
              "      <td>0</td>\n",
              "      <td>3754</td>\n",
              "      <td>3360</td>\n",
              "    </tr>\n",
              "  </tbody>\n",
              "</table>\n",
              "<p>5 rows × 41 columns</p>\n",
              "</div>\n",
              "      <button class=\"colab-df-convert\" onclick=\"convertToInteractive('df-6acb33a4-b84d-4333-80e4-2733ab9eacb1')\"\n",
              "              title=\"Convert this dataframe to an interactive table.\"\n",
              "              style=\"display:none;\">\n",
              "        \n",
              "  <svg xmlns=\"http://www.w3.org/2000/svg\" height=\"24px\"viewBox=\"0 0 24 24\"\n",
              "       width=\"24px\">\n",
              "    <path d=\"M0 0h24v24H0V0z\" fill=\"none\"/>\n",
              "    <path d=\"M18.56 5.44l.94 2.06.94-2.06 2.06-.94-2.06-.94-.94-2.06-.94 2.06-2.06.94zm-11 1L8.5 8.5l.94-2.06 2.06-.94-2.06-.94L8.5 2.5l-.94 2.06-2.06.94zm10 10l.94 2.06.94-2.06 2.06-.94-2.06-.94-.94-2.06-.94 2.06-2.06.94z\"/><path d=\"M17.41 7.96l-1.37-1.37c-.4-.4-.92-.59-1.43-.59-.52 0-1.04.2-1.43.59L10.3 9.45l-7.72 7.72c-.78.78-.78 2.05 0 2.83L4 21.41c.39.39.9.59 1.41.59.51 0 1.02-.2 1.41-.59l7.78-7.78 2.81-2.81c.8-.78.8-2.07 0-2.86zM5.41 20L4 18.59l7.72-7.72 1.47 1.35L5.41 20z\"/>\n",
              "  </svg>\n",
              "      </button>\n",
              "      \n",
              "  <style>\n",
              "    .colab-df-container {\n",
              "      display:flex;\n",
              "      flex-wrap:wrap;\n",
              "      gap: 12px;\n",
              "    }\n",
              "\n",
              "    .colab-df-convert {\n",
              "      background-color: #E8F0FE;\n",
              "      border: none;\n",
              "      border-radius: 50%;\n",
              "      cursor: pointer;\n",
              "      display: none;\n",
              "      fill: #1967D2;\n",
              "      height: 32px;\n",
              "      padding: 0 0 0 0;\n",
              "      width: 32px;\n",
              "    }\n",
              "\n",
              "    .colab-df-convert:hover {\n",
              "      background-color: #E2EBFA;\n",
              "      box-shadow: 0px 1px 2px rgba(60, 64, 67, 0.3), 0px 1px 3px 1px rgba(60, 64, 67, 0.15);\n",
              "      fill: #174EA6;\n",
              "    }\n",
              "\n",
              "    [theme=dark] .colab-df-convert {\n",
              "      background-color: #3B4455;\n",
              "      fill: #D2E3FC;\n",
              "    }\n",
              "\n",
              "    [theme=dark] .colab-df-convert:hover {\n",
              "      background-color: #434B5C;\n",
              "      box-shadow: 0px 1px 3px 1px rgba(0, 0, 0, 0.15);\n",
              "      filter: drop-shadow(0px 1px 2px rgba(0, 0, 0, 0.3));\n",
              "      fill: #FFFFFF;\n",
              "    }\n",
              "  </style>\n",
              "\n",
              "      <script>\n",
              "        const buttonEl =\n",
              "          document.querySelector('#df-6acb33a4-b84d-4333-80e4-2733ab9eacb1 button.colab-df-convert');\n",
              "        buttonEl.style.display =\n",
              "          google.colab.kernel.accessAllowed ? 'block' : 'none';\n",
              "\n",
              "        async function convertToInteractive(key) {\n",
              "          const element = document.querySelector('#df-6acb33a4-b84d-4333-80e4-2733ab9eacb1');\n",
              "          const dataTable =\n",
              "            await google.colab.kernel.invokeFunction('convertToInteractive',\n",
              "                                                     [key], {});\n",
              "          if (!dataTable) return;\n",
              "\n",
              "          const docLinkHtml = 'Like what you see? Visit the ' +\n",
              "            '<a target=\"_blank\" href=https://colab.research.google.com/notebooks/data_table.ipynb>data table notebook</a>'\n",
              "            + ' to learn more about interactive tables.';\n",
              "          element.innerHTML = '';\n",
              "          dataTable['output_type'] = 'display_data';\n",
              "          await google.colab.output.renderOutput(dataTable, element);\n",
              "          const docLink = document.createElement('div');\n",
              "          docLink.innerHTML = docLinkHtml;\n",
              "          element.appendChild(docLink);\n",
              "        }\n",
              "      </script>\n",
              "    </div>\n",
              "  </div>\n",
              "  "
            ]
          },
          "metadata": {},
          "execution_count": 44
        }
      ]
    },
    {
      "cell_type": "markdown",
      "source": [
        "## Errores"
      ],
      "metadata": {
        "id": "Rb_BPeVwHelG"
      },
      "id": "Rb_BPeVwHelG"
    },
    {
      "cell_type": "code",
      "source": [
        "df_errores = df[(df['Error_Interno'] == 1) | (df ['Error_501'] == 1 )| (df ['Falla_Api_Externo'] == 1) | (df.Fail_HH == 1) | (df.Many_Fallbacks_Goto_HH == 1) | (df.fail_HH_sms == 1)]"
      ],
      "metadata": {
        "id": "ZBQTh3NEopZr"
      },
      "id": "ZBQTh3NEopZr",
      "execution_count": 87,
      "outputs": []
    },
    {
      "cell_type": "code",
      "source": [
        "len(df_errores)"
      ],
      "metadata": {
        "colab": {
          "base_uri": "https://localhost:8080/"
        },
        "id": "SWyzJ43LHd_j",
        "outputId": "7d69c77b-1557-4e43-baf1-92ee25687e47"
      },
      "id": "SWyzJ43LHd_j",
      "execution_count": 86,
      "outputs": [
        {
          "output_type": "execute_result",
          "data": {
            "text/plain": [
              "208"
            ]
          },
          "metadata": {},
          "execution_count": 86
        }
      ]
    },
    {
      "cell_type": "code",
      "source": [
        "df[df.Falla_Api_Externo == 1].Body.unique()[0]"
      ],
      "metadata": {
        "id": "BrASQ65ffFg_",
        "outputId": "47ff515d-710a-4395-d65c-ce3d744821a0",
        "colab": {
          "base_uri": "https://localhost:8080/",
          "height": 36
        }
      },
      "id": "BrASQ65ffFg_",
      "execution_count": 57,
      "outputs": [
        {
          "output_type": "execute_result",
          "data": {
            "text/plain": [
              "'Hubo un error, intentá más tarde.'"
            ],
            "application/vnd.google.colaboratory.intrinsic+json": {
              "type": "string"
            }
          },
          "metadata": {},
          "execution_count": 57
        }
      ]
    },
    {
      "cell_type": "code",
      "source": [
        "df[df.Error_501 == 1].Body.unique()[0]"
      ],
      "metadata": {
        "id": "IvI3KRwTe3wu",
        "outputId": "56129ab7-a536-4728-8a39-b3bc084b7ea2",
        "colab": {
          "base_uri": "https://localhost:8080/",
          "height": 54
        }
      },
      "id": "IvI3KRwTe3wu",
      "execution_count": 58,
      "outputs": [
        {
          "output_type": "execute_result",
          "data": {
            "text/plain": [
              "'Por el momento *el sistema de gestión de turnos no está disponible, intente más tarde.* \\n👉🏻 Para comunicarte con un representante humano, escribe *_hablar con humano_*. \\nSi es una urgencia, por favor comunicate al teléfono o acudí de forma presencial al centro de salud. \\nDisculpe las molestias ocasionadas.'"
            ],
            "application/vnd.google.colaboratory.intrinsic+json": {
              "type": "string"
            }
          },
          "metadata": {},
          "execution_count": 58
        }
      ]
    },
    {
      "cell_type": "code",
      "source": [
        "df[df.Error_Interno == 1].Body.unique()[0]"
      ],
      "metadata": {
        "id": "uQ9I9GzgeSSp",
        "outputId": "08d62478-346c-4097-f9ad-d8a706efcf68",
        "colab": {
          "base_uri": "https://localhost:8080/",
          "height": 36
        }
      },
      "id": "uQ9I9GzgeSSp",
      "execution_count": 59,
      "outputs": [
        {
          "output_type": "execute_result",
          "data": {
            "text/plain": [
              "'⚠️  Error interno. Cerrá y volvé a abrir la aplicación, o comunicate con soporte técnico.⚠️'"
            ],
            "application/vnd.google.colaboratory.intrinsic+json": {
              "type": "string"
            }
          },
          "metadata": {},
          "execution_count": 59
        }
      ]
    },
    {
      "cell_type": "code",
      "source": [
        "df [df.Fail_HH == 1].Body.unique()[0]"
      ],
      "metadata": {
        "id": "R1Au9XxQl5Oe",
        "outputId": "2eaeefc0-4c47-42a5-ee6d-9677c9b6ff9a",
        "colab": {
          "base_uri": "https://localhost:8080/",
          "height": 36
        }
      },
      "id": "R1Au9XxQl5Oe",
      "execution_count": 64,
      "outputs": [
        {
          "output_type": "execute_result",
          "data": {
            "text/plain": [
              "'Estamos fuera del horario de atención con operadores humanos.'"
            ],
            "application/vnd.google.colaboratory.intrinsic+json": {
              "type": "string"
            }
          },
          "metadata": {},
          "execution_count": 64
        }
      ]
    },
    {
      "cell_type": "code",
      "source": [
        "df[df.Many_Fallbacks_Goto_HH == 1].Body.unique()"
      ],
      "metadata": {
        "id": "3levsk4GtnlO",
        "outputId": "b54b50d4-505c-4d8e-81f3-b9515dfaaa23",
        "colab": {
          "base_uri": "https://localhost:8080/"
        }
      },
      "id": "3levsk4GtnlO",
      "execution_count": 82,
      "outputs": [
        {
          "output_type": "execute_result",
          "data": {
            "text/plain": [
              "array(['Disculpe, el asistente virtual de Clinica Carra está teniendo problemas entendiendo qué quiere decir.  \\n Lo hemos transferido con un operador humano de Clinica Carra. Por favor, ingresá tu consulta.',\n",
              "       'Disculpe, el asistente virtual de Clinica Los Cedros está teniendo problemas entendiendo qué quiere decir.  \\n Lo hemos transferido con un operador humano de Clinica Los Cedros. Por favor, ingresá tu consulta.',\n",
              "       'Disculpe, el asistente virtual de Centro Medico de Diagnostico City Bell está teniendo problemas entendiendo qué quiere decir.  \\n Lo hemos transferido con un operador humano de Centro Medico de Diagnostico City Bell. Por favor, ingresá tu consulta.',\n",
              "       'Disculpe, el asistente virtual de Salud Consultorios está teniendo problemas entendiendo qué quiere decir.  \\n Lo hemos transferido con un operador humano de Salud Consultorios. Por favor, ingresá tu consulta.'],\n",
              "      dtype=object)"
            ]
          },
          "metadata": {},
          "execution_count": 82
        }
      ]
    },
    {
      "cell_type": "markdown",
      "id": "f5dd573d-0a05-4571-9679-4268dd7e39dd",
      "metadata": {
        "id": "f5dd573d-0a05-4571-9679-4268dd7e39dd"
      },
      "source": [
        "## Ejercicio 2: Exploración\n",
        "- Explorando el dataset, puede reconocer a priori \"clases/categorías de datos\"? Por dar un ejemplo: mensajes del bot y mensajes de clientes. Por dar otro ejemplo: Mensajes durante la mañana y mensajes durante la tarde. Intente reconocer al menos tres categorías y a partir de estas responder para cada una: ¿está representada esta categoría de forma balanceada en el dataset? Para argumentar su respuesta realice un gráfico que muestre la distribución de esta clase. ¿Qué hipótesis puede generar a partir de estas observaciones? ¿Qué consecuencias a nivel investigación puede tener si esta clase reconocida tiene esa distribución en el dataset?    "
      ]
    },
    {
      "cell_type": "markdown",
      "source": [
        "## Hospitales"
      ],
      "metadata": {
        "id": "kVMBKLub6W_W"
      },
      "id": "kVMBKLub6W_W"
    },
    {
      "cell_type": "markdown",
      "source": [
        "### ¿Qué hospitales se encuentran en el dataset?"
      ],
      "metadata": {
        "id": "C50cbWYrCr3y"
      },
      "id": "C50cbWYrCr3y"
    },
    {
      "cell_type": "code",
      "source": [
        "df['Hospital'].value_counts()"
      ],
      "metadata": {
        "id": "RCHiS2YtCoDE",
        "outputId": "1bdf3a1d-94bb-470d-884d-7036e7cdd9ca",
        "colab": {
          "base_uri": "https://localhost:8080/"
        }
      },
      "id": "RCHiS2YtCoDE",
      "execution_count": 33,
      "outputs": [
        {
          "output_type": "execute_result",
          "data": {
            "text/plain": [
              "CityBell              9922\n",
              "Carra                 5860\n",
              "Salud Consultorios    3320\n",
              "Los Cedros            1859\n",
              "Santa Fe                37\n",
              "Desarrollo               2\n",
              "Name: Hospital, dtype: int64"
            ]
          },
          "metadata": {},
          "execution_count": 33
        }
      ]
    },
    {
      "cell_type": "code",
      "source": [
        "fig = plt.figure(figsize=(15, 5))\n",
        "plt.ticklabel_format(style='plain', axis='x')\n",
        "plt.title('Hospitales')\n",
        "seaborn.histplot(data=df['Hospital'])"
      ],
      "metadata": {
        "id": "m84IA6H1Knl4",
        "outputId": "c98fd469-be35-40ba-ad34-16320661d677",
        "colab": {
          "base_uri": "https://localhost:8080/",
          "height": 368
        }
      },
      "id": "m84IA6H1Knl4",
      "execution_count": 34,
      "outputs": [
        {
          "output_type": "execute_result",
          "data": {
            "text/plain": [
              "<matplotlib.axes._subplots.AxesSubplot at 0x7fea7fd05f90>"
            ]
          },
          "metadata": {},
          "execution_count": 34
        },
        {
          "output_type": "display_data",
          "data": {
            "text/plain": [
              "<Figure size 1080x360 with 1 Axes>"
            ],
            "image/png": "[encoded data removed]"
          },
          "metadata": {
            "needs_background": "light"
          }
        }
      ]
    },
    {
      "cell_type": "markdown",
      "source": [
        "### Campos con errores\n",
        "Se pueden identificar mensajes de error en la interacción con los usuarios. En esta categoría podemos incluir tanto a los errores técnicos de la plataforma (o un proveedor), o los errores del bot (no siendo capaz de reconocer mensajes, o pasar a un operador humano)"
      ],
      "metadata": {
        "id": "bKSWLI4gakEC"
      },
      "id": "bKSWLI4gakEC"
    },
    {
      "cell_type": "code",
      "source": [
        "df_errores = df[(df['Error_Interno'] == 1) | (df ['Error_501'] == 1 )| (df ['Falla_Api_Externo'] == 1) | (df.Fail_HH == 1) | (df.Many_Fallbacks_Goto_HH == 1) | (df.fail_HH_sms == 1)]\n",
        "len(df_errores)"
      ],
      "metadata": {
        "id": "7Kq1-o8san5v",
        "outputId": "531b9250-60c7-410f-cf85-5caabd4216f4",
        "colab": {
          "base_uri": "https://localhost:8080/"
        }
      },
      "id": "7Kq1-o8san5v",
      "execution_count": 128,
      "outputs": [
        {
          "output_type": "execute_result",
          "data": {
            "text/plain": [
              "208"
            ]
          },
          "metadata": {},
          "execution_count": 128
        }
      ]
    },
    {
      "cell_type": "code",
      "source": [
        "df[df.Falla_Api_Externo == 1].Body.unique()[0]"
      ],
      "metadata": {
        "id": "hyIxATFXy77m",
        "outputId": "8dc131d8-d6c2-4355-fb6c-3f5cf95acc1f",
        "colab": {
          "base_uri": "https://localhost:8080/",
          "height": 36
        }
      },
      "id": "hyIxATFXy77m",
      "execution_count": 94,
      "outputs": [
        {
          "output_type": "execute_result",
          "data": {
            "text/plain": [
              "'Hubo un error, intentá más tarde.'"
            ],
            "application/vnd.google.colaboratory.intrinsic+json": {
              "type": "string"
            }
          },
          "metadata": {},
          "execution_count": 94
        }
      ]
    },
    {
      "cell_type": "code",
      "source": [
        "df[df.Error_501 == 1].Body.unique()[0]"
      ],
      "metadata": {
        "id": "3teTNrDcy9Li",
        "outputId": "e2b21781-e2e1-45d8-fb6c-cd896c05d4d2",
        "colab": {
          "base_uri": "https://localhost:8080/",
          "height": 54
        }
      },
      "id": "3teTNrDcy9Li",
      "execution_count": 129,
      "outputs": [
        {
          "output_type": "execute_result",
          "data": {
            "text/plain": [
              "'Por el momento *el sistema de gestión de turnos no está disponible, intente más tarde.* \\n👉🏻 Para comunicarte con un representante humano, escribe *_hablar con humano_*. \\nSi es una urgencia, por favor comunicate al teléfono o acudí de forma presencial al centro de salud. \\nDisculpe las molestias ocasionadas.'"
            ],
            "application/vnd.google.colaboratory.intrinsic+json": {
              "type": "string"
            }
          },
          "metadata": {},
          "execution_count": 129
        }
      ]
    },
    {
      "cell_type": "code",
      "source": [
        "df[df.Error_Interno == 1].Body.unique()[0]"
      ],
      "metadata": {
        "id": "KbHMuDtTzAUk",
        "outputId": "099ce515-a0ab-4c0b-be82-3526b7bf5839",
        "colab": {
          "base_uri": "https://localhost:8080/",
          "height": 36
        }
      },
      "id": "KbHMuDtTzAUk",
      "execution_count": 96,
      "outputs": [
        {
          "output_type": "execute_result",
          "data": {
            "text/plain": [
              "'⚠️  Error interno. Cerrá y volvé a abrir la aplicación, o comunicate con soporte técnico.⚠️'"
            ],
            "application/vnd.google.colaboratory.intrinsic+json": {
              "type": "string"
            }
          },
          "metadata": {},
          "execution_count": 96
        }
      ]
    },
    {
      "cell_type": "code",
      "source": [
        "df [df.Fail_HH == 1].Body.unique()[0]"
      ],
      "metadata": {
        "id": "5YYjILkOzDE4",
        "outputId": "e55503a0-6be8-4f9c-8b00-7c301b83c95a",
        "colab": {
          "base_uri": "https://localhost:8080/",
          "height": 36
        }
      },
      "id": "5YYjILkOzDE4",
      "execution_count": 97,
      "outputs": [
        {
          "output_type": "execute_result",
          "data": {
            "text/plain": [
              "'Estamos fuera del horario de atención con operadores humanos.'"
            ],
            "application/vnd.google.colaboratory.intrinsic+json": {
              "type": "string"
            }
          },
          "metadata": {},
          "execution_count": 97
        }
      ]
    },
    {
      "cell_type": "code",
      "source": [
        "df[df.Many_Fallbacks_Goto_HH == 1].Body.unique()"
      ],
      "metadata": {
        "id": "9Bri7-8jzFl4",
        "outputId": "e078cb0e-6968-426e-f3b1-5c8bdf005b3d",
        "colab": {
          "base_uri": "https://localhost:8080/"
        }
      },
      "id": "9Bri7-8jzFl4",
      "execution_count": 98,
      "outputs": [
        {
          "output_type": "execute_result",
          "data": {
            "text/plain": [
              "array(['Disculpe, el asistente virtual de Clinica Carra está teniendo problemas entendiendo qué quiere decir.  \\n Lo hemos transferido con un operador humano de Clinica Carra. Por favor, ingresá tu consulta.',\n",
              "       'Disculpe, el asistente virtual de Clinica Los Cedros está teniendo problemas entendiendo qué quiere decir.  \\n Lo hemos transferido con un operador humano de Clinica Los Cedros. Por favor, ingresá tu consulta.',\n",
              "       'Disculpe, el asistente virtual de Centro Medico de Diagnostico City Bell está teniendo problemas entendiendo qué quiere decir.  \\n Lo hemos transferido con un operador humano de Centro Medico de Diagnostico City Bell. Por favor, ingresá tu consulta.',\n",
              "       'Disculpe, el asistente virtual de Salud Consultorios está teniendo problemas entendiendo qué quiere decir.  \\n Lo hemos transferido con un operador humano de Salud Consultorios. Por favor, ingresá tu consulta.'],\n",
              "      dtype=object)"
            ]
          },
          "metadata": {},
          "execution_count": 98
        }
      ]
    },
    {
      "cell_type": "markdown",
      "source": [
        "### Turnos por especialidad"
      ],
      "metadata": {
        "id": "PCmYYw_3P8Xd"
      },
      "id": "PCmYYw_3P8Xd"
    },
    {
      "cell_type": "markdown",
      "source": [
        "Podemos obtener la especialidad a partir del mensaje de asignación de turno"
      ],
      "metadata": {
        "id": "S27qeNJygKHD"
      },
      "id": "S27qeNJygKHD"
    },
    {
      "cell_type": "code",
      "source": [
        "def get_especialidad(body):\n",
        "  l = body.split(' ')[4:]\n",
        "  idx = l.index('ha')\n",
        "  return ' '.join(l[:idx]).title()\n",
        "\n",
        "df['Especialidad'] = df[df.Appointment == 1].Body.apply(get_especialidad)\n",
        "\n",
        "df.Especialidad.unique()"
      ],
      "metadata": {
        "id": "CIBvZiaX_Cpc"
      },
      "id": "CIBvZiaX_Cpc",
      "execution_count": null,
      "outputs": []
    },
    {
      "cell_type": "code",
      "source": [
        "esp = df[df.Appointment == 1].groupby(['Especialidad', 'Hospital'])[['Especialidad', 'Hospital']]\n",
        "gs = esp.groups\n",
        "\n",
        "hospitales = []\n",
        "especialidades = []\n",
        "valor = []\n",
        "for especialidad, hospital in gs:\n",
        "  \n",
        "  cant = len(gs[especialidad, hospital])\n",
        "\n",
        "  hospitales.append(hospital)\n",
        "  especialidades.append(especialidad)\n",
        "  valor.append(cant)\n",
        "\n",
        "vmax, vmin = max(valor), min(valor)\n",
        "gg = pd.DataFrame({'especialidad': especialidades, 'hospital': hospitales, 'v': valor})\n",
        "\n",
        "ss = gg.pivot('especialidad', 'hospital')\n",
        "\n",
        "seaborn.heatmap(data = ss, linewidths=0.5, vmax= vmax, vmin = vmin)"
      ],
      "metadata": {
        "id": "Myg3iBtGDAmC",
        "outputId": "64bfaa9b-1982-47a6-d2ec-e0b98582b2d3",
        "colab": {
          "base_uri": "https://localhost:8080/",
          "height": 394
        }
      },
      "id": "Myg3iBtGDAmC",
      "execution_count": 47,
      "outputs": [
        {
          "output_type": "execute_result",
          "data": {
            "text/plain": [
              "<matplotlib.axes._subplots.AxesSubplot at 0x7f4daae4f890>"
            ]
          },
          "metadata": {},
          "execution_count": 47
        },
        {
          "output_type": "display_data",
          "data": {
            "text/plain": [
              "<Figure size 432x288 with 2 Axes>"
            ],
            "image/png": "[encoded data removed]"
          },
          "metadata": {
            "needs_background": "light"
          }
        }
      ]
    },
    {
      "cell_type": "code",
      "source": [
        "## Especialidades\n",
        "fig = plt.figure(figsize=(35, 5))\n",
        "plt.ticklabel_format(style='plain', axis='x')\n",
        "plt.title('Especialidades')\n",
        "\n",
        "seaborn.histplot(data=df, x = 'Especialidad')"
      ],
      "metadata": {
        "colab": {
          "base_uri": "https://localhost:8080/",
          "height": 257
        },
        "id": "od_tlm19-05X",
        "outputId": "93ca6e9f-5e71-45ce-eae1-7e6300933f1a"
      },
      "id": "od_tlm19-05X",
      "execution_count": 48,
      "outputs": [
        {
          "output_type": "execute_result",
          "data": {
            "text/plain": [
              "<matplotlib.axes._subplots.AxesSubplot at 0x7f4daacc0b90>"
            ]
          },
          "metadata": {},
          "execution_count": 48
        },
        {
          "output_type": "display_data",
          "data": {
            "text/plain": [
              "<Figure size 2520x360 with 1 Axes>"
            ],
            "image/png": "[encoded data removed]"
          },
          "metadata": {
            "needs_background": "light"
          }
        }
      ]
    },
    {
      "cell_type": "markdown",
      "id": "37b851ed-f75e-4567-87c6-832a46632234",
      "metadata": {
        "id": "37b851ed-f75e-4567-87c6-832a46632234"
      },
      "source": [
        "## Ejercicio 3: Generación\n",
        "\n",
        "- Calcular la cantidad de mensajes promedio que implicó sacar un turno por mes, por hospital. Realice un gráfico con los resultados de estas cantidades. Interprete los resultados intentando esbozar hipótesis en el uso del bot. Si encuentra resultados destacados/anómalos sírvase de buscar en internet información sobre los hospitales para poder fortalecer su argumento.\n",
        "\n",
        "- Calcular la cantidad de mensajes de pasaje de HH por mes, por hospital. Realice un gráfico con los resultados de estas cantidades. Interprete los resultados intentando esbozar hipótesis en el uso del bot. Si encuentra resultados destacados/anómalos sírvase de buscar en internet información sobre los hospitales para poder fortalecer su argumento."
      ]
    },
    {
      "cell_type": "markdown",
      "source": [
        "### Cantidad de mensajes promedio para sacar un turno"
      ],
      "metadata": {
        "id": "jQytVMNqnXaS"
      },
      "id": "jQytVMNqnXaS"
    },
    {
      "cell_type": "markdown",
      "source": [
        "Para calcular el número promedio de mensajes que implicó sacar un turno consideramos que\n",
        "* Todos los mensajes tienen un campo 'Appointment' que indica si se obtuvo un turno o no"
      ],
      "metadata": {
        "id": "wrHbC0iB11f4"
      },
      "id": "wrHbC0iB11f4"
    },
    {
      "cell_type": "code",
      "source": [
        "# ¿Cómo sabemos en que momento se sacó un turno? Con la columna Appointment.\n",
        "# Parece haber solo 261 turnos\n",
        "\n",
        "df.Appointment.dropna().value_counts()"
      ],
      "metadata": {
        "colab": {
          "base_uri": "https://localhost:8080/"
        },
        "id": "5bbGVZLpopNw",
        "outputId": "bff21813-635f-44e2-e8f8-bd23f44f58b0"
      },
      "id": "5bbGVZLpopNw",
      "execution_count": 47,
      "outputs": [
        {
          "output_type": "execute_result",
          "data": {
            "text/plain": [
              "0    20739\n",
              "1      261\n",
              "Name: Appointment, dtype: int64"
            ]
          },
          "metadata": {},
          "execution_count": 47
        }
      ]
    },
    {
      "cell_type": "code",
      "source": [
        "#vemos los mensajes que tienen Appointment == 1. Estos son los que consideramos como marcadores para indicar que se entregó un turno\n",
        "\n",
        "confirmed = df [df.Appointment == 1]\n",
        "confirmed.sample(5)"
      ],
      "metadata": {
        "id": "1hb88oT49wPk"
      },
      "id": "1hb88oT49wPk",
      "execution_count": null,
      "outputs": []
    },
    {
      "cell_type": "code",
      "source": [
        "df[df.Appointment == 1 ][['To_anon', 'From_anon', 'Direction', 'Hospital']]"
      ],
      "metadata": {
        "colab": {
          "base_uri": "https://localhost:8080/",
          "height": 424
        },
        "id": "COpM8309CtqZ",
        "outputId": "e936a105-3458-4d14-adf5-b9b0334bdd13"
      },
      "id": "COpM8309CtqZ",
      "execution_count": 49,
      "outputs": [
        {
          "output_type": "execute_result",
          "data": {
            "text/plain": [
              "       To_anon  From_anon     Direction  Hospital\n",
              "1         3146       2249  outbound-api     Carra\n",
              "51        3469       2249  outbound-api     Carra\n",
              "87        3358       2249  outbound-api     Carra\n",
              "256       3554       2249  outbound-api     Carra\n",
              "291       3253       2249  outbound-api     Carra\n",
              "...        ...        ...           ...       ...\n",
              "20035     2494       2624  outbound-api  CityBell\n",
              "20070     1562       2624  outbound-api  CityBell\n",
              "20486     6874       5047  outbound-api     Carra\n",
              "20760     1894       2624  outbound-api  CityBell\n",
              "20773     6050       5047  outbound-api     Carra\n",
              "\n",
              "[261 rows x 4 columns]"
            ],
            "text/html": [
              "\n",
              "  <div id=\"df-9cc97ff4-0ff4-46e5-b5d2-000a09b5abc2\">\n",
              "    <div class=\"colab-df-container\">\n",
              "      <div>\n",
              "<style scoped>\n",
              "    .dataframe tbody tr th:only-of-type {\n",
              "        vertical-align: middle;\n",
              "    }\n",
              "\n",
              "    .dataframe tbody tr th {\n",
              "        vertical-align: top;\n",
              "    }\n",
              "\n",
              "    .dataframe thead th {\n",
              "        text-align: right;\n",
              "    }\n",
              "</style>\n",
              "<table border=\"1\" class=\"dataframe\">\n",
              "  <thead>\n",
              "    <tr style=\"text-align: right;\">\n",
              "      <th></th>\n",
              "      <th>To_anon</th>\n",
              "      <th>From_anon</th>\n",
              "      <th>Direction</th>\n",
              "      <th>Hospital</th>\n",
              "    </tr>\n",
              "  </thead>\n",
              "  <tbody>\n",
              "    <tr>\n",
              "      <th>1</th>\n",
              "      <td>3146</td>\n",
              "      <td>2249</td>\n",
              "      <td>outbound-api</td>\n",
              "      <td>Carra</td>\n",
              "    </tr>\n",
              "    <tr>\n",
              "      <th>51</th>\n",
              "      <td>3469</td>\n",
              "      <td>2249</td>\n",
              "      <td>outbound-api</td>\n",
              "      <td>Carra</td>\n",
              "    </tr>\n",
              "    <tr>\n",
              "      <th>87</th>\n",
              "      <td>3358</td>\n",
              "      <td>2249</td>\n",
              "      <td>outbound-api</td>\n",
              "      <td>Carra</td>\n",
              "    </tr>\n",
              "    <tr>\n",
              "      <th>256</th>\n",
              "      <td>3554</td>\n",
              "      <td>2249</td>\n",
              "      <td>outbound-api</td>\n",
              "      <td>Carra</td>\n",
              "    </tr>\n",
              "    <tr>\n",
              "      <th>291</th>\n",
              "      <td>3253</td>\n",
              "      <td>2249</td>\n",
              "      <td>outbound-api</td>\n",
              "      <td>Carra</td>\n",
              "    </tr>\n",
              "    <tr>\n",
              "      <th>...</th>\n",
              "      <td>...</td>\n",
              "      <td>...</td>\n",
              "      <td>...</td>\n",
              "      <td>...</td>\n",
              "    </tr>\n",
              "    <tr>\n",
              "      <th>20035</th>\n",
              "      <td>2494</td>\n",
              "      <td>2624</td>\n",
              "      <td>outbound-api</td>\n",
              "      <td>CityBell</td>\n",
              "    </tr>\n",
              "    <tr>\n",
              "      <th>20070</th>\n",
              "      <td>1562</td>\n",
              "      <td>2624</td>\n",
              "      <td>outbound-api</td>\n",
              "      <td>CityBell</td>\n",
              "    </tr>\n",
              "    <tr>\n",
              "      <th>20486</th>\n",
              "      <td>6874</td>\n",
              "      <td>5047</td>\n",
              "      <td>outbound-api</td>\n",
              "      <td>Carra</td>\n",
              "    </tr>\n",
              "    <tr>\n",
              "      <th>20760</th>\n",
              "      <td>1894</td>\n",
              "      <td>2624</td>\n",
              "      <td>outbound-api</td>\n",
              "      <td>CityBell</td>\n",
              "    </tr>\n",
              "    <tr>\n",
              "      <th>20773</th>\n",
              "      <td>6050</td>\n",
              "      <td>5047</td>\n",
              "      <td>outbound-api</td>\n",
              "      <td>Carra</td>\n",
              "    </tr>\n",
              "  </tbody>\n",
              "</table>\n",
              "<p>261 rows × 4 columns</p>\n",
              "</div>\n",
              "      <button class=\"colab-df-convert\" onclick=\"convertToInteractive('df-9cc97ff4-0ff4-46e5-b5d2-000a09b5abc2')\"\n",
              "              title=\"Convert this dataframe to an interactive table.\"\n",
              "              style=\"display:none;\">\n",
              "        \n",
              "  <svg xmlns=\"http://www.w3.org/2000/svg\" height=\"24px\"viewBox=\"0 0 24 24\"\n",
              "       width=\"24px\">\n",
              "    <path d=\"M0 0h24v24H0V0z\" fill=\"none\"/>\n",
              "    <path d=\"M18.56 5.44l.94 2.06.94-2.06 2.06-.94-2.06-.94-.94-2.06-.94 2.06-2.06.94zm-11 1L8.5 8.5l.94-2.06 2.06-.94-2.06-.94L8.5 2.5l-.94 2.06-2.06.94zm10 10l.94 2.06.94-2.06 2.06-.94-2.06-.94-.94-2.06-.94 2.06-2.06.94z\"/><path d=\"M17.41 7.96l-1.37-1.37c-.4-.4-.92-.59-1.43-.59-.52 0-1.04.2-1.43.59L10.3 9.45l-7.72 7.72c-.78.78-.78 2.05 0 2.83L4 21.41c.39.39.9.59 1.41.59.51 0 1.02-.2 1.41-.59l7.78-7.78 2.81-2.81c.8-.78.8-2.07 0-2.86zM5.41 20L4 18.59l7.72-7.72 1.47 1.35L5.41 20z\"/>\n",
              "  </svg>\n",
              "      </button>\n",
              "      \n",
              "  <style>\n",
              "    .colab-df-container {\n",
              "      display:flex;\n",
              "      flex-wrap:wrap;\n",
              "      gap: 12px;\n",
              "    }\n",
              "\n",
              "    .colab-df-convert {\n",
              "      background-color: #E8F0FE;\n",
              "      border: none;\n",
              "      border-radius: 50%;\n",
              "      cursor: pointer;\n",
              "      display: none;\n",
              "      fill: #1967D2;\n",
              "      height: 32px;\n",
              "      padding: 0 0 0 0;\n",
              "      width: 32px;\n",
              "    }\n",
              "\n",
              "    .colab-df-convert:hover {\n",
              "      background-color: #E2EBFA;\n",
              "      box-shadow: 0px 1px 2px rgba(60, 64, 67, 0.3), 0px 1px 3px 1px rgba(60, 64, 67, 0.15);\n",
              "      fill: #174EA6;\n",
              "    }\n",
              "\n",
              "    [theme=dark] .colab-df-convert {\n",
              "      background-color: #3B4455;\n",
              "      fill: #D2E3FC;\n",
              "    }\n",
              "\n",
              "    [theme=dark] .colab-df-convert:hover {\n",
              "      background-color: #434B5C;\n",
              "      box-shadow: 0px 1px 3px 1px rgba(0, 0, 0, 0.15);\n",
              "      filter: drop-shadow(0px 1px 2px rgba(0, 0, 0, 0.3));\n",
              "      fill: #FFFFFF;\n",
              "    }\n",
              "  </style>\n",
              "\n",
              "      <script>\n",
              "        const buttonEl =\n",
              "          document.querySelector('#df-9cc97ff4-0ff4-46e5-b5d2-000a09b5abc2 button.colab-df-convert');\n",
              "        buttonEl.style.display =\n",
              "          google.colab.kernel.accessAllowed ? 'block' : 'none';\n",
              "\n",
              "        async function convertToInteractive(key) {\n",
              "          const element = document.querySelector('#df-9cc97ff4-0ff4-46e5-b5d2-000a09b5abc2');\n",
              "          const dataTable =\n",
              "            await google.colab.kernel.invokeFunction('convertToInteractive',\n",
              "                                                     [key], {});\n",
              "          if (!dataTable) return;\n",
              "\n",
              "          const docLinkHtml = 'Like what you see? Visit the ' +\n",
              "            '<a target=\"_blank\" href=https://colab.research.google.com/notebooks/data_table.ipynb>data table notebook</a>'\n",
              "            + ' to learn more about interactive tables.';\n",
              "          element.innerHTML = '';\n",
              "          dataTable['output_type'] = 'display_data';\n",
              "          await google.colab.output.renderOutput(dataTable, element);\n",
              "          const docLink = document.createElement('div');\n",
              "          docLink.innerHTML = docLinkHtml;\n",
              "          element.appendChild(docLink);\n",
              "        }\n",
              "      </script>\n",
              "    </div>\n",
              "  </div>\n",
              "  "
            ]
          },
          "metadata": {},
          "execution_count": 49
        }
      ]
    },
    {
      "cell_type": "code",
      "source": [
        "cc.columns"
      ],
      "metadata": {
        "id": "gQwL56-hGpYm",
        "outputId": "c5682a78-cfd2-484e-bee4-93c8452754f3",
        "colab": {
          "base_uri": "https://localhost:8080/"
        }
      },
      "id": "gQwL56-hGpYm",
      "execution_count": 57,
      "outputs": [
        {
          "output_type": "execute_result",
          "data": {
            "text/plain": [
              "Index(['Hospital', 'Tel_hospital', 'Body', 'Status', 'SentDate', 'Fecha',\n",
              "       'Dia', 'Mes', 'Hora', 'Messages', 'Direction', 'Appointment_msp',\n",
              "       'Appointment', 'Cancellation_msp', 'Cancelled', 'consult',\n",
              "       'Consult_Appoint', 'fail_HH_sms', 'Fail_HH', 'achieve_HH', 'Got_HH',\n",
              "       'Cupo', 'Full_turnos_obra_social', 'No_Relation', 'No_Correlation',\n",
              "       'has_error', 'Error_Interno', 'has_error_501', 'Error_501',\n",
              "       'falla_api_externo', 'Falla_Api_Externo', 'alta_dni', 'not_DNI',\n",
              "       'issue_name', 'Issue_Name', 'ask_kunan', 'Ask_Kunan',\n",
              "       'many_fallbacks_goto_hh', 'Many_Fallbacks_Goto_HH', 'From_anon',\n",
              "       'To_anon', 'from_user', 'dt', 'tag'],\n",
              "      dtype='object')"
            ]
          },
          "metadata": {},
          "execution_count": 57
        }
      ]
    },
    {
      "cell_type": "code",
      "source": [
        "# Tomamos uno de los pares (To_anon, From_anon). En este caso, son mensajes del hospital hacia el usuario.\n",
        "# Vemos que hay una interacción \n",
        "cc[((cc.To_anon == 3146) & (cc.From_anon == 2249)) | ((cc.To_anon == 2249) & (cc.From_anon == 3146)) ][['Body', 'Tel_hospital', 'Appointment', 'dt']].sort_values(by='dt')"
      ],
      "metadata": {
        "colab": {
          "base_uri": "https://localhost:8080/",
          "height": 489
        },
        "id": "6vdudhWKDoMw",
        "outputId": "00c1ec9b-c1e4-47ec-b7a1-6e95a20e406c"
      },
      "id": "6vdudhWKDoMw",
      "execution_count": 63,
      "outputs": [
        {
          "output_type": "execute_result",
          "data": {
            "text/plain": [
              "                                                 Body  \\\n",
              "23  Hola, soy el asistente virtual de Clinica Carr...   \n",
              "21                        Necesito tu DNI, por favor.   \n",
              "18  Necesito tu número de teléfono, por favor. Con...   \n",
              "19                        Ya te encontrás registrado.   \n",
              "16  ¡Muchas gracias! Tus datos son:  \\n  XXXXXXXXX...   \n",
              "13  *Escribe el número de la opción* que quieres e...   \n",
              "14                      Quedaron guardados tus datos.   \n",
              "11  *Escribe el número de la opción* que quieres e...   \n",
              "9   *Escribe el número de la opción* que quieres e...   \n",
              "7   *Escribe el número de la opción* que quieres e...   \n",
              "5   *Escribe el número de la opción* que quieres e...   \n",
              "3   ¡Muchas gracias! Tus datos son: \\n  Sede: Carr...   \n",
              "0   Hola, soy el asistente virtual de Clinica Carr...   \n",
              "1    tu turno de Ginecologia ha sido confirmado pa...   \n",
              "\n",
              "               Tel_hospital  Appointment                        dt  \n",
              "23  whatsapp:+5493515266217            0 2022-01-02 20:40:28+00:00  \n",
              "21  whatsapp:+5493515266217            0 2022-01-02 20:40:34+00:00  \n",
              "18  whatsapp:+5493515266217            0 2022-01-02 20:40:46+00:00  \n",
              "19  whatsapp:+5493515266217            0 2022-01-02 20:40:46+00:00  \n",
              "16  whatsapp:+5493515266217            0 2022-01-02 20:40:58+00:00  \n",
              "13  whatsapp:+5493515266217            0 2022-01-02 20:41:02+00:00  \n",
              "14  whatsapp:+5493515266217            0 2022-01-02 20:41:02+00:00  \n",
              "11  whatsapp:+5493515266217            0 2022-01-02 20:41:12+00:00  \n",
              "9   whatsapp:+5493515266217            0 2022-01-02 20:41:19+00:00  \n",
              "7   whatsapp:+5493515266217            0 2022-01-02 20:41:38+00:00  \n",
              "5   whatsapp:+5493515266217            0 2022-01-02 20:41:46+00:00  \n",
              "3   whatsapp:+5493515266217            0 2022-01-02 20:42:02+00:00  \n",
              "0   whatsapp:+5493515266217            0 2022-01-02 20:42:13+00:00  \n",
              "1   whatsapp:+5493515266217            1 2022-01-02 20:42:13+00:00  "
            ],
            "text/html": [
              "\n",
              "  <div id=\"df-9ffc36e7-3ff2-4fa8-8ebe-5b01780e6b56\">\n",
              "    <div class=\"colab-df-container\">\n",
              "      <div>\n",
              "<style scoped>\n",
              "    .dataframe tbody tr th:only-of-type {\n",
              "        vertical-align: middle;\n",
              "    }\n",
              "\n",
              "    .dataframe tbody tr th {\n",
              "        vertical-align: top;\n",
              "    }\n",
              "\n",
              "    .dataframe thead th {\n",
              "        text-align: right;\n",
              "    }\n",
              "</style>\n",
              "<table border=\"1\" class=\"dataframe\">\n",
              "  <thead>\n",
              "    <tr style=\"text-align: right;\">\n",
              "      <th></th>\n",
              "      <th>Body</th>\n",
              "      <th>Tel_hospital</th>\n",
              "      <th>Appointment</th>\n",
              "      <th>dt</th>\n",
              "    </tr>\n",
              "  </thead>\n",
              "  <tbody>\n",
              "    <tr>\n",
              "      <th>23</th>\n",
              "      <td>Hola, soy el asistente virtual de Clinica Carr...</td>\n",
              "      <td>whatsapp:+5493515266217</td>\n",
              "      <td>0</td>\n",
              "      <td>2022-01-02 20:40:28+00:00</td>\n",
              "    </tr>\n",
              "    <tr>\n",
              "      <th>21</th>\n",
              "      <td>Necesito tu DNI, por favor.</td>\n",
              "      <td>whatsapp:+5493515266217</td>\n",
              "      <td>0</td>\n",
              "      <td>2022-01-02 20:40:34+00:00</td>\n",
              "    </tr>\n",
              "    <tr>\n",
              "      <th>18</th>\n",
              "      <td>Necesito tu número de teléfono, por favor. Con...</td>\n",
              "      <td>whatsapp:+5493515266217</td>\n",
              "      <td>0</td>\n",
              "      <td>2022-01-02 20:40:46+00:00</td>\n",
              "    </tr>\n",
              "    <tr>\n",
              "      <th>19</th>\n",
              "      <td>Ya te encontrás registrado.</td>\n",
              "      <td>whatsapp:+5493515266217</td>\n",
              "      <td>0</td>\n",
              "      <td>2022-01-02 20:40:46+00:00</td>\n",
              "    </tr>\n",
              "    <tr>\n",
              "      <th>16</th>\n",
              "      <td>¡Muchas gracias! Tus datos son:  \\n  XXXXXXXXX...</td>\n",
              "      <td>whatsapp:+5493515266217</td>\n",
              "      <td>0</td>\n",
              "      <td>2022-01-02 20:40:58+00:00</td>\n",
              "    </tr>\n",
              "    <tr>\n",
              "      <th>13</th>\n",
              "      <td>*Escribe el número de la opción* que quieres e...</td>\n",
              "      <td>whatsapp:+5493515266217</td>\n",
              "      <td>0</td>\n",
              "      <td>2022-01-02 20:41:02+00:00</td>\n",
              "    </tr>\n",
              "    <tr>\n",
              "      <th>14</th>\n",
              "      <td>Quedaron guardados tus datos.</td>\n",
              "      <td>whatsapp:+5493515266217</td>\n",
              "      <td>0</td>\n",
              "      <td>2022-01-02 20:41:02+00:00</td>\n",
              "    </tr>\n",
              "    <tr>\n",
              "      <th>11</th>\n",
              "      <td>*Escribe el número de la opción* que quieres e...</td>\n",
              "      <td>whatsapp:+5493515266217</td>\n",
              "      <td>0</td>\n",
              "      <td>2022-01-02 20:41:12+00:00</td>\n",
              "    </tr>\n",
              "    <tr>\n",
              "      <th>9</th>\n",
              "      <td>*Escribe el número de la opción* que quieres e...</td>\n",
              "      <td>whatsapp:+5493515266217</td>\n",
              "      <td>0</td>\n",
              "      <td>2022-01-02 20:41:19+00:00</td>\n",
              "    </tr>\n",
              "    <tr>\n",
              "      <th>7</th>\n",
              "      <td>*Escribe el número de la opción* que quieres e...</td>\n",
              "      <td>whatsapp:+5493515266217</td>\n",
              "      <td>0</td>\n",
              "      <td>2022-01-02 20:41:38+00:00</td>\n",
              "    </tr>\n",
              "    <tr>\n",
              "      <th>5</th>\n",
              "      <td>*Escribe el número de la opción* que quieres e...</td>\n",
              "      <td>whatsapp:+5493515266217</td>\n",
              "      <td>0</td>\n",
              "      <td>2022-01-02 20:41:46+00:00</td>\n",
              "    </tr>\n",
              "    <tr>\n",
              "      <th>3</th>\n",
              "      <td>¡Muchas gracias! Tus datos son: \\n  Sede: Carr...</td>\n",
              "      <td>whatsapp:+5493515266217</td>\n",
              "      <td>0</td>\n",
              "      <td>2022-01-02 20:42:02+00:00</td>\n",
              "    </tr>\n",
              "    <tr>\n",
              "      <th>0</th>\n",
              "      <td>Hola, soy el asistente virtual de Clinica Carr...</td>\n",
              "      <td>whatsapp:+5493515266217</td>\n",
              "      <td>0</td>\n",
              "      <td>2022-01-02 20:42:13+00:00</td>\n",
              "    </tr>\n",
              "    <tr>\n",
              "      <th>1</th>\n",
              "      <td>tu turno de Ginecologia ha sido confirmado pa...</td>\n",
              "      <td>whatsapp:+5493515266217</td>\n",
              "      <td>1</td>\n",
              "      <td>2022-01-02 20:42:13+00:00</td>\n",
              "    </tr>\n",
              "  </tbody>\n",
              "</table>\n",
              "</div>\n",
              "      <button class=\"colab-df-convert\" onclick=\"convertToInteractive('df-9ffc36e7-3ff2-4fa8-8ebe-5b01780e6b56')\"\n",
              "              title=\"Convert this dataframe to an interactive table.\"\n",
              "              style=\"display:none;\">\n",
              "        \n",
              "  <svg xmlns=\"http://www.w3.org/2000/svg\" height=\"24px\"viewBox=\"0 0 24 24\"\n",
              "       width=\"24px\">\n",
              "    <path d=\"M0 0h24v24H0V0z\" fill=\"none\"/>\n",
              "    <path d=\"M18.56 5.44l.94 2.06.94-2.06 2.06-.94-2.06-.94-.94-2.06-.94 2.06-2.06.94zm-11 1L8.5 8.5l.94-2.06 2.06-.94-2.06-.94L8.5 2.5l-.94 2.06-2.06.94zm10 10l.94 2.06.94-2.06 2.06-.94-2.06-.94-.94-2.06-.94 2.06-2.06.94z\"/><path d=\"M17.41 7.96l-1.37-1.37c-.4-.4-.92-.59-1.43-.59-.52 0-1.04.2-1.43.59L10.3 9.45l-7.72 7.72c-.78.78-.78 2.05 0 2.83L4 21.41c.39.39.9.59 1.41.59.51 0 1.02-.2 1.41-.59l7.78-7.78 2.81-2.81c.8-.78.8-2.07 0-2.86zM5.41 20L4 18.59l7.72-7.72 1.47 1.35L5.41 20z\"/>\n",
              "  </svg>\n",
              "      </button>\n",
              "      \n",
              "  <style>\n",
              "    .colab-df-container {\n",
              "      display:flex;\n",
              "      flex-wrap:wrap;\n",
              "      gap: 12px;\n",
              "    }\n",
              "\n",
              "    .colab-df-convert {\n",
              "      background-color: #E8F0FE;\n",
              "      border: none;\n",
              "      border-radius: 50%;\n",
              "      cursor: pointer;\n",
              "      display: none;\n",
              "      fill: #1967D2;\n",
              "      height: 32px;\n",
              "      padding: 0 0 0 0;\n",
              "      width: 32px;\n",
              "    }\n",
              "\n",
              "    .colab-df-convert:hover {\n",
              "      background-color: #E2EBFA;\n",
              "      box-shadow: 0px 1px 2px rgba(60, 64, 67, 0.3), 0px 1px 3px 1px rgba(60, 64, 67, 0.15);\n",
              "      fill: #174EA6;\n",
              "    }\n",
              "\n",
              "    [theme=dark] .colab-df-convert {\n",
              "      background-color: #3B4455;\n",
              "      fill: #D2E3FC;\n",
              "    }\n",
              "\n",
              "    [theme=dark] .colab-df-convert:hover {\n",
              "      background-color: #434B5C;\n",
              "      box-shadow: 0px 1px 3px 1px rgba(0, 0, 0, 0.15);\n",
              "      filter: drop-shadow(0px 1px 2px rgba(0, 0, 0, 0.3));\n",
              "      fill: #FFFFFF;\n",
              "    }\n",
              "  </style>\n",
              "\n",
              "      <script>\n",
              "        const buttonEl =\n",
              "          document.querySelector('#df-9ffc36e7-3ff2-4fa8-8ebe-5b01780e6b56 button.colab-df-convert');\n",
              "        buttonEl.style.display =\n",
              "          google.colab.kernel.accessAllowed ? 'block' : 'none';\n",
              "\n",
              "        async function convertToInteractive(key) {\n",
              "          const element = document.querySelector('#df-9ffc36e7-3ff2-4fa8-8ebe-5b01780e6b56');\n",
              "          const dataTable =\n",
              "            await google.colab.kernel.invokeFunction('convertToInteractive',\n",
              "                                                     [key], {});\n",
              "          if (!dataTable) return;\n",
              "\n",
              "          const docLinkHtml = 'Like what you see? Visit the ' +\n",
              "            '<a target=\"_blank\" href=https://colab.research.google.com/notebooks/data_table.ipynb>data table notebook</a>'\n",
              "            + ' to learn more about interactive tables.';\n",
              "          element.innerHTML = '';\n",
              "          dataTable['output_type'] = 'display_data';\n",
              "          await google.colab.output.renderOutput(dataTable, element);\n",
              "          const docLink = document.createElement('div');\n",
              "          docLink.innerHTML = docLinkHtml;\n",
              "          element.appendChild(docLink);\n",
              "        }\n",
              "      </script>\n",
              "    </div>\n",
              "  </div>\n",
              "  "
            ]
          },
          "metadata": {},
          "execution_count": 63
        }
      ]
    },
    {
      "cell_type": "code",
      "source": [
        "df[(df.From_anon == 4788) & (df.To_anon == 4613)]"
      ],
      "metadata": {
        "colab": {
          "base_uri": "https://localhost:8080/",
          "height": 546
        },
        "id": "Tg8p5lCWGT-x",
        "outputId": "686469b0-da5c-4017-e48c-309e4966bb99"
      },
      "id": "Tg8p5lCWGT-x",
      "execution_count": 139,
      "outputs": [
        {
          "output_type": "execute_result",
          "data": {
            "text/plain": [
              "       Hospital             Tel_hospital  \\\n",
              "13526  Santa Fe  whatsapp:+5493424134455   \n",
              "13527  Santa Fe  whatsapp:+5493424134455   \n",
              "13533  Santa Fe  whatsapp:+5493424134455   \n",
              "13534  Santa Fe  whatsapp:+5493424134455   \n",
              "\n",
              "                                                    Body Status  \\\n",
              "13526                     ¿Te puedo ayudar con algo más?   read   \n",
              "13527  No se encuentra registrado ese DNI en el sistema.   read   \n",
              "13533                        Necesito tu DNI, por favor.   read   \n",
              "13534  Tu sesión se ha reinciado por tiempo de inacti...   read   \n",
              "\n",
              "                        SentDate       Fecha  Dia  Mes  Hora  Messages  ...  \\\n",
              "13526  2022-03-01 10:02:05+00:00  2022-03-01    1    3    10         1  ...   \n",
              "13527  2022-03-01 10:02:05+00:00  2022-03-01    1    3    10         1  ...   \n",
              "13533  2022-03-01 10:01:47+00:00  2022-03-01    1    3    10         1  ...   \n",
              "13534  2022-03-01 10:01:47+00:00  2022-03-01    1    3    10         1  ...   \n",
              "\n",
              "      not_DNI issue_name  Issue_Name ask_kunan  Ask_Kunan  \\\n",
              "13526       0         []           0        []          0   \n",
              "13527       1         []           0        []          0   \n",
              "13533       0         []           0        []          0   \n",
              "13534       0         []           0        []          0   \n",
              "\n",
              "      many_fallbacks_goto_hh  Many_Fallbacks_Goto_HH From_anon  To_anon  \\\n",
              "13526                     []                       0      4788     4613   \n",
              "13527                     []                       0      4788     4613   \n",
              "13533                     []                       0      4788     4613   \n",
              "13534                     []                       0      4788     4613   \n",
              "\n",
              "      Especialidad  \n",
              "13526          NaN  \n",
              "13527          NaN  \n",
              "13533          NaN  \n",
              "13534          NaN  \n",
              "\n",
              "[4 rows x 42 columns]"
            ],
            "text/html": [
              "\n",
              "  <div id=\"df-ed9d2ece-afc4-4e56-b97c-e0ef0ffe0185\">\n",
              "    <div class=\"colab-df-container\">\n",
              "      <div>\n",
              "<style scoped>\n",
              "    .dataframe tbody tr th:only-of-type {\n",
              "        vertical-align: middle;\n",
              "    }\n",
              "\n",
              "    .dataframe tbody tr th {\n",
              "        vertical-align: top;\n",
              "    }\n",
              "\n",
              "    .dataframe thead th {\n",
              "        text-align: right;\n",
              "    }\n",
              "</style>\n",
              "<table border=\"1\" class=\"dataframe\">\n",
              "  <thead>\n",
              "    <tr style=\"text-align: right;\">\n",
              "      <th></th>\n",
              "      <th>Hospital</th>\n",
              "      <th>Tel_hospital</th>\n",
              "      <th>Body</th>\n",
              "      <th>Status</th>\n",
              "      <th>SentDate</th>\n",
              "      <th>Fecha</th>\n",
              "      <th>Dia</th>\n",
              "      <th>Mes</th>\n",
              "      <th>Hora</th>\n",
              "      <th>Messages</th>\n",
              "      <th>...</th>\n",
              "      <th>not_DNI</th>\n",
              "      <th>issue_name</th>\n",
              "      <th>Issue_Name</th>\n",
              "      <th>ask_kunan</th>\n",
              "      <th>Ask_Kunan</th>\n",
              "      <th>many_fallbacks_goto_hh</th>\n",
              "      <th>Many_Fallbacks_Goto_HH</th>\n",
              "      <th>From_anon</th>\n",
              "      <th>To_anon</th>\n",
              "      <th>Especialidad</th>\n",
              "    </tr>\n",
              "  </thead>\n",
              "  <tbody>\n",
              "    <tr>\n",
              "      <th>13526</th>\n",
              "      <td>Santa Fe</td>\n",
              "      <td>whatsapp:+5493424134455</td>\n",
              "      <td>¿Te puedo ayudar con algo más?</td>\n",
              "      <td>read</td>\n",
              "      <td>2022-03-01 10:02:05+00:00</td>\n",
              "      <td>2022-03-01</td>\n",
              "      <td>1</td>\n",
              "      <td>3</td>\n",
              "      <td>10</td>\n",
              "      <td>1</td>\n",
              "      <td>...</td>\n",
              "      <td>0</td>\n",
              "      <td>[]</td>\n",
              "      <td>0</td>\n",
              "      <td>[]</td>\n",
              "      <td>0</td>\n",
              "      <td>[]</td>\n",
              "      <td>0</td>\n",
              "      <td>4788</td>\n",
              "      <td>4613</td>\n",
              "      <td>NaN</td>\n",
              "    </tr>\n",
              "    <tr>\n",
              "      <th>13527</th>\n",
              "      <td>Santa Fe</td>\n",
              "      <td>whatsapp:+5493424134455</td>\n",
              "      <td>No se encuentra registrado ese DNI en el sistema.</td>\n",
              "      <td>read</td>\n",
              "      <td>2022-03-01 10:02:05+00:00</td>\n",
              "      <td>2022-03-01</td>\n",
              "      <td>1</td>\n",
              "      <td>3</td>\n",
              "      <td>10</td>\n",
              "      <td>1</td>\n",
              "      <td>...</td>\n",
              "      <td>1</td>\n",
              "      <td>[]</td>\n",
              "      <td>0</td>\n",
              "      <td>[]</td>\n",
              "      <td>0</td>\n",
              "      <td>[]</td>\n",
              "      <td>0</td>\n",
              "      <td>4788</td>\n",
              "      <td>4613</td>\n",
              "      <td>NaN</td>\n",
              "    </tr>\n",
              "    <tr>\n",
              "      <th>13533</th>\n",
              "      <td>Santa Fe</td>\n",
              "      <td>whatsapp:+5493424134455</td>\n",
              "      <td>Necesito tu DNI, por favor.</td>\n",
              "      <td>read</td>\n",
              "      <td>2022-03-01 10:01:47+00:00</td>\n",
              "      <td>2022-03-01</td>\n",
              "      <td>1</td>\n",
              "      <td>3</td>\n",
              "      <td>10</td>\n",
              "      <td>1</td>\n",
              "      <td>...</td>\n",
              "      <td>0</td>\n",
              "      <td>[]</td>\n",
              "      <td>0</td>\n",
              "      <td>[]</td>\n",
              "      <td>0</td>\n",
              "      <td>[]</td>\n",
              "      <td>0</td>\n",
              "      <td>4788</td>\n",
              "      <td>4613</td>\n",
              "      <td>NaN</td>\n",
              "    </tr>\n",
              "    <tr>\n",
              "      <th>13534</th>\n",
              "      <td>Santa Fe</td>\n",
              "      <td>whatsapp:+5493424134455</td>\n",
              "      <td>Tu sesión se ha reinciado por tiempo de inacti...</td>\n",
              "      <td>read</td>\n",
              "      <td>2022-03-01 10:01:47+00:00</td>\n",
              "      <td>2022-03-01</td>\n",
              "      <td>1</td>\n",
              "      <td>3</td>\n",
              "      <td>10</td>\n",
              "      <td>1</td>\n",
              "      <td>...</td>\n",
              "      <td>0</td>\n",
              "      <td>[]</td>\n",
              "      <td>0</td>\n",
              "      <td>[]</td>\n",
              "      <td>0</td>\n",
              "      <td>[]</td>\n",
              "      <td>0</td>\n",
              "      <td>4788</td>\n",
              "      <td>4613</td>\n",
              "      <td>NaN</td>\n",
              "    </tr>\n",
              "  </tbody>\n",
              "</table>\n",
              "<p>4 rows × 42 columns</p>\n",
              "</div>\n",
              "      <button class=\"colab-df-convert\" onclick=\"convertToInteractive('df-ed9d2ece-afc4-4e56-b97c-e0ef0ffe0185')\"\n",
              "              title=\"Convert this dataframe to an interactive table.\"\n",
              "              style=\"display:none;\">\n",
              "        \n",
              "  <svg xmlns=\"http://www.w3.org/2000/svg\" height=\"24px\"viewBox=\"0 0 24 24\"\n",
              "       width=\"24px\">\n",
              "    <path d=\"M0 0h24v24H0V0z\" fill=\"none\"/>\n",
              "    <path d=\"M18.56 5.44l.94 2.06.94-2.06 2.06-.94-2.06-.94-.94-2.06-.94 2.06-2.06.94zm-11 1L8.5 8.5l.94-2.06 2.06-.94-2.06-.94L8.5 2.5l-.94 2.06-2.06.94zm10 10l.94 2.06.94-2.06 2.06-.94-2.06-.94-.94-2.06-.94 2.06-2.06.94z\"/><path d=\"M17.41 7.96l-1.37-1.37c-.4-.4-.92-.59-1.43-.59-.52 0-1.04.2-1.43.59L10.3 9.45l-7.72 7.72c-.78.78-.78 2.05 0 2.83L4 21.41c.39.39.9.59 1.41.59.51 0 1.02-.2 1.41-.59l7.78-7.78 2.81-2.81c.8-.78.8-2.07 0-2.86zM5.41 20L4 18.59l7.72-7.72 1.47 1.35L5.41 20z\"/>\n",
              "  </svg>\n",
              "      </button>\n",
              "      \n",
              "  <style>\n",
              "    .colab-df-container {\n",
              "      display:flex;\n",
              "      flex-wrap:wrap;\n",
              "      gap: 12px;\n",
              "    }\n",
              "\n",
              "    .colab-df-convert {\n",
              "      background-color: #E8F0FE;\n",
              "      border: none;\n",
              "      border-radius: 50%;\n",
              "      cursor: pointer;\n",
              "      display: none;\n",
              "      fill: #1967D2;\n",
              "      height: 32px;\n",
              "      padding: 0 0 0 0;\n",
              "      width: 32px;\n",
              "    }\n",
              "\n",
              "    .colab-df-convert:hover {\n",
              "      background-color: #E2EBFA;\n",
              "      box-shadow: 0px 1px 2px rgba(60, 64, 67, 0.3), 0px 1px 3px 1px rgba(60, 64, 67, 0.15);\n",
              "      fill: #174EA6;\n",
              "    }\n",
              "\n",
              "    [theme=dark] .colab-df-convert {\n",
              "      background-color: #3B4455;\n",
              "      fill: #D2E3FC;\n",
              "    }\n",
              "\n",
              "    [theme=dark] .colab-df-convert:hover {\n",
              "      background-color: #434B5C;\n",
              "      box-shadow: 0px 1px 3px 1px rgba(0, 0, 0, 0.15);\n",
              "      filter: drop-shadow(0px 1px 2px rgba(0, 0, 0, 0.3));\n",
              "      fill: #FFFFFF;\n",
              "    }\n",
              "  </style>\n",
              "\n",
              "      <script>\n",
              "        const buttonEl =\n",
              "          document.querySelector('#df-ed9d2ece-afc4-4e56-b97c-e0ef0ffe0185 button.colab-df-convert');\n",
              "        buttonEl.style.display =\n",
              "          google.colab.kernel.accessAllowed ? 'block' : 'none';\n",
              "\n",
              "        async function convertToInteractive(key) {\n",
              "          const element = document.querySelector('#df-ed9d2ece-afc4-4e56-b97c-e0ef0ffe0185');\n",
              "          const dataTable =\n",
              "            await google.colab.kernel.invokeFunction('convertToInteractive',\n",
              "                                                     [key], {});\n",
              "          if (!dataTable) return;\n",
              "\n",
              "          const docLinkHtml = 'Like what you see? Visit the ' +\n",
              "            '<a target=\"_blank\" href=https://colab.research.google.com/notebooks/data_table.ipynb>data table notebook</a>'\n",
              "            + ' to learn more about interactive tables.';\n",
              "          element.innerHTML = '';\n",
              "          dataTable['output_type'] = 'display_data';\n",
              "          await google.colab.output.renderOutput(dataTable, element);\n",
              "          const docLink = document.createElement('div');\n",
              "          docLink.innerHTML = docLinkHtml;\n",
              "          element.appendChild(docLink);\n",
              "        }\n",
              "      </script>\n",
              "    </div>\n",
              "  </div>\n",
              "  "
            ]
          },
          "metadata": {},
          "execution_count": 139
        }
      ]
    },
    {
      "cell_type": "code",
      "source": [
        "# Agrupamos los mensajes por Hospital  y mes y vemos las cantidades\n",
        "group = df.groupby(['Hospital', 'Mes', 'From_anon', 'To_anon'])[['Hospital', 'Mes', 'Appointment', 'Messages', 'From_anon', 'To_anon' ,'Direction','Body','SentDate']]\n",
        "msgs_por_grupo = group.count()\n",
        "\n",
        "msgs_por_grupo\n"
      ],
      "metadata": {
        "colab": {
          "base_uri": "https://localhost:8080/",
          "height": 455
        },
        "id": "TIgnBkQt2KcZ",
        "outputId": "bf7c9597-6105-428b-8071-84dec1450f04"
      },
      "id": "TIgnBkQt2KcZ",
      "execution_count": 180,
      "outputs": [
        {
          "output_type": "execute_result",
          "data": {
            "text/plain": [
              "                                Hospital  Mes  Appointment  Messages  \\\n",
              "Hospital Mes From_anon To_anon                                         \n",
              "Carra    1   2087      2121            1    1            1         1   \n",
              "             2115      2121           15   15           15        15   \n",
              "             2127      2121           11   11           11        11   \n",
              "             2128      2121            7    7            7         7   \n",
              "             2156      2121            3    3            3         3   \n",
              "...                                  ...  ...          ...       ...   \n",
              "Santa Fe 2   3293      3174           11   11           11        11   \n",
              "         3   4788      4613            4    4            4         4   \n",
              "                       4624            2    2            2         2   \n",
              "             4794      4607            2    2            2         2   \n",
              "             4805      4607            2    2            2         2   \n",
              "\n",
              "                                From_anon  To_anon  Direction  Body  SentDate  \n",
              "Hospital Mes From_anon To_anon                                                 \n",
              "Carra    1   2087      2121             1        1          1     1         1  \n",
              "             2115      2121            15       15         15    15        15  \n",
              "             2127      2121            11       11         11    11        11  \n",
              "             2128      2121             7        7          7     7         7  \n",
              "             2156      2121             3        3          3     3         3  \n",
              "...                                   ...      ...        ...   ...       ...  \n",
              "Santa Fe 2   3293      3174            11       11         11    11        11  \n",
              "         3   4788      4613             4        4          4     4         4  \n",
              "                       4624             2        2          2     2         2  \n",
              "             4794      4607             2        2          2     2         2  \n",
              "             4805      4607             2        2          2     2         2  \n",
              "\n",
              "[1593 rows x 9 columns]"
            ],
            "text/html": [
              "\n",
              "  <div id=\"df-65efb74e-036c-484e-b31e-f0104dac94ff\">\n",
              "    <div class=\"colab-df-container\">\n",
              "      <div>\n",
              "<style scoped>\n",
              "    .dataframe tbody tr th:only-of-type {\n",
              "        vertical-align: middle;\n",
              "    }\n",
              "\n",
              "    .dataframe tbody tr th {\n",
              "        vertical-align: top;\n",
              "    }\n",
              "\n",
              "    .dataframe thead th {\n",
              "        text-align: right;\n",
              "    }\n",
              "</style>\n",
              "<table border=\"1\" class=\"dataframe\">\n",
              "  <thead>\n",
              "    <tr style=\"text-align: right;\">\n",
              "      <th></th>\n",
              "      <th></th>\n",
              "      <th></th>\n",
              "      <th></th>\n",
              "      <th>Hospital</th>\n",
              "      <th>Mes</th>\n",
              "      <th>Appointment</th>\n",
              "      <th>Messages</th>\n",
              "      <th>From_anon</th>\n",
              "      <th>To_anon</th>\n",
              "      <th>Direction</th>\n",
              "      <th>Body</th>\n",
              "      <th>SentDate</th>\n",
              "    </tr>\n",
              "    <tr>\n",
              "      <th>Hospital</th>\n",
              "      <th>Mes</th>\n",
              "      <th>From_anon</th>\n",
              "      <th>To_anon</th>\n",
              "      <th></th>\n",
              "      <th></th>\n",
              "      <th></th>\n",
              "      <th></th>\n",
              "      <th></th>\n",
              "      <th></th>\n",
              "      <th></th>\n",
              "      <th></th>\n",
              "      <th></th>\n",
              "    </tr>\n",
              "  </thead>\n",
              "  <tbody>\n",
              "    <tr>\n",
              "      <th rowspan=\"5\" valign=\"top\">Carra</th>\n",
              "      <th rowspan=\"5\" valign=\"top\">1</th>\n",
              "      <th>2087</th>\n",
              "      <th>2121</th>\n",
              "      <td>1</td>\n",
              "      <td>1</td>\n",
              "      <td>1</td>\n",
              "      <td>1</td>\n",
              "      <td>1</td>\n",
              "      <td>1</td>\n",
              "      <td>1</td>\n",
              "      <td>1</td>\n",
              "      <td>1</td>\n",
              "    </tr>\n",
              "    <tr>\n",
              "      <th>2115</th>\n",
              "      <th>2121</th>\n",
              "      <td>15</td>\n",
              "      <td>15</td>\n",
              "      <td>15</td>\n",
              "      <td>15</td>\n",
              "      <td>15</td>\n",
              "      <td>15</td>\n",
              "      <td>15</td>\n",
              "      <td>15</td>\n",
              "      <td>15</td>\n",
              "    </tr>\n",
              "    <tr>\n",
              "      <th>2127</th>\n",
              "      <th>2121</th>\n",
              "      <td>11</td>\n",
              "      <td>11</td>\n",
              "      <td>11</td>\n",
              "      <td>11</td>\n",
              "      <td>11</td>\n",
              "      <td>11</td>\n",
              "      <td>11</td>\n",
              "      <td>11</td>\n",
              "      <td>11</td>\n",
              "    </tr>\n",
              "    <tr>\n",
              "      <th>2128</th>\n",
              "      <th>2121</th>\n",
              "      <td>7</td>\n",
              "      <td>7</td>\n",
              "      <td>7</td>\n",
              "      <td>7</td>\n",
              "      <td>7</td>\n",
              "      <td>7</td>\n",
              "      <td>7</td>\n",
              "      <td>7</td>\n",
              "      <td>7</td>\n",
              "    </tr>\n",
              "    <tr>\n",
              "      <th>2156</th>\n",
              "      <th>2121</th>\n",
              "      <td>3</td>\n",
              "      <td>3</td>\n",
              "      <td>3</td>\n",
              "      <td>3</td>\n",
              "      <td>3</td>\n",
              "      <td>3</td>\n",
              "      <td>3</td>\n",
              "      <td>3</td>\n",
              "      <td>3</td>\n",
              "    </tr>\n",
              "    <tr>\n",
              "      <th>...</th>\n",
              "      <th>...</th>\n",
              "      <th>...</th>\n",
              "      <th>...</th>\n",
              "      <td>...</td>\n",
              "      <td>...</td>\n",
              "      <td>...</td>\n",
              "      <td>...</td>\n",
              "      <td>...</td>\n",
              "      <td>...</td>\n",
              "      <td>...</td>\n",
              "      <td>...</td>\n",
              "      <td>...</td>\n",
              "    </tr>\n",
              "    <tr>\n",
              "      <th rowspan=\"5\" valign=\"top\">Santa Fe</th>\n",
              "      <th>2</th>\n",
              "      <th>3293</th>\n",
              "      <th>3174</th>\n",
              "      <td>11</td>\n",
              "      <td>11</td>\n",
              "      <td>11</td>\n",
              "      <td>11</td>\n",
              "      <td>11</td>\n",
              "      <td>11</td>\n",
              "      <td>11</td>\n",
              "      <td>11</td>\n",
              "      <td>11</td>\n",
              "    </tr>\n",
              "    <tr>\n",
              "      <th rowspan=\"4\" valign=\"top\">3</th>\n",
              "      <th rowspan=\"2\" valign=\"top\">4788</th>\n",
              "      <th>4613</th>\n",
              "      <td>4</td>\n",
              "      <td>4</td>\n",
              "      <td>4</td>\n",
              "      <td>4</td>\n",
              "      <td>4</td>\n",
              "      <td>4</td>\n",
              "      <td>4</td>\n",
              "      <td>4</td>\n",
              "      <td>4</td>\n",
              "    </tr>\n",
              "    <tr>\n",
              "      <th>4624</th>\n",
              "      <td>2</td>\n",
              "      <td>2</td>\n",
              "      <td>2</td>\n",
              "      <td>2</td>\n",
              "      <td>2</td>\n",
              "      <td>2</td>\n",
              "      <td>2</td>\n",
              "      <td>2</td>\n",
              "      <td>2</td>\n",
              "    </tr>\n",
              "    <tr>\n",
              "      <th>4794</th>\n",
              "      <th>4607</th>\n",
              "      <td>2</td>\n",
              "      <td>2</td>\n",
              "      <td>2</td>\n",
              "      <td>2</td>\n",
              "      <td>2</td>\n",
              "      <td>2</td>\n",
              "      <td>2</td>\n",
              "      <td>2</td>\n",
              "      <td>2</td>\n",
              "    </tr>\n",
              "    <tr>\n",
              "      <th>4805</th>\n",
              "      <th>4607</th>\n",
              "      <td>2</td>\n",
              "      <td>2</td>\n",
              "      <td>2</td>\n",
              "      <td>2</td>\n",
              "      <td>2</td>\n",
              "      <td>2</td>\n",
              "      <td>2</td>\n",
              "      <td>2</td>\n",
              "      <td>2</td>\n",
              "    </tr>\n",
              "  </tbody>\n",
              "</table>\n",
              "<p>1593 rows × 9 columns</p>\n",
              "</div>\n",
              "      <button class=\"colab-df-convert\" onclick=\"convertToInteractive('df-65efb74e-036c-484e-b31e-f0104dac94ff')\"\n",
              "              title=\"Convert this dataframe to an interactive table.\"\n",
              "              style=\"display:none;\">\n",
              "        \n",
              "  <svg xmlns=\"http://www.w3.org/2000/svg\" height=\"24px\"viewBox=\"0 0 24 24\"\n",
              "       width=\"24px\">\n",
              "    <path d=\"M0 0h24v24H0V0z\" fill=\"none\"/>\n",
              "    <path d=\"M18.56 5.44l.94 2.06.94-2.06 2.06-.94-2.06-.94-.94-2.06-.94 2.06-2.06.94zm-11 1L8.5 8.5l.94-2.06 2.06-.94-2.06-.94L8.5 2.5l-.94 2.06-2.06.94zm10 10l.94 2.06.94-2.06 2.06-.94-2.06-.94-.94-2.06-.94 2.06-2.06.94z\"/><path d=\"M17.41 7.96l-1.37-1.37c-.4-.4-.92-.59-1.43-.59-.52 0-1.04.2-1.43.59L10.3 9.45l-7.72 7.72c-.78.78-.78 2.05 0 2.83L4 21.41c.39.39.9.59 1.41.59.51 0 1.02-.2 1.41-.59l7.78-7.78 2.81-2.81c.8-.78.8-2.07 0-2.86zM5.41 20L4 18.59l7.72-7.72 1.47 1.35L5.41 20z\"/>\n",
              "  </svg>\n",
              "      </button>\n",
              "      \n",
              "  <style>\n",
              "    .colab-df-container {\n",
              "      display:flex;\n",
              "      flex-wrap:wrap;\n",
              "      gap: 12px;\n",
              "    }\n",
              "\n",
              "    .colab-df-convert {\n",
              "      background-color: #E8F0FE;\n",
              "      border: none;\n",
              "      border-radius: 50%;\n",
              "      cursor: pointer;\n",
              "      display: none;\n",
              "      fill: #1967D2;\n",
              "      height: 32px;\n",
              "      padding: 0 0 0 0;\n",
              "      width: 32px;\n",
              "    }\n",
              "\n",
              "    .colab-df-convert:hover {\n",
              "      background-color: #E2EBFA;\n",
              "      box-shadow: 0px 1px 2px rgba(60, 64, 67, 0.3), 0px 1px 3px 1px rgba(60, 64, 67, 0.15);\n",
              "      fill: #174EA6;\n",
              "    }\n",
              "\n",
              "    [theme=dark] .colab-df-convert {\n",
              "      background-color: #3B4455;\n",
              "      fill: #D2E3FC;\n",
              "    }\n",
              "\n",
              "    [theme=dark] .colab-df-convert:hover {\n",
              "      background-color: #434B5C;\n",
              "      box-shadow: 0px 1px 3px 1px rgba(0, 0, 0, 0.15);\n",
              "      filter: drop-shadow(0px 1px 2px rgba(0, 0, 0, 0.3));\n",
              "      fill: #FFFFFF;\n",
              "    }\n",
              "  </style>\n",
              "\n",
              "      <script>\n",
              "        const buttonEl =\n",
              "          document.querySelector('#df-65efb74e-036c-484e-b31e-f0104dac94ff button.colab-df-convert');\n",
              "        buttonEl.style.display =\n",
              "          google.colab.kernel.accessAllowed ? 'block' : 'none';\n",
              "\n",
              "        async function convertToInteractive(key) {\n",
              "          const element = document.querySelector('#df-65efb74e-036c-484e-b31e-f0104dac94ff');\n",
              "          const dataTable =\n",
              "            await google.colab.kernel.invokeFunction('convertToInteractive',\n",
              "                                                     [key], {});\n",
              "          if (!dataTable) return;\n",
              "\n",
              "          const docLinkHtml = 'Like what you see? Visit the ' +\n",
              "            '<a target=\"_blank\" href=https://colab.research.google.com/notebooks/data_table.ipynb>data table notebook</a>'\n",
              "            + ' to learn more about interactive tables.';\n",
              "          element.innerHTML = '';\n",
              "          dataTable['output_type'] = 'display_data';\n",
              "          await google.colab.output.renderOutput(dataTable, element);\n",
              "          const docLink = document.createElement('div');\n",
              "          docLink.innerHTML = docLinkHtml;\n",
              "          element.appendChild(docLink);\n",
              "        }\n",
              "      </script>\n",
              "    </div>\n",
              "  </div>\n",
              "  "
            ]
          },
          "metadata": {},
          "execution_count": 180
        }
      ]
    },
    {
      "cell_type": "code",
      "source": [
        "ends_with_turno = group.filter(lambda data: data.Appointment.sum() > 0)\n"
      ],
      "metadata": {
        "id": "x_d15sCSFGHb"
      },
      "id": "x_d15sCSFGHb",
      "execution_count": 181,
      "outputs": []
    },
    {
      "cell_type": "markdown",
      "source": [
        "¿Cómo se ven las respuestas del bot, cuando una interacción tiene un turno asignado?"
      ],
      "metadata": {
        "id": "Lms3j2UnLGfP"
      },
      "id": "Lms3j2UnLGfP"
    },
    {
      "cell_type": "code",
      "source": [
        "e = ends_with_turno\n",
        "ends_with_turno [(e.From_anon == 3464) & (e.To_anon == 3633)].sort_values(by='SentDate', ascending= True)\n"
      ],
      "metadata": {
        "id": "Yl4UpG8XIF5I"
      },
      "id": "Yl4UpG8XIF5I",
      "execution_count": null,
      "outputs": []
    },
    {
      "cell_type": "code",
      "source": [
        "g2 = ends_with_turno.groupby(['Hospital', 'Mes'])[['Messages']]\n",
        "g2.count()\n"
      ],
      "metadata": {
        "colab": {
          "base_uri": "https://localhost:8080/"
        },
        "id": "D8vXnLDcLUPf",
        "outputId": "11239f25-23b6-4eb0-8941-0527aed54141"
      },
      "id": "D8vXnLDcLUPf",
      "execution_count": 213,
      "outputs": [
        {
          "output_type": "execute_result",
          "data": {
            "text/plain": [
              "10"
            ]
          },
          "metadata": {},
          "execution_count": 213
        }
      ]
    },
    {
      "cell_type": "code",
      "source": [
        "g2.apply(lambda d: d.Messages.sum()/d.Messages.count())"
      ],
      "metadata": {
        "colab": {
          "base_uri": "https://localhost:8080/"
        },
        "id": "Djz3KnFSNEHW",
        "outputId": "313c1103-75a7-497f-9198-4c1e8f4837fa"
      },
      "id": "Djz3KnFSNEHW",
      "execution_count": 197,
      "outputs": [
        {
          "output_type": "execute_result",
          "data": {
            "text/plain": [
              "Hospital            Mes  From_anon  To_anon\n",
              "Carra               1    2249       2005       1.0\n",
              "                                    2006       1.0\n",
              "                                    2700       1.0\n",
              "                                    2718       1.0\n",
              "                                    2756       1.0\n",
              "                                              ... \n",
              "Salud Consultorios  3    5048       5504       1.0\n",
              "                                    5527       1.0\n",
              "                                    5585       1.0\n",
              "                                    5695       1.0\n",
              "                                    7114       1.0\n",
              "Length: 225, dtype: float64"
            ]
          },
          "metadata": {},
          "execution_count": 197
        }
      ]
    },
    {
      "cell_type": "code",
      "source": [
        "# Sabemos que el numero de mensajes \n",
        "group.apply(lambda g : g.Appointment.sum() / g.Messages.count())"
      ],
      "metadata": {
        "colab": {
          "base_uri": "https://localhost:8080/"
        },
        "id": "xXNdeow48k4n",
        "outputId": "6fd4709b-1012-4fca-f0d1-14d719f00ade"
      },
      "id": "xXNdeow48k4n",
      "execution_count": 84,
      "outputs": [
        {
          "output_type": "execute_result",
          "data": {
            "text/plain": [
              "Hospital            Mes\n",
              "Carra               1      0.016733\n",
              "                    2      0.017873\n",
              "                    3      0.016010\n",
              "CityBell            1      0.000000\n",
              "                    2      0.013375\n",
              "                    3      0.009914\n",
              "Desarrollo          2      0.000000\n",
              "Los Cedros          1      0.000000\n",
              "                    2      0.010191\n",
              "                    3      0.003356\n",
              "Salud Consultorios  1      0.011050\n",
              "                    2      0.011236\n",
              "                    3      0.009362\n",
              "Santa Fe            2      0.000000\n",
              "                    3      0.000000\n",
              "dtype: float64"
            ]
          },
          "metadata": {},
          "execution_count": 84
        }
      ]
    },
    {
      "cell_type": "code",
      "source": [
        "# Consideramos unicamente los mensajes de los pacientes\n",
        "inbound = df [(df.Direction != 'inbound')]\n",
        "\n",
        "def got_appointment(data, hospital):\n",
        "  print(f\"{hospital}: {len(data[data.Appointment == 1])} turnos\")\n",
        "\n",
        "\n",
        "for h in inbound.Hospital.unique():\n",
        "  hh = inbound [inbound.Hospital == h]\n",
        "  got_appointment(hh, h)\n",
        "\n",
        "\n"
      ],
      "metadata": {
        "colab": {
          "base_uri": "https://localhost:8080/"
        },
        "id": "7zG8D6491D3h",
        "outputId": "f81fa2dc-488e-4aa0-c0b6-83c9f9d34f42"
      },
      "id": "7zG8D6491D3h",
      "execution_count": 37,
      "outputs": [
        {
          "output_type": "stream",
          "name": "stdout",
          "text": [
            "Carra: 99 turnos\n",
            "Los Cedros: 11 turnos\n",
            "Salud Consultorios: 35 turnos\n",
            "CityBell: 116 turnos\n",
            "Desarrollo: 0 turnos\n",
            "Santa Fe: 0 turnos\n"
          ]
        }
      ]
    },
    {
      "cell_type": "code",
      "source": [
        "df.groupby(['From_anon', 'To_anon'])[['Hospital', 'Direction', 'From_anon', 'To_anon']].head()"
      ],
      "metadata": {
        "colab": {
          "base_uri": "https://localhost:8080/",
          "height": 424
        },
        "id": "hkssZJ5Iqf_s",
        "outputId": "157f114f-e6ca-4da4-a5e1-3aac4d3fdec6"
      },
      "id": "hkssZJ5Iqf_s",
      "execution_count": 107,
      "outputs": [
        {
          "output_type": "execute_result",
          "data": {
            "text/plain": [
              "       Hospital     Direction  From_anon  To_anon\n",
              "0         Carra  outbound-api       2249     3146\n",
              "1         Carra  outbound-api       2249     3146\n",
              "2         Carra       inbound       3356     2121\n",
              "3         Carra  outbound-api       2249     3146\n",
              "4         Carra       inbound       3356     2121\n",
              "...         ...           ...        ...      ...\n",
              "20992  CityBell  outbound-api       2624      841\n",
              "20993  CityBell       inbound        879     2519\n",
              "20997  CityBell       inbound        879     2519\n",
              "20998  CityBell  outbound-api       2624     3108\n",
              "20999  CityBell       inbound       3231     2519\n",
              "\n",
              "[7121 rows x 4 columns]"
            ],
            "text/html": [
              "\n",
              "  <div id=\"df-5e669e27-3a51-4185-8151-892fab6dddcf\">\n",
              "    <div class=\"colab-df-container\">\n",
              "      <div>\n",
              "<style scoped>\n",
              "    .dataframe tbody tr th:only-of-type {\n",
              "        vertical-align: middle;\n",
              "    }\n",
              "\n",
              "    .dataframe tbody tr th {\n",
              "        vertical-align: top;\n",
              "    }\n",
              "\n",
              "    .dataframe thead th {\n",
              "        text-align: right;\n",
              "    }\n",
              "</style>\n",
              "<table border=\"1\" class=\"dataframe\">\n",
              "  <thead>\n",
              "    <tr style=\"text-align: right;\">\n",
              "      <th></th>\n",
              "      <th>Hospital</th>\n",
              "      <th>Direction</th>\n",
              "      <th>From_anon</th>\n",
              "      <th>To_anon</th>\n",
              "    </tr>\n",
              "  </thead>\n",
              "  <tbody>\n",
              "    <tr>\n",
              "      <th>0</th>\n",
              "      <td>Carra</td>\n",
              "      <td>outbound-api</td>\n",
              "      <td>2249</td>\n",
              "      <td>3146</td>\n",
              "    </tr>\n",
              "    <tr>\n",
              "      <th>1</th>\n",
              "      <td>Carra</td>\n",
              "      <td>outbound-api</td>\n",
              "      <td>2249</td>\n",
              "      <td>3146</td>\n",
              "    </tr>\n",
              "    <tr>\n",
              "      <th>2</th>\n",
              "      <td>Carra</td>\n",
              "      <td>inbound</td>\n",
              "      <td>3356</td>\n",
              "      <td>2121</td>\n",
              "    </tr>\n",
              "    <tr>\n",
              "      <th>3</th>\n",
              "      <td>Carra</td>\n",
              "      <td>outbound-api</td>\n",
              "      <td>2249</td>\n",
              "      <td>3146</td>\n",
              "    </tr>\n",
              "    <tr>\n",
              "      <th>4</th>\n",
              "      <td>Carra</td>\n",
              "      <td>inbound</td>\n",
              "      <td>3356</td>\n",
              "      <td>2121</td>\n",
              "    </tr>\n",
              "    <tr>\n",
              "      <th>...</th>\n",
              "      <td>...</td>\n",
              "      <td>...</td>\n",
              "      <td>...</td>\n",
              "      <td>...</td>\n",
              "    </tr>\n",
              "    <tr>\n",
              "      <th>20992</th>\n",
              "      <td>CityBell</td>\n",
              "      <td>outbound-api</td>\n",
              "      <td>2624</td>\n",
              "      <td>841</td>\n",
              "    </tr>\n",
              "    <tr>\n",
              "      <th>20993</th>\n",
              "      <td>CityBell</td>\n",
              "      <td>inbound</td>\n",
              "      <td>879</td>\n",
              "      <td>2519</td>\n",
              "    </tr>\n",
              "    <tr>\n",
              "      <th>20997</th>\n",
              "      <td>CityBell</td>\n",
              "      <td>inbound</td>\n",
              "      <td>879</td>\n",
              "      <td>2519</td>\n",
              "    </tr>\n",
              "    <tr>\n",
              "      <th>20998</th>\n",
              "      <td>CityBell</td>\n",
              "      <td>outbound-api</td>\n",
              "      <td>2624</td>\n",
              "      <td>3108</td>\n",
              "    </tr>\n",
              "    <tr>\n",
              "      <th>20999</th>\n",
              "      <td>CityBell</td>\n",
              "      <td>inbound</td>\n",
              "      <td>3231</td>\n",
              "      <td>2519</td>\n",
              "    </tr>\n",
              "  </tbody>\n",
              "</table>\n",
              "<p>7121 rows × 4 columns</p>\n",
              "</div>\n",
              "      <button class=\"colab-df-convert\" onclick=\"convertToInteractive('df-5e669e27-3a51-4185-8151-892fab6dddcf')\"\n",
              "              title=\"Convert this dataframe to an interactive table.\"\n",
              "              style=\"display:none;\">\n",
              "        \n",
              "  <svg xmlns=\"http://www.w3.org/2000/svg\" height=\"24px\"viewBox=\"0 0 24 24\"\n",
              "       width=\"24px\">\n",
              "    <path d=\"M0 0h24v24H0V0z\" fill=\"none\"/>\n",
              "    <path d=\"M18.56 5.44l.94 2.06.94-2.06 2.06-.94-2.06-.94-.94-2.06-.94 2.06-2.06.94zm-11 1L8.5 8.5l.94-2.06 2.06-.94-2.06-.94L8.5 2.5l-.94 2.06-2.06.94zm10 10l.94 2.06.94-2.06 2.06-.94-2.06-.94-.94-2.06-.94 2.06-2.06.94z\"/><path d=\"M17.41 7.96l-1.37-1.37c-.4-.4-.92-.59-1.43-.59-.52 0-1.04.2-1.43.59L10.3 9.45l-7.72 7.72c-.78.78-.78 2.05 0 2.83L4 21.41c.39.39.9.59 1.41.59.51 0 1.02-.2 1.41-.59l7.78-7.78 2.81-2.81c.8-.78.8-2.07 0-2.86zM5.41 20L4 18.59l7.72-7.72 1.47 1.35L5.41 20z\"/>\n",
              "  </svg>\n",
              "      </button>\n",
              "      \n",
              "  <style>\n",
              "    .colab-df-container {\n",
              "      display:flex;\n",
              "      flex-wrap:wrap;\n",
              "      gap: 12px;\n",
              "    }\n",
              "\n",
              "    .colab-df-convert {\n",
              "      background-color: #E8F0FE;\n",
              "      border: none;\n",
              "      border-radius: 50%;\n",
              "      cursor: pointer;\n",
              "      display: none;\n",
              "      fill: #1967D2;\n",
              "      height: 32px;\n",
              "      padding: 0 0 0 0;\n",
              "      width: 32px;\n",
              "    }\n",
              "\n",
              "    .colab-df-convert:hover {\n",
              "      background-color: #E2EBFA;\n",
              "      box-shadow: 0px 1px 2px rgba(60, 64, 67, 0.3), 0px 1px 3px 1px rgba(60, 64, 67, 0.15);\n",
              "      fill: #174EA6;\n",
              "    }\n",
              "\n",
              "    [theme=dark] .colab-df-convert {\n",
              "      background-color: #3B4455;\n",
              "      fill: #D2E3FC;\n",
              "    }\n",
              "\n",
              "    [theme=dark] .colab-df-convert:hover {\n",
              "      background-color: #434B5C;\n",
              "      box-shadow: 0px 1px 3px 1px rgba(0, 0, 0, 0.15);\n",
              "      filter: drop-shadow(0px 1px 2px rgba(0, 0, 0, 0.3));\n",
              "      fill: #FFFFFF;\n",
              "    }\n",
              "  </style>\n",
              "\n",
              "      <script>\n",
              "        const buttonEl =\n",
              "          document.querySelector('#df-5e669e27-3a51-4185-8151-892fab6dddcf button.colab-df-convert');\n",
              "        buttonEl.style.display =\n",
              "          google.colab.kernel.accessAllowed ? 'block' : 'none';\n",
              "\n",
              "        async function convertToInteractive(key) {\n",
              "          const element = document.querySelector('#df-5e669e27-3a51-4185-8151-892fab6dddcf');\n",
              "          const dataTable =\n",
              "            await google.colab.kernel.invokeFunction('convertToInteractive',\n",
              "                                                     [key], {});\n",
              "          if (!dataTable) return;\n",
              "\n",
              "          const docLinkHtml = 'Like what you see? Visit the ' +\n",
              "            '<a target=\"_blank\" href=https://colab.research.google.com/notebooks/data_table.ipynb>data table notebook</a>'\n",
              "            + ' to learn more about interactive tables.';\n",
              "          element.innerHTML = '';\n",
              "          dataTable['output_type'] = 'display_data';\n",
              "          await google.colab.output.renderOutput(dataTable, element);\n",
              "          const docLink = document.createElement('div');\n",
              "          docLink.innerHTML = docLinkHtml;\n",
              "          element.appendChild(docLink);\n",
              "        }\n",
              "      </script>\n",
              "    </div>\n",
              "  </div>\n",
              "  "
            ]
          },
          "metadata": {},
          "execution_count": 107
        }
      ]
    },
    {
      "cell_type": "code",
      "source": [
        "# Agrupamos los mensajes por hospital y mes\n",
        "\n",
        "df_g = df.groupby(['Hospital', 'Mes'])\n",
        "\n",
        "\n",
        "df_g\n",
        "\n"
      ],
      "metadata": {
        "colab": {
          "base_uri": "https://localhost:8080/"
        },
        "id": "PTlpV_96nelL",
        "outputId": "41e9a1d6-4ca3-42ed-bddc-fda39bfaf304"
      },
      "id": "PTlpV_96nelL",
      "execution_count": 113,
      "outputs": [
        {
          "output_type": "execute_result",
          "data": {
            "text/plain": [
              "<pandas.core.groupby.generic.DataFrameGroupBy object at 0x7f74abd48590>"
            ]
          },
          "metadata": {},
          "execution_count": 113
        }
      ]
    },
    {
      "cell_type": "markdown",
      "id": "900b215c-54e3-419f-8145-410aee3d931c",
      "metadata": {
        "id": "900b215c-54e3-419f-8145-410aee3d931c"
      },
      "source": [
        "## Ejercicio 4: Investigación\n",
        "\n",
        "Planteénse como grupo al menos una pregunta de investigación concreta que crean que el dataset dado puede responder."
      ]
    }
  ],
  "metadata": {
    "kernelspec": {
      "display_name": "Python 3 (ipykernel)",
      "language": "python",
      "name": "python3"
    },
    "language_info": {
      "codemirror_mode": {
        "name": "ipython",
        "version": 3
      },
      "file_extension": ".py",
      "mimetype": "text/x-python",
      "name": "python",
      "nbconvert_exporter": "python",
      "pygments_lexer": "ipython3",
      "version": "3.8.10"
    },
    "colab": {
      "name": "practico_1_AyV.ipynb",
      "provenance": []
    }
  },
  "nbformat": 4,
  "nbformat_minor": 5
}