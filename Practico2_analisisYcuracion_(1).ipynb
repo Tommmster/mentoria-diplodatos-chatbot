{
  "cells": [
    {
      "cell_type": "markdown",
      "metadata": {
        "id": "view-in-github",
        "colab_type": "text"
      },
      "source": [
        "<a href=\"https://colab.research.google.com/github/Tommmster/mentoria-diplodatos-chatbot/blob/main/Practico2_analisisYcuracion_(1).ipynb\" target=\"_parent\"><img src=\"https://colab.research.google.com/assets/colab-badge.svg\" alt=\"Open In Colab\"/></a>"
      ]
    },
    {
      "cell_type": "markdown",
      "metadata": {
        "id": "Tdt8UYqQayIq"
      },
      "source": [
        "## Objetivo y alcance\n",
        "\n",
        "En esta segunda aproximación (que suele ir de la mano con el análisis exploratorio y visualización) se pretende empezar a transformar el dataset para los primeros experimentos de aprendedores en las siguientes materias. \n",
        "\n",
        "En este laboratorio el primer gran objetivo va a ser lograr un único dataset con columnas nuevas, que condense toda la información importante para el posterior entrenamiento y aprendizaje que permitirá conocer si algunas de las variables incluidas en el mismo tienen influencia sobre las fallas en el chatbot y la experiencia que los usuarios tienen con el mismo.\n",
        " \n",
        "Se deberá explorar la base de datos y detectar variables erroneas, o información repetida, para guardarlo en un archivo nuevo luego de haber obtenido el dataset deseado. \n",
        "\n",
        "[El dataset nuevo se puede encontrar acá](https://drive.google.com/drive/folders/1MfY_PqF4j-qBnT2hvazEvJ55B8vzMlfw?usp=sharing)\n"
      ]
    },
    {
      "cell_type": "markdown",
      "metadata": {
        "id": "qi4TXfsXayIw"
      },
      "source": [
        "## Lista de tareas \n",
        "\n",
        "0) El dataset ha cambiado de estructura y tamaño! Ahora hay +488698 registros, y ya no existe From_anon y To_anon. En vez de eso hay un conversation id (conv_id), con el cual se puede seguir una conversación teniendo en cuenta que tenemos el dato del SentDate. Familiarizarse con esta estructura corriendo nuevamente los análisis implementados en el práctico anterior de cantidad de mensajes por conversación!\n",
        "\n",
        "1) Verificar los tipos de datos detectados por pandas. Asegurar tipo de datos correctos para las variables que son continuas y aquellas que son categóricas. En el caso de no coincidir se deberán modificar la naturaleza de esas variables.\n",
        "\n",
        "2) Verificar y asegurar que no existan datos duplicados.\n",
        "\n",
        "3) Verificar que no existan caracteres \"raros\" para los datos de los features \"Body\". Tip: Pueden hacerlo importando la librería ftfy.badness\n",
        "\n",
        "4) A partir de la columna \"Body\" y las clases que encontraron en el práctico anterior, generar columnas que codifiquen esas categorías para su posterior uso en los próximos prácticos. Tienen que generar al menos cuatro columnas nuevas. Justifiquen la elección de esa generación respecto a posibles problemas para los cuales puedan ser útiles.\n",
        "\n",
        "5) Verificar espacios y normalizar los nombres de las features que crean convenientes para un mejor entendimiento de su significado. \n",
        "\n",
        "6) Supongamos que necesitamos compartir públicamente todo el dataset y que los features \"Body\" contienen potencialmente datos sensibles y confidenciales. Elijan y apliquen técnicas de análisis de texto para detectarlas y técnicas de despersonalización para solucionar este aspecto.\n",
        "\n",
        "7) Analizar y normalizar los datos faltantes (nulos), si existen.\n",
        "\n",
        "8) Outliers: existen valores atípicos en las columnas del dataset? Si las hay, aplicar una solución para normalizar solo esos Outliers. \n",
        "\n",
        "9) Guardar el dataset resultante con un nuevo nombre, para trabajarlo más adelante.\n",
        "\n",
        "# Se evaluarán los siguientes aspectos:\n",
        "  \n",
        "1- Que se apliquen los conceptos vistos con los profes en el teórico y en el práctico.\n",
        "\n",
        "2- Que el entregable no sea solo la notebook. El informe debe tener un mensaje claro y debe presentarse en un formato legible para cualquier tipo de stakeholder. Además, se deberá entregar el dataset trabajado.\n",
        "\n",
        "3- Capacidad de Análisis y justificación. Proactividad en la profundización de los análisis.\n",
        "\n",
        "4- Criterio para elegir que solución aplicar en cada caso y con qué método implementarla.\n",
        "\n",
        "5- Calidad y estilo de código.\n",
        "\n",
        "\n",
        "Deadline tentativo para la entrega 21/06/2022"
      ]
    },
    {
      "cell_type": "code",
      "execution_count": null,
      "metadata": {
        "id": "p0Ly6E8BwOK6"
      },
      "outputs": [],
      "source": [
        "#CONSULTAS\n",
        "\n",
        "1. Que puede ser definido como un outlier en este dataset, que columna podria presentar un outlier?\n",
        "2. "
      ]
    },
    {
      "cell_type": "code",
      "execution_count": 7,
      "metadata": {
        "id": "m_QVJHGMayIy"
      },
      "outputs": [],
      "source": [
        "import pandas as pd\n",
        "\n",
        "file_key_marzo = 'marzo_anon_test.csv'\n",
        "file_key_febrero = 'febrero_anon_test.csv'\n",
        "\n",
        "df_marzo = pd.read_csv(file_key_marzo)\n",
        "df_febrero = pd.read_csv(file_key_febrero)\n"
      ]
    },
    {
      "cell_type": "code",
      "execution_count": null,
      "metadata": {
        "id": "jzO--CWdwOK7"
      },
      "outputs": [],
      "source": [
        "#Se concatenar los dataframes.\n",
        "\n",
        "df_original = pd.concat([df_marzo,df_febrero])\n",
        "\n",
        "df = df_original.copy()\n",
        "\n",
        "#Remuevo la primera columna porque no es de utilidad.\n",
        "\n",
        "df_definitiva = df.drop(['Unnamed: 0'], axis=1)\n",
        "\n",
        "df_definitiva.head()"
      ]
    },
    {
      "cell_type": "code",
      "execution_count": null,
      "metadata": {
        "id": "gf0TGwF0ayI3",
        "scrolled": true
      },
      "outputs": [],
      "source": [
        "#Se tienen las siguientes columnas.\n",
        "\n",
        "df_definitiva.columns"
      ]
    },
    {
      "cell_type": "code",
      "execution_count": null,
      "metadata": {
        "id": "MBRxCnfDwOK_",
        "outputId": "b1788877-1667-429d-9681-3e1aad5c9b68"
      },
      "outputs": [
        {
          "data": {
            "text/plain": [
              "(488698, 40)"
            ]
          },
          "execution_count": 63,
          "metadata": {},
          "output_type": "execute_result"
        }
      ],
      "source": [
        "#Se tiene un dataframe con  488698 filas y 40 columnas.\n",
        "\n",
        "df_definitiva.shape"
      ]
    },
    {
      "cell_type": "code",
      "execution_count": null,
      "metadata": {
        "id": "qxDmOXo1wOK_"
      },
      "outputs": [],
      "source": [
        "#Tipos de variables.\n",
        "\n",
        "df_definitiva.dtypes"
      ]
    },
    {
      "cell_type": "code",
      "execution_count": null,
      "metadata": {
        "id": "pFIHk1rgwOLB"
      },
      "outputs": [],
      "source": [
        "#Se convierten las columnas SentDate y Fecha al tipo de datos datetime.\n",
        "\n",
        "\n",
        "df_definitiva['SentDate'] = pd.to_datetime(df_definitiva.SentDate)\n",
        "df_definitiva['Fecha'] = pd.to_datetime(df_definitiva.Fecha)\n",
        "df_definitiva[''] = pd.to_datetime(df_definitiva.Fecha)\n",
        "#a categorica."
      ]
    },
    {
      "cell_type": "code",
      "execution_count": null,
      "metadata": {
        "id": "3a9WEwVlwOLC"
      },
      "outputs": [],
      "source": [
        "df_definitiva.dtypes"
      ]
    },
    {
      "cell_type": "code",
      "execution_count": 57,
      "metadata": {
        "colab": {
          "base_uri": "https://localhost:8080/"
        },
        "id": "0RPDkbQdwOLC",
        "outputId": "4f5840e1-a678-45aa-9b6f-1571a08d9ff9"
      },
      "outputs": [
        {
          "output_type": "execute_result",
          "data": {
            "text/plain": [
              "Hospital                   0\n",
              "Tel_hospital               0\n",
              "Body                       0\n",
              "Status                     0\n",
              "SentDate                   0\n",
              "Fecha                      0\n",
              "Dia                        0\n",
              "Mes                        0\n",
              "Hora                       0\n",
              "Messages                   0\n",
              "Direction                  0\n",
              "Appointment_msp            0\n",
              "Appointment                0\n",
              "Cancellation_msp           0\n",
              "Cancelled                  0\n",
              "consult                    0\n",
              "Consult_Appoint            0\n",
              "fail_HH_sms                0\n",
              "Fail_HH                    0\n",
              "achieve_HH                 0\n",
              "Got_HH                     0\n",
              "Cupo                       0\n",
              "Full_turnos_obra_social    0\n",
              "No_Relation                0\n",
              "No_Correlation             0\n",
              "has_error                  0\n",
              "Error_Interno              0\n",
              "has_error_501              0\n",
              "Error_501                  0\n",
              "falla_api_externo          0\n",
              "Falla_Api_Externo          0\n",
              "alta_dni                   0\n",
              "not_DNI                    0\n",
              "issue_name                 0\n",
              "Issue_Name                 0\n",
              "ask_kunan                  0\n",
              "Ask_Kunan                  0\n",
              "many_fallbacks_goto_hh     0\n",
              "Many_Fallbacks_Goto_HH     0\n",
              "conv_id                    0\n",
              "dtype: int64"
            ]
          },
          "metadata": {},
          "execution_count": 57
        }
      ],
      "source": [
        "#Se encuentra la cantidad de valores faltantes.\n",
        "#Como se puede observar no hay ningun valor faltante.\n",
        "\n",
        "df_definitiva.isnull().sum()"
      ]
    },
    {
      "cell_type": "code",
      "execution_count": null,
      "metadata": {
        "id": "CN5yRVMPwOLE",
        "outputId": "e2ea4502-b1f2-48df-9a87-74133d613316"
      },
      "outputs": [
        {
          "data": {
            "text/plain": [
              "array([   0,    1,    2, ..., 7485, 7486, 7487], dtype=int64)"
            ]
          },
          "execution_count": 71,
          "metadata": {},
          "output_type": "execute_result"
        }
      ],
      "source": [
        "conv_id_array = df_definitiva.conv_id.unique()\n",
        "conv_id_array"
      ]
    },
    {
      "cell_type": "code",
      "execution_count": null,
      "metadata": {
        "id": "LEBaqoFZwOLF",
        "outputId": "b8931cca-fb04-4e8f-ce91-a8bdfcf9dcbb"
      },
      "outputs": [
        {
          "data": {
            "text/plain": [
              "7488"
            ]
          },
          "execution_count": 99,
          "metadata": {},
          "output_type": "execute_result"
        }
      ],
      "source": [
        "#Numero de valores unicos de conv_id, esto se traduce en cantidad de conversaciones presentes en el dataframe.\n",
        "\n",
        "df_definitiva['conv_id'].nunique()"
      ]
    },
    {
      "cell_type": "code",
      "execution_count": null,
      "metadata": {
        "id": "LA_6-B2owOLG"
      },
      "outputs": [],
      "source": [
        "df_definitiva[df_definitiva ==]"
      ]
    },
    {
      "cell_type": "code",
      "execution_count": null,
      "metadata": {
        "id": "0DWCxqvGwOLH"
      },
      "outputs": [],
      "source": [
        "df_definitiva.Body"
      ]
    },
    {
      "cell_type": "code",
      "execution_count": null,
      "metadata": {
        "id": "zrsl7HwqwOLI",
        "outputId": "b044d1ac-2b5a-4c6d-9221-74378d24318a"
      },
      "outputs": [
        {
          "data": {
            "text/plain": [
              "65"
            ]
          },
          "execution_count": 101,
          "metadata": {},
          "output_type": "execute_result"
        }
      ],
      "source": [
        "#Cantidad de mensajes promedio por conversacion\n",
        "\n",
        "Cant_Mensajes = 488698 / df_definitiva['conv_id'].nunique()\n",
        "round(Cant_Mensajes)"
      ]
    },
    {
      "cell_type": "code",
      "execution_count": null,
      "metadata": {
        "id": "Xq82RQf5ayI4"
      },
      "outputs": [],
      "source": [
        "df.sort_values(by='SentDate',ascending=True)\n"
      ]
    },
    {
      "cell_type": "code",
      "execution_count": null,
      "metadata": {
        "id": "4QwOYm_iayI5"
      },
      "outputs": [],
      "source": [
        "#df[['Tel_hospital','Tel_client']].value_counts(ascending=True).reset_index(name='conv_id')\n",
        "\n",
        "columns = ['Tel_hospital','Tel_client']\n",
        "df['counts'] = pd.Series(zip(*[df.Tel_hospital,df.Tel_client]))\n",
        "df['conv_id'] = df['counts']#.map(df['counts'].value_counts())\n",
        "\n",
        "\n",
        "#df_new2 = pd.DataFrame(df['count'].value_counts().reset_index())\n",
        "#df_new['Tel_hospital'], df_new['Tel_client'] = zip(*df_new['index'])\n",
        "#df_new = df_new.drop(columns='index')#[['Tel_hospital','Tel_client','count']]\n"
      ]
    },
    {
      "cell_type": "code",
      "execution_count": null,
      "metadata": {
        "id": "1WhzKclLayI7"
      },
      "outputs": [],
      "source": [
        "df_definitiva[\"conv_id\"] = df_definitiva.conv_id.map({x: i for i, x in enumerate(df.counts.unique())})"
      ]
    },
    {
      "cell_type": "code",
      "execution_count": null,
      "metadata": {
        "id": "QaGnQX6GayI8"
      },
      "outputs": [],
      "source": [
        "df[['Tel_hospital','Tel_client',\"conv_id\",\"Body\"]][0:60]"
      ]
    },
    {
      "cell_type": "code",
      "execution_count": null,
      "metadata": {
        "id": "PB99Uw5TayI9"
      },
      "outputs": [],
      "source": [
        "df_definitiva[df_definitiva[\"conv_id\"]==110].sort_values(by='SentDate',ascending=True)"
      ]
    },
    {
      "cell_type": "markdown",
      "source": [
        "## Verificar que no haya datos duplicados"
      ],
      "metadata": {
        "id": "LjWtypOMROEc"
      }
    },
    {
      "cell_type": "markdown",
      "source": [
        "¿Qué  implica que una columna esté duplicada?\n",
        "Podemos pensar una consulta duplicada de dos maneras:\n",
        "* El mismo evento ocurra dos veces: Por ejemplo, un determinado paciente consulte los turnos dos veces seguidas. Si bien es poco probable que un usuario genere dos eventos iguales (la columna `SentDate` tiene granularidad de segundos), la plataforma de mensajería podría enviar el mismo evento mas de una vez en el mismo segundo. Dado el conjunto de columnas del que disponemos, estos eventos no se podrian distinguir entre si.\n",
        "\n",
        "* La plataforma de turnos almacena o genera eventos multiples veces."
      ],
      "metadata": {
        "id": "tI7vXfKsVBBy"
      }
    },
    {
      "cell_type": "markdown",
      "source": [
        "¿Qué columnas sirven para identificar un evento como único ?\n",
        "Debemos establecer un subconjunto de columnas que nos permitan identificar duplicados. Para ello vamos a definir la lista `event_markers`"
      ],
      "metadata": {
        "id": "ITHKyyvwb7H_"
      }
    },
    {
      "cell_type": "code",
      "source": [
        "event_markers = set(['Hospital', 'Body', 'conv_id', 'Direction' ,'SentDate'])"
      ],
      "metadata": {
        "id": "fmIHwGq1cS9n"
      },
      "execution_count": 96,
      "outputs": []
    },
    {
      "cell_type": "code",
      "source": [
        "#https://pandas.pydata.org/docs/reference/api/pandas.DataFrame.duplicated.html\n",
        "\n",
        "duplicated_events = df_definitiva[df_definitiva.duplicated(subset = event_markers, keep = 'first') == True]\n",
        "\n",
        "len(duplicated_events)"
      ],
      "metadata": {
        "colab": {
          "base_uri": "https://localhost:8080/"
        },
        "id": "pNmBzgisV81y",
        "outputId": "064480d5-b640-4a83-a4d4-f02ca1d0b4d1"
      },
      "execution_count": 97,
      "outputs": [
        {
          "output_type": "execute_result",
          "data": {
            "text/plain": [
              "197178"
            ]
          },
          "metadata": {},
          "execution_count": 97
        }
      ]
    },
    {
      "cell_type": "markdown",
      "source": [
        "Se puede investigar el origen de los mensajes duplicados, por ejemplo \n",
        "* ¿A qué hospital pertenecen?\n",
        "* ¿Qué día o mes se duplicaron mensajes?\n",
        "* ¿Que dirección tienen los mensajes duplicados?"
      ],
      "metadata": {
        "id": "PEE6kyvXdMcw"
      }
    },
    {
      "cell_type": "code",
      "source": [
        "duplicated_events.groupby(['Hospital'])['Messages'].count()"
      ],
      "metadata": {
        "colab": {
          "base_uri": "https://localhost:8080/"
        },
        "id": "6pNHisWIciI4",
        "outputId": "f9e6ec4a-fbb6-4f55-a1fd-17d769c728af"
      },
      "execution_count": 98,
      "outputs": [
        {
          "output_type": "execute_result",
          "data": {
            "text/plain": [
              "Hospital\n",
              "Carra                 51331\n",
              "CityBell              94578\n",
              "Desarrollo               15\n",
              "Los Cedros            25236\n",
              "Salud Consultorios    25051\n",
              "Santa Fe                967\n",
              "Name: Messages, dtype: int64"
            ]
          },
          "metadata": {},
          "execution_count": 98
        }
      ]
    },
    {
      "cell_type": "code",
      "source": [
        "duplicated_events.groupby(['Mes', 'Dia'])['Messages'].count()"
      ],
      "metadata": {
        "colab": {
          "base_uri": "https://localhost:8080/"
        },
        "id": "BAbWioU1ZM3T",
        "outputId": "68ce368b-2142-4914-8271-384226dd3b39"
      },
      "execution_count": 99,
      "outputs": [
        {
          "output_type": "execute_result",
          "data": {
            "text/plain": [
              "Mes  Dia\n",
              "1    31       314\n",
              "2    1       1684\n",
              "     2       9571\n",
              "     3       8911\n",
              "     4       6462\n",
              "     5       1560\n",
              "     6        984\n",
              "     7      12082\n",
              "     8      11714\n",
              "     9       9973\n",
              "     10      8053\n",
              "     11      6456\n",
              "     12      1187\n",
              "     13      1218\n",
              "     14     12815\n",
              "     15     12214\n",
              "     16     10658\n",
              "     17      9946\n",
              "     18      7772\n",
              "     19      1648\n",
              "     20      1126\n",
              "     21     17533\n",
              "     22     11659\n",
              "     23     11375\n",
              "     24     10120\n",
              "     25      6747\n",
              "     26      1668\n",
              "     27       671\n",
              "     28      1057\n",
              "Name: Messages, dtype: int64"
            ]
          },
          "metadata": {},
          "execution_count": 99
        }
      ]
    },
    {
      "cell_type": "code",
      "source": [
        "duplicated_events.groupby(['Direction'])['Messages'].count()"
      ],
      "metadata": {
        "colab": {
          "base_uri": "https://localhost:8080/"
        },
        "id": "lhjT1u4Je9um",
        "outputId": "43a362e1-ee9c-4015-a08a-73126cc429e2"
      },
      "execution_count": 72,
      "outputs": [
        {
          "output_type": "execute_result",
          "data": {
            "text/plain": [
              "Direction\n",
              "inbound          81113\n",
              "outbound-api    116065\n",
              "Name: Messages, dtype: int64"
            ]
          },
          "metadata": {},
          "execution_count": 72
        }
      ]
    },
    {
      "cell_type": "markdown",
      "source": [
        "Finalmente, podemos obtener un conjunto de datos sin duplicados"
      ],
      "metadata": {
        "id": "ZGFxgz-HenhN"
      }
    },
    {
      "cell_type": "code",
      "source": [
        "df_unique = df_definitiva.drop_duplicates(subset = event_markers, keep='first')\n",
        "df_unique"
      ],
      "metadata": {
        "id": "1zJsfAHHaaDR"
      },
      "execution_count": null,
      "outputs": []
    },
    {
      "cell_type": "markdown",
      "source": [
        "## Caracteres 'raros'\n",
        "Usamos el módulo `ftfy` para procesar el campo `Body`, generando una columna nueva (`fixed_body`) que contenga el texto procesado."
      ],
      "metadata": {
        "id": "EX4b3P3OiHCs"
      }
    },
    {
      "cell_type": "code",
      "source": [
        "!pip install ftfy\n",
        "import ftfy"
      ],
      "metadata": {
        "colab": {
          "base_uri": "https://localhost:8080/"
        },
        "id": "y9aOI_spjpMt",
        "outputId": "9b3a21c9-4a76-4c79-f086-89605ce54cb9"
      },
      "execution_count": 101,
      "outputs": [
        {
          "output_type": "stream",
          "name": "stdout",
          "text": [
            "Looking in indexes: https://pypi.org/simple, https://us-python.pkg.dev/colab-wheels/public/simple/\n",
            "Requirement already satisfied: ftfy in /usr/local/lib/python3.7/dist-packages (6.1.1)\n",
            "Requirement already satisfied: wcwidth>=0.2.5 in /usr/local/lib/python3.7/dist-packages (from ftfy) (0.2.5)\n"
          ]
        }
      ]
    },
    {
      "cell_type": "markdown",
      "source": [
        "\n",
        "Usamos la función `fit_text` sin ningún tipo de configuración, solo para si efectivamente existen caracteres raros (que a su vez parece ser una definición laxa)"
      ],
      "metadata": {
        "id": "ADQpn5TMpdlM"
      }
    },
    {
      "cell_type": "code",
      "source": [
        "text_fixer_config = ftfy.TextFixerConfig(uncurl_quotes=True, fix_character_width=True, fix_line_breaks=True)\n",
        "\n",
        "df_unique['fixed_body'] = df_unique.Body.apply(lambda s: ftfy.fix_text(s, text_fixer_config))\n",
        "df_unique.sample(3)\n"
      ],
      "metadata": {
        "colab": {
          "base_uri": "https://localhost:8080/",
          "height": 660
        },
        "id": "R2P4lwskkKNm",
        "outputId": "b64f2e03-c01f-473a-a587-19a6c2134cf5"
      },
      "execution_count": 111,
      "outputs": [
        {
          "output_type": "stream",
          "name": "stderr",
          "text": [
            "/usr/local/lib/python3.7/dist-packages/ipykernel_launcher.py:3: SettingWithCopyWarning: \n",
            "A value is trying to be set on a copy of a slice from a DataFrame.\n",
            "Try using .loc[row_indexer,col_indexer] = value instead\n",
            "\n",
            "See the caveats in the documentation: https://pandas.pydata.org/pandas-docs/stable/user_guide/indexing.html#returning-a-view-versus-a-copy\n",
            "  This is separate from the ipykernel package so we can avoid doing imports until\n"
          ]
        },
        {
          "output_type": "execute_result",
          "data": {
            "text/plain": [
              "                  Hospital             Tel_hospital  \\\n",
              "123373               Carra  whatsapp:+5493515266217   \n",
              "60641   Salud Consultorios  whatsapp:+5493515266230   \n",
              "109503            CityBell  whatsapp:+5492215137770   \n",
              "\n",
              "                                                     Body Status  \\\n",
              "123373  *Escribe el número de la opción* que quieres e...   read   \n",
              "60641   Hola, soy el asistente virtual de Salud Consul...   read   \n",
              "109503  ¡Muchas gracias! Tus datos son: \\n  Sede: Call...   read   \n",
              "\n",
              "                         SentDate       Fecha  Dia  Mes  Hora  Messages  ...  \\\n",
              "123373  2022-02-17 09:36:46+00:00  2022-02-17   17    2     9         1  ...   \n",
              "60641   2022-02-09 14:48:45+00:00  2022-02-09    9    2    14         1  ...   \n",
              "109503  2022-02-15 12:12:26+00:00  2022-02-15   15    2    12         1  ...   \n",
              "\n",
              "       alta_dni not_DNI  issue_name Issue_Name  ask_kunan Ask_Kunan  \\\n",
              "123373       []       0          []          0         []         0   \n",
              "60641        []       0          []          0         []         0   \n",
              "109503       []       0          []          0         []         0   \n",
              "\n",
              "        many_fallbacks_goto_hh Many_Fallbacks_Goto_HH  conv_id  \\\n",
              "123373                      []                      0     3521   \n",
              "60641                       []                      0     1924   \n",
              "109503                      []                      0     3184   \n",
              "\n",
              "                                               fixed_body  \n",
              "123373  *Escribe el número de la opción* que quieres e...  \n",
              "60641   Hola, soy el asistente virtual de Salud Consul...  \n",
              "109503  ¡Muchas gracias! Tus datos son: \\n  Sede: Call...  \n",
              "\n",
              "[3 rows x 41 columns]"
            ],
            "text/html": [
              "\n",
              "  <div id=\"df-034b9824-1ef4-48ef-a2fd-072198bd9229\">\n",
              "    <div class=\"colab-df-container\">\n",
              "      <div>\n",
              "<style scoped>\n",
              "    .dataframe tbody tr th:only-of-type {\n",
              "        vertical-align: middle;\n",
              "    }\n",
              "\n",
              "    .dataframe tbody tr th {\n",
              "        vertical-align: top;\n",
              "    }\n",
              "\n",
              "    .dataframe thead th {\n",
              "        text-align: right;\n",
              "    }\n",
              "</style>\n",
              "<table border=\"1\" class=\"dataframe\">\n",
              "  <thead>\n",
              "    <tr style=\"text-align: right;\">\n",
              "      <th></th>\n",
              "      <th>Hospital</th>\n",
              "      <th>Tel_hospital</th>\n",
              "      <th>Body</th>\n",
              "      <th>Status</th>\n",
              "      <th>SentDate</th>\n",
              "      <th>Fecha</th>\n",
              "      <th>Dia</th>\n",
              "      <th>Mes</th>\n",
              "      <th>Hora</th>\n",
              "      <th>Messages</th>\n",
              "      <th>...</th>\n",
              "      <th>alta_dni</th>\n",
              "      <th>not_DNI</th>\n",
              "      <th>issue_name</th>\n",
              "      <th>Issue_Name</th>\n",
              "      <th>ask_kunan</th>\n",
              "      <th>Ask_Kunan</th>\n",
              "      <th>many_fallbacks_goto_hh</th>\n",
              "      <th>Many_Fallbacks_Goto_HH</th>\n",
              "      <th>conv_id</th>\n",
              "      <th>fixed_body</th>\n",
              "    </tr>\n",
              "  </thead>\n",
              "  <tbody>\n",
              "    <tr>\n",
              "      <th>123373</th>\n",
              "      <td>Carra</td>\n",
              "      <td>whatsapp:+5493515266217</td>\n",
              "      <td>*Escribe el número de la opción* que quieres e...</td>\n",
              "      <td>read</td>\n",
              "      <td>2022-02-17 09:36:46+00:00</td>\n",
              "      <td>2022-02-17</td>\n",
              "      <td>17</td>\n",
              "      <td>2</td>\n",
              "      <td>9</td>\n",
              "      <td>1</td>\n",
              "      <td>...</td>\n",
              "      <td>[]</td>\n",
              "      <td>0</td>\n",
              "      <td>[]</td>\n",
              "      <td>0</td>\n",
              "      <td>[]</td>\n",
              "      <td>0</td>\n",
              "      <td>[]</td>\n",
              "      <td>0</td>\n",
              "      <td>3521</td>\n",
              "      <td>*Escribe el número de la opción* que quieres e...</td>\n",
              "    </tr>\n",
              "    <tr>\n",
              "      <th>60641</th>\n",
              "      <td>Salud Consultorios</td>\n",
              "      <td>whatsapp:+5493515266230</td>\n",
              "      <td>Hola, soy el asistente virtual de Salud Consul...</td>\n",
              "      <td>read</td>\n",
              "      <td>2022-02-09 14:48:45+00:00</td>\n",
              "      <td>2022-02-09</td>\n",
              "      <td>9</td>\n",
              "      <td>2</td>\n",
              "      <td>14</td>\n",
              "      <td>1</td>\n",
              "      <td>...</td>\n",
              "      <td>[]</td>\n",
              "      <td>0</td>\n",
              "      <td>[]</td>\n",
              "      <td>0</td>\n",
              "      <td>[]</td>\n",
              "      <td>0</td>\n",
              "      <td>[]</td>\n",
              "      <td>0</td>\n",
              "      <td>1924</td>\n",
              "      <td>Hola, soy el asistente virtual de Salud Consul...</td>\n",
              "    </tr>\n",
              "    <tr>\n",
              "      <th>109503</th>\n",
              "      <td>CityBell</td>\n",
              "      <td>whatsapp:+5492215137770</td>\n",
              "      <td>¡Muchas gracias! Tus datos son: \\n  Sede: Call...</td>\n",
              "      <td>read</td>\n",
              "      <td>2022-02-15 12:12:26+00:00</td>\n",
              "      <td>2022-02-15</td>\n",
              "      <td>15</td>\n",
              "      <td>2</td>\n",
              "      <td>12</td>\n",
              "      <td>1</td>\n",
              "      <td>...</td>\n",
              "      <td>[]</td>\n",
              "      <td>0</td>\n",
              "      <td>[]</td>\n",
              "      <td>0</td>\n",
              "      <td>[]</td>\n",
              "      <td>0</td>\n",
              "      <td>[]</td>\n",
              "      <td>0</td>\n",
              "      <td>3184</td>\n",
              "      <td>¡Muchas gracias! Tus datos son: \\n  Sede: Call...</td>\n",
              "    </tr>\n",
              "  </tbody>\n",
              "</table>\n",
              "<p>3 rows × 41 columns</p>\n",
              "</div>\n",
              "      <button class=\"colab-df-convert\" onclick=\"convertToInteractive('df-034b9824-1ef4-48ef-a2fd-072198bd9229')\"\n",
              "              title=\"Convert this dataframe to an interactive table.\"\n",
              "              style=\"display:none;\">\n",
              "        \n",
              "  <svg xmlns=\"http://www.w3.org/2000/svg\" height=\"24px\"viewBox=\"0 0 24 24\"\n",
              "       width=\"24px\">\n",
              "    <path d=\"M0 0h24v24H0V0z\" fill=\"none\"/>\n",
              "    <path d=\"M18.56 5.44l.94 2.06.94-2.06 2.06-.94-2.06-.94-.94-2.06-.94 2.06-2.06.94zm-11 1L8.5 8.5l.94-2.06 2.06-.94-2.06-.94L8.5 2.5l-.94 2.06-2.06.94zm10 10l.94 2.06.94-2.06 2.06-.94-2.06-.94-.94-2.06-.94 2.06-2.06.94z\"/><path d=\"M17.41 7.96l-1.37-1.37c-.4-.4-.92-.59-1.43-.59-.52 0-1.04.2-1.43.59L10.3 9.45l-7.72 7.72c-.78.78-.78 2.05 0 2.83L4 21.41c.39.39.9.59 1.41.59.51 0 1.02-.2 1.41-.59l7.78-7.78 2.81-2.81c.8-.78.8-2.07 0-2.86zM5.41 20L4 18.59l7.72-7.72 1.47 1.35L5.41 20z\"/>\n",
              "  </svg>\n",
              "      </button>\n",
              "      \n",
              "  <style>\n",
              "    .colab-df-container {\n",
              "      display:flex;\n",
              "      flex-wrap:wrap;\n",
              "      gap: 12px;\n",
              "    }\n",
              "\n",
              "    .colab-df-convert {\n",
              "      background-color: #E8F0FE;\n",
              "      border: none;\n",
              "      border-radius: 50%;\n",
              "      cursor: pointer;\n",
              "      display: none;\n",
              "      fill: #1967D2;\n",
              "      height: 32px;\n",
              "      padding: 0 0 0 0;\n",
              "      width: 32px;\n",
              "    }\n",
              "\n",
              "    .colab-df-convert:hover {\n",
              "      background-color: #E2EBFA;\n",
              "      box-shadow: 0px 1px 2px rgba(60, 64, 67, 0.3), 0px 1px 3px 1px rgba(60, 64, 67, 0.15);\n",
              "      fill: #174EA6;\n",
              "    }\n",
              "\n",
              "    [theme=dark] .colab-df-convert {\n",
              "      background-color: #3B4455;\n",
              "      fill: #D2E3FC;\n",
              "    }\n",
              "\n",
              "    [theme=dark] .colab-df-convert:hover {\n",
              "      background-color: #434B5C;\n",
              "      box-shadow: 0px 1px 3px 1px rgba(0, 0, 0, 0.15);\n",
              "      filter: drop-shadow(0px 1px 2px rgba(0, 0, 0, 0.3));\n",
              "      fill: #FFFFFF;\n",
              "    }\n",
              "  </style>\n",
              "\n",
              "      <script>\n",
              "        const buttonEl =\n",
              "          document.querySelector('#df-034b9824-1ef4-48ef-a2fd-072198bd9229 button.colab-df-convert');\n",
              "        buttonEl.style.display =\n",
              "          google.colab.kernel.accessAllowed ? 'block' : 'none';\n",
              "\n",
              "        async function convertToInteractive(key) {\n",
              "          const element = document.querySelector('#df-034b9824-1ef4-48ef-a2fd-072198bd9229');\n",
              "          const dataTable =\n",
              "            await google.colab.kernel.invokeFunction('convertToInteractive',\n",
              "                                                     [key], {});\n",
              "          if (!dataTable) return;\n",
              "\n",
              "          const docLinkHtml = 'Like what you see? Visit the ' +\n",
              "            '<a target=\"_blank\" href=https://colab.research.google.com/notebooks/data_table.ipynb>data table notebook</a>'\n",
              "            + ' to learn more about interactive tables.';\n",
              "          element.innerHTML = '';\n",
              "          dataTable['output_type'] = 'display_data';\n",
              "          await google.colab.output.renderOutput(dataTable, element);\n",
              "          const docLink = document.createElement('div');\n",
              "          docLink.innerHTML = docLinkHtml;\n",
              "          element.appendChild(docLink);\n",
              "        }\n",
              "      </script>\n",
              "    </div>\n",
              "  </div>\n",
              "  "
            ]
          },
          "metadata": {},
          "execution_count": 111
        }
      ]
    }
  ],
  "metadata": {
    "colab": {
      "name": "Practico2_analisisYcuracion (1).ipynb",
      "provenance": [],
      "toc_visible": true,
      "include_colab_link": true
    },
    "kernelspec": {
      "display_name": "Python 3 (ipykernel)",
      "language": "python",
      "name": "python3"
    },
    "language_info": {
      "codemirror_mode": {
        "name": "ipython",
        "version": 3
      },
      "file_extension": ".py",
      "mimetype": "text/x-python",
      "name": "python",
      "nbconvert_exporter": "python",
      "pygments_lexer": "ipython3",
      "version": "3.9.7"
    }
  },
  "nbformat": 4,
  "nbformat_minor": 0
}