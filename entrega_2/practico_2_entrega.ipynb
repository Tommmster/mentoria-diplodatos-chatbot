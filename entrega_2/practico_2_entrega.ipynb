{
 "cells": [
  {
   "cell_type": "markdown",
   "metadata": {
    "id": "Tdt8UYqQayIq"
   },
   "source": [
    "## Objetivo y alcance\n",
    "\n",
    "En esta segunda aproximación (que suele ir de la mano con el análisis exploratorio y visualización) se pretende empezar a transformar el dataset para los primeros experimentos de aprendedores en las siguientes materias. \n",
    "\n",
    "En este laboratorio el primer gran objetivo va a ser lograr un único dataset con columnas nuevas, que condense toda la información importante para el posterior entrenamiento y aprendizaje que permitirá conocer si algunas de las variables incluidas en el mismo tienen influencia sobre las fallas en el chatbot y la experiencia que los usuarios tienen con el mismo.\n",
    " \n",
    "Se deberá explorar la base de datos y detectar variables erroneas, o información repetida, para guardarlo en un archivo nuevo luego de haber obtenido el dataset deseado. \n",
    "\n",
    "[El dataset nuevo se puede encontrar acá](https://drive.google.com/drive/folders/1MfY_PqF4j-qBnT2hvazEvJ55B8vzMlfw?usp=sharing)\n"
   ]
  },
  {
   "cell_type": "markdown",
   "metadata": {
    "id": "qi4TXfsXayIw"
   },
   "source": [
    "## Lista de tareas \n",
    "\n",
    "0) El dataset ha cambiado de estructura y tamaño! Ahora hay +488698 registros, y ya no existe From_anon y To_anon. En vez de eso hay un conversation id (conv_id), con el cual se puede seguir una conversación teniendo en cuenta que tenemos el dato del SentDate. Familiarizarse con esta estructura corriendo nuevamente los análisis implementados en el práctico anterior de cantidad de mensajes por conversación!\n",
    "\n",
    "1) Verificar los tipos de datos detectados por pandas. Asegurar tipo de datos correctos para las variables que son continuas y aquellas que son categóricas. En el caso de no coincidir se deberán modificar la naturaleza de esas variables.\n",
    "\n",
    "2) Verificar y asegurar que no existan datos duplicados.\n",
    "\n",
    "3) Verificar que no existan caracteres \"raros\" para los datos de los features \"Body\". Tip: Pueden hacerlo importando la librería ftfy.badness\n",
    "\n",
    "4) A partir de la columna \"Body\" y las clases que encontraron en el práctico anterior, generar columnas que codifiquen esas categorías para su posterior uso en los próximos prácticos. Tienen que generar al menos cuatro columnas nuevas. Justifiquen la elección de esa generación respecto a posibles problemas para los cuales puedan ser útiles.\n",
    "\n",
    "5) Verificar espacios y normalizar los nombres de las features que crean convenientes para un mejor entendimiento de su significado. \n",
    "\n",
    "6) Supongamos que necesitamos compartir públicamente todo el dataset y que los features \"Body\" contienen potencialmente datos sensibles y confidenciales. Elijan y apliquen técnicas de análisis de texto para detectarlas y técnicas de despersonalización para solucionar este aspecto.\n",
    "\n",
    "7) Analizar y normalizar los datos faltantes (nulos), si existen.\n",
    "\n",
    "8) Outliers: existen valores atípicos en las columnas del dataset? Si las hay, aplicar una solución para normalizar solo esos Outliers. \n",
    "\n",
    "9) Guardar el dataset resultante con un nuevo nombre, para trabajarlo más adelante.\n",
    "\n",
    "# Se evaluarán los siguientes aspectos:\n",
    "  \n",
    "1- Que se apliquen los conceptos vistos con los profes en el teórico y en el práctico.\n",
    "\n",
    "2- Que el entregable no sea solo la notebook. El informe debe tener un mensaje claro y debe presentarse en un formato legible para cualquier tipo de stakeholder. Además, se deberá entregar el dataset trabajado.\n",
    "\n",
    "3- Capacidad de Análisis y justificación. Proactividad en la profundización de los análisis.\n",
    "\n",
    "4- Criterio para elegir que solución aplicar en cada caso y con qué método implementarla.\n",
    "\n",
    "5- Calidad y estilo de código.\n",
    "\n",
    "\n",
    "Deadline tentativo para la entrega 21/06/2022"
   ]
  },
  {
   "cell_type": "markdown",
   "metadata": {},
   "source": [
    "### 0) El dataset ha cambiado de estructura y tamaño! Ahora hay +488698 registros, y ya no existe From_anon y To_anon. En vez de eso hay un conversation id (conv_id), con el cual se puede seguir una conversación teniendo en cuenta que tenemos el dato del SentDate. Familiarizarse con esta estructura corriendo nuevamente los análisis implementados en el práctico anterior de cantidad de mensajes por conversación!"
   ]
  },
  {
   "cell_type": "code",
   "execution_count": 3,
   "metadata": {
    "colab": {
     "base_uri": "https://localhost:8080/",
     "height": 382
    },
    "id": "m_QVJHGMayIy",
    "outputId": "f0635a57-d416-4ce6-ec9a-37dc3fa45a07"
   },
   "outputs": [],
   "source": [
    "import pandas as pd\n",
    "import numpy as np\n",
    "import seaborn\n",
    "import matplotlib\n",
    "import matplotlib.pyplot as plt\n",
    "file_key_marzo = 'marzo_anon_test.csv'\n",
    "file_key_febrero = 'febrero_anon_test.csv'\n",
    "\n",
    "df_marzo = pd.read_csv(file_key_marzo)\n",
    "df_febrero = pd.read_csv(file_key_febrero)\n"
   ]
  },
  {
   "cell_type": "code",
   "execution_count": 4,
   "metadata": {
    "colab": {
     "base_uri": "https://localhost:8080/",
     "height": 525
    },
    "id": "jzO--CWdwOK7",
    "outputId": "9a14cb38-5a96-4213-e45e-a8040303207d"
   },
   "outputs": [
    {
     "data": {
      "text/html": [
       "<div>\n",
       "<style scoped>\n",
       "    .dataframe tbody tr th:only-of-type {\n",
       "        vertical-align: middle;\n",
       "    }\n",
       "\n",
       "    .dataframe tbody tr th {\n",
       "        vertical-align: top;\n",
       "    }\n",
       "\n",
       "    .dataframe thead th {\n",
       "        text-align: right;\n",
       "    }\n",
       "</style>\n",
       "<table border=\"1\" class=\"dataframe\">\n",
       "  <thead>\n",
       "    <tr style=\"text-align: right;\">\n",
       "      <th></th>\n",
       "      <th>Hospital</th>\n",
       "      <th>Tel_hospital</th>\n",
       "      <th>Body</th>\n",
       "      <th>Status</th>\n",
       "      <th>SentDate</th>\n",
       "      <th>Fecha</th>\n",
       "      <th>Dia</th>\n",
       "      <th>Mes</th>\n",
       "      <th>Hora</th>\n",
       "      <th>Messages</th>\n",
       "      <th>...</th>\n",
       "      <th>Falla_Api_Externo</th>\n",
       "      <th>alta_dni</th>\n",
       "      <th>not_DNI</th>\n",
       "      <th>issue_name</th>\n",
       "      <th>Issue_Name</th>\n",
       "      <th>ask_kunan</th>\n",
       "      <th>Ask_Kunan</th>\n",
       "      <th>many_fallbacks_goto_hh</th>\n",
       "      <th>Many_Fallbacks_Goto_HH</th>\n",
       "      <th>conv_id</th>\n",
       "    </tr>\n",
       "  </thead>\n",
       "  <tbody>\n",
       "    <tr>\n",
       "      <th>0</th>\n",
       "      <td>Carra</td>\n",
       "      <td>whatsapp:+5493515266217</td>\n",
       "      <td>Hola, soy el asistente virtual de Clinica Carr...</td>\n",
       "      <td>read</td>\n",
       "      <td>2022-02-16 20:52:07+00:00</td>\n",
       "      <td>2022-02-16</td>\n",
       "      <td>16</td>\n",
       "      <td>2</td>\n",
       "      <td>20</td>\n",
       "      <td>1</td>\n",
       "      <td>...</td>\n",
       "      <td>0</td>\n",
       "      <td>[]</td>\n",
       "      <td>0</td>\n",
       "      <td>[]</td>\n",
       "      <td>0</td>\n",
       "      <td>[]</td>\n",
       "      <td>0</td>\n",
       "      <td>[]</td>\n",
       "      <td>0</td>\n",
       "      <td>0</td>\n",
       "    </tr>\n",
       "    <tr>\n",
       "      <th>1</th>\n",
       "      <td>Carra</td>\n",
       "      <td>whatsapp:+5493515266217</td>\n",
       "      <td>tu turno de CLINICA MEDICA ha sido confirmado...</td>\n",
       "      <td>read</td>\n",
       "      <td>2022-02-16 20:52:06+00:00</td>\n",
       "      <td>2022-02-16</td>\n",
       "      <td>16</td>\n",
       "      <td>2</td>\n",
       "      <td>20</td>\n",
       "      <td>1</td>\n",
       "      <td>...</td>\n",
       "      <td>0</td>\n",
       "      <td>[]</td>\n",
       "      <td>0</td>\n",
       "      <td>[]</td>\n",
       "      <td>0</td>\n",
       "      <td>[]</td>\n",
       "      <td>0</td>\n",
       "      <td>[]</td>\n",
       "      <td>0</td>\n",
       "      <td>0</td>\n",
       "    </tr>\n",
       "    <tr>\n",
       "      <th>2</th>\n",
       "      <td>Carra</td>\n",
       "      <td>whatsapp:+5493515266217</td>\n",
       "      <td>Si</td>\n",
       "      <td>received</td>\n",
       "      <td>2022-02-16 20:52:04+00:00</td>\n",
       "      <td>2022-02-16</td>\n",
       "      <td>16</td>\n",
       "      <td>2</td>\n",
       "      <td>20</td>\n",
       "      <td>1</td>\n",
       "      <td>...</td>\n",
       "      <td>0</td>\n",
       "      <td>[]</td>\n",
       "      <td>0</td>\n",
       "      <td>[]</td>\n",
       "      <td>0</td>\n",
       "      <td>[]</td>\n",
       "      <td>0</td>\n",
       "      <td>[]</td>\n",
       "      <td>0</td>\n",
       "      <td>0</td>\n",
       "    </tr>\n",
       "    <tr>\n",
       "      <th>3</th>\n",
       "      <td>Carra</td>\n",
       "      <td>whatsapp:+5493515266217</td>\n",
       "      <td>¡Muchas gracias! Tus datos son: \\n  Sede: Carr...</td>\n",
       "      <td>read</td>\n",
       "      <td>2022-02-16 20:51:59+00:00</td>\n",
       "      <td>2022-02-16</td>\n",
       "      <td>16</td>\n",
       "      <td>2</td>\n",
       "      <td>20</td>\n",
       "      <td>1</td>\n",
       "      <td>...</td>\n",
       "      <td>0</td>\n",
       "      <td>[]</td>\n",
       "      <td>0</td>\n",
       "      <td>[]</td>\n",
       "      <td>0</td>\n",
       "      <td>[]</td>\n",
       "      <td>0</td>\n",
       "      <td>[]</td>\n",
       "      <td>0</td>\n",
       "      <td>0</td>\n",
       "    </tr>\n",
       "    <tr>\n",
       "      <th>4</th>\n",
       "      <td>Carra</td>\n",
       "      <td>whatsapp:+5493515266217</td>\n",
       "      <td>2</td>\n",
       "      <td>received</td>\n",
       "      <td>2022-02-16 20:51:58+00:00</td>\n",
       "      <td>2022-02-16</td>\n",
       "      <td>16</td>\n",
       "      <td>2</td>\n",
       "      <td>20</td>\n",
       "      <td>1</td>\n",
       "      <td>...</td>\n",
       "      <td>0</td>\n",
       "      <td>[]</td>\n",
       "      <td>0</td>\n",
       "      <td>[]</td>\n",
       "      <td>0</td>\n",
       "      <td>[]</td>\n",
       "      <td>0</td>\n",
       "      <td>[]</td>\n",
       "      <td>0</td>\n",
       "      <td>0</td>\n",
       "    </tr>\n",
       "  </tbody>\n",
       "</table>\n",
       "<p>5 rows × 40 columns</p>\n",
       "</div>"
      ],
      "text/plain": [
       "  Hospital             Tel_hospital  \\\n",
       "0    Carra  whatsapp:+5493515266217   \n",
       "1    Carra  whatsapp:+5493515266217   \n",
       "2    Carra  whatsapp:+5493515266217   \n",
       "3    Carra  whatsapp:+5493515266217   \n",
       "4    Carra  whatsapp:+5493515266217   \n",
       "\n",
       "                                                Body    Status  \\\n",
       "0  Hola, soy el asistente virtual de Clinica Carr...      read   \n",
       "1   tu turno de CLINICA MEDICA ha sido confirmado...      read   \n",
       "2                                                 Si  received   \n",
       "3  ¡Muchas gracias! Tus datos son: \\n  Sede: Carr...      read   \n",
       "4                                                  2  received   \n",
       "\n",
       "                    SentDate       Fecha  Dia  Mes  Hora  Messages  ...  \\\n",
       "0  2022-02-16 20:52:07+00:00  2022-02-16   16    2    20         1  ...   \n",
       "1  2022-02-16 20:52:06+00:00  2022-02-16   16    2    20         1  ...   \n",
       "2  2022-02-16 20:52:04+00:00  2022-02-16   16    2    20         1  ...   \n",
       "3  2022-02-16 20:51:59+00:00  2022-02-16   16    2    20         1  ...   \n",
       "4  2022-02-16 20:51:58+00:00  2022-02-16   16    2    20         1  ...   \n",
       "\n",
       "  Falla_Api_Externo alta_dni  not_DNI issue_name  Issue_Name ask_kunan  \\\n",
       "0                 0       []        0         []           0        []   \n",
       "1                 0       []        0         []           0        []   \n",
       "2                 0       []        0         []           0        []   \n",
       "3                 0       []        0         []           0        []   \n",
       "4                 0       []        0         []           0        []   \n",
       "\n",
       "   Ask_Kunan many_fallbacks_goto_hh  Many_Fallbacks_Goto_HH conv_id  \n",
       "0          0                     []                       0       0  \n",
       "1          0                     []                       0       0  \n",
       "2          0                     []                       0       0  \n",
       "3          0                     []                       0       0  \n",
       "4          0                     []                       0       0  \n",
       "\n",
       "[5 rows x 40 columns]"
      ]
     },
     "execution_count": 4,
     "metadata": {},
     "output_type": "execute_result"
    }
   ],
   "source": [
    "#Se concatenan los dataframes.\n",
    "\n",
    "df_original = pd.concat([df_marzo,df_febrero])\n",
    "\n",
    "df = df_original.copy()\n",
    "\n",
    "#Remuevo la primera columna porque no es de utilidad.\n",
    "\n",
    "df_definitiva = df.drop(['Unnamed: 0'], axis=1)\n",
    "\n",
    "df_definitiva.head()"
   ]
  },
  {
   "cell_type": "code",
   "execution_count": 5,
   "metadata": {
    "colab": {
     "base_uri": "https://localhost:8080/"
    },
    "id": "MBRxCnfDwOK_",
    "outputId": "a63b1b13-4274-47f8-f33f-680a56aa9b1f"
   },
   "outputs": [
    {
     "data": {
      "text/plain": [
       "(394090, 40)"
      ]
     },
     "execution_count": 5,
     "metadata": {},
     "output_type": "execute_result"
    }
   ],
   "source": [
    "#Se tiene un dataframe con  488698 filas y 40 columnas.\n",
    "\n",
    "df_definitiva.shape"
   ]
  },
  {
   "cell_type": "markdown",
   "metadata": {},
   "source": [
    "### 1) Verificar los tipos de datos detectados por pandas. Asegurar tipo de datos correctos para las variables que son continuas y aquellas que son categóricas. En el caso de no coincidir se deberán modificar la naturaleza de esas variables."
   ]
  },
  {
   "cell_type": "code",
   "execution_count": 6,
   "metadata": {
    "colab": {
     "base_uri": "https://localhost:8080/"
    },
    "id": "qxDmOXo1wOK_",
    "outputId": "6cb1e123-e6c2-46ca-e124-b85f2f28a2f3"
   },
   "outputs": [
    {
     "data": {
      "text/plain": [
       "Hospital                   object\n",
       "Tel_hospital               object\n",
       "Body                       object\n",
       "Status                     object\n",
       "SentDate                   object\n",
       "Fecha                      object\n",
       "Dia                         int64\n",
       "Mes                         int64\n",
       "Hora                        int64\n",
       "Messages                    int64\n",
       "Direction                  object\n",
       "Appointment_msp            object\n",
       "Appointment                 int64\n",
       "Cancellation_msp           object\n",
       "Cancelled                   int64\n",
       "consult                    object\n",
       "Consult_Appoint             int64\n",
       "fail_HH_sms                object\n",
       "Fail_HH                     int64\n",
       "achieve_HH                 object\n",
       "Got_HH                      int64\n",
       "Cupo                       object\n",
       "Full_turnos_obra_social     int64\n",
       "No_Relation                object\n",
       "No_Correlation              int64\n",
       "has_error                  object\n",
       "Error_Interno               int64\n",
       "has_error_501              object\n",
       "Error_501                   int64\n",
       "falla_api_externo          object\n",
       "Falla_Api_Externo           int64\n",
       "alta_dni                   object\n",
       "not_DNI                     int64\n",
       "issue_name                 object\n",
       "Issue_Name                  int64\n",
       "ask_kunan                  object\n",
       "Ask_Kunan                   int64\n",
       "many_fallbacks_goto_hh     object\n",
       "Many_Fallbacks_Goto_HH      int64\n",
       "conv_id                     int64\n",
       "dtype: object"
      ]
     },
     "execution_count": 6,
     "metadata": {},
     "output_type": "execute_result"
    }
   ],
   "source": [
    "#Se visualizan todas las columnas y el tipo de dato de cada una de ellas.\n",
    "\n",
    "df_definitiva.dtypes"
   ]
  },
  {
   "cell_type": "code",
   "execution_count": 7,
   "metadata": {},
   "outputs": [
    {
     "name": "stdout",
     "output_type": "stream",
     "text": [
      "has_error_501: {\"['el sistema de gestión de turnos no está disponible']\", '[]'}\n",
      "has_error: {\"['error interno. cerrá y volvé a abrir la aplicación']\", '[]'}\n",
      "issue_name: {\"['para poder agendar tu turno necesito tu nombre y apellido']\", '[]'}\n",
      "ask_kunan: {\"['kunan es la empresa de tecnología responsable por el desarrollo de este asistente virtual']\", '[]'}\n",
      "many_fallbacks_goto_hh: {\"['disculpe, el asistente virtual de']\", '[]'}\n",
      "Cupo: {\"['cupo de consultas diarias con la obra social seleccionada']\", '[]'}\n",
      "consult: {\"['estoy buscando tus turnos']\", '[]'}\n",
      "Appointment_msp: {\"[' ha sido confirmado']\", '[]'}\n",
      "Direction: {'outbound-api', 'inbound'}\n",
      "No_Relation: {\"['solamente ayudo con temas relacionados con nuestro centro de salud']\", '[]'}\n"
     ]
    }
   ],
   "source": [
    "cols = ['has_error_501', 'has_error', 'issue_name', \n",
    "        'ask_kunan', 'many_fallbacks_goto_hh',\n",
    "        'Cupo', 'consult',\n",
    "        'Appointment_msp', 'Direction', \n",
    "        'No_Relation']\n",
    "\n",
    "for col in cols:\n",
    "    vs = df_definitiva[col]\n",
    "    print(f\"{col}: {set(vs)}\")"
   ]
  },
  {
   "cell_type": "code",
   "execution_count": 8,
   "metadata": {
    "id": "pFIHk1rgwOLB"
   },
   "outputs": [
    {
     "data": {
      "text/html": [
       "<div>\n",
       "<style scoped>\n",
       "    .dataframe tbody tr th:only-of-type {\n",
       "        vertical-align: middle;\n",
       "    }\n",
       "\n",
       "    .dataframe tbody tr th {\n",
       "        vertical-align: top;\n",
       "    }\n",
       "\n",
       "    .dataframe thead th {\n",
       "        text-align: right;\n",
       "    }\n",
       "</style>\n",
       "<table border=\"1\" class=\"dataframe\">\n",
       "  <thead>\n",
       "    <tr style=\"text-align: right;\">\n",
       "      <th></th>\n",
       "      <th>SentDate</th>\n",
       "      <th>Fecha</th>\n",
       "    </tr>\n",
       "  </thead>\n",
       "  <tbody>\n",
       "    <tr>\n",
       "      <th>35755</th>\n",
       "      <td>2022-02-05 16:54:13+00:00</td>\n",
       "      <td>2022-02-05</td>\n",
       "    </tr>\n",
       "    <tr>\n",
       "      <th>77832</th>\n",
       "      <td>2022-02-11 13:10:42+00:00</td>\n",
       "      <td>2022-02-11</td>\n",
       "    </tr>\n",
       "    <tr>\n",
       "      <th>165529</th>\n",
       "      <td>2022-02-23 19:34:34+00:00</td>\n",
       "      <td>2022-02-23</td>\n",
       "    </tr>\n",
       "    <tr>\n",
       "      <th>69975</th>\n",
       "      <td>2022-02-10 13:58:22+00:00</td>\n",
       "      <td>2022-02-10</td>\n",
       "    </tr>\n",
       "    <tr>\n",
       "      <th>85225</th>\n",
       "      <td>2022-02-14 16:12:23+00:00</td>\n",
       "      <td>2022-02-14</td>\n",
       "    </tr>\n",
       "  </tbody>\n",
       "</table>\n",
       "</div>"
      ],
      "text/plain": [
       "                        SentDate      Fecha\n",
       "35755  2022-02-05 16:54:13+00:00 2022-02-05\n",
       "77832  2022-02-11 13:10:42+00:00 2022-02-11\n",
       "165529 2022-02-23 19:34:34+00:00 2022-02-23\n",
       "69975  2022-02-10 13:58:22+00:00 2022-02-10\n",
       "85225  2022-02-14 16:12:23+00:00 2022-02-14"
      ]
     },
     "execution_count": 8,
     "metadata": {},
     "output_type": "execute_result"
    }
   ],
   "source": [
    "#Se convierten las columnas SentDate y Fecha al tipo de datos datetime.\n",
    "df_definitiva['SentDate'] = pd.to_datetime(df_definitiva.SentDate)\n",
    "df_definitiva['Fecha'] = pd.to_datetime(df_definitiva.Fecha)\n",
    "\n",
    "df_definitiva[['SentDate', 'Fecha']].sample(5)"
   ]
  },
  {
   "cell_type": "code",
   "execution_count": 9,
   "metadata": {
    "colab": {
     "base_uri": "https://localhost:8080/"
    },
    "id": "3a9WEwVlwOLC",
    "outputId": "abe9bcec-5d22-48f1-d70f-503a634a6513"
   },
   "outputs": [
    {
     "data": {
      "text/plain": [
       "Hospital                                object\n",
       "Tel_hospital                            object\n",
       "Body                                    object\n",
       "Status                                  object\n",
       "SentDate                   datetime64[ns, UTC]\n",
       "Fecha                           datetime64[ns]\n",
       "Dia                                      int64\n",
       "Mes                                      int64\n",
       "Hora                                     int64\n",
       "Messages                                 int64\n",
       "Direction                               object\n",
       "Appointment_msp                         object\n",
       "Appointment                              int64\n",
       "Cancellation_msp                        object\n",
       "Cancelled                                int64\n",
       "consult                                 object\n",
       "Consult_Appoint                          int64\n",
       "fail_HH_sms                             object\n",
       "Fail_HH                                  int64\n",
       "achieve_HH                              object\n",
       "Got_HH                                   int64\n",
       "Cupo                                    object\n",
       "Full_turnos_obra_social                  int64\n",
       "No_Relation                             object\n",
       "No_Correlation                           int64\n",
       "has_error                               object\n",
       "Error_Interno                            int64\n",
       "has_error_501                           object\n",
       "Error_501                                int64\n",
       "falla_api_externo                       object\n",
       "Falla_Api_Externo                        int64\n",
       "alta_dni                                object\n",
       "not_DNI                                  int64\n",
       "issue_name                              object\n",
       "Issue_Name                               int64\n",
       "ask_kunan                               object\n",
       "Ask_Kunan                                int64\n",
       "many_fallbacks_goto_hh                  object\n",
       "Many_Fallbacks_Goto_HH                   int64\n",
       "conv_id                                  int64\n",
       "dtype: object"
      ]
     },
     "execution_count": 9,
     "metadata": {},
     "output_type": "execute_result"
    }
   ],
   "source": [
    "#Se visulizan nuevamentes las columnas con los tipos de datos cambiados.\n",
    "\n",
    "df_definitiva.dtypes"
   ]
  },
  {
   "cell_type": "code",
   "execution_count": 10,
   "metadata": {
    "colab": {
     "base_uri": "https://localhost:8080/"
    },
    "id": "0RPDkbQdwOLC",
    "outputId": "384606e8-9e42-4f0e-e02f-5bcfbe83a981"
   },
   "outputs": [
    {
     "data": {
      "text/plain": [
       "Hospital                   0\n",
       "Tel_hospital               0\n",
       "Body                       0\n",
       "Status                     0\n",
       "SentDate                   0\n",
       "Fecha                      0\n",
       "Dia                        0\n",
       "Mes                        0\n",
       "Hora                       0\n",
       "Messages                   0\n",
       "Direction                  0\n",
       "Appointment_msp            0\n",
       "Appointment                0\n",
       "Cancellation_msp           0\n",
       "Cancelled                  0\n",
       "consult                    0\n",
       "Consult_Appoint            0\n",
       "fail_HH_sms                0\n",
       "Fail_HH                    0\n",
       "achieve_HH                 0\n",
       "Got_HH                     0\n",
       "Cupo                       0\n",
       "Full_turnos_obra_social    0\n",
       "No_Relation                0\n",
       "No_Correlation             0\n",
       "has_error                  0\n",
       "Error_Interno              0\n",
       "has_error_501              0\n",
       "Error_501                  0\n",
       "falla_api_externo          0\n",
       "Falla_Api_Externo          0\n",
       "alta_dni                   0\n",
       "not_DNI                    0\n",
       "issue_name                 0\n",
       "Issue_Name                 0\n",
       "ask_kunan                  0\n",
       "Ask_Kunan                  0\n",
       "many_fallbacks_goto_hh     0\n",
       "Many_Fallbacks_Goto_HH     0\n",
       "conv_id                    0\n",
       "dtype: int64"
      ]
     },
     "execution_count": 10,
     "metadata": {},
     "output_type": "execute_result"
    }
   ],
   "source": [
    "#Se encuentra la cantidad de valores faltantes.\n",
    "#Como se puede observar no hay ningun valor faltante.\n",
    "\n",
    "df_definitiva.isnull().sum()"
   ]
  },
  {
   "cell_type": "code",
   "execution_count": 11,
   "metadata": {
    "colab": {
     "base_uri": "https://localhost:8080/"
    },
    "id": "LEBaqoFZwOLF",
    "outputId": "8a6c2f2f-a335-4308-8c79-bf93c2af8c21"
   },
   "outputs": [
    {
     "data": {
      "text/plain": [
       "5307"
      ]
     },
     "execution_count": 11,
     "metadata": {},
     "output_type": "execute_result"
    }
   ],
   "source": [
    "#Numero de valores unicos de conv_id, esto se traduce en cantidad de conversaciones presentes en el dataframe.\n",
    "\n",
    "df_definitiva['conv_id'].nunique()"
   ]
  },
  {
   "cell_type": "code",
   "execution_count": 12,
   "metadata": {
    "colab": {
     "base_uri": "https://localhost:8080/"
    },
    "id": "zrsl7HwqwOLI",
    "outputId": "36e835c9-00cc-445e-8538-aa9afd2f8d74"
   },
   "outputs": [
    {
     "data": {
      "text/plain": [
       "92"
      ]
     },
     "execution_count": 12,
     "metadata": {},
     "output_type": "execute_result"
    }
   ],
   "source": [
    "#Cantidad de mensajes promedio por conversacion\n",
    "\n",
    "Cant_Mensajes = 488698 / df_definitiva['conv_id'].nunique()\n",
    "round(Cant_Mensajes)"
   ]
  },
  {
   "cell_type": "code",
   "execution_count": 13,
   "metadata": {
    "colab": {
     "base_uri": "https://localhost:8080/",
     "height": 922
    },
    "id": "Xq82RQf5ayI4",
    "outputId": "2ca31fa6-1c4a-42a9-cf3b-759a63dfadda"
   },
   "outputs": [
    {
     "data": {
      "text/html": [
       "<div>\n",
       "<style scoped>\n",
       "    .dataframe tbody tr th:only-of-type {\n",
       "        vertical-align: middle;\n",
       "    }\n",
       "\n",
       "    .dataframe tbody tr th {\n",
       "        vertical-align: top;\n",
       "    }\n",
       "\n",
       "    .dataframe thead th {\n",
       "        text-align: right;\n",
       "    }\n",
       "</style>\n",
       "<table border=\"1\" class=\"dataframe\">\n",
       "  <thead>\n",
       "    <tr style=\"text-align: right;\">\n",
       "      <th></th>\n",
       "      <th>Unnamed: 0</th>\n",
       "      <th>Hospital</th>\n",
       "      <th>Tel_hospital</th>\n",
       "      <th>Body</th>\n",
       "      <th>Status</th>\n",
       "      <th>SentDate</th>\n",
       "      <th>Fecha</th>\n",
       "      <th>Dia</th>\n",
       "      <th>Mes</th>\n",
       "      <th>Hora</th>\n",
       "      <th>...</th>\n",
       "      <th>Falla_Api_Externo</th>\n",
       "      <th>alta_dni</th>\n",
       "      <th>not_DNI</th>\n",
       "      <th>issue_name</th>\n",
       "      <th>Issue_Name</th>\n",
       "      <th>ask_kunan</th>\n",
       "      <th>Ask_Kunan</th>\n",
       "      <th>many_fallbacks_goto_hh</th>\n",
       "      <th>Many_Fallbacks_Goto_HH</th>\n",
       "      <th>conv_id</th>\n",
       "    </tr>\n",
       "  </thead>\n",
       "  <tbody>\n",
       "    <tr>\n",
       "      <th>94068</th>\n",
       "      <td>94068</td>\n",
       "      <td>Carra</td>\n",
       "      <td>whatsapp:+5493515266217</td>\n",
       "      <td>Consultar mis turnos</td>\n",
       "      <td>received</td>\n",
       "      <td>2022-01-31 21:18:18+00:00</td>\n",
       "      <td>2022-01-31</td>\n",
       "      <td>31</td>\n",
       "      <td>1</td>\n",
       "      <td>21</td>\n",
       "      <td>...</td>\n",
       "      <td>0</td>\n",
       "      <td>[]</td>\n",
       "      <td>0</td>\n",
       "      <td>[]</td>\n",
       "      <td>0</td>\n",
       "      <td>[]</td>\n",
       "      <td>0</td>\n",
       "      <td>[]</td>\n",
       "      <td>0</td>\n",
       "      <td>2859</td>\n",
       "    </tr>\n",
       "    <tr>\n",
       "      <th>94068</th>\n",
       "      <td>94068</td>\n",
       "      <td>Carra</td>\n",
       "      <td>whatsapp:+5493515266217</td>\n",
       "      <td>Consultar mis turnos</td>\n",
       "      <td>received</td>\n",
       "      <td>2022-01-31 21:18:18+00:00</td>\n",
       "      <td>2022-01-31</td>\n",
       "      <td>31</td>\n",
       "      <td>1</td>\n",
       "      <td>21</td>\n",
       "      <td>...</td>\n",
       "      <td>0</td>\n",
       "      <td>[]</td>\n",
       "      <td>0</td>\n",
       "      <td>[]</td>\n",
       "      <td>0</td>\n",
       "      <td>[]</td>\n",
       "      <td>0</td>\n",
       "      <td>[]</td>\n",
       "      <td>0</td>\n",
       "      <td>2859</td>\n",
       "    </tr>\n",
       "    <tr>\n",
       "      <th>94066</th>\n",
       "      <td>94066</td>\n",
       "      <td>Carra</td>\n",
       "      <td>whatsapp:+5493515266217</td>\n",
       "      <td>Necesito tu DNI, por favor.</td>\n",
       "      <td>read</td>\n",
       "      <td>2022-01-31 21:18:19+00:00</td>\n",
       "      <td>2022-01-31</td>\n",
       "      <td>31</td>\n",
       "      <td>1</td>\n",
       "      <td>21</td>\n",
       "      <td>...</td>\n",
       "      <td>0</td>\n",
       "      <td>[]</td>\n",
       "      <td>0</td>\n",
       "      <td>[]</td>\n",
       "      <td>0</td>\n",
       "      <td>[]</td>\n",
       "      <td>0</td>\n",
       "      <td>[]</td>\n",
       "      <td>0</td>\n",
       "      <td>2859</td>\n",
       "    </tr>\n",
       "    <tr>\n",
       "      <th>94067</th>\n",
       "      <td>94067</td>\n",
       "      <td>Carra</td>\n",
       "      <td>whatsapp:+5493515266217</td>\n",
       "      <td>Tu sesión se ha reinciado por tiempo de inacti...</td>\n",
       "      <td>read</td>\n",
       "      <td>2022-01-31 21:18:19+00:00</td>\n",
       "      <td>2022-01-31</td>\n",
       "      <td>31</td>\n",
       "      <td>1</td>\n",
       "      <td>21</td>\n",
       "      <td>...</td>\n",
       "      <td>0</td>\n",
       "      <td>[]</td>\n",
       "      <td>0</td>\n",
       "      <td>[]</td>\n",
       "      <td>0</td>\n",
       "      <td>[]</td>\n",
       "      <td>0</td>\n",
       "      <td>[]</td>\n",
       "      <td>0</td>\n",
       "      <td>2859</td>\n",
       "    </tr>\n",
       "    <tr>\n",
       "      <th>94067</th>\n",
       "      <td>94067</td>\n",
       "      <td>Carra</td>\n",
       "      <td>whatsapp:+5493515266217</td>\n",
       "      <td>Tu sesión se ha reinciado por tiempo de inacti...</td>\n",
       "      <td>read</td>\n",
       "      <td>2022-01-31 21:18:19+00:00</td>\n",
       "      <td>2022-01-31</td>\n",
       "      <td>31</td>\n",
       "      <td>1</td>\n",
       "      <td>21</td>\n",
       "      <td>...</td>\n",
       "      <td>0</td>\n",
       "      <td>[]</td>\n",
       "      <td>0</td>\n",
       "      <td>[]</td>\n",
       "      <td>0</td>\n",
       "      <td>[]</td>\n",
       "      <td>0</td>\n",
       "      <td>[]</td>\n",
       "      <td>0</td>\n",
       "      <td>2859</td>\n",
       "    </tr>\n",
       "    <tr>\n",
       "      <th>...</th>\n",
       "      <td>...</td>\n",
       "      <td>...</td>\n",
       "      <td>...</td>\n",
       "      <td>...</td>\n",
       "      <td>...</td>\n",
       "      <td>...</td>\n",
       "      <td>...</td>\n",
       "      <td>...</td>\n",
       "      <td>...</td>\n",
       "      <td>...</td>\n",
       "      <td>...</td>\n",
       "      <td>...</td>\n",
       "      <td>...</td>\n",
       "      <td>...</td>\n",
       "      <td>...</td>\n",
       "      <td>...</td>\n",
       "      <td>...</td>\n",
       "      <td>...</td>\n",
       "      <td>...</td>\n",
       "      <td>...</td>\n",
       "      <td>...</td>\n",
       "    </tr>\n",
       "    <tr>\n",
       "      <th>193575</th>\n",
       "      <td>193575</td>\n",
       "      <td>Carra</td>\n",
       "      <td>whatsapp:+5493515266217</td>\n",
       "      <td>XXXXXXXX</td>\n",
       "      <td>received</td>\n",
       "      <td>2022-02-28 20:43:25+00:00</td>\n",
       "      <td>2022-02-28</td>\n",
       "      <td>28</td>\n",
       "      <td>2</td>\n",
       "      <td>20</td>\n",
       "      <td>...</td>\n",
       "      <td>0</td>\n",
       "      <td>[]</td>\n",
       "      <td>0</td>\n",
       "      <td>[]</td>\n",
       "      <td>0</td>\n",
       "      <td>[]</td>\n",
       "      <td>0</td>\n",
       "      <td>[]</td>\n",
       "      <td>0</td>\n",
       "      <td>1587</td>\n",
       "    </tr>\n",
       "    <tr>\n",
       "      <th>193574</th>\n",
       "      <td>193574</td>\n",
       "      <td>Carra</td>\n",
       "      <td>whatsapp:+5493515266217</td>\n",
       "      <td>XXXXXXXXXXXXXXXXXXXXXXXXXXXXXXXX</td>\n",
       "      <td>read</td>\n",
       "      <td>2022-02-28 20:43:30+00:00</td>\n",
       "      <td>2022-02-28</td>\n",
       "      <td>28</td>\n",
       "      <td>2</td>\n",
       "      <td>20</td>\n",
       "      <td>...</td>\n",
       "      <td>0</td>\n",
       "      <td>['no se encuentra registrado ese dni en el sis...</td>\n",
       "      <td>1</td>\n",
       "      <td>[]</td>\n",
       "      <td>0</td>\n",
       "      <td>[]</td>\n",
       "      <td>0</td>\n",
       "      <td>[]</td>\n",
       "      <td>0</td>\n",
       "      <td>1587</td>\n",
       "    </tr>\n",
       "    <tr>\n",
       "      <th>193574</th>\n",
       "      <td>193574</td>\n",
       "      <td>Carra</td>\n",
       "      <td>whatsapp:+5493515266217</td>\n",
       "      <td>XXXXXXXXXXXXXXXXXXXXXXXXXXXXXXXX</td>\n",
       "      <td>read</td>\n",
       "      <td>2022-02-28 20:43:30+00:00</td>\n",
       "      <td>2022-02-28</td>\n",
       "      <td>28</td>\n",
       "      <td>2</td>\n",
       "      <td>20</td>\n",
       "      <td>...</td>\n",
       "      <td>0</td>\n",
       "      <td>['no se encuentra registrado ese dni en el sis...</td>\n",
       "      <td>1</td>\n",
       "      <td>[]</td>\n",
       "      <td>0</td>\n",
       "      <td>[]</td>\n",
       "      <td>0</td>\n",
       "      <td>[]</td>\n",
       "      <td>0</td>\n",
       "      <td>1587</td>\n",
       "    </tr>\n",
       "    <tr>\n",
       "      <th>193573</th>\n",
       "      <td>193573</td>\n",
       "      <td>Carra</td>\n",
       "      <td>whatsapp:+5493515266217</td>\n",
       "      <td>¿Te puedo ayudar con algo más?</td>\n",
       "      <td>read</td>\n",
       "      <td>2022-02-28 20:43:30+00:00</td>\n",
       "      <td>2022-02-28</td>\n",
       "      <td>28</td>\n",
       "      <td>2</td>\n",
       "      <td>20</td>\n",
       "      <td>...</td>\n",
       "      <td>0</td>\n",
       "      <td>[]</td>\n",
       "      <td>0</td>\n",
       "      <td>[]</td>\n",
       "      <td>0</td>\n",
       "      <td>[]</td>\n",
       "      <td>0</td>\n",
       "      <td>[]</td>\n",
       "      <td>0</td>\n",
       "      <td>1587</td>\n",
       "    </tr>\n",
       "    <tr>\n",
       "      <th>193573</th>\n",
       "      <td>193573</td>\n",
       "      <td>Carra</td>\n",
       "      <td>whatsapp:+5493515266217</td>\n",
       "      <td>¿Te puedo ayudar con algo más?</td>\n",
       "      <td>read</td>\n",
       "      <td>2022-02-28 20:43:30+00:00</td>\n",
       "      <td>2022-02-28</td>\n",
       "      <td>28</td>\n",
       "      <td>2</td>\n",
       "      <td>20</td>\n",
       "      <td>...</td>\n",
       "      <td>0</td>\n",
       "      <td>[]</td>\n",
       "      <td>0</td>\n",
       "      <td>[]</td>\n",
       "      <td>0</td>\n",
       "      <td>[]</td>\n",
       "      <td>0</td>\n",
       "      <td>[]</td>\n",
       "      <td>0</td>\n",
       "      <td>1587</td>\n",
       "    </tr>\n",
       "  </tbody>\n",
       "</table>\n",
       "<p>394090 rows × 41 columns</p>\n",
       "</div>"
      ],
      "text/plain": [
       "        Unnamed: 0 Hospital             Tel_hospital  \\\n",
       "94068        94068    Carra  whatsapp:+5493515266217   \n",
       "94068        94068    Carra  whatsapp:+5493515266217   \n",
       "94066        94066    Carra  whatsapp:+5493515266217   \n",
       "94067        94067    Carra  whatsapp:+5493515266217   \n",
       "94067        94067    Carra  whatsapp:+5493515266217   \n",
       "...            ...      ...                      ...   \n",
       "193575      193575    Carra  whatsapp:+5493515266217   \n",
       "193574      193574    Carra  whatsapp:+5493515266217   \n",
       "193574      193574    Carra  whatsapp:+5493515266217   \n",
       "193573      193573    Carra  whatsapp:+5493515266217   \n",
       "193573      193573    Carra  whatsapp:+5493515266217   \n",
       "\n",
       "                                                     Body    Status  \\\n",
       "94068                                Consultar mis turnos  received   \n",
       "94068                                Consultar mis turnos  received   \n",
       "94066                         Necesito tu DNI, por favor.      read   \n",
       "94067   Tu sesión se ha reinciado por tiempo de inacti...      read   \n",
       "94067   Tu sesión se ha reinciado por tiempo de inacti...      read   \n",
       "...                                                   ...       ...   \n",
       "193575                                           XXXXXXXX  received   \n",
       "193574                   XXXXXXXXXXXXXXXXXXXXXXXXXXXXXXXX      read   \n",
       "193574                   XXXXXXXXXXXXXXXXXXXXXXXXXXXXXXXX      read   \n",
       "193573                     ¿Te puedo ayudar con algo más?      read   \n",
       "193573                     ¿Te puedo ayudar con algo más?      read   \n",
       "\n",
       "                         SentDate       Fecha  Dia  Mes  Hora  ...  \\\n",
       "94068   2022-01-31 21:18:18+00:00  2022-01-31   31    1    21  ...   \n",
       "94068   2022-01-31 21:18:18+00:00  2022-01-31   31    1    21  ...   \n",
       "94066   2022-01-31 21:18:19+00:00  2022-01-31   31    1    21  ...   \n",
       "94067   2022-01-31 21:18:19+00:00  2022-01-31   31    1    21  ...   \n",
       "94067   2022-01-31 21:18:19+00:00  2022-01-31   31    1    21  ...   \n",
       "...                           ...         ...  ...  ...   ...  ...   \n",
       "193575  2022-02-28 20:43:25+00:00  2022-02-28   28    2    20  ...   \n",
       "193574  2022-02-28 20:43:30+00:00  2022-02-28   28    2    20  ...   \n",
       "193574  2022-02-28 20:43:30+00:00  2022-02-28   28    2    20  ...   \n",
       "193573  2022-02-28 20:43:30+00:00  2022-02-28   28    2    20  ...   \n",
       "193573  2022-02-28 20:43:30+00:00  2022-02-28   28    2    20  ...   \n",
       "\n",
       "        Falla_Api_Externo                                           alta_dni  \\\n",
       "94068                   0                                                 []   \n",
       "94068                   0                                                 []   \n",
       "94066                   0                                                 []   \n",
       "94067                   0                                                 []   \n",
       "94067                   0                                                 []   \n",
       "...                   ...                                                ...   \n",
       "193575                  0                                                 []   \n",
       "193574                  0  ['no se encuentra registrado ese dni en el sis...   \n",
       "193574                  0  ['no se encuentra registrado ese dni en el sis...   \n",
       "193573                  0                                                 []   \n",
       "193573                  0                                                 []   \n",
       "\n",
       "       not_DNI  issue_name Issue_Name  ask_kunan Ask_Kunan  \\\n",
       "94068        0          []          0         []         0   \n",
       "94068        0          []          0         []         0   \n",
       "94066        0          []          0         []         0   \n",
       "94067        0          []          0         []         0   \n",
       "94067        0          []          0         []         0   \n",
       "...        ...         ...        ...        ...       ...   \n",
       "193575       0          []          0         []         0   \n",
       "193574       1          []          0         []         0   \n",
       "193574       1          []          0         []         0   \n",
       "193573       0          []          0         []         0   \n",
       "193573       0          []          0         []         0   \n",
       "\n",
       "        many_fallbacks_goto_hh Many_Fallbacks_Goto_HH  conv_id  \n",
       "94068                       []                      0     2859  \n",
       "94068                       []                      0     2859  \n",
       "94066                       []                      0     2859  \n",
       "94067                       []                      0     2859  \n",
       "94067                       []                      0     2859  \n",
       "...                        ...                    ...      ...  \n",
       "193575                      []                      0     1587  \n",
       "193574                      []                      0     1587  \n",
       "193574                      []                      0     1587  \n",
       "193573                      []                      0     1587  \n",
       "193573                      []                      0     1587  \n",
       "\n",
       "[394090 rows x 41 columns]"
      ]
     },
     "execution_count": 13,
     "metadata": {},
     "output_type": "execute_result"
    }
   ],
   "source": [
    "#Se ordenan los datos en base a la fecha de envío de los mensajes para mejor visualización de los datos.\n",
    "\n",
    "df.sort_values(by='SentDate',ascending=True)"
   ]
  },
  {
   "cell_type": "markdown",
   "metadata": {
    "id": "LjWtypOMROEc"
   },
   "source": [
    "### 2) Verificar y asegurar que no existan datos duplicados."
   ]
  },
  {
   "cell_type": "markdown",
   "metadata": {
    "id": "tI7vXfKsVBBy"
   },
   "source": [
    "¿Qué  implica que una columna esté duplicada?\n",
    "Podemos pensar una consulta duplicada de dos maneras:\n",
    "* El mismo evento ocurra dos veces: Por ejemplo, un determinado paciente consulte los turnos dos veces seguidas. Si bien es poco probable que un usuario genere dos eventos iguales (la columna `SentDate` tiene granularidad de segundos), la plataforma de mensajería podría enviar el mismo evento mas de una vez en el mismo segundo. Dado el conjunto de columnas del que disponemos, estos eventos no se podrian distinguir entre si.\n",
    "\n",
    "* La plataforma de turnos almacena o genera eventos multiples veces."
   ]
  },
  {
   "cell_type": "markdown",
   "metadata": {
    "id": "ITHKyyvwb7H_"
   },
   "source": [
    "¿Qué columnas sirven para identificar un evento como único ?\n",
    "Debemos establecer un subconjunto de columnas que nos permitan identificar duplicados. Para ello vamos a definir la lista `event_markers`"
   ]
  },
  {
   "cell_type": "code",
   "execution_count": 14,
   "metadata": {
    "id": "fmIHwGq1cS9n"
   },
   "outputs": [],
   "source": [
    "event_markers = set(['Hospital', 'Body', 'conv_id', 'Direction' ,'SentDate'])"
   ]
  },
  {
   "cell_type": "code",
   "execution_count": 15,
   "metadata": {
    "colab": {
     "base_uri": "https://localhost:8080/"
    },
    "id": "pNmBzgisV81y",
    "outputId": "1eb31984-1c48-4b85-d98a-f757842d699a"
   },
   "outputs": [
    {
     "data": {
      "text/plain": [
       "197178"
      ]
     },
     "execution_count": 15,
     "metadata": {},
     "output_type": "execute_result"
    }
   ],
   "source": [
    "#https://pandas.pydata.org/docs/reference/api/pandas.DataFrame.duplicated.html\n",
    "\n",
    "duplicated_events = df_definitiva[df_definitiva.duplicated(subset = event_markers, keep = 'first') == True]\n",
    "\n",
    "len(duplicated_events)"
   ]
  },
  {
   "cell_type": "code",
   "execution_count": 16,
   "metadata": {},
   "outputs": [
    {
     "data": {
      "text/plain": [
       "196912"
      ]
     },
     "execution_count": 16,
     "metadata": {},
     "output_type": "execute_result"
    }
   ],
   "source": [
    "#https://pandas.pydata.org/docs/reference/api/pandas.DataFrame.duplicated.html\n",
    "\n",
    "duplicated_events = df_definitiva[df_definitiva.duplicated(subset = event_markers, keep = 'first') == False]\n",
    "\n",
    "len(duplicated_events)"
   ]
  },
  {
   "cell_type": "markdown",
   "metadata": {
    "id": "PEE6kyvXdMcw"
   },
   "source": [
    "Se puede investigar el origen de los mensajes duplicados, por ejemplo \n",
    "* ¿A qué hospital pertenecen?\n",
    "* ¿Qué día o mes se duplicaron mensajes?\n",
    "* ¿Que dirección tienen los mensajes duplicados?"
   ]
  },
  {
   "cell_type": "code",
   "execution_count": 17,
   "metadata": {
    "colab": {
     "base_uri": "https://localhost:8080/"
    },
    "id": "6pNHisWIciI4",
    "outputId": "3eb77990-933e-4486-9780-41cec81942d4"
   },
   "outputs": [
    {
     "data": {
      "text/plain": [
       "Hospital\n",
       "Carra                 51277\n",
       "CityBell              94500\n",
       "Desarrollo               15\n",
       "Los Cedros            25146\n",
       "Salud Consultorios    25009\n",
       "Santa Fe                965\n",
       "Name: Messages, dtype: int64"
      ]
     },
     "execution_count": 17,
     "metadata": {},
     "output_type": "execute_result"
    }
   ],
   "source": [
    "duplicated_events.groupby(['Hospital'])['Messages'].count()"
   ]
  },
  {
   "cell_type": "code",
   "execution_count": 18,
   "metadata": {
    "colab": {
     "base_uri": "https://localhost:8080/"
    },
    "id": "BAbWioU1ZM3T",
    "outputId": "afd6e7c6-8e35-4450-c9b6-e5fdc2f2be78"
   },
   "outputs": [
    {
     "data": {
      "text/plain": [
       "Mes  Dia\n",
       "1    31       314\n",
       "2    1       1680\n",
       "     2       9549\n",
       "     3       8899\n",
       "     4       6458\n",
       "     5       1560\n",
       "     6        984\n",
       "     7      12056\n",
       "     8      11706\n",
       "     9       9973\n",
       "     10      8043\n",
       "     11      6452\n",
       "     12      1187\n",
       "     13      1218\n",
       "     14     12805\n",
       "     15     12196\n",
       "     16     10640\n",
       "     17      9932\n",
       "     18      7766\n",
       "     19      1648\n",
       "     20      1126\n",
       "     21     17493\n",
       "     22     11643\n",
       "     23     11355\n",
       "     24     10104\n",
       "     25      6733\n",
       "     26      1668\n",
       "     27       669\n",
       "     28      1055\n",
       "Name: Messages, dtype: int64"
      ]
     },
     "execution_count": 18,
     "metadata": {},
     "output_type": "execute_result"
    }
   ],
   "source": [
    "duplicated_events.groupby(['Mes', 'Dia'])['Messages'].count()"
   ]
  },
  {
   "cell_type": "code",
   "execution_count": 19,
   "metadata": {
    "colab": {
     "base_uri": "https://localhost:8080/"
    },
    "id": "lhjT1u4Je9um",
    "outputId": "031eb53e-79b5-4121-80ea-0300f669401a"
   },
   "outputs": [
    {
     "data": {
      "text/plain": [
       "Direction\n",
       "inbound          80975\n",
       "outbound-api    115937\n",
       "Name: Messages, dtype: int64"
      ]
     },
     "execution_count": 19,
     "metadata": {},
     "output_type": "execute_result"
    }
   ],
   "source": [
    "duplicated_events.groupby(['Direction'])['Messages'].count()"
   ]
  },
  {
   "cell_type": "markdown",
   "metadata": {
    "id": "ZGFxgz-HenhN"
   },
   "source": [
    "Finalmente, podemos obtener un conjunto de datos sin duplicados"
   ]
  },
  {
   "cell_type": "code",
   "execution_count": 20,
   "metadata": {
    "colab": {
     "base_uri": "https://localhost:8080/",
     "height": 783
    },
    "id": "1zJsfAHHaaDR",
    "outputId": "c7651d44-da5f-4c04-bcb0-0ea48bc17f1a"
   },
   "outputs": [
    {
     "data": {
      "text/html": [
       "<div>\n",
       "<style scoped>\n",
       "    .dataframe tbody tr th:only-of-type {\n",
       "        vertical-align: middle;\n",
       "    }\n",
       "\n",
       "    .dataframe tbody tr th {\n",
       "        vertical-align: top;\n",
       "    }\n",
       "\n",
       "    .dataframe thead th {\n",
       "        text-align: right;\n",
       "    }\n",
       "</style>\n",
       "<table border=\"1\" class=\"dataframe\">\n",
       "  <thead>\n",
       "    <tr style=\"text-align: right;\">\n",
       "      <th></th>\n",
       "      <th>Hospital</th>\n",
       "      <th>Tel_hospital</th>\n",
       "      <th>Body</th>\n",
       "      <th>Status</th>\n",
       "      <th>SentDate</th>\n",
       "      <th>Fecha</th>\n",
       "      <th>Dia</th>\n",
       "      <th>Mes</th>\n",
       "      <th>Hora</th>\n",
       "      <th>Messages</th>\n",
       "      <th>...</th>\n",
       "      <th>Falla_Api_Externo</th>\n",
       "      <th>alta_dni</th>\n",
       "      <th>not_DNI</th>\n",
       "      <th>issue_name</th>\n",
       "      <th>Issue_Name</th>\n",
       "      <th>ask_kunan</th>\n",
       "      <th>Ask_Kunan</th>\n",
       "      <th>many_fallbacks_goto_hh</th>\n",
       "      <th>Many_Fallbacks_Goto_HH</th>\n",
       "      <th>conv_id</th>\n",
       "    </tr>\n",
       "  </thead>\n",
       "  <tbody>\n",
       "    <tr>\n",
       "      <th>0</th>\n",
       "      <td>Carra</td>\n",
       "      <td>whatsapp:+5493515266217</td>\n",
       "      <td>Hola, soy el asistente virtual de Clinica Carr...</td>\n",
       "      <td>read</td>\n",
       "      <td>2022-02-16 20:52:07+00:00</td>\n",
       "      <td>2022-02-16</td>\n",
       "      <td>16</td>\n",
       "      <td>2</td>\n",
       "      <td>20</td>\n",
       "      <td>1</td>\n",
       "      <td>...</td>\n",
       "      <td>0</td>\n",
       "      <td>[]</td>\n",
       "      <td>0</td>\n",
       "      <td>[]</td>\n",
       "      <td>0</td>\n",
       "      <td>[]</td>\n",
       "      <td>0</td>\n",
       "      <td>[]</td>\n",
       "      <td>0</td>\n",
       "      <td>0</td>\n",
       "    </tr>\n",
       "    <tr>\n",
       "      <th>1</th>\n",
       "      <td>Carra</td>\n",
       "      <td>whatsapp:+5493515266217</td>\n",
       "      <td>tu turno de CLINICA MEDICA ha sido confirmado...</td>\n",
       "      <td>read</td>\n",
       "      <td>2022-02-16 20:52:06+00:00</td>\n",
       "      <td>2022-02-16</td>\n",
       "      <td>16</td>\n",
       "      <td>2</td>\n",
       "      <td>20</td>\n",
       "      <td>1</td>\n",
       "      <td>...</td>\n",
       "      <td>0</td>\n",
       "      <td>[]</td>\n",
       "      <td>0</td>\n",
       "      <td>[]</td>\n",
       "      <td>0</td>\n",
       "      <td>[]</td>\n",
       "      <td>0</td>\n",
       "      <td>[]</td>\n",
       "      <td>0</td>\n",
       "      <td>0</td>\n",
       "    </tr>\n",
       "    <tr>\n",
       "      <th>2</th>\n",
       "      <td>Carra</td>\n",
       "      <td>whatsapp:+5493515266217</td>\n",
       "      <td>Si</td>\n",
       "      <td>received</td>\n",
       "      <td>2022-02-16 20:52:04+00:00</td>\n",
       "      <td>2022-02-16</td>\n",
       "      <td>16</td>\n",
       "      <td>2</td>\n",
       "      <td>20</td>\n",
       "      <td>1</td>\n",
       "      <td>...</td>\n",
       "      <td>0</td>\n",
       "      <td>[]</td>\n",
       "      <td>0</td>\n",
       "      <td>[]</td>\n",
       "      <td>0</td>\n",
       "      <td>[]</td>\n",
       "      <td>0</td>\n",
       "      <td>[]</td>\n",
       "      <td>0</td>\n",
       "      <td>0</td>\n",
       "    </tr>\n",
       "    <tr>\n",
       "      <th>3</th>\n",
       "      <td>Carra</td>\n",
       "      <td>whatsapp:+5493515266217</td>\n",
       "      <td>¡Muchas gracias! Tus datos son: \\n  Sede: Carr...</td>\n",
       "      <td>read</td>\n",
       "      <td>2022-02-16 20:51:59+00:00</td>\n",
       "      <td>2022-02-16</td>\n",
       "      <td>16</td>\n",
       "      <td>2</td>\n",
       "      <td>20</td>\n",
       "      <td>1</td>\n",
       "      <td>...</td>\n",
       "      <td>0</td>\n",
       "      <td>[]</td>\n",
       "      <td>0</td>\n",
       "      <td>[]</td>\n",
       "      <td>0</td>\n",
       "      <td>[]</td>\n",
       "      <td>0</td>\n",
       "      <td>[]</td>\n",
       "      <td>0</td>\n",
       "      <td>0</td>\n",
       "    </tr>\n",
       "    <tr>\n",
       "      <th>4</th>\n",
       "      <td>Carra</td>\n",
       "      <td>whatsapp:+5493515266217</td>\n",
       "      <td>2</td>\n",
       "      <td>received</td>\n",
       "      <td>2022-02-16 20:51:58+00:00</td>\n",
       "      <td>2022-02-16</td>\n",
       "      <td>16</td>\n",
       "      <td>2</td>\n",
       "      <td>20</td>\n",
       "      <td>1</td>\n",
       "      <td>...</td>\n",
       "      <td>0</td>\n",
       "      <td>[]</td>\n",
       "      <td>0</td>\n",
       "      <td>[]</td>\n",
       "      <td>0</td>\n",
       "      <td>[]</td>\n",
       "      <td>0</td>\n",
       "      <td>[]</td>\n",
       "      <td>0</td>\n",
       "      <td>0</td>\n",
       "    </tr>\n",
       "    <tr>\n",
       "      <th>...</th>\n",
       "      <td>...</td>\n",
       "      <td>...</td>\n",
       "      <td>...</td>\n",
       "      <td>...</td>\n",
       "      <td>...</td>\n",
       "      <td>...</td>\n",
       "      <td>...</td>\n",
       "      <td>...</td>\n",
       "      <td>...</td>\n",
       "      <td>...</td>\n",
       "      <td>...</td>\n",
       "      <td>...</td>\n",
       "      <td>...</td>\n",
       "      <td>...</td>\n",
       "      <td>...</td>\n",
       "      <td>...</td>\n",
       "      <td>...</td>\n",
       "      <td>...</td>\n",
       "      <td>...</td>\n",
       "      <td>...</td>\n",
       "      <td>...</td>\n",
       "    </tr>\n",
       "    <tr>\n",
       "      <th>197040</th>\n",
       "      <td>CityBell</td>\n",
       "      <td>whatsapp:+5492215137770</td>\n",
       "      <td>XXXXXXXX</td>\n",
       "      <td>received</td>\n",
       "      <td>2022-02-25 21:17:01+00:00</td>\n",
       "      <td>2022-02-25</td>\n",
       "      <td>25</td>\n",
       "      <td>2</td>\n",
       "      <td>21</td>\n",
       "      <td>1</td>\n",
       "      <td>...</td>\n",
       "      <td>0</td>\n",
       "      <td>[]</td>\n",
       "      <td>0</td>\n",
       "      <td>[]</td>\n",
       "      <td>0</td>\n",
       "      <td>[]</td>\n",
       "      <td>0</td>\n",
       "      <td>[]</td>\n",
       "      <td>0</td>\n",
       "      <td>5306</td>\n",
       "    </tr>\n",
       "    <tr>\n",
       "      <th>197041</th>\n",
       "      <td>CityBell</td>\n",
       "      <td>whatsapp:+5492215137770</td>\n",
       "      <td>Necesito tu DNI, por favor.</td>\n",
       "      <td>delivered</td>\n",
       "      <td>2022-02-25 21:16:45+00:00</td>\n",
       "      <td>2022-02-25</td>\n",
       "      <td>25</td>\n",
       "      <td>2</td>\n",
       "      <td>21</td>\n",
       "      <td>1</td>\n",
       "      <td>...</td>\n",
       "      <td>0</td>\n",
       "      <td>[]</td>\n",
       "      <td>0</td>\n",
       "      <td>[]</td>\n",
       "      <td>0</td>\n",
       "      <td>[]</td>\n",
       "      <td>0</td>\n",
       "      <td>[]</td>\n",
       "      <td>0</td>\n",
       "      <td>5306</td>\n",
       "    </tr>\n",
       "    <tr>\n",
       "      <th>197042</th>\n",
       "      <td>CityBell</td>\n",
       "      <td>whatsapp:+5492215137770</td>\n",
       "      <td>Sacar turno</td>\n",
       "      <td>received</td>\n",
       "      <td>2022-02-25 21:16:44+00:00</td>\n",
       "      <td>2022-02-25</td>\n",
       "      <td>25</td>\n",
       "      <td>2</td>\n",
       "      <td>21</td>\n",
       "      <td>1</td>\n",
       "      <td>...</td>\n",
       "      <td>0</td>\n",
       "      <td>[]</td>\n",
       "      <td>0</td>\n",
       "      <td>[]</td>\n",
       "      <td>0</td>\n",
       "      <td>[]</td>\n",
       "      <td>0</td>\n",
       "      <td>[]</td>\n",
       "      <td>0</td>\n",
       "      <td>5306</td>\n",
       "    </tr>\n",
       "    <tr>\n",
       "      <th>197043</th>\n",
       "      <td>CityBell</td>\n",
       "      <td>whatsapp:+5492215137770</td>\n",
       "      <td>Hola, soy el asistente virtual de Centro Medic...</td>\n",
       "      <td>delivered</td>\n",
       "      <td>2022-02-25 21:16:26+00:00</td>\n",
       "      <td>2022-02-25</td>\n",
       "      <td>25</td>\n",
       "      <td>2</td>\n",
       "      <td>21</td>\n",
       "      <td>1</td>\n",
       "      <td>...</td>\n",
       "      <td>0</td>\n",
       "      <td>[]</td>\n",
       "      <td>0</td>\n",
       "      <td>[]</td>\n",
       "      <td>0</td>\n",
       "      <td>[]</td>\n",
       "      <td>0</td>\n",
       "      <td>[]</td>\n",
       "      <td>0</td>\n",
       "      <td>5306</td>\n",
       "    </tr>\n",
       "    <tr>\n",
       "      <th>197044</th>\n",
       "      <td>CityBell</td>\n",
       "      <td>whatsapp:+5492215137770</td>\n",
       "      <td>XXXX</td>\n",
       "      <td>received</td>\n",
       "      <td>2022-02-25 21:16:25+00:00</td>\n",
       "      <td>2022-02-25</td>\n",
       "      <td>25</td>\n",
       "      <td>2</td>\n",
       "      <td>21</td>\n",
       "      <td>1</td>\n",
       "      <td>...</td>\n",
       "      <td>0</td>\n",
       "      <td>[]</td>\n",
       "      <td>0</td>\n",
       "      <td>[]</td>\n",
       "      <td>0</td>\n",
       "      <td>[]</td>\n",
       "      <td>0</td>\n",
       "      <td>[]</td>\n",
       "      <td>0</td>\n",
       "      <td>5306</td>\n",
       "    </tr>\n",
       "  </tbody>\n",
       "</table>\n",
       "<p>196912 rows × 40 columns</p>\n",
       "</div>"
      ],
      "text/plain": [
       "        Hospital             Tel_hospital  \\\n",
       "0          Carra  whatsapp:+5493515266217   \n",
       "1          Carra  whatsapp:+5493515266217   \n",
       "2          Carra  whatsapp:+5493515266217   \n",
       "3          Carra  whatsapp:+5493515266217   \n",
       "4          Carra  whatsapp:+5493515266217   \n",
       "...          ...                      ...   \n",
       "197040  CityBell  whatsapp:+5492215137770   \n",
       "197041  CityBell  whatsapp:+5492215137770   \n",
       "197042  CityBell  whatsapp:+5492215137770   \n",
       "197043  CityBell  whatsapp:+5492215137770   \n",
       "197044  CityBell  whatsapp:+5492215137770   \n",
       "\n",
       "                                                     Body     Status  \\\n",
       "0       Hola, soy el asistente virtual de Clinica Carr...       read   \n",
       "1        tu turno de CLINICA MEDICA ha sido confirmado...       read   \n",
       "2                                                      Si   received   \n",
       "3       ¡Muchas gracias! Tus datos son: \\n  Sede: Carr...       read   \n",
       "4                                                       2   received   \n",
       "...                                                   ...        ...   \n",
       "197040                                           XXXXXXXX   received   \n",
       "197041                        Necesito tu DNI, por favor.  delivered   \n",
       "197042                                        Sacar turno   received   \n",
       "197043  Hola, soy el asistente virtual de Centro Medic...  delivered   \n",
       "197044                                               XXXX   received   \n",
       "\n",
       "                        SentDate      Fecha  Dia  Mes  Hora  Messages  ...  \\\n",
       "0      2022-02-16 20:52:07+00:00 2022-02-16   16    2    20         1  ...   \n",
       "1      2022-02-16 20:52:06+00:00 2022-02-16   16    2    20         1  ...   \n",
       "2      2022-02-16 20:52:04+00:00 2022-02-16   16    2    20         1  ...   \n",
       "3      2022-02-16 20:51:59+00:00 2022-02-16   16    2    20         1  ...   \n",
       "4      2022-02-16 20:51:58+00:00 2022-02-16   16    2    20         1  ...   \n",
       "...                          ...        ...  ...  ...   ...       ...  ...   \n",
       "197040 2022-02-25 21:17:01+00:00 2022-02-25   25    2    21         1  ...   \n",
       "197041 2022-02-25 21:16:45+00:00 2022-02-25   25    2    21         1  ...   \n",
       "197042 2022-02-25 21:16:44+00:00 2022-02-25   25    2    21         1  ...   \n",
       "197043 2022-02-25 21:16:26+00:00 2022-02-25   25    2    21         1  ...   \n",
       "197044 2022-02-25 21:16:25+00:00 2022-02-25   25    2    21         1  ...   \n",
       "\n",
       "       Falla_Api_Externo alta_dni  not_DNI issue_name  Issue_Name ask_kunan  \\\n",
       "0                      0       []        0         []           0        []   \n",
       "1                      0       []        0         []           0        []   \n",
       "2                      0       []        0         []           0        []   \n",
       "3                      0       []        0         []           0        []   \n",
       "4                      0       []        0         []           0        []   \n",
       "...                  ...      ...      ...        ...         ...       ...   \n",
       "197040                 0       []        0         []           0        []   \n",
       "197041                 0       []        0         []           0        []   \n",
       "197042                 0       []        0         []           0        []   \n",
       "197043                 0       []        0         []           0        []   \n",
       "197044                 0       []        0         []           0        []   \n",
       "\n",
       "        Ask_Kunan many_fallbacks_goto_hh  Many_Fallbacks_Goto_HH conv_id  \n",
       "0               0                     []                       0       0  \n",
       "1               0                     []                       0       0  \n",
       "2               0                     []                       0       0  \n",
       "3               0                     []                       0       0  \n",
       "4               0                     []                       0       0  \n",
       "...           ...                    ...                     ...     ...  \n",
       "197040          0                     []                       0    5306  \n",
       "197041          0                     []                       0    5306  \n",
       "197042          0                     []                       0    5306  \n",
       "197043          0                     []                       0    5306  \n",
       "197044          0                     []                       0    5306  \n",
       "\n",
       "[196912 rows x 40 columns]"
      ]
     },
     "execution_count": 20,
     "metadata": {},
     "output_type": "execute_result"
    }
   ],
   "source": [
    "df_unique = df_definitiva.drop_duplicates(subset = event_markers, keep='first')\n",
    "df_unique"
   ]
  },
  {
   "cell_type": "markdown",
   "metadata": {
    "id": "EX4b3P3OiHCs"
   },
   "source": [
    "### 3) Verificar que no existan caracteres \"raros\" para los datos de los features \"Body\". Tip: Pueden hacerlo importando la librería ftfy.badness\n",
    "Usamos el módulo `ftfy` para procesar el campo `Body`, generando una columna nueva (`fixed_body`) que contenga el texto procesado."
   ]
  },
  {
   "cell_type": "code",
   "execution_count": 21,
   "metadata": {
    "colab": {
     "base_uri": "https://localhost:8080/"
    },
    "id": "y9aOI_spjpMt",
    "outputId": "4833c6ed-ec75-45e9-8178-df81f2921961"
   },
   "outputs": [
    {
     "name": "stdout",
     "output_type": "stream",
     "text": [
      "\u001b[33mDEPRECATION: Configuring installation scheme with distutils config files is deprecated and will no longer work in the near future. If you are using a Homebrew or Linuxbrew Python, please see discussion at https://github.com/Homebrew/homebrew-core/issues/76621\u001b[0m\u001b[33m\n",
      "\u001b[0mRequirement already satisfied: ftfy in /usr/local/lib/python3.9/site-packages (6.1.1)\n",
      "Requirement already satisfied: wcwidth>=0.2.5 in /usr/local/lib/python3.9/site-packages (from ftfy) (0.2.5)\n",
      "\u001b[33mDEPRECATION: Configuring installation scheme with distutils config files is deprecated and will no longer work in the near future. If you are using a Homebrew or Linuxbrew Python, please see discussion at https://github.com/Homebrew/homebrew-core/issues/76621\u001b[0m\u001b[33m\n",
      "\u001b[0m\n",
      "\u001b[1m[\u001b[0m\u001b[34;49mnotice\u001b[0m\u001b[1;39;49m]\u001b[0m\u001b[39;49m A new release of pip available: \u001b[0m\u001b[31;49m22.1.2\u001b[0m\u001b[39;49m -> \u001b[0m\u001b[32;49m22.2.2\u001b[0m\n",
      "\u001b[1m[\u001b[0m\u001b[34;49mnotice\u001b[0m\u001b[1;39;49m]\u001b[0m\u001b[39;49m To update, run: \u001b[0m\u001b[32;49mpython3.9 -m pip install --upgrade pip\u001b[0m\n"
     ]
    }
   ],
   "source": [
    "!pip install ftfy\n",
    "import ftfy"
   ]
  },
  {
   "cell_type": "markdown",
   "metadata": {
    "id": "ADQpn5TMpdlM"
   },
   "source": [
    "\n",
    "Usamos la función `fit_text` sin ningún tipo de configuración, solo para si efectivamente existen caracteres raros (que a su vez parece ser una definición laxa, ver https://ftfy.readthedocs.io/en/latest/config.html)"
   ]
  },
  {
   "cell_type": "code",
   "execution_count": 22,
   "metadata": {},
   "outputs": [],
   "source": [
    "text_fixer_config = ftfy.TextFixerConfig(uncurl_quotes=True, fix_character_width=True, fix_line_breaks=True)"
   ]
  },
  {
   "cell_type": "markdown",
   "metadata": {},
   "source": [
    "Por ejemplo, podemos corregir esta linea de texto sin mucho esfuerzo"
   ]
  },
  {
   "cell_type": "code",
   "execution_count": 23,
   "metadata": {},
   "outputs": [
    {
     "data": {
      "text/plain": [
       "'Tu sesión se ha reinciado por tiempo de inactividad. Voy a tener que pedirte tus datos nuevamente 📝'"
      ]
     },
     "execution_count": 23,
     "metadata": {},
     "output_type": "execute_result"
    }
   ],
   "source": [
    "ejemplo = \"Tu sesiÃ³n se ha reinciado por tiempo de inactividad. Voy a tener que pedirte tus datos nuevamente ðŸ“\"\n",
    "\n",
    "ftfy.fix_text(ejemplo, text_fixer_config)"
   ]
  },
  {
   "cell_type": "code",
   "execution_count": 24,
   "metadata": {},
   "outputs": [
    {
     "data": {
      "text/plain": [
       "182476    []\n",
       "186368    []\n",
       "50078     []\n",
       "30307     []\n",
       "105377    []\n",
       "Name: falla_api_externo, dtype: object"
      ]
     },
     "execution_count": 24,
     "metadata": {},
     "output_type": "execute_result"
    }
   ],
   "source": [
    "df_unique.falla_api_externo.sample(5)"
   ]
  },
  {
   "cell_type": "markdown",
   "metadata": {},
   "source": [
    "Para corregir el campo `body` (al que nos limitamos) vamos a usar una función lambda y generar una nueva columna"
   ]
  },
  {
   "cell_type": "code",
   "execution_count": 25,
   "metadata": {},
   "outputs": [],
   "source": [
    "apply_ftfy_rules = lambda s: ftfy.fix_text(s, text_fixer_config)"
   ]
  },
  {
   "cell_type": "code",
   "execution_count": 26,
   "metadata": {
    "colab": {
     "base_uri": "https://localhost:8080/",
     "height": 451
    },
    "id": "R2P4lwskkKNm",
    "outputId": "4087c2dd-5a5b-43ad-e27e-2c7b944ae698",
    "scrolled": true
   },
   "outputs": [
    {
     "name": "stderr",
     "output_type": "stream",
     "text": [
      "/var/folders/s6/yjtm_slj60sft1f08wtzs2mw0000gn/T/ipykernel_13315/1140182939.py:1: SettingWithCopyWarning: \n",
      "A value is trying to be set on a copy of a slice from a DataFrame.\n",
      "Try using .loc[row_indexer,col_indexer] = value instead\n",
      "\n",
      "See the caveats in the documentation: https://pandas.pydata.org/pandas-docs/stable/user_guide/indexing.html#returning-a-view-versus-a-copy\n",
      "  df_unique.loc[:,'fixed_body'] = df_unique.Body.apply(apply_ftfy_rules)\n"
     ]
    },
    {
     "data": {
      "text/html": [
       "<div>\n",
       "<style scoped>\n",
       "    .dataframe tbody tr th:only-of-type {\n",
       "        vertical-align: middle;\n",
       "    }\n",
       "\n",
       "    .dataframe tbody tr th {\n",
       "        vertical-align: top;\n",
       "    }\n",
       "\n",
       "    .dataframe thead th {\n",
       "        text-align: right;\n",
       "    }\n",
       "</style>\n",
       "<table border=\"1\" class=\"dataframe\">\n",
       "  <thead>\n",
       "    <tr style=\"text-align: right;\">\n",
       "      <th></th>\n",
       "      <th>Hospital</th>\n",
       "      <th>Tel_hospital</th>\n",
       "      <th>Body</th>\n",
       "      <th>Status</th>\n",
       "      <th>SentDate</th>\n",
       "      <th>Fecha</th>\n",
       "      <th>Dia</th>\n",
       "      <th>Mes</th>\n",
       "      <th>Hora</th>\n",
       "      <th>Messages</th>\n",
       "      <th>...</th>\n",
       "      <th>alta_dni</th>\n",
       "      <th>not_DNI</th>\n",
       "      <th>issue_name</th>\n",
       "      <th>Issue_Name</th>\n",
       "      <th>ask_kunan</th>\n",
       "      <th>Ask_Kunan</th>\n",
       "      <th>many_fallbacks_goto_hh</th>\n",
       "      <th>Many_Fallbacks_Goto_HH</th>\n",
       "      <th>conv_id</th>\n",
       "      <th>fixed_body</th>\n",
       "    </tr>\n",
       "  </thead>\n",
       "  <tbody>\n",
       "    <tr>\n",
       "      <th>70379</th>\n",
       "      <td>CityBell</td>\n",
       "      <td>whatsapp:+5492215137770</td>\n",
       "      <td>Cambiar un dato</td>\n",
       "      <td>received</td>\n",
       "      <td>2022-02-10 13:21:17+00:00</td>\n",
       "      <td>2022-02-10</td>\n",
       "      <td>10</td>\n",
       "      <td>2</td>\n",
       "      <td>13</td>\n",
       "      <td>1</td>\n",
       "      <td>...</td>\n",
       "      <td>[]</td>\n",
       "      <td>0</td>\n",
       "      <td>[]</td>\n",
       "      <td>0</td>\n",
       "      <td>[]</td>\n",
       "      <td>0</td>\n",
       "      <td>[]</td>\n",
       "      <td>0</td>\n",
       "      <td>2207</td>\n",
       "      <td>Cambiar un dato</td>\n",
       "    </tr>\n",
       "    <tr>\n",
       "      <th>15060</th>\n",
       "      <td>Carra</td>\n",
       "      <td>whatsapp:+5493515266217</td>\n",
       "      <td>*Escribe el número de la opción* que quieres e...</td>\n",
       "      <td>read</td>\n",
       "      <td>2022-02-02 12:29:54+00:00</td>\n",
       "      <td>2022-02-02</td>\n",
       "      <td>2</td>\n",
       "      <td>2</td>\n",
       "      <td>12</td>\n",
       "      <td>1</td>\n",
       "      <td>...</td>\n",
       "      <td>[]</td>\n",
       "      <td>0</td>\n",
       "      <td>[]</td>\n",
       "      <td>0</td>\n",
       "      <td>[]</td>\n",
       "      <td>0</td>\n",
       "      <td>[]</td>\n",
       "      <td>0</td>\n",
       "      <td>555</td>\n",
       "      <td>*Escribe el número de la opción* que quieres e...</td>\n",
       "    </tr>\n",
       "    <tr>\n",
       "      <th>95448</th>\n",
       "      <td>Carra</td>\n",
       "      <td>whatsapp:+5493515266217</td>\n",
       "      <td>XXXXXXXXXXXXXX</td>\n",
       "      <td>received</td>\n",
       "      <td>2022-02-07 08:25:35+00:00</td>\n",
       "      <td>2022-02-07</td>\n",
       "      <td>7</td>\n",
       "      <td>2</td>\n",
       "      <td>8</td>\n",
       "      <td>1</td>\n",
       "      <td>...</td>\n",
       "      <td>[]</td>\n",
       "      <td>0</td>\n",
       "      <td>[]</td>\n",
       "      <td>0</td>\n",
       "      <td>[]</td>\n",
       "      <td>0</td>\n",
       "      <td>[]</td>\n",
       "      <td>0</td>\n",
       "      <td>2881</td>\n",
       "      <td>XXXXXXXXXXXXXX</td>\n",
       "    </tr>\n",
       "  </tbody>\n",
       "</table>\n",
       "<p>3 rows × 41 columns</p>\n",
       "</div>"
      ],
      "text/plain": [
       "       Hospital             Tel_hospital  \\\n",
       "70379  CityBell  whatsapp:+5492215137770   \n",
       "15060     Carra  whatsapp:+5493515266217   \n",
       "95448     Carra  whatsapp:+5493515266217   \n",
       "\n",
       "                                                    Body    Status  \\\n",
       "70379                                    Cambiar un dato  received   \n",
       "15060  *Escribe el número de la opción* que quieres e...      read   \n",
       "95448                                     XXXXXXXXXXXXXX  received   \n",
       "\n",
       "                       SentDate      Fecha  Dia  Mes  Hora  Messages  ...  \\\n",
       "70379 2022-02-10 13:21:17+00:00 2022-02-10   10    2    13         1  ...   \n",
       "15060 2022-02-02 12:29:54+00:00 2022-02-02    2    2    12         1  ...   \n",
       "95448 2022-02-07 08:25:35+00:00 2022-02-07    7    2     8         1  ...   \n",
       "\n",
       "      alta_dni not_DNI  issue_name Issue_Name  ask_kunan Ask_Kunan  \\\n",
       "70379       []       0          []          0         []         0   \n",
       "15060       []       0          []          0         []         0   \n",
       "95448       []       0          []          0         []         0   \n",
       "\n",
       "       many_fallbacks_goto_hh Many_Fallbacks_Goto_HH  conv_id  \\\n",
       "70379                      []                      0     2207   \n",
       "15060                      []                      0      555   \n",
       "95448                      []                      0     2881   \n",
       "\n",
       "                                              fixed_body  \n",
       "70379                                    Cambiar un dato  \n",
       "15060  *Escribe el número de la opción* que quieres e...  \n",
       "95448                                     XXXXXXXXXXXXXX  \n",
       "\n",
       "[3 rows x 41 columns]"
      ]
     },
     "execution_count": 26,
     "metadata": {},
     "output_type": "execute_result"
    }
   ],
   "source": [
    "df_unique.loc[:,'fixed_body'] = df_unique.Body.apply(apply_ftfy_rules)\n",
    "df_unique.sample(3)\n"
   ]
  },
  {
   "cell_type": "markdown",
   "metadata": {},
   "source": [
    "¿Qué tipo de cambios se realizaron? Podemos analizar los cambios realizados utilizando un filtro comparando las columnas `Body` y `fixed_body`"
   ]
  },
  {
   "cell_type": "code",
   "execution_count": 27,
   "metadata": {},
   "outputs": [
    {
     "data": {
      "text/plain": [
       "195"
      ]
     },
     "execution_count": 27,
     "metadata": {},
     "output_type": "execute_result"
    }
   ],
   "source": [
    "fixed_filter = df_unique['fixed_body'] != df_unique['Body']\n",
    "len(df_unique[fixed_filter])"
   ]
  },
  {
   "cell_type": "code",
   "execution_count": 28,
   "metadata": {},
   "outputs": [
    {
     "data": {
      "text/plain": [
       "{'Está gestión puede realizarla a través del asistente virtual. Debe solicitar “Consultar mis turnos” e indicar su número de DNI para que Merlin le informe sobre sus próximos turnos.',\n",
       " 'Si ud. tiene la obra social OSCEARA u OSPECOR por favor escriba “Quiero hablar con un operador” para realizar la correcta autorización',\n",
       " '“Quiero hablar con un operador “',\n",
       " '“Quiero hablar con un operador”',\n",
       " '“Quiero hablar con un operado”'}"
      ]
     },
     "execution_count": 28,
     "metadata": {},
     "output_type": "execute_result"
    }
   ],
   "source": [
    "set(df_unique[fixed_filter].Body.values)"
   ]
  },
  {
   "cell_type": "markdown",
   "metadata": {},
   "source": [
    "### 4) A partir de la columna \"Body\" y las clases que encontraron en el práctico anterior, generar columnas que codifiquen esas categorías para su posterior uso en los próximos prácticos. Tienen que generar al menos cuatro columnas nuevas. Justifiquen la elección de esa generación respecto a posibles problemas para los cuales puedan ser útiles."
   ]
  },
  {
   "cell_type": "markdown",
   "metadata": {
    "id": "ThTOPyb7INCP"
   },
   "source": [
    "## Codificación de clases\n",
    "\n",
    "En el primer entregable se distinguieron las siguientes clases\n",
    "* Hospitales presentes en el _dataset_\n",
    "* Especialidad \n",
    "* Acción del usuario\n",
    "* Días hasta el turno"
   ]
  },
  {
   "cell_type": "code",
   "execution_count": 29,
   "metadata": {
    "colab": {
     "base_uri": "https://localhost:8080/"
    },
    "id": "D5ZM9DGBLkcM",
    "outputId": "3d25f638-bbc7-4979-ba6e-307bcd8b838c"
   },
   "outputs": [
    {
     "data": {
      "text/plain": [
       "0         Hola, soy el asistente virtual de Clinica Carr...\n",
       "1          tu turno de CLINICA MEDICA ha sido confirmado...\n",
       "2                                                        Si\n",
       "3         ¡Muchas gracias! Tus datos son: \\n  Sede: Carr...\n",
       "4                                                         2\n",
       "                                ...                        \n",
       "197040                                             XXXXXXXX\n",
       "197041                          Necesito tu DNI, por favor.\n",
       "197042                                          Sacar turno\n",
       "197043    Hola, soy el asistente virtual de Centro Medic...\n",
       "197044                                                 XXXX\n",
       "Name: Body, Length: 196912, dtype: object"
      ]
     },
     "execution_count": 29,
     "metadata": {},
     "output_type": "execute_result"
    }
   ],
   "source": [
    "df = df_unique.copy(deep=True)\n",
    "df.Body"
   ]
  },
  {
   "cell_type": "markdown",
   "metadata": {
    "id": "MOZccRrxLa41"
   },
   "source": [
    "### Hospital\n",
    "Al igual que en el primer entregable, vemos que los hospitales incluidos en la muestra se limitan a un conjunto acotado y desbalanceado"
   ]
  },
  {
   "cell_type": "code",
   "execution_count": 30,
   "metadata": {},
   "outputs": [
    {
     "data": {
      "text/plain": [
       "CityBell              94500\n",
       "Carra                 51277\n",
       "Los Cedros            25146\n",
       "Salud Consultorios    25009\n",
       "Santa Fe                965\n",
       "Desarrollo               15\n",
       "Name: Hospital, dtype: int64"
      ]
     },
     "execution_count": 30,
     "metadata": {},
     "output_type": "execute_result"
    }
   ],
   "source": [
    "df.Hospital.value_counts()"
   ]
  },
  {
   "cell_type": "code",
   "execution_count": 31,
   "metadata": {},
   "outputs": [
    {
     "data": {
      "text/plain": [
       "<AxesSubplot:title={'center':'Mensajes por Hospital'}, xlabel='Hospital', ylabel='Count'>"
      ]
     },
     "execution_count": 31,
     "metadata": {},
     "output_type": "execute_result"
    },
    {
     "data": {
      "image/png": "[encoded data removed]",
      "text/plain": [
       "<Figure size 1080x360 with 1 Axes>"
      ]
     },
     "metadata": {
      "needs_background": "light"
     },
     "output_type": "display_data"
    }
   ],
   "source": [
    "fig = plt.figure(figsize=(15, 5))\n",
    "plt.ticklabel_format(style='plain', axis='x')\n",
    "plt.title('Mensajes por Hospital')\n",
    "\n",
    "seaborn.histplot(data = df.Hospital)"
   ]
  },
  {
   "cell_type": "markdown",
   "metadata": {},
   "source": [
    "### Dias hasta el turno\n",
    "¿Cuál es el periodo de tiempo que pasa entre la fecha que un paciente contacta al servicio y el turno otorgado? Podemos calcularlo a partir de los valores de la columna `Body` y `SentDate`. ¿Cuál es el valor de esta columna derivada? Eventualmente se puede utilizar para predecir comportamiento mediante algoritmos de aprendizaje supervisado"
   ]
  },
  {
   "cell_type": "code",
   "execution_count": 32,
   "metadata": {},
   "outputs": [],
   "source": [
    "f = lambda b: 'tu turno de' in b \n",
    "turno_filter = ((df.Body.apply(f)) & (df.Direction == 'outbound-api') & (df.Appointment == 1))"
   ]
  },
  {
   "cell_type": "code",
   "execution_count": 33,
   "metadata": {},
   "outputs": [
    {
     "data": {
      "text/plain": [
       "array([' tu turno de CLINICA MEDICA ha sido confirmado para la fecha 06/04/2022 a las 12:50 hrs, en Calle 474 N583 entre 14a y 14b City Bell, con Dr./Dra. Bazterrica Maria Luz',\n",
       "       ' tu turno de Cardiologia ha sido confirmado para la fecha 21/02/2022 a las 08:00 hrs, en Carrá, Bv. 9 de Julio 1501, S.Francisco, con Dr./Dra. Vogliotti Ignacio'],\n",
       "      dtype=object)"
      ]
     },
     "execution_count": 33,
     "metadata": {},
     "output_type": "execute_result"
    }
   ],
   "source": [
    "df[turno_filter].Body.sample(2).values"
   ]
  },
  {
   "cell_type": "markdown",
   "metadata": {},
   "source": [
    "Creamos una función que nos permita obtener la fecha del turno asignado, a partir del contenido de la columna `Body`"
   ]
  },
  {
   "cell_type": "code",
   "execution_count": 34,
   "metadata": {},
   "outputs": [],
   "source": [
    "from datetime import datetime\n",
    "\n",
    "def time_from_appointment(s):\n",
    "    \"\"\"\n",
    "    Return a datetime with the dd/mm/yyyy format for the appointment date\n",
    "    \"\"\"\n",
    "    parts = s.split()\n",
    "    t = parts.index(\"fecha\") + 1\n",
    "    return pd.to_datetime(parts[t].strip(), format = '%d/%m/%Y').to_numpy()"
   ]
  },
  {
   "cell_type": "code",
   "execution_count": 35,
   "metadata": {},
   "outputs": [],
   "source": [
    "teststr = \"\"\"tu turno de OTORRINOLARINGOLOGIA ha sido confirmado para la fecha 13/06/2022 a las 17:30 hrs, en Cons. Externos, Sede Tomás Villegas 2387, con Dr./Dra. Zicarelli Juan Carlos'\"\"\"\n",
    "test_date = time_from_appointment(teststr)    "
   ]
  },
  {
   "cell_type": "code",
   "execution_count": 36,
   "metadata": {},
   "outputs": [
    {
     "name": "stdout",
     "output_type": "stream",
     "text": [
      "2022-06-13T00:00:00.000000000\n"
     ]
    }
   ],
   "source": [
    "print(test_date)"
   ]
  },
  {
   "cell_type": "markdown",
   "metadata": {},
   "source": [
    "Finalmente agregamos la columna `days_to_appointment` con la cantidad de días entre el contacto y el turno"
   ]
  },
  {
   "cell_type": "code",
   "execution_count": 37,
   "metadata": {},
   "outputs": [],
   "source": [
    "df.loc[turno_filter, 'time_to_appointment'] = df[turno_filter].\\\n",
    "apply(lambda row: time_from_appointment(row.Body) - row.Fecha, axis = 1)\n"
   ]
  },
  {
   "cell_type": "markdown",
   "metadata": {},
   "source": [
    "Vemos que la columna `time_to_appointment` contiene una descripción del periodo de tiempo"
   ]
  },
  {
   "cell_type": "code",
   "execution_count": 38,
   "metadata": {},
   "outputs": [
    {
     "data": {
      "text/plain": [
       "130275   54 days\n",
       "44237    28 days\n",
       "Name: time_to_appointment, dtype: timedelta64[ns]"
      ]
     },
     "execution_count": 38,
     "metadata": {},
     "output_type": "execute_result"
    }
   ],
   "source": [
    "df[turno_filter]['time_to_appointment'].sample(2)"
   ]
  },
  {
   "cell_type": "markdown",
   "metadata": {},
   "source": [
    "Procesando la nueva columna podemos obtener la distribución de los días que cada paciente debe esperar a su turno (al menos en un momento inicial, sin considerar aquellos turnos que se cancelan).\n",
    "\n",
    "* La mitad de los turnos se asignan para los próximos 16 días\n",
    "* El 75% de los turnos en poco mas de un mes"
   ]
  },
  {
   "cell_type": "code",
   "execution_count": 40,
   "metadata": {},
   "outputs": [
    {
     "data": {
      "text/html": [
       "<div>\n",
       "<style scoped>\n",
       "    .dataframe tbody tr th:only-of-type {\n",
       "        vertical-align: middle;\n",
       "    }\n",
       "\n",
       "    .dataframe tbody tr th {\n",
       "        vertical-align: top;\n",
       "    }\n",
       "\n",
       "    .dataframe thead th {\n",
       "        text-align: right;\n",
       "    }\n",
       "</style>\n",
       "<table border=\"1\" class=\"dataframe\">\n",
       "  <thead>\n",
       "    <tr style=\"text-align: right;\">\n",
       "      <th></th>\n",
       "      <th>time_to_appointment</th>\n",
       "      <th>days_to_appointment</th>\n",
       "    </tr>\n",
       "  </thead>\n",
       "  <tbody>\n",
       "    <tr>\n",
       "      <th>count</th>\n",
       "      <td>2557</td>\n",
       "      <td>2557.000000</td>\n",
       "    </tr>\n",
       "    <tr>\n",
       "      <th>mean</th>\n",
       "      <td>22 days 19:01:31.513492374</td>\n",
       "      <td>22.792726</td>\n",
       "    </tr>\n",
       "    <tr>\n",
       "      <th>std</th>\n",
       "      <td>21 days 20:02:26.413181184</td>\n",
       "      <td>21.835028</td>\n",
       "    </tr>\n",
       "    <tr>\n",
       "      <th>min</th>\n",
       "      <td>1 days 00:00:00</td>\n",
       "      <td>1.000000</td>\n",
       "    </tr>\n",
       "    <tr>\n",
       "      <th>25%</th>\n",
       "      <td>7 days 00:00:00</td>\n",
       "      <td>7.000000</td>\n",
       "    </tr>\n",
       "    <tr>\n",
       "      <th>50%</th>\n",
       "      <td>16 days 00:00:00</td>\n",
       "      <td>16.000000</td>\n",
       "    </tr>\n",
       "    <tr>\n",
       "      <th>75%</th>\n",
       "      <td>33 days 00:00:00</td>\n",
       "      <td>33.000000</td>\n",
       "    </tr>\n",
       "    <tr>\n",
       "      <th>max</th>\n",
       "      <td>167 days 00:00:00</td>\n",
       "      <td>167.000000</td>\n",
       "    </tr>\n",
       "  </tbody>\n",
       "</table>\n",
       "</div>"
      ],
      "text/plain": [
       "              time_to_appointment  days_to_appointment\n",
       "count                        2557          2557.000000\n",
       "mean   22 days 19:01:31.513492374            22.792726\n",
       "std    21 days 20:02:26.413181184            21.835028\n",
       "min               1 days 00:00:00             1.000000\n",
       "25%               7 days 00:00:00             7.000000\n",
       "50%              16 days 00:00:00            16.000000\n",
       "75%              33 days 00:00:00            33.000000\n",
       "max             167 days 00:00:00           167.000000"
      ]
     },
     "execution_count": 40,
     "metadata": {},
     "output_type": "execute_result"
    }
   ],
   "source": [
    "#days to appointment\n",
    "dfplot = df[turno_filter][['time_to_appointment', 'Hospital']]\n",
    "dfplot.loc[:,'days_to_appointment'] = dfplot.apply(lambda row: row['time_to_appointment'].total_seconds() / 86400, axis = 1)\n",
    "dfplot.describe()"
   ]
  },
  {
   "cell_type": "code",
   "execution_count": 41,
   "metadata": {},
   "outputs": [
    {
     "data": {
      "text/plain": [
       "<AxesSubplot:title={'center':'Dias hasta el turno asignado (por Hospital)'}, xlabel='Hospital', ylabel='days_to_appointment'>"
      ]
     },
     "execution_count": 41,
     "metadata": {},
     "output_type": "execute_result"
    },
    {
     "data": {
      "image/png": "[encoded data removed]",
      "text/plain": [
       "<Figure size 1080x360 with 1 Axes>"
      ]
     },
     "metadata": {
      "needs_background": "light"
     },
     "output_type": "display_data"
    }
   ],
   "source": [
    "fig = plt.figure(figsize=(15, 5))\n",
    "plt.ticklabel_format(style='plain', axis='x')\n",
    "plt.title('Dias hasta el turno asignado (por Hospital)')\n",
    "\n",
    "seaborn.histplot(x = dfplot.Hospital, y = dfplot.days_to_appointment, palette = \"pastel\")"
   ]
  },
  {
   "cell_type": "markdown",
   "metadata": {},
   "source": [
    "### Acción del usuario\n",
    "\n",
    "Ante el contacto inicial, el _bot_ invita al usuario a realizar una acción que puede ser\n",
    "* Sacar turno\n",
    "* Cancelar un turno\n",
    "* Consultar turnos\n",
    "* Pedir ayuda\n",
    "\n",
    "A partir de la respuesta del usuario, podemos agregar una respuesta categorizando su intención"
   ]
  },
  {
   "cell_type": "code",
   "execution_count": 42,
   "metadata": {},
   "outputs": [
    {
     "data": {
      "text/plain": [
       "'Hola, soy el asistente virtual de Centro Medico de Diagnostico City Bell.  \\n   \\nPodés preguntarme información sobre Centro Medico de Diagnostico City Bell, o podés realizar alguna de estas acciones:\\n ▪️ Sacar turno\\n ▪️ Cancelar turno\\n ▪️ Consultar mis turnos\\n ▪️ Ayuda\\n *Escribí la acción* que querés realizar.'"
      ]
     },
     "execution_count": 42,
     "metadata": {},
     "output_type": "execute_result"
    }
   ],
   "source": [
    "df.loc[197043, 'Body']"
   ]
  },
  {
   "cell_type": "code",
   "execution_count": 43,
   "metadata": {
    "scrolled": true
   },
   "outputs": [
    {
     "data": {
      "text/html": [
       "<div>\n",
       "<style scoped>\n",
       "    .dataframe tbody tr th:only-of-type {\n",
       "        vertical-align: middle;\n",
       "    }\n",
       "\n",
       "    .dataframe tbody tr th {\n",
       "        vertical-align: top;\n",
       "    }\n",
       "\n",
       "    .dataframe thead th {\n",
       "        text-align: right;\n",
       "    }\n",
       "</style>\n",
       "<table border=\"1\" class=\"dataframe\">\n",
       "  <thead>\n",
       "    <tr style=\"text-align: right;\">\n",
       "      <th></th>\n",
       "      <th>Hospital</th>\n",
       "      <th>Tel_hospital</th>\n",
       "      <th>Body</th>\n",
       "      <th>Status</th>\n",
       "      <th>SentDate</th>\n",
       "      <th>Fecha</th>\n",
       "      <th>Dia</th>\n",
       "      <th>Mes</th>\n",
       "      <th>Hora</th>\n",
       "      <th>Messages</th>\n",
       "      <th>...</th>\n",
       "      <th>not_DNI</th>\n",
       "      <th>issue_name</th>\n",
       "      <th>Issue_Name</th>\n",
       "      <th>ask_kunan</th>\n",
       "      <th>Ask_Kunan</th>\n",
       "      <th>many_fallbacks_goto_hh</th>\n",
       "      <th>Many_Fallbacks_Goto_HH</th>\n",
       "      <th>conv_id</th>\n",
       "      <th>fixed_body</th>\n",
       "      <th>time_to_appointment</th>\n",
       "    </tr>\n",
       "  </thead>\n",
       "  <tbody>\n",
       "    <tr>\n",
       "      <th>64</th>\n",
       "      <td>Salud Consultorios</td>\n",
       "      <td>whatsapp:+5493515266230</td>\n",
       "      <td>sacar turno</td>\n",
       "      <td>received</td>\n",
       "      <td>2022-02-16 19:55:45+00:00</td>\n",
       "      <td>2022-02-16</td>\n",
       "      <td>16</td>\n",
       "      <td>2</td>\n",
       "      <td>19</td>\n",
       "      <td>1</td>\n",
       "      <td>...</td>\n",
       "      <td>0</td>\n",
       "      <td>[]</td>\n",
       "      <td>0</td>\n",
       "      <td>[]</td>\n",
       "      <td>0</td>\n",
       "      <td>[]</td>\n",
       "      <td>0</td>\n",
       "      <td>1</td>\n",
       "      <td>sacar turno</td>\n",
       "      <td>NaT</td>\n",
       "    </tr>\n",
       "    <tr>\n",
       "      <th>70</th>\n",
       "      <td>Salud Consultorios</td>\n",
       "      <td>whatsapp:+5493515266230</td>\n",
       "      <td>sacar turno</td>\n",
       "      <td>received</td>\n",
       "      <td>2022-02-16 19:53:01+00:00</td>\n",
       "      <td>2022-02-16</td>\n",
       "      <td>16</td>\n",
       "      <td>2</td>\n",
       "      <td>19</td>\n",
       "      <td>1</td>\n",
       "      <td>...</td>\n",
       "      <td>0</td>\n",
       "      <td>[]</td>\n",
       "      <td>0</td>\n",
       "      <td>[]</td>\n",
       "      <td>0</td>\n",
       "      <td>[]</td>\n",
       "      <td>0</td>\n",
       "      <td>1</td>\n",
       "      <td>sacar turno</td>\n",
       "      <td>NaT</td>\n",
       "    </tr>\n",
       "    <tr>\n",
       "      <th>180</th>\n",
       "      <td>CityBell</td>\n",
       "      <td>whatsapp:+5492215137770</td>\n",
       "      <td>Buenas, queria sacar turno para dos electrocar...</td>\n",
       "      <td>received</td>\n",
       "      <td>2022-02-16 19:20:45+00:00</td>\n",
       "      <td>2022-02-16</td>\n",
       "      <td>16</td>\n",
       "      <td>2</td>\n",
       "      <td>19</td>\n",
       "      <td>1</td>\n",
       "      <td>...</td>\n",
       "      <td>0</td>\n",
       "      <td>[]</td>\n",
       "      <td>0</td>\n",
       "      <td>[]</td>\n",
       "      <td>0</td>\n",
       "      <td>[]</td>\n",
       "      <td>0</td>\n",
       "      <td>10</td>\n",
       "      <td>Buenas, queria sacar turno para dos electrocar...</td>\n",
       "      <td>NaT</td>\n",
       "    </tr>\n",
       "    <tr>\n",
       "      <th>383</th>\n",
       "      <td>CityBell</td>\n",
       "      <td>whatsapp:+5492215137770</td>\n",
       "      <td>sacar turno</td>\n",
       "      <td>received</td>\n",
       "      <td>2022-02-16 18:46:57+00:00</td>\n",
       "      <td>2022-02-16</td>\n",
       "      <td>16</td>\n",
       "      <td>2</td>\n",
       "      <td>18</td>\n",
       "      <td>1</td>\n",
       "      <td>...</td>\n",
       "      <td>0</td>\n",
       "      <td>[]</td>\n",
       "      <td>0</td>\n",
       "      <td>[]</td>\n",
       "      <td>0</td>\n",
       "      <td>[]</td>\n",
       "      <td>0</td>\n",
       "      <td>20</td>\n",
       "      <td>sacar turno</td>\n",
       "      <td>NaT</td>\n",
       "    </tr>\n",
       "    <tr>\n",
       "      <th>472</th>\n",
       "      <td>Carra</td>\n",
       "      <td>whatsapp:+5493515266217</td>\n",
       "      <td>Necesito sacar turno</td>\n",
       "      <td>received</td>\n",
       "      <td>2022-02-16 18:34:08+00:00</td>\n",
       "      <td>2022-02-16</td>\n",
       "      <td>16</td>\n",
       "      <td>2</td>\n",
       "      <td>18</td>\n",
       "      <td>1</td>\n",
       "      <td>...</td>\n",
       "      <td>0</td>\n",
       "      <td>[]</td>\n",
       "      <td>0</td>\n",
       "      <td>[]</td>\n",
       "      <td>0</td>\n",
       "      <td>[]</td>\n",
       "      <td>0</td>\n",
       "      <td>24</td>\n",
       "      <td>Necesito sacar turno</td>\n",
       "      <td>NaT</td>\n",
       "    </tr>\n",
       "    <tr>\n",
       "      <th>...</th>\n",
       "      <td>...</td>\n",
       "      <td>...</td>\n",
       "      <td>...</td>\n",
       "      <td>...</td>\n",
       "      <td>...</td>\n",
       "      <td>...</td>\n",
       "      <td>...</td>\n",
       "      <td>...</td>\n",
       "      <td>...</td>\n",
       "      <td>...</td>\n",
       "      <td>...</td>\n",
       "      <td>...</td>\n",
       "      <td>...</td>\n",
       "      <td>...</td>\n",
       "      <td>...</td>\n",
       "      <td>...</td>\n",
       "      <td>...</td>\n",
       "      <td>...</td>\n",
       "      <td>...</td>\n",
       "      <td>...</td>\n",
       "      <td>...</td>\n",
       "    </tr>\n",
       "    <tr>\n",
       "      <th>191503</th>\n",
       "      <td>CityBell</td>\n",
       "      <td>whatsapp:+5492215137770</td>\n",
       "      <td>queria sacar turno para ecocardiograma para mi...</td>\n",
       "      <td>received</td>\n",
       "      <td>2022-02-25 10:52:34+00:00</td>\n",
       "      <td>2022-02-25</td>\n",
       "      <td>25</td>\n",
       "      <td>2</td>\n",
       "      <td>10</td>\n",
       "      <td>1</td>\n",
       "      <td>...</td>\n",
       "      <td>0</td>\n",
       "      <td>[]</td>\n",
       "      <td>0</td>\n",
       "      <td>[]</td>\n",
       "      <td>0</td>\n",
       "      <td>[]</td>\n",
       "      <td>0</td>\n",
       "      <td>5191</td>\n",
       "      <td>queria sacar turno para ecocardiograma para mi...</td>\n",
       "      <td>NaT</td>\n",
       "    </tr>\n",
       "    <tr>\n",
       "      <th>191763</th>\n",
       "      <td>CityBell</td>\n",
       "      <td>whatsapp:+5492215137770</td>\n",
       "      <td>sacar turno</td>\n",
       "      <td>received</td>\n",
       "      <td>2022-02-25 10:34:19+00:00</td>\n",
       "      <td>2022-02-25</td>\n",
       "      <td>25</td>\n",
       "      <td>2</td>\n",
       "      <td>10</td>\n",
       "      <td>1</td>\n",
       "      <td>...</td>\n",
       "      <td>0</td>\n",
       "      <td>[]</td>\n",
       "      <td>0</td>\n",
       "      <td>[]</td>\n",
       "      <td>0</td>\n",
       "      <td>[]</td>\n",
       "      <td>0</td>\n",
       "      <td>5198</td>\n",
       "      <td>sacar turno</td>\n",
       "      <td>NaT</td>\n",
       "    </tr>\n",
       "    <tr>\n",
       "      <th>192519</th>\n",
       "      <td>Carra</td>\n",
       "      <td>whatsapp:+5493515266217</td>\n",
       "      <td>sacar turno</td>\n",
       "      <td>received</td>\n",
       "      <td>2022-02-25 09:19:26+00:00</td>\n",
       "      <td>2022-02-25</td>\n",
       "      <td>25</td>\n",
       "      <td>2</td>\n",
       "      <td>9</td>\n",
       "      <td>1</td>\n",
       "      <td>...</td>\n",
       "      <td>0</td>\n",
       "      <td>[]</td>\n",
       "      <td>0</td>\n",
       "      <td>[]</td>\n",
       "      <td>0</td>\n",
       "      <td>[]</td>\n",
       "      <td>0</td>\n",
       "      <td>5169</td>\n",
       "      <td>sacar turno</td>\n",
       "      <td>NaT</td>\n",
       "    </tr>\n",
       "    <tr>\n",
       "      <th>192655</th>\n",
       "      <td>CityBell</td>\n",
       "      <td>whatsapp:+5492215137770</td>\n",
       "      <td>Es q necesito sacar turno para oftalmológica  ...</td>\n",
       "      <td>received</td>\n",
       "      <td>2022-02-25 09:12:03+00:00</td>\n",
       "      <td>2022-02-25</td>\n",
       "      <td>25</td>\n",
       "      <td>2</td>\n",
       "      <td>9</td>\n",
       "      <td>1</td>\n",
       "      <td>...</td>\n",
       "      <td>0</td>\n",
       "      <td>[]</td>\n",
       "      <td>0</td>\n",
       "      <td>[]</td>\n",
       "      <td>0</td>\n",
       "      <td>[]</td>\n",
       "      <td>0</td>\n",
       "      <td>5224</td>\n",
       "      <td>Es q necesito sacar turno para oftalmológica  ...</td>\n",
       "      <td>NaT</td>\n",
       "    </tr>\n",
       "    <tr>\n",
       "      <th>193556</th>\n",
       "      <td>Salud Consultorios</td>\n",
       "      <td>whatsapp:+5493515266230</td>\n",
       "      <td>Rogamos cancelar turno</td>\n",
       "      <td>received</td>\n",
       "      <td>2022-02-24 21:08:56+00:00</td>\n",
       "      <td>2022-02-24</td>\n",
       "      <td>24</td>\n",
       "      <td>2</td>\n",
       "      <td>21</td>\n",
       "      <td>1</td>\n",
       "      <td>...</td>\n",
       "      <td>0</td>\n",
       "      <td>[]</td>\n",
       "      <td>0</td>\n",
       "      <td>[]</td>\n",
       "      <td>0</td>\n",
       "      <td>[]</td>\n",
       "      <td>0</td>\n",
       "      <td>5244</td>\n",
       "      <td>Rogamos cancelar turno</td>\n",
       "      <td>NaT</td>\n",
       "    </tr>\n",
       "  </tbody>\n",
       "</table>\n",
       "<p>616 rows × 42 columns</p>\n",
       "</div>"
      ],
      "text/plain": [
       "                  Hospital             Tel_hospital  \\\n",
       "64      Salud Consultorios  whatsapp:+5493515266230   \n",
       "70      Salud Consultorios  whatsapp:+5493515266230   \n",
       "180               CityBell  whatsapp:+5492215137770   \n",
       "383               CityBell  whatsapp:+5492215137770   \n",
       "472                  Carra  whatsapp:+5493515266217   \n",
       "...                    ...                      ...   \n",
       "191503            CityBell  whatsapp:+5492215137770   \n",
       "191763            CityBell  whatsapp:+5492215137770   \n",
       "192519               Carra  whatsapp:+5493515266217   \n",
       "192655            CityBell  whatsapp:+5492215137770   \n",
       "193556  Salud Consultorios  whatsapp:+5493515266230   \n",
       "\n",
       "                                                     Body    Status  \\\n",
       "64                                            sacar turno  received   \n",
       "70                                            sacar turno  received   \n",
       "180     Buenas, queria sacar turno para dos electrocar...  received   \n",
       "383                                           sacar turno  received   \n",
       "472                                  Necesito sacar turno  received   \n",
       "...                                                   ...       ...   \n",
       "191503  queria sacar turno para ecocardiograma para mi...  received   \n",
       "191763                                        sacar turno  received   \n",
       "192519                                        sacar turno  received   \n",
       "192655  Es q necesito sacar turno para oftalmológica  ...  received   \n",
       "193556                             Rogamos cancelar turno  received   \n",
       "\n",
       "                        SentDate      Fecha  Dia  Mes  Hora  Messages  ...  \\\n",
       "64     2022-02-16 19:55:45+00:00 2022-02-16   16    2    19         1  ...   \n",
       "70     2022-02-16 19:53:01+00:00 2022-02-16   16    2    19         1  ...   \n",
       "180    2022-02-16 19:20:45+00:00 2022-02-16   16    2    19         1  ...   \n",
       "383    2022-02-16 18:46:57+00:00 2022-02-16   16    2    18         1  ...   \n",
       "472    2022-02-16 18:34:08+00:00 2022-02-16   16    2    18         1  ...   \n",
       "...                          ...        ...  ...  ...   ...       ...  ...   \n",
       "191503 2022-02-25 10:52:34+00:00 2022-02-25   25    2    10         1  ...   \n",
       "191763 2022-02-25 10:34:19+00:00 2022-02-25   25    2    10         1  ...   \n",
       "192519 2022-02-25 09:19:26+00:00 2022-02-25   25    2     9         1  ...   \n",
       "192655 2022-02-25 09:12:03+00:00 2022-02-25   25    2     9         1  ...   \n",
       "193556 2022-02-24 21:08:56+00:00 2022-02-24   24    2    21         1  ...   \n",
       "\n",
       "       not_DNI issue_name  Issue_Name ask_kunan  Ask_Kunan  \\\n",
       "64           0         []           0        []          0   \n",
       "70           0         []           0        []          0   \n",
       "180          0         []           0        []          0   \n",
       "383          0         []           0        []          0   \n",
       "472          0         []           0        []          0   \n",
       "...        ...        ...         ...       ...        ...   \n",
       "191503       0         []           0        []          0   \n",
       "191763       0         []           0        []          0   \n",
       "192519       0         []           0        []          0   \n",
       "192655       0         []           0        []          0   \n",
       "193556       0         []           0        []          0   \n",
       "\n",
       "       many_fallbacks_goto_hh  Many_Fallbacks_Goto_HH conv_id  \\\n",
       "64                         []                       0       1   \n",
       "70                         []                       0       1   \n",
       "180                        []                       0      10   \n",
       "383                        []                       0      20   \n",
       "472                        []                       0      24   \n",
       "...                       ...                     ...     ...   \n",
       "191503                     []                       0    5191   \n",
       "191763                     []                       0    5198   \n",
       "192519                     []                       0    5169   \n",
       "192655                     []                       0    5224   \n",
       "193556                     []                       0    5244   \n",
       "\n",
       "                                               fixed_body time_to_appointment  \n",
       "64                                            sacar turno                 NaT  \n",
       "70                                            sacar turno                 NaT  \n",
       "180     Buenas, queria sacar turno para dos electrocar...                 NaT  \n",
       "383                                           sacar turno                 NaT  \n",
       "472                                  Necesito sacar turno                 NaT  \n",
       "...                                                   ...                 ...  \n",
       "191503  queria sacar turno para ecocardiograma para mi...                 NaT  \n",
       "191763                                        sacar turno                 NaT  \n",
       "192519                                        sacar turno                 NaT  \n",
       "192655  Es q necesito sacar turno para oftalmológica  ...                 NaT  \n",
       "193556                             Rogamos cancelar turno                 NaT  \n",
       "\n",
       "[616 rows x 42 columns]"
      ]
     },
     "execution_count": 43,
     "metadata": {},
     "output_type": "execute_result"
    }
   ],
   "source": [
    "actions = ['sacar turno', 'cancelar turno', 'consultar mis turnos', 'ayuda']\n",
    "\n",
    "user_action_filter = (df.Body.apply(lambda x: any([k.lower() in x for k in actions]))) & (df.Direction == 'inbound')\n",
    "df[user_action_filter]"
   ]
  },
  {
   "cell_type": "code",
   "execution_count": 44,
   "metadata": {},
   "outputs": [],
   "source": [
    "def get_user_action(data):\n",
    "    utext = data.lower()\n",
    "    if 'sacar' in utext:\n",
    "        return 'TURNO'\n",
    "    elif 'cancelar' in utext:\n",
    "        return 'CANCELAR'\n",
    "    elif 'ayuda' in utext:\n",
    "        return 'AYUDA'\n",
    "    elif 'consultar' in utext:\n",
    "        return 'CONSULTA'\n",
    "    else:\n",
    "        return \"DESCONOCIDA\"\n",
    "        \n"
   ]
  },
  {
   "cell_type": "code",
   "execution_count": 45,
   "metadata": {},
   "outputs": [
    {
     "data": {
      "text/plain": [
       "TURNO       515\n",
       "CANCELAR     40\n",
       "AYUDA        36\n",
       "CONSULTA     25\n",
       "Name: ACCION_USUARIO, dtype: int64"
      ]
     },
     "execution_count": 45,
     "metadata": {},
     "output_type": "execute_result"
    }
   ],
   "source": [
    "user_action_col = 'ACCION_USUARIO'\n",
    "df.loc[user_action_filter, user_action_col] = df[user_action_filter].Body.apply(get_user_action)\n",
    "df[user_action_col].value_counts()"
   ]
  },
  {
   "cell_type": "markdown",
   "metadata": {},
   "source": [
    "Podemos ver que la mayoría de las acciones se concentran en Obtener un turno, siendo en la mayoría de los casos para el Hospital de City Bell"
   ]
  },
  {
   "cell_type": "code",
   "execution_count": 46,
   "metadata": {},
   "outputs": [
    {
     "data": {
      "text/plain": [
       "Text(0.5, 1.0, 'Acción de usuario (por Hospital)')"
      ]
     },
     "execution_count": 46,
     "metadata": {},
     "output_type": "execute_result"
    },
    {
     "data": {
      "image/png": "[encoded data removed]",
      "text/plain": [
       "<Figure size 1029x360 with 1 Axes>"
      ]
     },
     "metadata": {
      "needs_background": "light"
     },
     "output_type": "display_data"
    }
   ],
   "source": [
    "seaborn.catplot(y= \"ACCION_USUARIO\", hue=\"Hospital\", kind=\"count\", data=df, palette=\"pastel\", height =5, aspect=2.5 )\n",
    "plt.title('Acción de usuario (por Hospital)')"
   ]
  },
  {
   "cell_type": "markdown",
   "metadata": {
    "id": "bCga-deSLcFO"
   },
   "source": [
    "### Especialidad (turno)\n",
    "La elección de la columna `especialidad` parece ser natural, dado que los datos provienen de un sistema de asignación de turnos en hospitales. En un principio, la motivación es poder analizar qué tipos de turnos se reservan mediante el _chatbot_. A futuro se podrían comparar estos datos con los registros de hospitales (los que usan la aplicación, u otros) para evaluar si estos datos son representativos en cuanto a demanda de profesionales de la salud."
   ]
  },
  {
   "cell_type": "code",
   "execution_count": 47,
   "metadata": {},
   "outputs": [],
   "source": [
    "def get_especialidad(body):\n",
    "  \"\"\"\n",
    "  Returns None if it can't retrieve the expected value\n",
    "  \"\"\"\n",
    "  l = body.strip().split(' ')[3:]\n",
    "  try:\n",
    "    idx = l.index('ha') # leemos hasta 'ha sido...'\n",
    "    return ' '.join(l[:idx]).title()\n",
    "  except ValueError:\n",
    "    return None\n"
   ]
  },
  {
   "cell_type": "code",
   "execution_count": 48,
   "metadata": {},
   "outputs": [
    {
     "data": {
      "text/plain": [
       "'Clinica Medica'"
      ]
     },
     "execution_count": 48,
     "metadata": {},
     "output_type": "execute_result"
    }
   ],
   "source": [
    "s = \"\"\"tu turno de CLINICA MEDICA ha sido confirmado para la fecha 22/02/2022 a las 18:00 hrs, en Carrá, Bv. 9 de Julio 1501, S.Francisco, con Dr./Dra. Parente Sabrina\n",
    "\"\"\"\n",
    "get_especialidad(s)"
   ]
  },
  {
   "cell_type": "code",
   "execution_count": 49,
   "metadata": {},
   "outputs": [
    {
     "data": {
      "text/plain": [
       "array([' tu turno de CLINICA MEDICA ha sido confirmado para la fecha 22/02/2022 a las 18:00 hrs, en Carrá, Bv. 9 de Julio 1501, S.Francisco, con Dr./Dra. Parente Sabrina',\n",
       "       ' tu turno de OTORRINOLARINGOLOGIA ha sido confirmado para la fecha 18/02/2022 a las 19:15 hrs, en Carrá, Bv. 9 de Julio 1501, S.Francisco, con Dr./Dra. Zorzi Fernando',\n",
       "       ' tu turno de OBSTETRICIA ha sido confirmado para la fecha 21/03/2022 a las 16:00 hrs, en Calle 474 N583 entre 14a y 14b City Bell, con Dr./Dra. Gorriti Claudia',\n",
       "       ...,\n",
       "       ' tu turno de CARDIOLOGIA ha sido confirmado para la fecha 18/04/2022 a las 09:10 hrs, en Cons. Externos, Sede Tomás Villegas 2387, con Dr./Dra. MISERQUE SALOMON WADIT MUSA',\n",
       "       ' tu turno de NUTRICION ha sido confirmado para la fecha 11/03/2022 a las 11:00 hrs, en Calle 474 N583 entre 14a y 14b City Bell, con Dr./Dra. BANDIERA MARIA CECILIA',\n",
       "       ' tu turno de CLINICA MEDICA ha sido confirmado para la fecha 08/03/2022 a las 09:00 hrs, en Carrá, Bv. 9 de Julio 1501, S.Francisco, con Dr./Dra. Giletta Gabriela'],\n",
       "      dtype=object)"
      ]
     },
     "execution_count": 49,
     "metadata": {},
     "output_type": "execute_result"
    }
   ],
   "source": [
    "target = df[df.Appointment == 1].Body\n",
    "target.unique()"
   ]
  },
  {
   "cell_type": "code",
   "execution_count": 50,
   "metadata": {},
   "outputs": [
    {
     "data": {
      "text/plain": [
       "array([nan, 'Clinica Medica', 'Otorrinolaringologia', 'Obstetricia',\n",
       "       'Dermatologia', 'Pediatria', 'Cardiologia', 'Ginecologia',\n",
       "       'Traumatologia', 'Flebologia', 'Alergia', 'Neumonologia',\n",
       "       'Gastroenterologia', 'Nutricion', 'Urologia', 'Neurologia',\n",
       "       'Endocrinologia', 'Mastologia', 'Oftalmologia',\n",
       "       'Ginecologia Quirurgica', 'Cardiologia Pediatrica', 'Oncologia',\n",
       "       'Reumatologia', 'Diabetologia', 'Nefrologia', 'Neurocirugia',\n",
       "       'Cirugia', 'Cardiología', 'Hematologia', 'Cirugia Plastica',\n",
       "       'Cirugia Cardiovascular Central', 'Psiquiatria', 'Clinico',\n",
       "       'Alergia E Inmunologia', 'Nutricion Infantil', 'Categoría',\n",
       "       'Alimentacion Y Nutricion', 'Infectologia', 'Endocrinología',\n",
       "       'Traumatologia Y Ortopedia', 'Ginecologia Y Obstetricia',\n",
       "       'Cirugia General Y Laparoscopica', None, 'Cirugia General',\n",
       "       'Electroencefalograma',\n",
       "       'Cirugia Cardiovascular Periferica Y Flebologia', 'Bono',\n",
       "       'Eletrocardiograma', 'Doctor Lares'], dtype=object)"
      ]
     },
     "execution_count": 50,
     "metadata": {},
     "output_type": "execute_result"
    }
   ],
   "source": [
    "df.loc[df.Appointment == 1, 'Especialidad'] = df[df.Appointment == 1].Body.apply(get_especialidad)\n",
    "df['Especialidad'].unique()"
   ]
  },
  {
   "cell_type": "markdown",
   "metadata": {},
   "source": [
    "Vemos que existen algunos valores que no parecen ser especialidades (descartando `None`, que es esperable):\n",
    "* 'Bono'\n",
    "* 'Doctor Lares'\n",
    "* 'Categoría"
   ]
  },
  {
   "cell_type": "code",
   "execution_count": 51,
   "metadata": {
    "scrolled": true
   },
   "outputs": [
    {
     "data": {
      "text/html": [
       "<div>\n",
       "<style scoped>\n",
       "    .dataframe tbody tr th:only-of-type {\n",
       "        vertical-align: middle;\n",
       "    }\n",
       "\n",
       "    .dataframe tbody tr th {\n",
       "        vertical-align: top;\n",
       "    }\n",
       "\n",
       "    .dataframe thead th {\n",
       "        text-align: right;\n",
       "    }\n",
       "</style>\n",
       "<table border=\"1\" class=\"dataframe\">\n",
       "  <thead>\n",
       "    <tr style=\"text-align: right;\">\n",
       "      <th></th>\n",
       "      <th>Hospital</th>\n",
       "      <th>Tel_hospital</th>\n",
       "      <th>Body</th>\n",
       "      <th>Status</th>\n",
       "      <th>SentDate</th>\n",
       "      <th>Fecha</th>\n",
       "      <th>Dia</th>\n",
       "      <th>Mes</th>\n",
       "      <th>Hora</th>\n",
       "      <th>Messages</th>\n",
       "      <th>...</th>\n",
       "      <th>Issue_Name</th>\n",
       "      <th>ask_kunan</th>\n",
       "      <th>Ask_Kunan</th>\n",
       "      <th>many_fallbacks_goto_hh</th>\n",
       "      <th>Many_Fallbacks_Goto_HH</th>\n",
       "      <th>conv_id</th>\n",
       "      <th>fixed_body</th>\n",
       "      <th>time_to_appointment</th>\n",
       "      <th>ACCION_USUARIO</th>\n",
       "      <th>Especialidad</th>\n",
       "    </tr>\n",
       "  </thead>\n",
       "  <tbody>\n",
       "    <tr>\n",
       "      <th>68715</th>\n",
       "      <td>CityBell</td>\n",
       "      <td>whatsapp:+5492215137770</td>\n",
       "      <td>tu turno de categoría ha sido confirmado para...</td>\n",
       "      <td>read</td>\n",
       "      <td>2022-02-10 15:37:51+00:00</td>\n",
       "      <td>2022-02-10</td>\n",
       "      <td>10</td>\n",
       "      <td>2</td>\n",
       "      <td>15</td>\n",
       "      <td>1</td>\n",
       "      <td>...</td>\n",
       "      <td>0</td>\n",
       "      <td>[]</td>\n",
       "      <td>0</td>\n",
       "      <td>[]</td>\n",
       "      <td>0</td>\n",
       "      <td>2151</td>\n",
       "      <td>tu turno de categoría ha sido confirmado para...</td>\n",
       "      <td>13 days</td>\n",
       "      <td>NaN</td>\n",
       "      <td>Categoría</td>\n",
       "    </tr>\n",
       "    <tr>\n",
       "      <th>146900</th>\n",
       "      <td>CityBell</td>\n",
       "      <td>whatsapp:+5492215137770</td>\n",
       "      <td>tu turno de Bono ha sido confirmado para la f...</td>\n",
       "      <td>read</td>\n",
       "      <td>2022-02-21 11:24:43+00:00</td>\n",
       "      <td>2022-02-21</td>\n",
       "      <td>21</td>\n",
       "      <td>2</td>\n",
       "      <td>11</td>\n",
       "      <td>1</td>\n",
       "      <td>...</td>\n",
       "      <td>0</td>\n",
       "      <td>[]</td>\n",
       "      <td>0</td>\n",
       "      <td>[]</td>\n",
       "      <td>0</td>\n",
       "      <td>1999</td>\n",
       "      <td>tu turno de Bono ha sido confirmado para la f...</td>\n",
       "      <td>30 days</td>\n",
       "      <td>NaN</td>\n",
       "      <td>Bono</td>\n",
       "    </tr>\n",
       "    <tr>\n",
       "      <th>192492</th>\n",
       "      <td>Carra</td>\n",
       "      <td>whatsapp:+5493515266217</td>\n",
       "      <td>tu turno de Doctor lares ha sido confirmado p...</td>\n",
       "      <td>read</td>\n",
       "      <td>2022-02-25 09:23:42+00:00</td>\n",
       "      <td>2022-02-25</td>\n",
       "      <td>25</td>\n",
       "      <td>2</td>\n",
       "      <td>9</td>\n",
       "      <td>1</td>\n",
       "      <td>...</td>\n",
       "      <td>0</td>\n",
       "      <td>[]</td>\n",
       "      <td>0</td>\n",
       "      <td>[]</td>\n",
       "      <td>0</td>\n",
       "      <td>4999</td>\n",
       "      <td>tu turno de Doctor lares ha sido confirmado p...</td>\n",
       "      <td>25 days</td>\n",
       "      <td>NaN</td>\n",
       "      <td>Doctor Lares</td>\n",
       "    </tr>\n",
       "  </tbody>\n",
       "</table>\n",
       "<p>3 rows × 44 columns</p>\n",
       "</div>"
      ],
      "text/plain": [
       "        Hospital             Tel_hospital  \\\n",
       "68715   CityBell  whatsapp:+5492215137770   \n",
       "146900  CityBell  whatsapp:+5492215137770   \n",
       "192492     Carra  whatsapp:+5493515266217   \n",
       "\n",
       "                                                     Body Status  \\\n",
       "68715    tu turno de categoría ha sido confirmado para...   read   \n",
       "146900   tu turno de Bono ha sido confirmado para la f...   read   \n",
       "192492   tu turno de Doctor lares ha sido confirmado p...   read   \n",
       "\n",
       "                        SentDate      Fecha  Dia  Mes  Hora  Messages  ...  \\\n",
       "68715  2022-02-10 15:37:51+00:00 2022-02-10   10    2    15         1  ...   \n",
       "146900 2022-02-21 11:24:43+00:00 2022-02-21   21    2    11         1  ...   \n",
       "192492 2022-02-25 09:23:42+00:00 2022-02-25   25    2     9         1  ...   \n",
       "\n",
       "       Issue_Name ask_kunan  Ask_Kunan many_fallbacks_goto_hh  \\\n",
       "68715           0        []          0                     []   \n",
       "146900          0        []          0                     []   \n",
       "192492          0        []          0                     []   \n",
       "\n",
       "        Many_Fallbacks_Goto_HH conv_id  \\\n",
       "68715                        0    2151   \n",
       "146900                       0    1999   \n",
       "192492                       0    4999   \n",
       "\n",
       "                                               fixed_body time_to_appointment  \\\n",
       "68715    tu turno de categoría ha sido confirmado para...             13 days   \n",
       "146900   tu turno de Bono ha sido confirmado para la f...             30 days   \n",
       "192492   tu turno de Doctor lares ha sido confirmado p...             25 days   \n",
       "\n",
       "        ACCION_USUARIO  Especialidad  \n",
       "68715              NaN     Categoría  \n",
       "146900             NaN          Bono  \n",
       "192492             NaN  Doctor Lares  \n",
       "\n",
       "[3 rows x 44 columns]"
      ]
     },
     "execution_count": 51,
     "metadata": {},
     "output_type": "execute_result"
    }
   ],
   "source": [
    "rare_values = ['Bono', 'Doctor Lares', 'Categoría']\n",
    "\n",
    "df[df['Especialidad'].isin(rare_values)]"
   ]
  },
  {
   "cell_type": "markdown",
   "metadata": {},
   "source": [
    "Vemos que las especialidades mencionadas cumplen con las reglas de _parseo_. Para el caso de _Doctor Lares_ podemos asumir que es un turno con un profesional. ¿Se puede hacer lo mismo con los restantes? ¿Es correcto asumir que `Bono` se refiere al pago de una contribución, o a una cita con un cantante irlandes? ¿Qué quiere decir _'tu turno de categoría'_?\n",
    "Sin respuestas a estas preguntas, podemos pensar en impugnar estos registros (posiblemente toda la conversación)"
   ]
  },
  {
   "cell_type": "markdown",
   "metadata": {},
   "source": [
    "### 5) Verificar espacios y normalizar los nombres de las features que crean convenientes para un mejor entendimiento de su significado. \n"
   ]
  },
  {
   "cell_type": "code",
   "execution_count": 52,
   "metadata": {},
   "outputs": [
    {
     "data": {
      "text/plain": [
       "Index(['Hospital', 'Tel_hospital', 'Body', 'Status', 'SentDate', 'Fecha',\n",
       "       'Dia', 'Mes', 'Hora', 'Messages', 'Direction', 'Appointment_msp',\n",
       "       'Appointment', 'Cancellation_msp', 'Cancelled', 'consult',\n",
       "       'Consult_Appoint', 'fail_HH_sms', 'Fail_HH', 'achieve_HH', 'Got_HH',\n",
       "       'Cupo', 'Full_turnos_obra_social', 'No_Relation', 'No_Correlation',\n",
       "       'has_error', 'Error_Interno', 'has_error_501', 'Error_501',\n",
       "       'falla_api_externo', 'Falla_Api_Externo', 'alta_dni', 'not_DNI',\n",
       "       'issue_name', 'Issue_Name', 'ask_kunan', 'Ask_Kunan',\n",
       "       'many_fallbacks_goto_hh', 'Many_Fallbacks_Goto_HH', 'conv_id'],\n",
       "      dtype='object')"
      ]
     },
     "execution_count": 52,
     "metadata": {},
     "output_type": "execute_result"
    }
   ],
   "source": [
    "#Visualizo los nombres de las columnas.\n",
    "df_definitiva.columns"
   ]
  },
  {
   "cell_type": "code",
   "execution_count": 53,
   "metadata": {},
   "outputs": [],
   "source": [
    "#Reemplazo los nombres de las columnas.\n",
    "df_definitiva.columns = ['Hospital', 'Telefono_Hospital', 'Mensaje', 'Estado_Mensaje', 'Fecha_Completa_Mensaje', 'Fecha',\n",
    "        'Dia', 'Mes', 'Hora', 'Mensaje_dev', 'Direccion_Mensaje', 'Confirmacion_Mensaje',\n",
    "       'Confirmacion_Mensaje_01', 'Cancelacion_Mensaje', 'Cancelacion_Mensaje_01', 'Consulta_Turno',\n",
    "       'Consulta_Turno_01', 'Falla_Comunicacion_Humano', 'Falla_Comunicacion_Humano_01', 'Existosa_Comunicacion_Humano', 'Existosa_Comunicacion_Humano_01',\n",
    "       'Cupo_Lleno_Por_Obra_Social', 'Cupo_Lleno_Por_Obra_Social_01', 'Error_Mensaje_No_Relacionado', \n",
    "        'Error_Mensaje_No_Relacionado_01','Error_Interno', 'Error_Interno_01', 'Error_Sistema', 'Error_Sistema_01',\n",
    "       'Falla_Api_Externo', 'Falla_Api_Externo_01', 'DNI_Registrado_01', 'DNI_No_Registrado_01',\n",
    "       'Nombre_No_Registrado', 'Nombre_No_Registrado_01', 'Informacion_Kunan', 'Informacion_Kunan_01',\n",
    "       'Necesidad_Comunicacion_Humano', 'Necesidad_Comunicacion_Humano_01', 'Conversacion_Id']"
   ]
  },
  {
   "cell_type": "code",
   "execution_count": 54,
   "metadata": {},
   "outputs": [
    {
     "data": {
      "text/plain": [
       "Index(['Hospital', 'Telefono_Hospital', 'Mensaje', 'Estado_Mensaje',\n",
       "       'Fecha_Completa_Mensaje', 'Fecha', 'Dia', 'Mes', 'Hora', 'Mensaje_dev',\n",
       "       'Direccion_Mensaje', 'Confirmacion_Mensaje', 'Confirmacion_Mensaje_01',\n",
       "       'Cancelacion_Mensaje', 'Cancelacion_Mensaje_01', 'Consulta_Turno',\n",
       "       'Consulta_Turno_01', 'Falla_Comunicacion_Humano',\n",
       "       'Falla_Comunicacion_Humano_01', 'Existosa_Comunicacion_Humano',\n",
       "       'Existosa_Comunicacion_Humano_01', 'Cupo_Lleno_Por_Obra_Social',\n",
       "       'Cupo_Lleno_Por_Obra_Social_01', 'Error_Mensaje_No_Relacionado',\n",
       "       'Error_Mensaje_No_Relacionado_01', 'Error_Interno', 'Error_Interno_01',\n",
       "       'Error_Sistema', 'Error_Sistema_01', 'Falla_Api_Externo',\n",
       "       'Falla_Api_Externo_01', 'DNI_Registrado_01', 'DNI_No_Registrado_01',\n",
       "       'Nombre_No_Registrado', 'Nombre_No_Registrado_01', 'Informacion_Kunan',\n",
       "       'Informacion_Kunan_01', 'Necesidad_Comunicacion_Humano',\n",
       "       'Necesidad_Comunicacion_Humano_01', 'Conversacion_Id'],\n",
       "      dtype='object')"
      ]
     },
     "execution_count": 54,
     "metadata": {},
     "output_type": "execute_result"
    }
   ],
   "source": [
    "df_definitiva.columns"
   ]
  },
  {
   "cell_type": "markdown",
   "metadata": {},
   "source": [
    "Se normalizan los nombres de las features para lograr un mejor entendimiento de su significado."
   ]
  },
  {
   "cell_type": "markdown",
   "metadata": {},
   "source": [
    "### 6) Supongamos que necesitamos compartir públicamente todo el dataset y que los features \"Body\" contienen potencialmente datos sensibles y confidenciales. Elijan y apliquen técnicas de análisis de texto para detectarlas y técnicas de despersonalización para solucionar este aspecto.\n"
   ]
  },
  {
   "cell_type": "markdown",
   "metadata": {},
   "source": [
    "\n",
    "La Ley 25.326 (PROTECCION DE LOS DATOS PERSONALES) establece que los datos sensibles como\n",
    "```\n",
    "— Datos sensibles: Datos personales que revelan origen racial y étnico, opiniones políticas, convicciones religiosas, filosóficas o morales, afiliación sindical e información referente a la salud o a la vida sexual.\n",
    "```"
   ]
  },
  {
   "cell_type": "markdown",
   "metadata": {},
   "source": [
    "Vamos a utilizar las siguiente funciones para enmascarar datos. "
   ]
  },
  {
   "cell_type": "code",
   "execution_count": 55,
   "metadata": {
    "colab": {
     "base_uri": "https://localhost:8080/",
     "height": 36
    },
    "id": "uiLaaYNwdvHK",
    "outputId": "d6825f7f-365f-4e8f-9cbd-c3d2b06a287d"
   },
   "outputs": [
    {
     "data": {
      "text/plain": [
       "'6a39b3212129bdaae5a9b919105bb64ca8248a2cca3032a758253b66ab26bc08'"
      ]
     },
     "execution_count": 55,
     "metadata": {},
     "output_type": "execute_result"
    }
   ],
   "source": [
    "import hashlib\n",
    "\n",
    "sha256_mask = lambda x: hashlib.sha256(x.encode()).hexdigest()\n",
    "\n",
    "#Por ejemplo\n",
    "sha256_mask(\"este es un dato privado\")"
   ]
  },
  {
   "cell_type": "code",
   "execution_count": 56,
   "metadata": {},
   "outputs": [],
   "source": [
    "def mask_data(data, is_sensible, mask_fn = sha256_mask):\n",
    "  \"\"\"\n",
    "  Mask lines which hold sensible data, which can be filtered by the is_sensible function: (str) -> bool\n",
    "  \"\"\"\n",
    "  lines = data.split('\\n')\n",
    "\n",
    "  changes = {}\n",
    "\n",
    "  # Find sensitive data\n",
    "  for lineno, line in enumerate(lines):\n",
    "    haystack = line.lower()\n",
    "    if is_sensible(haystack):\n",
    "      line_parts = line.split(\":\")\n",
    "      changes[lineno] = \": \".join([ line_parts[0], mask_fn(line_parts[1])])\n",
    "\n",
    "  # Replace it\n",
    "  for lineno, masked in changes.items():\n",
    "    lines[lineno] = masked\n",
    "  return \"\\n \".join(lines), len(changes) > 0"
   ]
  },
  {
   "cell_type": "markdown",
   "metadata": {},
   "source": [
    "Enmascaramos los datos referidos a la obra social"
   ]
  },
  {
   "cell_type": "code",
   "execution_count": 57,
   "metadata": {
    "id": "X6yUPc-xUKc_"
   },
   "outputs": [],
   "source": [
    "def hide_health_plan(data, mask_fn = sha256_mask):\n",
    "  \"\"\"\n",
    "  Given a string which (potentially) contains sensible data, hide data. Consider the multiline string:\n",
    "  ¡Muchas gracias! Tus datos son:  \n",
    "  XXXXXXXXXXXXXXXXXXXXXXX XXXXXXXXXXXXXXXXXXXXXXXXXXX   Obra social: I.O.M.A. ( AF. OBLIGATORIOS ) \n",
    "    Plan: GENERAL \n",
    "▫️ Si querés confirmar escribí SI \n",
    "▫️ Si querés cancelar escribí NO \n",
    "▫️ Si querés cambiar un dato indicame cual\n",
    "\n",
    "  \"\"\"\n",
    "  return mask_data(data, lambda l: 'obra social:' in l or 'plan:' in l, mask_fn)"
   ]
  },
  {
   "cell_type": "markdown",
   "metadata": {},
   "source": [
    "Por ejemplo"
   ]
  },
  {
   "cell_type": "code",
   "execution_count": 58,
   "metadata": {
    "colab": {
     "base_uri": "https://localhost:8080/"
    },
    "id": "TrnitMNWfF7W",
    "outputId": "4ffcdb43-2f1b-466e-bd36-d51ecbdec9c6",
    "scrolled": true
   },
   "outputs": [
    {
     "name": "stdout",
     "output_type": "stream",
     "text": [
      "¡Muchas gracias! Tus datos son:  \n",
      " XXXXXXXXXXXXXXXXXXXXXXX XXXXXXXXXXXXXXXXXXXXXXXXXXX   Obra social: b3132d3200cf8a430cba2713dbc5c6c16e2c8175292ba82e670be4bd805e6d41\n",
      " Plan: 9018cbd4a192e5ba52ad29ea8b3680bfed1ef96216ab6e182b8faa7f3be5c14e\n",
      " * Si querés confirmar escribí SI \n",
      " * Si querés cancelar escribí NO \n",
      " * Si querés cambiar un dato indicame cual\n",
      " \n"
     ]
    }
   ],
   "source": [
    "msg_obra_social = \"\"\"¡Muchas gracias! Tus datos son:  \n",
    "XXXXXXXXXXXXXXXXXXXXXXX XXXXXXXXXXXXXXXXXXXXXXXXXXX   Obra social: I.O.M.A. ( AF. OBLIGATORIOS ) \n",
    "Plan: GENERAL \n",
    "* Si querés confirmar escribí SI \n",
    "* Si querés cancelar escribí NO \n",
    "* Si querés cambiar un dato indicame cual\n",
    "\"\"\"\n",
    "\n",
    "line, has_changes = hide_health_plan(msg_obra_social)\n",
    "for l in line.split(\"\\n\"):\n",
    "  print(l)"
   ]
  },
  {
   "cell_type": "markdown",
   "metadata": {},
   "source": [
    "Enmascaramos los datos referidos al turno "
   ]
  },
  {
   "cell_type": "code",
   "execution_count": 59,
   "metadata": {
    "id": "uozBL6zkjXoT"
   },
   "outputs": [],
   "source": [
    "def hide_appointment_info(data, mask_fn = sha256_mask):\n",
    "  \"\"\"\n",
    "  Given a string which (potentially) contains sensible data, hide data. Consider the multiline string:\n",
    "  ¡Muchas gracias! Tus datos son: \n",
    "  Sede: Calle 474 N583 entre 14a y 14b City Bell \n",
    "  Especialidad: Cardiologia \n",
    "  Doctor: Zabala Federico \n",
    "  Fecha y hora: 02/03/2022 a las 14:00 hrs \n",
    "▫️ Si querés confirmar escribí SI \n",
    "▫️ Si querés cancelar escribí NO \n",
    "▫️ Si querés cambiar un dato indicame cual\n",
    "  \"\"\"\n",
    "  return mask_data(data, lambda l: 'sede' in l or 'especialidad:' in l or 'doctor:' in l or 'fecha:' in l, mask_fn)"
   ]
  },
  {
   "cell_type": "code",
   "execution_count": 60,
   "metadata": {
    "colab": {
     "base_uri": "https://localhost:8080/"
    },
    "id": "yKND4v6KiXK4",
    "outputId": "73d9427d-4757-4a30-be32-7d4478017032"
   },
   "outputs": [
    {
     "name": "stdout",
     "output_type": "stream",
     "text": [
      "¡Muchas gracias! Tus datos son: \n",
      "   Sede: 1dfd34bddd4538e83b0dabefa238e4f7b6940c14da6f17ea46a3fe5c1caea444\n",
      "   Especialidad: dc051b3a02a77fe7ebd9992821f40e5fb5deac92f07a76f82aaa93f859c35f32\n",
      "   Doctor: 31136c51c78104658ea788b0cee1e8d3f51365725f1f3ad8fc433d89961d96db\n",
      "   Fecha y hora: 02/03/2022 a las 14:00 hrs \n",
      " ▫️ Si querés confirmar escribí SI \n",
      " ▫️ Si querés cancelar escribí NO \n",
      " ▫️ Si querés cambiar un dato indicame cual\n"
     ]
    }
   ],
   "source": [
    "msg_dia_y_lugar = \"\"\"¡Muchas gracias! Tus datos son: \n",
    "  Sede: Calle 474 N583 entre 14a y 14b City Bell \n",
    "  Especialidad: Cardiologia \n",
    "  Doctor: Zabala Federico \n",
    "  Fecha y hora: 02/03/2022 a las 14:00 hrs \n",
    "▫️ Si querés confirmar escribí SI \n",
    "▫️ Si querés cancelar escribí NO \n",
    "▫️ Si querés cambiar un dato indicame cual\"\"\"\n",
    "\n",
    "masked, _ = hide_appointment_info(msg_dia_y_lugar)\n",
    "for line in masked.split(\"\\n\"):\n",
    "  print(line)"
   ]
  },
  {
   "cell_type": "markdown",
   "metadata": {},
   "source": [
    "Finalmente, generamos una única función para poder emascarar los datos"
   ]
  },
  {
   "cell_type": "code",
   "execution_count": 61,
   "metadata": {},
   "outputs": [],
   "source": [
    "def compose(*args):\n",
    "    def apply(s):\n",
    "      for f in args:\n",
    "        masked, has_changes  = f(s)\n",
    "        if has_changes:\n",
    "            return masked\n",
    "      return s\n",
    "    return apply"
   ]
  },
  {
   "cell_type": "code",
   "execution_count": 62,
   "metadata": {},
   "outputs": [],
   "source": [
    "fn = compose(hide_appointment_info, hide_health_plan)"
   ]
  },
  {
   "cell_type": "markdown",
   "metadata": {},
   "source": [
    "Agregamos los datos en una nueva columna. Elegimos no reemplazar la columna existente debido a que\n",
    "* Se pueden requerir los datos sin enmascarar\n",
    "* Si eventualmente es necesario eliminar los datos sensibles, esto se puede hacer en una etapa posterior del _pipeline_"
   ]
  },
  {
   "cell_type": "code",
   "execution_count": 63,
   "metadata": {},
   "outputs": [],
   "source": [
    "body_col = 'Mensaje'\n",
    "body_seguro_col = 'Mensaje enmascarado'"
   ]
  },
  {
   "cell_type": "code",
   "execution_count": 64,
   "metadata": {},
   "outputs": [
    {
     "data": {
      "text/plain": [
       "21456"
      ]
     },
     "execution_count": 64,
     "metadata": {},
     "output_type": "execute_result"
    }
   ],
   "source": [
    "filtro = df_definitiva[body_col].str.contains(\"Tus datos son\")\n",
    "len(df_definitiva[filtro])"
   ]
  },
  {
   "cell_type": "markdown",
   "metadata": {},
   "source": [
    "Usando la función `loc` podemos agregar una nueva columna en las filas que contienen datos sensibles"
   ]
  },
  {
   "cell_type": "code",
   "execution_count": 65,
   "metadata": {},
   "outputs": [],
   "source": [
    "df_definitiva.loc[filtro, body_seguro_col] = df_definitiva[filtro][body_col].apply(fn)"
   ]
  },
  {
   "cell_type": "markdown",
   "metadata": {},
   "source": [
    "Finalmente, mostramos algunos de los registros con datos ocultos"
   ]
  },
  {
   "cell_type": "code",
   "execution_count": 66,
   "metadata": {},
   "outputs": [
    {
     "data": {
      "text/plain": [
       "array(['¡Muchas gracias! Tus datos son: \\n   Sede: 9ef52d5b36efa465686a70291d2cff8d17c924ed1c4cd57ac6c971eab45685b4\\n   Especialidad: c5ab8193ee7b0800467e696939db3c035498ce024a7fe52427a64fbfb6563942\\n   Doctor: f7d1f53ca05843f7a6dee037e3188534d8410a559b42de31a64ceb59dd943d6f\\n   Fecha y hora: 30/03/2022 a las 13:00 hrs \\n ▫️ Si querés confirmar escribí SI \\n ▫️ Si querés cancelar escribí NO \\n ▫️ Si querés cambiar un dato indicame cual',\n",
       "       '¡Muchas gracias! Tus datos son:  \\n   XXXXXXXXXXXXXXXXXXXXXXXXXXXXXXXXX XXXXXXXXXXXXXXXXXXXXXXXXXXXXXX   Obra social: a280f8682fbefae860525b4dd69ea7e7a93d60802e8079124e765bb82fec5105\\n     Plan: 8c86f184e43f5af870a394d92458746dbc1cc635660b0d246e1edfbcbde53ca3\\n ▫️ Si querés confirmar escribí SI \\n ▫️ Si querés cancelar escribí NO \\n ▫️ Si querés cambiar un dato indicame cual'],\n",
       "      dtype=object)"
      ]
     },
     "execution_count": 66,
     "metadata": {},
     "output_type": "execute_result"
    }
   ],
   "source": [
    "df_definitiva[df_definitiva[body_seguro_col].isnull() == False].sample(2)[body_seguro_col].values"
   ]
  },
  {
   "cell_type": "markdown",
   "metadata": {},
   "source": [
    "### 7) Analizar y normalizar los datos faltantes (nulos), si existen."
   ]
  },
  {
   "cell_type": "code",
   "execution_count": 86,
   "metadata": {},
   "outputs": [
    {
     "name": "stdout",
     "output_type": "stream",
     "text": [
      "<class 'pandas.core.frame.DataFrame'>\n",
      "Int64Index: 394090 entries, 0 to 197044\n",
      "Data columns (total 41 columns):\n",
      " #   Column                            Non-Null Count   Dtype              \n",
      "---  ------                            --------------   -----              \n",
      " 0   Hospital                          394090 non-null  object             \n",
      " 1   Telefono_Hospital                 394090 non-null  object             \n",
      " 2   Mensaje                           394090 non-null  object             \n",
      " 3   Estado_Mensaje                    394090 non-null  object             \n",
      " 4   Fecha_Completa_Mensaje            394090 non-null  datetime64[ns, UTC]\n",
      " 5   Fecha                             394090 non-null  datetime64[ns]     \n",
      " 6   Dia                               394090 non-null  int64              \n",
      " 7   Mes                               394090 non-null  int64              \n",
      " 8   Hora                              394090 non-null  int64              \n",
      " 9   Mensaje_dev                       394090 non-null  int64              \n",
      " 10  Direccion_Mensaje                 394090 non-null  object             \n",
      " 11  Confirmacion_Mensaje              394090 non-null  object             \n",
      " 12  Confirmacion_Mensaje_01           394090 non-null  int64              \n",
      " 13  Cancelacion_Mensaje               394090 non-null  object             \n",
      " 14  Cancelacion_Mensaje_01            394090 non-null  int64              \n",
      " 15  Consulta_Turno                    394090 non-null  object             \n",
      " 16  Consulta_Turno_01                 394090 non-null  int64              \n",
      " 17  Falla_Comunicacion_Humano         394090 non-null  object             \n",
      " 18  Falla_Comunicacion_Humano_01      394090 non-null  int64              \n",
      " 19  Existosa_Comunicacion_Humano      394090 non-null  object             \n",
      " 20  Existosa_Comunicacion_Humano_01   394090 non-null  int64              \n",
      " 21  Cupo_Lleno_Por_Obra_Social        394090 non-null  object             \n",
      " 22  Cupo_Lleno_Por_Obra_Social_01     394090 non-null  int64              \n",
      " 23  Error_Mensaje_No_Relacionado      394090 non-null  object             \n",
      " 24  Error_Mensaje_No_Relacionado_01   394090 non-null  int64              \n",
      " 25  Error_Interno                     394090 non-null  object             \n",
      " 26  Error_Interno_01                  394090 non-null  int64              \n",
      " 27  Error_Sistema                     394090 non-null  object             \n",
      " 28  Error_Sistema_01                  394090 non-null  int64              \n",
      " 29  Falla_Api_Externo                 394090 non-null  object             \n",
      " 30  Falla_Api_Externo_01              394090 non-null  int64              \n",
      " 31  DNI_Registrado_01                 394090 non-null  object             \n",
      " 32  DNI_No_Registrado_01              394090 non-null  int64              \n",
      " 33  Nombre_No_Registrado              394090 non-null  object             \n",
      " 34  Nombre_No_Registrado_01           394090 non-null  int64              \n",
      " 35  Informacion_Kunan                 394090 non-null  object             \n",
      " 36  Informacion_Kunan_01              394090 non-null  int64              \n",
      " 37  Necesidad_Comunicacion_Humano     394090 non-null  object             \n",
      " 38  Necesidad_Comunicacion_Humano_01  394090 non-null  int64              \n",
      " 39  Conversacion_Id                   394090 non-null  int64              \n",
      " 40  Mensaje enmascarado               21456 non-null   object             \n",
      "dtypes: datetime64[ns, UTC](1), datetime64[ns](1), int64(19), object(20)\n",
      "memory usage: 126.3+ MB\n"
     ]
    }
   ],
   "source": [
    "#Se muestran los valores no nulos por columna.\n",
    "df_definitiva.info()"
   ]
  },
  {
   "cell_type": "code",
   "execution_count": 87,
   "metadata": {},
   "outputs": [
    {
     "data": {
      "text/plain": [
       "Hospital                                 0\n",
       "Telefono_Hospital                        0\n",
       "Mensaje                                  0\n",
       "Estado_Mensaje                           0\n",
       "Fecha_Completa_Mensaje                   0\n",
       "Fecha                                    0\n",
       "Dia                                      0\n",
       "Mes                                      0\n",
       "Hora                                     0\n",
       "Mensaje_dev                              0\n",
       "Direccion_Mensaje                        0\n",
       "Confirmacion_Mensaje                     0\n",
       "Confirmacion_Mensaje_01                  0\n",
       "Cancelacion_Mensaje                      0\n",
       "Cancelacion_Mensaje_01                   0\n",
       "Consulta_Turno                           0\n",
       "Consulta_Turno_01                        0\n",
       "Falla_Comunicacion_Humano                0\n",
       "Falla_Comunicacion_Humano_01             0\n",
       "Existosa_Comunicacion_Humano             0\n",
       "Existosa_Comunicacion_Humano_01          0\n",
       "Cupo_Lleno_Por_Obra_Social               0\n",
       "Cupo_Lleno_Por_Obra_Social_01            0\n",
       "Error_Mensaje_No_Relacionado             0\n",
       "Error_Mensaje_No_Relacionado_01          0\n",
       "Error_Interno                            0\n",
       "Error_Interno_01                         0\n",
       "Error_Sistema                            0\n",
       "Error_Sistema_01                         0\n",
       "Falla_Api_Externo                        0\n",
       "Falla_Api_Externo_01                     0\n",
       "DNI_Registrado_01                        0\n",
       "DNI_No_Registrado_01                     0\n",
       "Nombre_No_Registrado                     0\n",
       "Nombre_No_Registrado_01                  0\n",
       "Informacion_Kunan                        0\n",
       "Informacion_Kunan_01                     0\n",
       "Necesidad_Comunicacion_Humano            0\n",
       "Necesidad_Comunicacion_Humano_01         0\n",
       "Conversacion_Id                          0\n",
       "Mensaje enmascarado                 372634\n",
       "dtype: int64"
      ]
     },
     "execution_count": 87,
     "metadata": {},
     "output_type": "execute_result"
    }
   ],
   "source": [
    "#Se muestran directamente los valores nulos por columna para una mejor visualización.\n",
    "df_definitiva.isna().sum()"
   ]
  },
  {
   "cell_type": "markdown",
   "metadata": {},
   "source": [
    "Como se puede observar se analizan las columnas de todo el dataframe y se encuentra que no existen valores nulos, por lo tanto no es necesario normalizar ningún dato."
   ]
  },
  {
   "cell_type": "markdown",
   "metadata": {},
   "source": [
    "### 8) Outliers: existen valores atípicos en las columnas del dataset? Si las hay, aplicar una solución para normalizar solo esos Outliers. "
   ]
  },
  {
   "cell_type": "markdown",
   "metadata": {},
   "source": [
    "Una forma de encontrar si existen valores atípicos en el dataset es comparar las variables categóricas con las variables codificadas de cada una de ellas.\n",
    "Entonces primero se obtiene la cantidad de valores para una y para otra, y luego se compara que la cantidad de coincidencias sea igual que estas."
   ]
  },
  {
   "cell_type": "code",
   "execution_count": 172,
   "metadata": {},
   "outputs": [
    {
     "data": {
      "text/plain": [
       "array(['[]', \"[' ha sido confirmado']\"], dtype=object)"
      ]
     },
     "execution_count": 172,
     "metadata": {},
     "output_type": "execute_result"
    }
   ],
   "source": [
    "df_definitiva.Confirmacion_Mensaje.unique()"
   ]
  },
  {
   "cell_type": "markdown",
   "metadata": {},
   "source": [
    "Para Confirmacion_Mensaje y Confirmacion_Mensaje_01:"
   ]
  },
  {
   "cell_type": "code",
   "execution_count": 173,
   "metadata": {},
   "outputs": [
    {
     "data": {
      "text/plain": [
       "5997"
      ]
     },
     "execution_count": 173,
     "metadata": {},
     "output_type": "execute_result"
    }
   ],
   "source": [
    "#Cantidad de variables con mensaje, las demás son vacías:\n",
    "df_definitiva.Confirmacion_Mensaje[df_definitiva.Confirmacion_Mensaje  == \"[' ha sido confirmado']\"].count()"
   ]
  },
  {
   "cell_type": "code",
   "execution_count": 174,
   "metadata": {},
   "outputs": [
    {
     "data": {
      "text/plain": [
       "5997"
      ]
     },
     "execution_count": 174,
     "metadata": {},
     "output_type": "execute_result"
    }
   ],
   "source": [
    "#Cantidad de variables con 1, las demás son vacías:\n",
    "df_definitiva.Confirmacion_Mensaje_01[df_definitiva.Confirmacion_Mensaje_01 == 1].count()"
   ]
  },
  {
   "cell_type": "code",
   "execution_count": 176,
   "metadata": {},
   "outputs": [
    {
     "data": {
      "text/plain": [
       "5997"
      ]
     },
     "execution_count": 176,
     "metadata": {},
     "output_type": "execute_result"
    }
   ],
   "source": [
    "#Cantidad de variables con mensajes y con 1.\n",
    "df_1 = df_definitiva[(df_definitiva.Confirmacion_Mensaje_01 == 1) & (df_definitiva.Confirmacion_Mensaje == \"[' ha sido confirmado']\")]\n",
    "df_1.Confirmacion_Mensaje.count()"
   ]
  },
  {
   "cell_type": "markdown",
   "metadata": {},
   "source": [
    "Para Cancelacion_Mensaje y Cancelacion_Mensaje_01 :"
   ]
  },
  {
   "cell_type": "code",
   "execution_count": 169,
   "metadata": {},
   "outputs": [
    {
     "data": {
      "text/plain": [
       "1430"
      ]
     },
     "execution_count": 169,
     "metadata": {},
     "output_type": "execute_result"
    }
   ],
   "source": [
    "#Cantidad de variables con mensaje, las demás son vacías:\n",
    "df_definitiva.Cancelacion_Mensaje[df_definitiva.Cancelacion_Mensaje  == \"['cancelado tu turno de']\"].count()"
   ]
  },
  {
   "cell_type": "code",
   "execution_count": 170,
   "metadata": {},
   "outputs": [
    {
     "data": {
      "text/plain": [
       "1430"
      ]
     },
     "execution_count": 170,
     "metadata": {},
     "output_type": "execute_result"
    }
   ],
   "source": [
    "#Cantidad de variables con 1, las demás son vacías:\n",
    "df_definitiva.Cancelacion_Mensaje_01[df_definitiva.Cancelacion_Mensaje_01 == 1].count()"
   ]
  },
  {
   "cell_type": "code",
   "execution_count": 171,
   "metadata": {},
   "outputs": [
    {
     "data": {
      "text/plain": [
       "1430"
      ]
     },
     "execution_count": 171,
     "metadata": {},
     "output_type": "execute_result"
    }
   ],
   "source": [
    "#Cantidad de variables con mensajes y con 1.\n",
    "df_1 = df_definitiva[(df_definitiva.Cancelacion_Mensaje_01 == 1) & (df_definitiva.Cancelacion_Mensaje == \"['cancelado tu turno de']\")]\n",
    "df_1.Cancelacion_Mensaje_01.count()"
   ]
  },
  {
   "cell_type": "markdown",
   "metadata": {},
   "source": [
    "Para Consulta_Turno y Consulta_Turno_01 :"
   ]
  },
  {
   "cell_type": "code",
   "execution_count": 160,
   "metadata": {},
   "outputs": [
    {
     "data": {
      "text/plain": [
       "1001"
      ]
     },
     "execution_count": 160,
     "metadata": {},
     "output_type": "execute_result"
    }
   ],
   "source": [
    "#Cantidad de variables con mensaje, las demás son vacías:\n",
    "df_definitiva.Consulta_Turno[df_definitiva.Consulta_Turno  == \"['estoy buscando tus turnos']\"].count()"
   ]
  },
  {
   "cell_type": "code",
   "execution_count": 161,
   "metadata": {},
   "outputs": [
    {
     "data": {
      "text/plain": [
       "1001"
      ]
     },
     "execution_count": 161,
     "metadata": {},
     "output_type": "execute_result"
    }
   ],
   "source": [
    "#Cantidad de variables con 1, las demás son vacías:\n",
    "df_definitiva.Consulta_Turno_01[df_definitiva.Consulta_Turno_01   == 1].count()"
   ]
  },
  {
   "cell_type": "code",
   "execution_count": 162,
   "metadata": {},
   "outputs": [
    {
     "data": {
      "text/plain": [
       "1001"
      ]
     },
     "execution_count": 162,
     "metadata": {},
     "output_type": "execute_result"
    }
   ],
   "source": [
    "#Cantidad de variables con mensajes y con 1.\n",
    "df_1 = df_definitiva[(df_definitiva.Consulta_Turno_01  == 1) & (df_definitiva.Consulta_Turno == \"['estoy buscando tus turnos']\")]\n",
    "df_1.Consulta_Turno_01.count()"
   ]
  },
  {
   "cell_type": "markdown",
   "metadata": {},
   "source": [
    "Para Falla_Comunicacion_Humano y Falla_Comunicacion_Humano_01 :"
   ]
  },
  {
   "cell_type": "code",
   "execution_count": 152,
   "metadata": {},
   "outputs": [
    {
     "data": {
      "text/plain": [
       "2507"
      ]
     },
     "execution_count": 152,
     "metadata": {},
     "output_type": "execute_result"
    }
   ],
   "source": [
    "#Cantidad de variables con mensaje, las demás son vacías:\n",
    "df_definitiva.Falla_Comunicacion_Humano[df_definitiva.Falla_Comunicacion_Humano  == \"['fuera del horario']\"].count()"
   ]
  },
  {
   "cell_type": "code",
   "execution_count": 153,
   "metadata": {},
   "outputs": [
    {
     "data": {
      "text/plain": [
       "2507"
      ]
     },
     "execution_count": 153,
     "metadata": {},
     "output_type": "execute_result"
    }
   ],
   "source": [
    "#Cantidad de variables con 1, las demás son vacías:\n",
    "df_definitiva.Falla_Comunicacion_Humano_01[df_definitiva.Falla_Comunicacion_Humano_01   == 1].count()"
   ]
  },
  {
   "cell_type": "code",
   "execution_count": 154,
   "metadata": {},
   "outputs": [
    {
     "data": {
      "text/plain": [
       "2507"
      ]
     },
     "execution_count": 154,
     "metadata": {},
     "output_type": "execute_result"
    }
   ],
   "source": [
    "#Cantidad de variables con mensajes y con 1.\n",
    "df_1 = df_definitiva[(df_definitiva.Falla_Comunicacion_Humano_01  == 1) & (df_definitiva.Falla_Comunicacion_Humano == \"['fuera del horario']\")]\n",
    "df_1.Falla_Comunicacion_Humano_01.count()"
   ]
  },
  {
   "cell_type": "markdown",
   "metadata": {},
   "source": [
    "Para Existosa_Comunicacion_Humano y Existosa_Comunicacion_Humano_01 :"
   ]
  },
  {
   "cell_type": "code",
   "execution_count": 146,
   "metadata": {},
   "outputs": [
    {
     "data": {
      "text/plain": [
       "2757"
      ]
     },
     "execution_count": 146,
     "metadata": {},
     "output_type": "execute_result"
    }
   ],
   "source": [
    "#Cantidad de variables con mensaje, las demás son vacías:\n",
    "df_definitiva.Existosa_Comunicacion_Humano[df_definitiva.Existosa_Comunicacion_Humano  == \"['fuiste transferido a un humano']\"].count()"
   ]
  },
  {
   "cell_type": "code",
   "execution_count": 147,
   "metadata": {},
   "outputs": [
    {
     "data": {
      "text/plain": [
       "2757"
      ]
     },
     "execution_count": 147,
     "metadata": {},
     "output_type": "execute_result"
    }
   ],
   "source": [
    "#Cantidad de variables con 1, las demás son vacías:\n",
    "df_definitiva.Existosa_Comunicacion_Humano_01[df_definitiva.Existosa_Comunicacion_Humano_01   == 1].count()"
   ]
  },
  {
   "cell_type": "code",
   "execution_count": 148,
   "metadata": {},
   "outputs": [
    {
     "data": {
      "text/plain": [
       "2757"
      ]
     },
     "execution_count": 148,
     "metadata": {},
     "output_type": "execute_result"
    }
   ],
   "source": [
    "#Cantidad de variables con mensajes y con 1.\n",
    "df_1 = df_definitiva[(df_definitiva.Existosa_Comunicacion_Humano_01  == 1) & (df_definitiva.Existosa_Comunicacion_Humano == \"['fuiste transferido a un humano']\")]\n",
    "df_1.Existosa_Comunicacion_Humano_01.count()"
   ]
  },
  {
   "cell_type": "markdown",
   "metadata": {},
   "source": [
    "\n",
    "Para Cupo_Lleno_Por_Obra_Social y Cupo_Lleno_Por_Obra_Social_01 :"
   ]
  },
  {
   "cell_type": "code",
   "execution_count": 139,
   "metadata": {},
   "outputs": [
    {
     "data": {
      "text/plain": [
       "1893"
      ]
     },
     "execution_count": 139,
     "metadata": {},
     "output_type": "execute_result"
    }
   ],
   "source": [
    "#Cantidad de variables con mensaje, las demás son vacías:\n",
    "df_definitiva.Cupo_Lleno_Por_Obra_Social[df_definitiva.Cupo_Lleno_Por_Obra_Social  == \"['cupo de consultas diarias con la obra social seleccionada']\"].count()"
   ]
  },
  {
   "cell_type": "code",
   "execution_count": 140,
   "metadata": {},
   "outputs": [
    {
     "data": {
      "text/plain": [
       "1893"
      ]
     },
     "execution_count": 140,
     "metadata": {},
     "output_type": "execute_result"
    }
   ],
   "source": [
    "#Cantidad de variables con 1, las demás son vacías:\n",
    "df_definitiva.Cupo_Lleno_Por_Obra_Social_01 [df_definitiva.Cupo_Lleno_Por_Obra_Social_01   == 1].count()"
   ]
  },
  {
   "cell_type": "code",
   "execution_count": 142,
   "metadata": {},
   "outputs": [
    {
     "data": {
      "text/plain": [
       "1893"
      ]
     },
     "execution_count": 142,
     "metadata": {},
     "output_type": "execute_result"
    }
   ],
   "source": [
    "#Cantidad de variables con mensajes y con 1.\n",
    "df_1 = df_definitiva[(df_definitiva.Cupo_Lleno_Por_Obra_Social_01  == 1) & (df_definitiva.Cupo_Lleno_Por_Obra_Social == \"['cupo de consultas diarias con la obra social seleccionada']\")]\n",
    "df_1.Cupo_Lleno_Por_Obra_Social_01 .count()"
   ]
  },
  {
   "cell_type": "markdown",
   "metadata": {},
   "source": [
    "Para Error_Mensaje_No_Relacionado y Error_Mensaje_No_Relacionado_01:"
   ]
  },
  {
   "cell_type": "code",
   "execution_count": 135,
   "metadata": {},
   "outputs": [
    {
     "data": {
      "text/plain": [
       "712"
      ]
     },
     "execution_count": 135,
     "metadata": {},
     "output_type": "execute_result"
    }
   ],
   "source": [
    "#Cantidad de variables con mensaje, las demás son vacías:\n",
    "df_definitiva.Error_Mensaje_No_Relacionado[df_definitiva.Error_Mensaje_No_Relacionado == \"['solamente ayudo con temas relacionados con nuestro centro de salud']\"].count()"
   ]
  },
  {
   "cell_type": "code",
   "execution_count": 136,
   "metadata": {},
   "outputs": [
    {
     "data": {
      "text/plain": [
       "712"
      ]
     },
     "execution_count": 136,
     "metadata": {},
     "output_type": "execute_result"
    }
   ],
   "source": [
    "#Cantidad de variables con 1, las demás son vacías:\n",
    "df_definitiva.Error_Mensaje_No_Relacionado_01[df_definitiva.Error_Mensaje_No_Relacionado_01  == 1].count()"
   ]
  },
  {
   "cell_type": "code",
   "execution_count": 137,
   "metadata": {},
   "outputs": [
    {
     "data": {
      "text/plain": [
       "712"
      ]
     },
     "execution_count": 137,
     "metadata": {},
     "output_type": "execute_result"
    }
   ],
   "source": [
    "#Cantidad de variables con mensajes y con 1.\n",
    "df_1 = df_definitiva[(df_definitiva.Error_Mensaje_No_Relacionado_01 == 1) & (df_definitiva.Error_Mensaje_No_Relacionado == \"['solamente ayudo con temas relacionados con nuestro centro de salud']\")]\n",
    "df_1.Error_Mensaje_No_Relacionado.count()"
   ]
  },
  {
   "cell_type": "markdown",
   "metadata": {},
   "source": [
    "\n",
    "Para Error_Interno y Error_Interno_01:"
   ]
  },
  {
   "cell_type": "code",
   "execution_count": 130,
   "metadata": {},
   "outputs": [
    {
     "data": {
      "text/plain": [
       "519"
      ]
     },
     "execution_count": 130,
     "metadata": {},
     "output_type": "execute_result"
    }
   ],
   "source": [
    "#Cantidad de variables con mensaje, las demás son vacías:\n",
    "df_definitiva.Error_Interno[df_definitiva.Error_Interno == \"['error interno. cerrá y volvé a abrir la aplicación']\"].count()"
   ]
  },
  {
   "cell_type": "code",
   "execution_count": 131,
   "metadata": {},
   "outputs": [
    {
     "data": {
      "text/plain": [
       "519"
      ]
     },
     "execution_count": 131,
     "metadata": {},
     "output_type": "execute_result"
    }
   ],
   "source": [
    "#Cantidad de variables con 1, las demás son vacías:\n",
    "df_definitiva.Error_Sistema_01[df_definitiva.Error_Interno_01  == 1].count()"
   ]
  },
  {
   "cell_type": "code",
   "execution_count": 133,
   "metadata": {},
   "outputs": [
    {
     "data": {
      "text/plain": [
       "519"
      ]
     },
     "execution_count": 133,
     "metadata": {},
     "output_type": "execute_result"
    }
   ],
   "source": [
    "#Cantidad de variables con mensajes y con 1.\n",
    "df_1 = df_definitiva[(df_definitiva.Error_Interno_01 == 1) & (df_definitiva.Error_Interno == \"['error interno. cerrá y volvé a abrir la aplicación']\")]\n",
    "df_1.Error_Interno.count()"
   ]
  },
  {
   "cell_type": "markdown",
   "metadata": {},
   "source": [
    "Para Error_Sistema y Error_Sistema_01:"
   ]
  },
  {
   "cell_type": "code",
   "execution_count": 125,
   "metadata": {},
   "outputs": [
    {
     "data": {
      "text/plain": [
       "544"
      ]
     },
     "execution_count": 125,
     "metadata": {},
     "output_type": "execute_result"
    }
   ],
   "source": [
    "#Cantidad de variables con mensaje, las demás son vacías:\n",
    "df_definitiva.Error_Sistema[df_definitiva.Error_Sistema == \"['el sistema de gestión de turnos no está disponible']\"].count()"
   ]
  },
  {
   "cell_type": "code",
   "execution_count": 126,
   "metadata": {},
   "outputs": [
    {
     "data": {
      "text/plain": [
       "544"
      ]
     },
     "execution_count": 126,
     "metadata": {},
     "output_type": "execute_result"
    }
   ],
   "source": [
    "#Cantidad de variables con 1, las demás son vacías:\n",
    "df_definitiva.Error_Sistema_01[df_definitiva.Error_Sistema_01  == 1].count()"
   ]
  },
  {
   "cell_type": "code",
   "execution_count": 128,
   "metadata": {},
   "outputs": [
    {
     "data": {
      "text/plain": [
       "544"
      ]
     },
     "execution_count": 128,
     "metadata": {},
     "output_type": "execute_result"
    }
   ],
   "source": [
    "#Cantidad de variables con mensajes y con 1.\n",
    "df_1 = df_definitiva[(df_definitiva.Error_Sistema_01 == 1) & (df_definitiva.Error_Sistema == \"['el sistema de gestión de turnos no está disponible']\")]\n",
    "df_1.Error_Sistema_01.count()"
   ]
  },
  {
   "cell_type": "markdown",
   "metadata": {},
   "source": [
    "Para Falla_Api_Externo y Falla_Api_Externo_01:"
   ]
  },
  {
   "cell_type": "code",
   "execution_count": 119,
   "metadata": {},
   "outputs": [
    {
     "data": {
      "text/plain": [
       "821"
      ]
     },
     "execution_count": 119,
     "metadata": {},
     "output_type": "execute_result"
    }
   ],
   "source": [
    "#Cantidad de variables con mensaje, las demás son vacías:\n",
    "df_definitiva.Falla_Api_Externo[df_definitiva.Falla_Api_Externo == \"['hubo un error, intentá más tarde']\"].count()"
   ]
  },
  {
   "cell_type": "code",
   "execution_count": 120,
   "metadata": {},
   "outputs": [
    {
     "data": {
      "text/plain": [
       "821"
      ]
     },
     "execution_count": 120,
     "metadata": {},
     "output_type": "execute_result"
    }
   ],
   "source": [
    "#Cantidad de variables con 1, las demás son vacías:\n",
    "df_definitiva. Falla_Api_Externo_01 [df_definitiva. Falla_Api_Externo_01  == 1].count()"
   ]
  },
  {
   "cell_type": "code",
   "execution_count": 121,
   "metadata": {},
   "outputs": [
    {
     "data": {
      "text/plain": [
       "821"
      ]
     },
     "execution_count": 121,
     "metadata": {},
     "output_type": "execute_result"
    }
   ],
   "source": [
    "#Cantidad de variables con mensajes y con 1.\n",
    "df_1 = df_definitiva[(df_definitiva.Falla_Api_Externo_01 == 1) & (df_definitiva.Falla_Api_Externo == \"['hubo un error, intentá más tarde']\")]\n",
    "df_1.Falla_Api_Externo_01.count()"
   ]
  },
  {
   "cell_type": "markdown",
   "metadata": {},
   "source": [
    "Para DNI_Registrado_01 y DNI_No_Registrado_01:"
   ]
  },
  {
   "cell_type": "code",
   "execution_count": 112,
   "metadata": {},
   "outputs": [
    {
     "data": {
      "text/plain": [
       "3868"
      ]
     },
     "execution_count": 112,
     "metadata": {},
     "output_type": "execute_result"
    }
   ],
   "source": [
    "#Cantidad de variables con mensaje, las demás son vacías:\n",
    "df_definitiva.DNI_Registrado_01[df_definitiva.DNI_Registrado_01 == \"['no se encuentra registrado ese dni en el sistema']\"].count()"
   ]
  },
  {
   "cell_type": "code",
   "execution_count": 113,
   "metadata": {},
   "outputs": [
    {
     "data": {
      "text/plain": [
       "3868"
      ]
     },
     "execution_count": 113,
     "metadata": {},
     "output_type": "execute_result"
    }
   ],
   "source": [
    "#Cantidad de variables con 1, las demás son vacías:\n",
    "df_definitiva. DNI_No_Registrado_01 [df_definitiva. DNI_No_Registrado_01  == 1].count()"
   ]
  },
  {
   "cell_type": "code",
   "execution_count": 114,
   "metadata": {},
   "outputs": [
    {
     "data": {
      "text/plain": [
       "3868"
      ]
     },
     "execution_count": 114,
     "metadata": {},
     "output_type": "execute_result"
    }
   ],
   "source": [
    "#Cantidad de variables con mensajes y con 1.\n",
    "df_1 = df_definitiva[(df_definitiva.DNI_No_Registrado_01 == 1) & (df_definitiva.DNI_Registrado_01 == \"['no se encuentra registrado ese dni en el sistema']\")]\n",
    "df_1.DNI_No_Registrado_01.count()"
   ]
  },
  {
   "cell_type": "markdown",
   "metadata": {},
   "source": [
    "Para Nombre_No_Registrado y Nombre_No_Registrado_01:"
   ]
  },
  {
   "cell_type": "code",
   "execution_count": 98,
   "metadata": {},
   "outputs": [
    {
     "data": {
      "text/plain": [
       "719"
      ]
     },
     "execution_count": 98,
     "metadata": {},
     "output_type": "execute_result"
    }
   ],
   "source": [
    "#Cantidad de variables con mensaje, las demás son vacías:\n",
    "df_definitiva.Nombre_No_Registrado[df_definitiva.Nombre_No_Registrado == \"['para poder agendar tu turno necesito tu nombre y apellido']\"].count()"
   ]
  },
  {
   "cell_type": "code",
   "execution_count": 99,
   "metadata": {},
   "outputs": [
    {
     "data": {
      "text/plain": [
       "719"
      ]
     },
     "execution_count": 99,
     "metadata": {},
     "output_type": "execute_result"
    }
   ],
   "source": [
    "#Cantidad de variables con 1, las demás son vacías:\n",
    "df_definitiva.Nombre_No_Registrado_01 [df_definitiva.Nombre_No_Registrado_01  == 1].count()"
   ]
  },
  {
   "cell_type": "code",
   "execution_count": 100,
   "metadata": {},
   "outputs": [
    {
     "data": {
      "text/plain": [
       "719"
      ]
     },
     "execution_count": 100,
     "metadata": {},
     "output_type": "execute_result"
    }
   ],
   "source": [
    "#Cantidad de variables con mensajes y con 1.\n",
    "df_1 = df_definitiva[(df_definitiva.Nombre_No_Registrado_01 == 1) & (df_definitiva.Nombre_No_Registrado == \"['para poder agendar tu turno necesito tu nombre y apellido']\")]\n",
    "df_1.Informacion_Kunan.count()"
   ]
  },
  {
   "cell_type": "markdown",
   "metadata": {},
   "source": [
    "Para Informacion_Kunan y Informacion_Kunan_01:"
   ]
  },
  {
   "cell_type": "code",
   "execution_count": 101,
   "metadata": {},
   "outputs": [
    {
     "data": {
      "text/plain": [
       "9"
      ]
     },
     "execution_count": 101,
     "metadata": {},
     "output_type": "execute_result"
    }
   ],
   "source": [
    "#Cantidad de variables con mensaje, las demás son vacías:\n",
    "df_definitiva.Informacion_Kunan[df_definitiva.Informacion_Kunan == \"['kunan es la empresa de tecnología responsable por el desarrollo de este asistente virtual']\"].count()"
   ]
  },
  {
   "cell_type": "code",
   "execution_count": 102,
   "metadata": {},
   "outputs": [
    {
     "data": {
      "text/plain": [
       "9"
      ]
     },
     "execution_count": 102,
     "metadata": {},
     "output_type": "execute_result"
    }
   ],
   "source": [
    "#Cantidad de variables con 1, las demás son vacías:\n",
    "df_definitiva.Informacion_Kunan_01[df_definitiva.Informacion_Kunan_01 == 1].count()"
   ]
  },
  {
   "cell_type": "code",
   "execution_count": 103,
   "metadata": {},
   "outputs": [
    {
     "data": {
      "text/plain": [
       "9"
      ]
     },
     "execution_count": 103,
     "metadata": {},
     "output_type": "execute_result"
    }
   ],
   "source": [
    "#Cantidad de variables con mensajes y con 1.\n",
    "df_1 = df_definitiva[(df_definitiva.Informacion_Kunan_01 == 1) & (df_definitiva.Informacion_Kunan == \"['kunan es la empresa de tecnología responsable por el desarrollo de este asistente virtual']\")]\n",
    "df_1.Informacion_Kunan.count()"
   ]
  },
  {
   "cell_type": "markdown",
   "metadata": {},
   "source": [
    "Para Necesidad_Comunicacion_Humano y Necesidad_Comunicacion_Humano_01:"
   ]
  },
  {
   "cell_type": "code",
   "execution_count": 104,
   "metadata": {},
   "outputs": [
    {
     "data": {
      "text/plain": [
       "1474"
      ]
     },
     "execution_count": 104,
     "metadata": {},
     "output_type": "execute_result"
    }
   ],
   "source": [
    "#Cantidad de variables con mensaje, las demás son vacías:\n",
    "df_definitiva.Necesidad_Comunicacion_Humano[df_definitiva.Necesidad_Comunicacion_Humano == \"['disculpe, el asistente virtual de']\"].count()"
   ]
  },
  {
   "cell_type": "code",
   "execution_count": 105,
   "metadata": {},
   "outputs": [
    {
     "data": {
      "text/plain": [
       "1474"
      ]
     },
     "execution_count": 105,
     "metadata": {},
     "output_type": "execute_result"
    }
   ],
   "source": [
    "#Cantidad de variables con 1, las demás son vacías:\n",
    "df_definitiva.Necesidad_Comunicacion_Humano_01[df_definitiva.Necesidad_Comunicacion_Humano_01 == 1].count()"
   ]
  },
  {
   "cell_type": "code",
   "execution_count": 106,
   "metadata": {},
   "outputs": [
    {
     "data": {
      "text/plain": [
       "1474"
      ]
     },
     "execution_count": 106,
     "metadata": {},
     "output_type": "execute_result"
    }
   ],
   "source": [
    "#Cantidad de variables con mensajes y con 1.\n",
    "df_1 = df_definitiva[(df_definitiva.Necesidad_Comunicacion_Humano_01 == 1) & (df_definitiva.Necesidad_Comunicacion_Humano == \"['disculpe, el asistente virtual de']\")]\n",
    "df_1.Necesidad_Comunicacion_Humano_01.count()"
   ]
  },
  {
   "cell_type": "markdown",
   "metadata": {},
   "source": [
    "Otra manera de verificar si existen valores átipicos para las varaibles:\n",
    "\n",
    "Hospital             \n",
    "Telefono_Hospital\n",
    "\n",
    "Es verificando la cantidad de valores distintos para cada una de ellas y luego agruparlos por una de las variables para comprobar que no vean más en ninguno de los casos."
   ]
  },
  {
   "cell_type": "code",
   "execution_count": 194,
   "metadata": {},
   "outputs": [
    {
     "data": {
      "text/plain": [
       "7"
      ]
     },
     "execution_count": 194,
     "metadata": {},
     "output_type": "execute_result"
    }
   ],
   "source": [
    "#Cantidad de valores distintos en teléfonos de hospital\n",
    "df_definitiva.Telefono_Hospital.nunique()"
   ]
  },
  {
   "cell_type": "code",
   "execution_count": 195,
   "metadata": {},
   "outputs": [
    {
     "data": {
      "text/plain": [
       "7"
      ]
     },
     "execution_count": 195,
     "metadata": {},
     "output_type": "execute_result"
    }
   ],
   "source": [
    "#Cantidad de valores distintos en hospital\n",
    "df_definitiva.Hospital.nunique()"
   ]
  },
  {
   "cell_type": "code",
   "execution_count": 196,
   "metadata": {},
   "outputs": [
    {
     "data": {
      "text/plain": [
       "Hospital            Telefono_Hospital      \n",
       "Carra               whatsapp:+5493515266217    127049\n",
       "CityBell            whatsapp:+5492215137770    235345\n",
       "Demo                whatsapp:+12254145964         134\n",
       "Desarrollo          whatsapp:+14159429752          24\n",
       "Los Cedros          whatsapp:+5491120401203     69037\n",
       "Salud Consultorios  whatsapp:+5493515266230     55130\n",
       "Santa Fe            whatsapp:+5493424134455      1979\n",
       "Name: Telefono_Hospital, dtype: int64"
      ]
     },
     "execution_count": 196,
     "metadata": {},
     "output_type": "execute_result"
    }
   ],
   "source": [
    "#Se agrupan los datos\n",
    "df_definitiva.Telefono_Hospital.groupby(df_definitiva.Hospital).value_counts()"
   ]
  },
  {
   "cell_type": "markdown",
   "metadata": {},
   "source": [
    "Se encuentran que se tienen sólo 7 agrupaciones que es la cantidad que se obtuvo al principio, por lo tanto, no hay valores atípicos para estas dos variables."
   ]
  },
  {
   "cell_type": "markdown",
   "metadata": {},
   "source": [
    "Como conclusión, se llega a que no se encuentran valores atípicos tomando como análisis la correlación de los pares de variables que se vieron en este punto"
   ]
  },
  {
   "cell_type": "code",
   "execution_count": 172,
   "metadata": {},
   "outputs": [
    {
     "data": {
      "text/plain": [
       "array(['[]', \"[' ha sido confirmado']\"], dtype=object)"
      ]
     },
     "execution_count": 172,
     "metadata": {},
     "output_type": "execute_result"
    }
   ],
   "source": [
    "df_definitiva.Confirmacion_Mensaje.unique()"
   ]
  },
  {
   "cell_type": "markdown",
   "metadata": {},
   "source": [
    "Para Confirmacion_Mensaje y Confirmacion_Mensaje_01:"
   ]
  },
  {
   "cell_type": "code",
   "execution_count": 173,
   "metadata": {},
   "outputs": [
    {
     "data": {
      "text/plain": [
       "5997"
      ]
     },
     "execution_count": 173,
     "metadata": {},
     "output_type": "execute_result"
    }
   ],
   "source": [
    "#Cantidad de variables con mensaje, las demás son vacías:\n",
    "df_definitiva.Confirmacion_Mensaje[df_definitiva.Confirmacion_Mensaje  == \"[' ha sido confirmado']\"].count()"
   ]
  },
  {
   "cell_type": "code",
   "execution_count": 174,
   "metadata": {},
   "outputs": [
    {
     "data": {
      "text/plain": [
       "5997"
      ]
     },
     "execution_count": 174,
     "metadata": {},
     "output_type": "execute_result"
    }
   ],
   "source": [
    "#Cantidad de variables con 1, las demás son vacías:\n",
    "df_definitiva.Confirmacion_Mensaje_01[df_definitiva.Confirmacion_Mensaje_01 == 1].count()"
   ]
  },
  {
   "cell_type": "code",
   "execution_count": 176,
   "metadata": {},
   "outputs": [
    {
     "data": {
      "text/plain": [
       "5997"
      ]
     },
     "execution_count": 176,
     "metadata": {},
     "output_type": "execute_result"
    }
   ],
   "source": [
    "#Cantidad de variables con mensajes y con 1.\n",
    "df_1 = df_definitiva[(df_definitiva.Confirmacion_Mensaje_01 == 1) & (df_definitiva.Confirmacion_Mensaje == \"[' ha sido confirmado']\")]\n",
    "df_1.Confirmacion_Mensaje.count()"
   ]
  },
  {
   "cell_type": "markdown",
   "metadata": {},
   "source": [
    "Para Cancelacion_Mensaje y Cancelacion_Mensaje_01 :"
   ]
  },
  {
   "cell_type": "code",
   "execution_count": 169,
   "metadata": {},
   "outputs": [
    {
     "data": {
      "text/plain": [
       "1430"
      ]
     },
     "execution_count": 169,
     "metadata": {},
     "output_type": "execute_result"
    }
   ],
   "source": [
    "#Cantidad de variables con mensaje, las demás son vacías:\n",
    "df_definitiva.Cancelacion_Mensaje[df_definitiva.Cancelacion_Mensaje  == \"['cancelado tu turno de']\"].count()"
   ]
  },
  {
   "cell_type": "code",
   "execution_count": 170,
   "metadata": {},
   "outputs": [
    {
     "data": {
      "text/plain": [
       "1430"
      ]
     },
     "execution_count": 170,
     "metadata": {},
     "output_type": "execute_result"
    }
   ],
   "source": [
    "#Cantidad de variables con 1, las demás son vacías:\n",
    "df_definitiva.Cancelacion_Mensaje_01[df_definitiva.Cancelacion_Mensaje_01 == 1].count()"
   ]
  },
  {
   "cell_type": "code",
   "execution_count": 171,
   "metadata": {},
   "outputs": [
    {
     "data": {
      "text/plain": [
       "1430"
      ]
     },
     "execution_count": 171,
     "metadata": {},
     "output_type": "execute_result"
    }
   ],
   "source": [
    "#Cantidad de variables con mensajes y con 1.\n",
    "df_1 = df_definitiva[(df_definitiva.Cancelacion_Mensaje_01 == 1) & (df_definitiva.Cancelacion_Mensaje == \"['cancelado tu turno de']\")]\n",
    "df_1.Cancelacion_Mensaje_01.count()"
   ]
  },
  {
   "cell_type": "markdown",
   "metadata": {},
   "source": [
    "Para Consulta_Turno y Consulta_Turno_01 :"
   ]
  },
  {
   "cell_type": "code",
   "execution_count": 160,
   "metadata": {},
   "outputs": [
    {
     "data": {
      "text/plain": [
       "1001"
      ]
     },
     "execution_count": 160,
     "metadata": {},
     "output_type": "execute_result"
    }
   ],
   "source": [
    "#Cantidad de variables con mensaje, las demás son vacías:\n",
    "df_definitiva.Consulta_Turno[df_definitiva.Consulta_Turno  == \"['estoy buscando tus turnos']\"].count()"
   ]
  },
  {
   "cell_type": "code",
   "execution_count": 161,
   "metadata": {},
   "outputs": [
    {
     "data": {
      "text/plain": [
       "1001"
      ]
     },
     "execution_count": 161,
     "metadata": {},
     "output_type": "execute_result"
    }
   ],
   "source": [
    "#Cantidad de variables con 1, las demás son vacías:\n",
    "df_definitiva.Consulta_Turno_01[df_definitiva.Consulta_Turno_01   == 1].count()"
   ]
  },
  {
   "cell_type": "code",
   "execution_count": 162,
   "metadata": {},
   "outputs": [
    {
     "data": {
      "text/plain": [
       "1001"
      ]
     },
     "execution_count": 162,
     "metadata": {},
     "output_type": "execute_result"
    }
   ],
   "source": [
    "#Cantidad de variables con mensajes y con 1.\n",
    "df_1 = df_definitiva[(df_definitiva.Consulta_Turno_01  == 1) & (df_definitiva.Consulta_Turno == \"['estoy buscando tus turnos']\")]\n",
    "df_1.Consulta_Turno_01.count()"
   ]
  },
  {
   "cell_type": "markdown",
   "metadata": {},
   "source": [
    "Para Falla_Comunicacion_Humano y Falla_Comunicacion_Humano_01 :"
   ]
  },
  {
   "cell_type": "code",
   "execution_count": 152,
   "metadata": {},
   "outputs": [
    {
     "data": {
      "text/plain": [
       "2507"
      ]
     },
     "execution_count": 152,
     "metadata": {},
     "output_type": "execute_result"
    }
   ],
   "source": [
    "#Cantidad de variables con mensaje, las demás son vacías:\n",
    "df_definitiva.Falla_Comunicacion_Humano[df_definitiva.Falla_Comunicacion_Humano  == \"['fuera del horario']\"].count()"
   ]
  },
  {
   "cell_type": "code",
   "execution_count": 153,
   "metadata": {},
   "outputs": [
    {
     "data": {
      "text/plain": [
       "2507"
      ]
     },
     "execution_count": 153,
     "metadata": {},
     "output_type": "execute_result"
    }
   ],
   "source": [
    "#Cantidad de variables con 1, las demás son vacías:\n",
    "df_definitiva.Falla_Comunicacion_Humano_01[df_definitiva.Falla_Comunicacion_Humano_01   == 1].count()"
   ]
  },
  {
   "cell_type": "code",
   "execution_count": 154,
   "metadata": {},
   "outputs": [
    {
     "data": {
      "text/plain": [
       "2507"
      ]
     },
     "execution_count": 154,
     "metadata": {},
     "output_type": "execute_result"
    }
   ],
   "source": [
    "#Cantidad de variables con mensajes y con 1.\n",
    "df_1 = df_definitiva[(df_definitiva.Falla_Comunicacion_Humano_01  == 1) & (df_definitiva.Falla_Comunicacion_Humano == \"['fuera del horario']\")]\n",
    "df_1.Falla_Comunicacion_Humano_01.count()"
   ]
  },
  {
   "cell_type": "markdown",
   "metadata": {},
   "source": [
    "Para Existosa_Comunicacion_Humano y Existosa_Comunicacion_Humano_01 :"
   ]
  },
  {
   "cell_type": "code",
   "execution_count": 146,
   "metadata": {},
   "outputs": [
    {
     "data": {
      "text/plain": [
       "2757"
      ]
     },
     "execution_count": 146,
     "metadata": {},
     "output_type": "execute_result"
    }
   ],
   "source": [
    "#Cantidad de variables con mensaje, las demás son vacías:\n",
    "df_definitiva.Existosa_Comunicacion_Humano[df_definitiva.Existosa_Comunicacion_Humano  == \"['fuiste transferido a un humano']\"].count()"
   ]
  },
  {
   "cell_type": "code",
   "execution_count": 147,
   "metadata": {},
   "outputs": [
    {
     "data": {
      "text/plain": [
       "2757"
      ]
     },
     "execution_count": 147,
     "metadata": {},
     "output_type": "execute_result"
    }
   ],
   "source": [
    "#Cantidad de variables con 1, las demás son vacías:\n",
    "df_definitiva.Existosa_Comunicacion_Humano_01[df_definitiva.Existosa_Comunicacion_Humano_01   == 1].count()"
   ]
  },
  {
   "cell_type": "code",
   "execution_count": 148,
   "metadata": {},
   "outputs": [
    {
     "data": {
      "text/plain": [
       "2757"
      ]
     },
     "execution_count": 148,
     "metadata": {},
     "output_type": "execute_result"
    }
   ],
   "source": [
    "#Cantidad de variables con mensajes y con 1.\n",
    "df_1 = df_definitiva[(df_definitiva.Existosa_Comunicacion_Humano_01  == 1) & (df_definitiva.Existosa_Comunicacion_Humano == \"['fuiste transferido a un humano']\")]\n",
    "df_1.Existosa_Comunicacion_Humano_01.count()"
   ]
  },
  {
   "cell_type": "markdown",
   "metadata": {},
   "source": [
    "\n",
    "Para Cupo_Lleno_Por_Obra_Social y Cupo_Lleno_Por_Obra_Social_01 :"
   ]
  },
  {
   "cell_type": "code",
   "execution_count": 139,
   "metadata": {},
   "outputs": [
    {
     "data": {
      "text/plain": [
       "1893"
      ]
     },
     "execution_count": 139,
     "metadata": {},
     "output_type": "execute_result"
    }
   ],
   "source": [
    "#Cantidad de variables con mensaje, las demás son vacías:\n",
    "df_definitiva.Cupo_Lleno_Por_Obra_Social[df_definitiva.Cupo_Lleno_Por_Obra_Social  == \"['cupo de consultas diarias con la obra social seleccionada']\"].count()"
   ]
  },
  {
   "cell_type": "code",
   "execution_count": 140,
   "metadata": {},
   "outputs": [
    {
     "data": {
      "text/plain": [
       "1893"
      ]
     },
     "execution_count": 140,
     "metadata": {},
     "output_type": "execute_result"
    }
   ],
   "source": [
    "#Cantidad de variables con 1, las demás son vacías:\n",
    "df_definitiva.Cupo_Lleno_Por_Obra_Social_01 [df_definitiva.Cupo_Lleno_Por_Obra_Social_01   == 1].count()"
   ]
  },
  {
   "cell_type": "code",
   "execution_count": 142,
   "metadata": {},
   "outputs": [
    {
     "data": {
      "text/plain": [
       "1893"
      ]
     },
     "execution_count": 142,
     "metadata": {},
     "output_type": "execute_result"
    }
   ],
   "source": [
    "#Cantidad de variables con mensajes y con 1.\n",
    "df_1 = df_definitiva[(df_definitiva.Cupo_Lleno_Por_Obra_Social_01  == 1) & (df_definitiva.Cupo_Lleno_Por_Obra_Social == \"['cupo de consultas diarias con la obra social seleccionada']\")]\n",
    "df_1.Cupo_Lleno_Por_Obra_Social_01 .count()"
   ]
  },
  {
   "cell_type": "markdown",
   "metadata": {},
   "source": [
    "Para Error_Mensaje_No_Relacionado y Error_Mensaje_No_Relacionado_01:"
   ]
  },
  {
   "cell_type": "code",
   "execution_count": 135,
   "metadata": {},
   "outputs": [
    {
     "data": {
      "text/plain": [
       "712"
      ]
     },
     "execution_count": 135,
     "metadata": {},
     "output_type": "execute_result"
    }
   ],
   "source": [
    "#Cantidad de variables con mensaje, las demás son vacías:\n",
    "df_definitiva.Error_Mensaje_No_Relacionado[df_definitiva.Error_Mensaje_No_Relacionado == \"['solamente ayudo con temas relacionados con nuestro centro de salud']\"].count()"
   ]
  },
  {
   "cell_type": "code",
   "execution_count": 136,
   "metadata": {},
   "outputs": [
    {
     "data": {
      "text/plain": [
       "712"
      ]
     },
     "execution_count": 136,
     "metadata": {},
     "output_type": "execute_result"
    }
   ],
   "source": [
    "#Cantidad de variables con 1, las demás son vacías:\n",
    "df_definitiva.Error_Mensaje_No_Relacionado_01[df_definitiva.Error_Mensaje_No_Relacionado_01  == 1].count()"
   ]
  },
  {
   "cell_type": "code",
   "execution_count": 137,
   "metadata": {},
   "outputs": [
    {
     "data": {
      "text/plain": [
       "712"
      ]
     },
     "execution_count": 137,
     "metadata": {},
     "output_type": "execute_result"
    }
   ],
   "source": [
    "#Cantidad de variables con mensajes y con 1.\n",
    "df_1 = df_definitiva[(df_definitiva.Error_Mensaje_No_Relacionado_01 == 1) & (df_definitiva.Error_Mensaje_No_Relacionado == \"['solamente ayudo con temas relacionados con nuestro centro de salud']\")]\n",
    "df_1.Error_Mensaje_No_Relacionado.count()"
   ]
  },
  {
   "cell_type": "markdown",
   "metadata": {},
   "source": [
    "\n",
    "Para Error_Interno y Error_Interno_01:"
   ]
  },
  {
   "cell_type": "code",
   "execution_count": 130,
   "metadata": {},
   "outputs": [
    {
     "data": {
      "text/plain": [
       "519"
      ]
     },
     "execution_count": 130,
     "metadata": {},
     "output_type": "execute_result"
    }
   ],
   "source": [
    "#Cantidad de variables con mensaje, las demás son vacías:\n",
    "df_definitiva.Error_Interno[df_definitiva.Error_Interno == \"['error interno. cerrá y volvé a abrir la aplicación']\"].count()"
   ]
  },
  {
   "cell_type": "code",
   "execution_count": 131,
   "metadata": {},
   "outputs": [
    {
     "data": {
      "text/plain": [
       "519"
      ]
     },
     "execution_count": 131,
     "metadata": {},
     "output_type": "execute_result"
    }
   ],
   "source": [
    "#Cantidad de variables con 1, las demás son vacías:\n",
    "df_definitiva.Error_Sistema_01[df_definitiva.Error_Interno_01  == 1].count()"
   ]
  },
  {
   "cell_type": "code",
   "execution_count": 133,
   "metadata": {},
   "outputs": [
    {
     "data": {
      "text/plain": [
       "519"
      ]
     },
     "execution_count": 133,
     "metadata": {},
     "output_type": "execute_result"
    }
   ],
   "source": [
    "#Cantidad de variables con mensajes y con 1.\n",
    "df_1 = df_definitiva[(df_definitiva.Error_Interno_01 == 1) & (df_definitiva.Error_Interno == \"['error interno. cerrá y volvé a abrir la aplicación']\")]\n",
    "df_1.Error_Interno.count()"
   ]
  },
  {
   "cell_type": "markdown",
   "metadata": {},
   "source": [
    "Para Error_Sistema y Error_Sistema_01:"
   ]
  },
  {
   "cell_type": "code",
   "execution_count": 125,
   "metadata": {},
   "outputs": [
    {
     "data": {
      "text/plain": [
       "544"
      ]
     },
     "execution_count": 125,
     "metadata": {},
     "output_type": "execute_result"
    }
   ],
   "source": [
    "#Cantidad de variables con mensaje, las demás son vacías:\n",
    "df_definitiva.Error_Sistema[df_definitiva.Error_Sistema == \"['el sistema de gestión de turnos no está disponible']\"].count()"
   ]
  },
  {
   "cell_type": "code",
   "execution_count": 126,
   "metadata": {},
   "outputs": [
    {
     "data": {
      "text/plain": [
       "544"
      ]
     },
     "execution_count": 126,
     "metadata": {},
     "output_type": "execute_result"
    }
   ],
   "source": [
    "#Cantidad de variables con 1, las demás son vacías:\n",
    "df_definitiva.Error_Sistema_01[df_definitiva.Error_Sistema_01  == 1].count()"
   ]
  },
  {
   "cell_type": "code",
   "execution_count": 128,
   "metadata": {},
   "outputs": [
    {
     "data": {
      "text/plain": [
       "544"
      ]
     },
     "execution_count": 128,
     "metadata": {},
     "output_type": "execute_result"
    }
   ],
   "source": [
    "#Cantidad de variables con mensajes y con 1.\n",
    "df_1 = df_definitiva[(df_definitiva.Error_Sistema_01 == 1) & (df_definitiva.Error_Sistema == \"['el sistema de gestión de turnos no está disponible']\")]\n",
    "df_1.Error_Sistema_01.count()"
   ]
  },
  {
   "cell_type": "markdown",
   "metadata": {},
   "source": [
    "Para Falla_Api_Externo y Falla_Api_Externo_01:"
   ]
  },
  {
   "cell_type": "code",
   "execution_count": 119,
   "metadata": {},
   "outputs": [
    {
     "data": {
      "text/plain": [
       "821"
      ]
     },
     "execution_count": 119,
     "metadata": {},
     "output_type": "execute_result"
    }
   ],
   "source": [
    "#Cantidad de variables con mensaje, las demás son vacías:\n",
    "df_definitiva.Falla_Api_Externo[df_definitiva.Falla_Api_Externo == \"['hubo un error, intentá más tarde']\"].count()"
   ]
  },
  {
   "cell_type": "code",
   "execution_count": 120,
   "metadata": {},
   "outputs": [
    {
     "data": {
      "text/plain": [
       "821"
      ]
     },
     "execution_count": 120,
     "metadata": {},
     "output_type": "execute_result"
    }
   ],
   "source": [
    "#Cantidad de variables con 1, las demás son vacías:\n",
    "df_definitiva. Falla_Api_Externo_01 [df_definitiva. Falla_Api_Externo_01  == 1].count()"
   ]
  },
  {
   "cell_type": "code",
   "execution_count": 121,
   "metadata": {},
   "outputs": [
    {
     "data": {
      "text/plain": [
       "821"
      ]
     },
     "execution_count": 121,
     "metadata": {},
     "output_type": "execute_result"
    }
   ],
   "source": [
    "#Cantidad de variables con mensajes y con 1.\n",
    "df_1 = df_definitiva[(df_definitiva.Falla_Api_Externo_01 == 1) & (df_definitiva.Falla_Api_Externo == \"['hubo un error, intentá más tarde']\")]\n",
    "df_1.Falla_Api_Externo_01.count()"
   ]
  },
  {
   "cell_type": "markdown",
   "metadata": {},
   "source": [
    "Para DNI_Registrado_01 y DNI_No_Registrado_01:"
   ]
  },
  {
   "cell_type": "code",
   "execution_count": 112,
   "metadata": {},
   "outputs": [
    {
     "data": {
      "text/plain": [
       "3868"
      ]
     },
     "execution_count": 112,
     "metadata": {},
     "output_type": "execute_result"
    }
   ],
   "source": [
    "#Cantidad de variables con mensaje, las demás son vacías:\n",
    "df_definitiva.DNI_Registrado_01[df_definitiva.DNI_Registrado_01 == \"['no se encuentra registrado ese dni en el sistema']\"].count()"
   ]
  },
  {
   "cell_type": "code",
   "execution_count": 113,
   "metadata": {},
   "outputs": [
    {
     "data": {
      "text/plain": [
       "3868"
      ]
     },
     "execution_count": 113,
     "metadata": {},
     "output_type": "execute_result"
    }
   ],
   "source": [
    "#Cantidad de variables con 1, las demás son vacías:\n",
    "df_definitiva. DNI_No_Registrado_01 [df_definitiva. DNI_No_Registrado_01  == 1].count()"
   ]
  },
  {
   "cell_type": "code",
   "execution_count": 114,
   "metadata": {},
   "outputs": [
    {
     "data": {
      "text/plain": [
       "3868"
      ]
     },
     "execution_count": 114,
     "metadata": {},
     "output_type": "execute_result"
    }
   ],
   "source": [
    "#Cantidad de variables con mensajes y con 1.\n",
    "df_1 = df_definitiva[(df_definitiva.DNI_No_Registrado_01 == 1) & (df_definitiva.DNI_Registrado_01 == \"['no se encuentra registrado ese dni en el sistema']\")]\n",
    "df_1.DNI_No_Registrado_01.count()"
   ]
  },
  {
   "cell_type": "markdown",
   "metadata": {},
   "source": [
    "Para Nombre_No_Registrado y Nombre_No_Registrado_01:"
   ]
  },
  {
   "cell_type": "code",
   "execution_count": 98,
   "metadata": {},
   "outputs": [
    {
     "data": {
      "text/plain": [
       "719"
      ]
     },
     "execution_count": 98,
     "metadata": {},
     "output_type": "execute_result"
    }
   ],
   "source": [
    "#Cantidad de variables con mensaje, las demás son vacías:\n",
    "df_definitiva.Nombre_No_Registrado[df_definitiva.Nombre_No_Registrado == \"['para poder agendar tu turno necesito tu nombre y apellido']\"].count()"
   ]
  },
  {
   "cell_type": "code",
   "execution_count": 99,
   "metadata": {},
   "outputs": [
    {
     "data": {
      "text/plain": [
       "719"
      ]
     },
     "execution_count": 99,
     "metadata": {},
     "output_type": "execute_result"
    }
   ],
   "source": [
    "#Cantidad de variables con 1, las demás son vacías:\n",
    "df_definitiva.Nombre_No_Registrado_01 [df_definitiva.Nombre_No_Registrado_01  == 1].count()"
   ]
  },
  {
   "cell_type": "code",
   "execution_count": 100,
   "metadata": {},
   "outputs": [
    {
     "data": {
      "text/plain": [
       "719"
      ]
     },
     "execution_count": 100,
     "metadata": {},
     "output_type": "execute_result"
    }
   ],
   "source": [
    "#Cantidad de variables con mensajes y con 1.\n",
    "df_1 = df_definitiva[(df_definitiva.Nombre_No_Registrado_01 == 1) & (df_definitiva.Nombre_No_Registrado == \"['para poder agendar tu turno necesito tu nombre y apellido']\")]\n",
    "df_1.Informacion_Kunan.count()"
   ]
  },
  {
   "cell_type": "markdown",
   "metadata": {},
   "source": [
    "Para Informacion_Kunan y Informacion_Kunan_01:"
   ]
  },
  {
   "cell_type": "code",
   "execution_count": 101,
   "metadata": {},
   "outputs": [
    {
     "data": {
      "text/plain": [
       "9"
      ]
     },
     "execution_count": 101,
     "metadata": {},
     "output_type": "execute_result"
    }
   ],
   "source": [
    "#Cantidad de variables con mensaje, las demás son vacías:\n",
    "df_definitiva.Informacion_Kunan[df_definitiva.Informacion_Kunan == \"['kunan es la empresa de tecnología responsable por el desarrollo de este asistente virtual']\"].count()"
   ]
  },
  {
   "cell_type": "code",
   "execution_count": 102,
   "metadata": {},
   "outputs": [
    {
     "data": {
      "text/plain": [
       "9"
      ]
     },
     "execution_count": 102,
     "metadata": {},
     "output_type": "execute_result"
    }
   ],
   "source": [
    "#Cantidad de variables con 1, las demás son vacías:\n",
    "df_definitiva.Informacion_Kunan_01[df_definitiva.Informacion_Kunan_01 == 1].count()"
   ]
  },
  {
   "cell_type": "code",
   "execution_count": 103,
   "metadata": {},
   "outputs": [
    {
     "data": {
      "text/plain": [
       "9"
      ]
     },
     "execution_count": 103,
     "metadata": {},
     "output_type": "execute_result"
    }
   ],
   "source": [
    "#Cantidad de variables con mensajes y con 1.\n",
    "df_1 = df_definitiva[(df_definitiva.Informacion_Kunan_01 == 1) & (df_definitiva.Informacion_Kunan == \"['kunan es la empresa de tecnología responsable por el desarrollo de este asistente virtual']\")]\n",
    "df_1.Informacion_Kunan.count()"
   ]
  },
  {
   "cell_type": "markdown",
   "metadata": {},
   "source": [
    "Para Necesidad_Comunicacion_Humano y Necesidad_Comunicacion_Humano_01:"
   ]
  },
  {
   "cell_type": "code",
   "execution_count": 104,
   "metadata": {},
   "outputs": [
    {
     "data": {
      "text/plain": [
       "1474"
      ]
     },
     "execution_count": 104,
     "metadata": {},
     "output_type": "execute_result"
    }
   ],
   "source": [
    "#Cantidad de variables con mensaje, las demás son vacías:\n",
    "df_definitiva.Necesidad_Comunicacion_Humano[df_definitiva.Necesidad_Comunicacion_Humano == \"['disculpe, el asistente virtual de']\"].count()"
   ]
  },
  {
   "cell_type": "code",
   "execution_count": 105,
   "metadata": {},
   "outputs": [
    {
     "data": {
      "text/plain": [
       "1474"
      ]
     },
     "execution_count": 105,
     "metadata": {},
     "output_type": "execute_result"
    }
   ],
   "source": [
    "#Cantidad de variables con 1, las demás son vacías:\n",
    "df_definitiva.Necesidad_Comunicacion_Humano_01[df_definitiva.Necesidad_Comunicacion_Humano_01 == 1].count()"
   ]
  },
  {
   "cell_type": "code",
   "execution_count": 106,
   "metadata": {},
   "outputs": [
    {
     "data": {
      "text/plain": [
       "1474"
      ]
     },
     "execution_count": 106,
     "metadata": {},
     "output_type": "execute_result"
    }
   ],
   "source": [
    "#Cantidad de variables con mensajes y con 1.\n",
    "df_1 = df_definitiva[(df_definitiva.Necesidad_Comunicacion_Humano_01 == 1) & (df_definitiva.Necesidad_Comunicacion_Humano == \"['disculpe, el asistente virtual de']\")]\n",
    "df_1.Necesidad_Comunicacion_Humano_01.count()"
   ]
  },
  {
   "cell_type": "markdown",
   "metadata": {},
   "source": [
    "Otra manera de verificar si existen valores átipicos para las varaibles:\n",
    "\n",
    "Hospital             \n",
    "Telefono_Hospital\n",
    "\n",
    "Es verificando la cantidad de valores distintos para cada una de ellas y luego agruparlos por una de las variables para comprobar que no vean más en ninguno de los casos."
   ]
  },
  {
   "cell_type": "code",
   "execution_count": 194,
   "metadata": {},
   "outputs": [
    {
     "data": {
      "text/plain": [
       "7"
      ]
     },
     "execution_count": 194,
     "metadata": {},
     "output_type": "execute_result"
    }
   ],
   "source": [
    "#Cantidad de valores distintos en teléfonos de hospital\n",
    "df_definitiva.Telefono_Hospital.nunique()"
   ]
  },
  {
   "cell_type": "code",
   "execution_count": 195,
   "metadata": {},
   "outputs": [
    {
     "data": {
      "text/plain": [
       "7"
      ]
     },
     "execution_count": 195,
     "metadata": {},
     "output_type": "execute_result"
    }
   ],
   "source": [
    "#Cantidad de valores distintos en hospital\n",
    "df_definitiva.Hospital.nunique()"
   ]
  },
  {
   "cell_type": "code",
   "execution_count": 196,
   "metadata": {},
   "outputs": [
    {
     "data": {
      "text/plain": [
       "Hospital            Telefono_Hospital      \n",
       "Carra               whatsapp:+5493515266217    127049\n",
       "CityBell            whatsapp:+5492215137770    235345\n",
       "Demo                whatsapp:+12254145964         134\n",
       "Desarrollo          whatsapp:+14159429752          24\n",
       "Los Cedros          whatsapp:+5491120401203     69037\n",
       "Salud Consultorios  whatsapp:+5493515266230     55130\n",
       "Santa Fe            whatsapp:+5493424134455      1979\n",
       "Name: Telefono_Hospital, dtype: int64"
      ]
     },
     "execution_count": 196,
     "metadata": {},
     "output_type": "execute_result"
    }
   ],
   "source": [
    "#Se agrupan los datos\n",
    "df_definitiva.Telefono_Hospital.groupby(df_definitiva.Hospital).value_counts()"
   ]
  },
  {
   "cell_type": "markdown",
   "metadata": {},
   "source": [
    "Se encuentran que se tienen sólo 7 agrupaciones que es la cantidad que se obtuvo al principio, por lo tanto, no hay valores atípicos para estas dos variables."
   ]
  },
  {
   "cell_type": "markdown",
   "metadata": {},
   "source": [
    "Como conclusión, se llega a que no se encuentran valores atípicos tomando como análisis la correlación de los pares de variables que se vieron en este punto"
   ]
  },
  {
   "cell_type": "code",
   "execution_count": null,
   "metadata": {},
   "outputs": [],
   "source": []
  },
  {
   "cell_type": "markdown",
   "metadata": {
    "id": "mMJpP5jokEKW"
   },
   "source": [
    "### 9) Guardar el dataset resultante con un nuevo nombre, para trabajarlo más adelante."
   ]
  },
  {
   "cell_type": "code",
   "execution_count": null,
   "metadata": {},
   "outputs": [],
   "source": [
    "#Se convierte el dataframe en un csv:\n",
    "df_definitiva.to_csv('df_AyC.csv', index = False)"
   ]
  },
  {
   "cell_type": "markdown",
   "metadata": {},
   "source": [
    "Se tranforma el dataset resultante en un archivo csv para su posterior uso en los entregables siguientes."
   ]
  }
 ],
 "metadata": {
  "colab": {
   "name": "Copia de Practico2_analisisYcuracion (1).ipynb",
   "provenance": []
  },
  "kernelspec": {
   "display_name": "Python 3 (ipykernel)",
   "language": "python",
   "name": "python3"
  },
  "language_info": {
   "codemirror_mode": {
    "name": "ipython",
    "version": 3
   },
   "file_extension": ".py",
   "mimetype": "text/x-python",
   "name": "python",
   "nbconvert_exporter": "python",
   "pygments_lexer": "ipython3",
   "version": "3.9.10"
  }
 },
 "nbformat": 4,
 "nbformat_minor": 1
}
